{
 "cells": [
  {
   "cell_type": "code",
   "execution_count": 1,
   "id": "0ecd9325-a4a9-466f-8852-aa8866ff1cd7",
   "metadata": {},
   "outputs": [
    {
     "name": "stdout",
     "output_type": "stream",
     "text": [
      "[49, 72, 17]\n",
      "[49, 72, 17]\n",
      "[49, 72]\n"
     ]
    }
   ],
   "source": [
    "from tensorflow import keras\n",
    "from keras.preprocessing.text import one_hot\n",
    "\n",
    "print(one_hot('well Done! haha', 100, lower=True, split=' '))\n",
    "print(one_hot('Well done! HAHA!!!!', 100, lower=True, split=' '))\n",
    "print(one_hot('WELL  DONE!', 100, lower=True, split=' '))"
   ]
  },
  {
   "cell_type": "code",
   "execution_count": null,
   "id": "5db3cca6-0871-48cd-bd00-37ddc21ac575",
   "metadata": {},
   "outputs": [],
   "source": []
  }
 ],
 "metadata": {
  "kernelspec": {
   "display_name": "Python 3 (ipykernel)",
   "language": "python",
   "name": "python3"
  },
  "language_info": {
   "codemirror_mode": {
    "name": "ipython",
    "version": 3
   },
   "file_extension": ".py",
   "mimetype": "text/x-python",
   "name": "python",
   "nbconvert_exporter": "python",
   "pygments_lexer": "ipython3",
   "version": "3.8.12"
  }
 },
 "nbformat": 4,
 "nbformat_minor": 5
}
