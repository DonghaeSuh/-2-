{
 "cells": [
  {
   "cell_type": "markdown",
   "id": "43f23539-7d39-4ebb-a543-d41233481564",
   "metadata": {
    "tags": []
   },
   "source": [
    "## 모델 학습"
   ]
  },
  {
   "cell_type": "markdown",
   "id": "6531ab55-b018-467e-b146-5ecb3e184ab7",
   "metadata": {},
   "source": [
    "1. 학습과정 정의"
   ]
  },
  {
   "cell_type": "code",
   "execution_count": null,
   "id": "cd846299-3eb5-4157-a7e9-98498e496df7",
   "metadata": {},
   "outputs": [],
   "source": [
    "model.compile(optimizer=tf.keras.optimizers.Adam(), \n",
    "              loss=tf.keras.losses.CategoricalCrossentropy(),\n",
    "              metrics=[tf.keras.metrics.Accuracy()])\n"
   ]
  },
  {
   "cell_type": "code",
   "execution_count": null,
   "id": "ea8cab49-265e-481d-9dfa-42c04e89de7b",
   "metadata": {},
   "outputs": [],
   "source": [
    "model.compile(optimizer='adam', \n",
    "              loss='categorical_crossentropy',\n",
    "              metrics=['accuracy'])"
   ]
  },
  {
   "cell_type": "markdown",
   "id": "ad7d59c2-538d-4039-aa79-adf0a25fc515",
   "metadata": {},
   "source": [
    "2. 학습"
   ]
  },
  {
   "cell_type": "code",
   "execution_count": null,
   "id": "f9c2e870-ac51-4f3c-997f-add545653148",
   "metadata": {},
   "outputs": [],
   "source": [
    "model.fit(x_train,y_train,batch_size=64,epochs=3)"
   ]
  },
  {
   "cell_type": "markdown",
   "id": "7f2efe69-6364-4b3c-93a1-b9b7b33e6d6c",
   "metadata": {},
   "source": [
    "3. 검증"
   ]
  },
  {
   "cell_type": "code",
   "execution_count": null,
   "id": "a5bf1dbc-eb7b-4788-8e40-99ee01d39ac0",
   "metadata": {},
   "outputs": [],
   "source": [
    "model.fit(x_train,y_train,batch_size=64,epochs=3,validation_data=(x_val,y_val)"
   ]
  }
 ],
 "metadata": {
  "kernelspec": {
   "display_name": "Python 3 (ipykernel)",
   "language": "python",
   "name": "python3"
  },
  "language_info": {
   "codemirror_mode": {
    "name": "ipython",
    "version": 3
   },
   "file_extension": ".py",
   "mimetype": "text/x-python",
   "name": "python",
   "nbconvert_exporter": "python",
   "pygments_lexer": "ipython3",
   "version": "3.8.12"
  }
 },
 "nbformat": 4,
 "nbformat_minor": 5
}
