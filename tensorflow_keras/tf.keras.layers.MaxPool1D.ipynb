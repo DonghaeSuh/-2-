{
 "cells": [
  {
   "cell_type": "code",
   "execution_count": null,
   "id": "ff1044e5-9a38-49b4-a8f7-fa805aef1f09",
   "metadata": {},
   "outputs": [],
   "source": [
    "#1 객체 생성 후 다시 호출하면서 입력값 설정\n",
    "max_pool=tf.keras.layers.MaxPool1D()\n",
    "max_pool.apply(input)\n",
    "\n",
    "#2 객체 생성 시 입력값 설정\n",
    "max_pool=tf.keras.layers.MaxPool1D()(input)"
   ]
  },
  {
   "cell_type": "code",
   "execution_count": null,
   "id": "7f4214d0-a748-4c65-9f37-1c5e0420e9bf",
   "metadata": {},
   "outputs": [],
   "source": [
    "__init(\n",
    "    pool_size=2, #풀링 적용할 필터의 크기\n",
    "    strides=None, # stride 값\n",
    "    padding='Valid', # 패딩 방법\n",
    "    data_format=None, # 데이터 표현방법  1.channel_last:(batch,length,channels)형태,  2. channel_first:(batch,channels,length)형태\n",
    "    **kwargs\n",
    ")"
   ]
  },
  {
   "cell_type": "code",
   "execution_count": null,
   "id": "0dd914f8-e6cd-4d5b-92eb-4a4fa49b410c",
   "metadata": {},
   "outputs": [],
   "source": [
    "INPUT_SIZE=(1,28,28)\n",
    "\n",
    "inputs = tf.keras.layers.Input(shape = INPUT_SIZE)\n",
    "dropout = tf.keras.layers.Dropout(rate = 0.2)(inputs)\n",
    "conv = tf.keras.layers.Conv1D(\n",
    "         filters=10,\n",
    "         kernel_size=3,\n",
    "         padding='same',\n",
    "         activation=tf.nn.relu)(dropout)\n",
    "max_pool = tf.keras.layers.MaxPool1D(pool_size = 3, padding = 'same')(conv)\n",
    "flatten = tf.keras.layers.Flatten()(max_pool)\n",
    "hidden = tf.keras.layers.Dense(units = 50, activation = tf.nn.relu)(flatten)\n",
    "output = tf.keras.layers.Dense(units = 10, activation = tf.nn.softmax)(hidden) "
   ]
  }
 ],
 "metadata": {
  "kernelspec": {
   "display_name": "Python 3 (ipykernel)",
   "language": "python",
   "name": "python3"
  },
  "language_info": {
   "codemirror_mode": {
    "name": "ipython",
    "version": 3
   },
   "file_extension": ".py",
   "mimetype": "text/x-python",
   "name": "python",
   "nbconvert_exporter": "python",
   "pygments_lexer": "ipython3",
   "version": "3.8.12"
  }
 },
 "nbformat": 4,
 "nbformat_minor": 5
}
