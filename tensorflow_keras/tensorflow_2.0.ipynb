{
 "cells": [
  {
   "cell_type": "markdown",
   "id": "43066a4b-a4a0-41b8-950d-84723787fbfe",
   "metadata": {},
   "source": [
    "## Sequential"
   ]
  },
  {
   "cell_type": "code",
   "execution_count": 1,
   "id": "18b12a33-80b5-4cf3-96b7-3b0248aa0673",
   "metadata": {},
   "outputs": [],
   "source": [
    "import tensorflow as tf\n",
    "from tensorflow.keras import layers\n",
    "\n",
    "model=tf.keras.Sequential()\n",
    "model.add(layers.Dense(64, activation='relu'))\n",
    "model.add(layers.Dense(64, activation='relu'))\n",
    "model.add(layers.Dense(10, activation='softmax'))"
   ]
  },
  {
   "cell_type": "markdown",
   "id": "2b24cd9f-b3d8-4d80-9033-8c1b53d59c1d",
   "metadata": {},
   "source": [
    "## Functional API"
   ]
  },
  {
   "cell_type": "code",
   "execution_count": 2,
   "id": "ff6779e9-cbe7-4b75-9109-c9b6416f3338",
   "metadata": {},
   "outputs": [],
   "source": [
    "inputs=tf.keras.Input(shape=(32,))\n",
    "x=layers.Dense(64,activation='relu')(inputs)\n",
    "x=layers.Dense(64,activation='relu')(x)\n",
    "predictions=layers.Dense(10,activation='softmax')(x)"
   ]
  },
  {
   "cell_type": "markdown",
   "id": "d84d6b6e-d38b-4d25-80bd-ff6c3ba8516d",
   "metadata": {},
   "source": [
    "## Custom Layer"
   ]
  },
  {
   "cell_type": "code",
   "execution_count": 3,
   "id": "d8cceab1-cb5f-4ac4-94e6-7abb9c6453a5",
   "metadata": {},
   "outputs": [],
   "source": [
    "class CustomLayer(layers.Layer):\n",
    "\n",
    "    def __init__(self, hidden_dimension, hidden_dimension2, output_dimension):\n",
    "        self.hidden_dimension = hidden_dimension\n",
    "        self.hidden_dimension2 = hidden_dimension2\n",
    "        self.output_dimension = output_dimension\n",
    "        super(CustomLayer, self).__init__()\n",
    "\n",
    "    def build(self, input_shape):\n",
    "        self.dense_layer1 = layers.Dense(self.hidden_dimension, activation = 'relu')\n",
    "        self.dense_layer2 = layers.Dense(self.hidden_dimension2, activation = 'relu')\n",
    "        self.dense_layer3 = layers.Dense(self.output_dimension, activation='softmax')\n",
    "\n",
    "    def call(self, inputs):\n",
    "        x= self.dense_layer1(inputs)\n",
    "        x= self.dense_layer2(x)\n",
    "        \n",
    "        return self.dense_layer3(x)"
   ]
  },
  {
   "cell_type": "code",
   "execution_count": 5,
   "id": "d39a8c41-1e9f-42fc-9069-bce2b32ac066",
   "metadata": {},
   "outputs": [],
   "source": [
    "model=tf.keras.Sequential()\n",
    "model.add(CustomLayer(64,64,10))"
   ]
  },
  {
   "cell_type": "markdown",
   "id": "4afe96cd-6e92-41a2-9713-e3a28bccacb0",
   "metadata": {},
   "source": [
    "## Subclassing (Custom Model)"
   ]
  },
  {
   "cell_type": "code",
   "execution_count": 6,
   "id": "ce165370-8fb2-4064-acf8-5f4c48e278dc",
   "metadata": {},
   "outputs": [],
   "source": [
    "class MyModel(tf.keras.Model):\n",
    "\n",
    "    def __init__(self, hidden_dimension, hidden_dimension2, output_dimension):\n",
    "        super(MyModel,self).__init__(name='my model')\n",
    "        self.dense_layer1 = layers.Dense(self.hidden_dimension, activation = 'relu')\n",
    "        self.dense_layer2 = layers.Dense(self.hidden_dimension2, activation = 'relu')\n",
    "        self.dense_layer3 = layers.Dense(self.output_dimension, activation='softmax')\n",
    "\n",
    "    def call(self, inputs):\n",
    "        x= self.dense_layer1(inputs)\n",
    "        x= self.dense_layer2(x)\n",
    "        \n",
    "        return self.dense_layer3(x)"
   ]
  },
  {
   "cell_type": "code",
   "execution_count": null,
   "id": "34e3e8c9-11e7-4868-bcd3-213d6f36e973",
   "metadata": {},
   "outputs": [],
   "source": []
  }
 ],
 "metadata": {
  "kernelspec": {
   "display_name": "Python 3 (ipykernel)",
   "language": "python",
   "name": "python3"
  },
  "language_info": {
   "codemirror_mode": {
    "name": "ipython",
    "version": 3
   },
   "file_extension": ".py",
   "mimetype": "text/x-python",
   "name": "python",
   "nbconvert_exporter": "python",
   "pygments_lexer": "ipython3",
   "version": "3.8.12"
  }
 },
 "nbformat": 4,
 "nbformat_minor": 5
}
