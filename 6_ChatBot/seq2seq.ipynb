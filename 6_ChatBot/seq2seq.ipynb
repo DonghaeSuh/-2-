{
  "cells": [
    {
      "cell_type": "markdown",
      "metadata": {
        "id": "view-in-github",
        "colab_type": "text"
      },
      "source": [
        "<a href=\"https://colab.research.google.com/github/DonghaeSuh/NLP_tensorflow2/blob/main/6_ChatBot/seq2seq.ipynb\" target=\"_parent\"><img src=\"https://colab.research.google.com/assets/colab-badge.svg\" alt=\"Open In Colab\"/></a>"
      ]
    },
    {
      "cell_type": "markdown",
      "metadata": {
        "id": "VheuC3ixE2oO"
      },
      "source": [
        "### 작업공간 접근"
      ]
    },
    {
      "cell_type": "code",
      "execution_count": null,
      "metadata": {
        "colab": {
          "base_uri": "https://localhost:8080/"
        },
        "id": "UtudWuflEnA0",
        "outputId": "21fc168a-7957-40c9-b26d-c7e7f0d22365"
      },
      "outputs": [
        {
          "output_type": "stream",
          "name": "stdout",
          "text": [
            "\u001b[0m\u001b[01;34mdrive\u001b[0m/  \u001b[01;34msample_data\u001b[0m/\n"
          ]
        }
      ],
      "source": [
        "ls"
      ]
    },
    {
      "cell_type": "code",
      "execution_count": null,
      "metadata": {
        "colab": {
          "base_uri": "https://localhost:8080/"
        },
        "id": "7nCZGnypEoNk",
        "outputId": "4dde237a-bd34-4bd1-9043-44b8dad0649b"
      },
      "outputs": [
        {
          "output_type": "stream",
          "name": "stdout",
          "text": [
            "/content/drive/MyDrive/Colab Notebooks\n"
          ]
        }
      ],
      "source": [
        "cd drive/MyDrive/Colab Notebooks/"
      ]
    },
    {
      "cell_type": "code",
      "execution_count": null,
      "metadata": {
        "colab": {
          "base_uri": "https://localhost:8080/"
        },
        "id": "yYjoM57QE1NU",
        "outputId": "ed10a463-0ba7-458a-d359-6c94ac7d21ca"
      },
      "outputs": [
        {
          "output_type": "stream",
          "name": "stdout",
          "text": [
            "\u001b[0m\u001b[01;34mdata_in\u001b[0m/   EDA.ipynb         preprocess.py        \u001b[01;34m__pycache__\u001b[0m/\n",
            "\u001b[01;34mdata_out\u001b[0m/  Preprocess.ipynb  preprocess_py.ipynb  seq2seq.ipynb\n"
          ]
        }
      ],
      "source": [
        "ls"
      ]
    },
    {
      "cell_type": "markdown",
      "metadata": {
        "id": "aVNikvoXhNmt"
      },
      "source": [
        "### Konlpy 설치"
      ]
    },
    {
      "cell_type": "code",
      "execution_count": null,
      "metadata": {
        "id": "h2asmAk_eUC1",
        "colab": {
          "base_uri": "https://localhost:8080/"
        },
        "outputId": "250a3bb6-7269-43b4-914f-8bd9291ef166"
      },
      "outputs": [
        {
          "output_type": "stream",
          "name": "stdout",
          "text": [
            "Get:1 https://developer.download.nvidia.com/compute/cuda/repos/ubuntu1804/x86_64  InRelease [1,581 B]\n",
            "Get:2 https://cloud.r-project.org/bin/linux/ubuntu bionic-cran40/ InRelease [3,626 B]\n",
            "Get:3 http://security.ubuntu.com/ubuntu bionic-security InRelease [88.7 kB]\n",
            "Ign:4 https://developer.download.nvidia.com/compute/machine-learning/repos/ubuntu1804/x86_64  InRelease\n",
            "Get:5 https://developer.download.nvidia.com/compute/cuda/repos/ubuntu1804/x86_64  Packages [806 kB]\n",
            "Hit:6 https://developer.download.nvidia.com/compute/machine-learning/repos/ubuntu1804/x86_64  Release\n",
            "Get:7 http://ppa.launchpad.net/c2d4u.team/c2d4u4.0+/ubuntu bionic InRelease [15.9 kB]\n",
            "Hit:8 http://archive.ubuntu.com/ubuntu bionic InRelease\n",
            "Get:10 http://archive.ubuntu.com/ubuntu bionic-updates InRelease [88.7 kB]\n",
            "Hit:11 http://ppa.launchpad.net/cran/libgit2/ubuntu bionic InRelease\n",
            "Get:12 http://security.ubuntu.com/ubuntu bionic-security/universe amd64 Packages [1,515 kB]\n",
            "Get:13 http://ppa.launchpad.net/deadsnakes/ppa/ubuntu bionic InRelease [15.9 kB]\n",
            "Get:14 http://archive.ubuntu.com/ubuntu bionic-backports InRelease [74.6 kB]\n",
            "Get:15 http://archive.ubuntu.com/ubuntu bionic-updates/universe amd64 Packages [2,290 kB]\n",
            "Get:16 http://ppa.launchpad.net/graphics-drivers/ppa/ubuntu bionic InRelease [21.3 kB]\n",
            "Get:17 http://security.ubuntu.com/ubuntu bionic-security/restricted amd64 Packages [982 kB]\n",
            "Get:18 http://security.ubuntu.com/ubuntu bionic-security/main amd64 Packages [2,830 kB]\n",
            "Get:19 http://ppa.launchpad.net/c2d4u.team/c2d4u4.0+/ubuntu bionic/main Sources [1,992 kB]\n",
            "Get:20 http://archive.ubuntu.com/ubuntu bionic-updates/main amd64 Packages [3,262 kB]\n",
            "Get:21 http://archive.ubuntu.com/ubuntu bionic-updates/restricted amd64 Packages [1,015 kB]\n",
            "Get:22 http://ppa.launchpad.net/c2d4u.team/c2d4u4.0+/ubuntu bionic/main amd64 Packages [1,021 kB]\n",
            "Get:23 http://ppa.launchpad.net/deadsnakes/ppa/ubuntu bionic/main amd64 Packages [45.3 kB]\n",
            "Get:24 http://ppa.launchpad.net/graphics-drivers/ppa/ubuntu bionic/main amd64 Packages [47.7 kB]\n",
            "Fetched 16.1 MB in 7s (2,442 kB/s)\n",
            "Reading package lists...\n",
            "Reading package lists...\n",
            "Building dependency tree...\n",
            "Reading state information...\n",
            "python-dev is already the newest version (2.7.15~rc1-1).\n",
            "g++ is already the newest version (4:7.4.0-1ubuntu2.3).\n",
            "g++ set to manually installed.\n",
            "python3-dev is already the newest version (3.6.7-1~18.04).\n",
            "python3-dev set to manually installed.\n",
            "The following package was automatically installed and is no longer required:\n",
            "  libnvidia-common-460\n",
            "Use 'apt autoremove' to remove it.\n",
            "The following additional packages will be installed:\n",
            "  fonts-dejavu-core fonts-dejavu-extra libatk-wrapper-java\n",
            "  libatk-wrapper-java-jni libgail-common libgail18 libgtk2.0-0 libgtk2.0-bin\n",
            "  libgtk2.0-common libxxf86dga1 openjdk-8-jdk-headless openjdk-8-jre\n",
            "  openjdk-8-jre-headless x11-utils\n",
            "Suggested packages:\n",
            "  gvfs openjdk-8-demo openjdk-8-source visualvm icedtea-8-plugin libnss-mdns\n",
            "  fonts-ipafont-gothic fonts-ipafont-mincho fonts-wqy-microhei\n",
            "  fonts-wqy-zenhei fonts-indic mesa-utils\n",
            "The following NEW packages will be installed:\n",
            "  fonts-dejavu-core fonts-dejavu-extra libatk-wrapper-java\n",
            "  libatk-wrapper-java-jni libgail-common libgail18 libgtk2.0-0 libgtk2.0-bin\n",
            "  libgtk2.0-common libxxf86dga1 openjdk-8-jdk openjdk-8-jdk-headless\n",
            "  openjdk-8-jre openjdk-8-jre-headless x11-utils\n",
            "0 upgraded, 15 newly installed, 0 to remove and 87 not upgraded.\n",
            "Need to get 43.5 MB of archives.\n",
            "After this operation, 163 MB of additional disk space will be used.\n",
            "Get:1 http://archive.ubuntu.com/ubuntu bionic/main amd64 libxxf86dga1 amd64 2:1.1.4-1 [13.7 kB]\n",
            "Get:2 http://archive.ubuntu.com/ubuntu bionic/main amd64 fonts-dejavu-core all 2.37-1 [1,041 kB]\n",
            "Get:3 http://archive.ubuntu.com/ubuntu bionic/main amd64 fonts-dejavu-extra all 2.37-1 [1,953 kB]\n",
            "Get:4 http://archive.ubuntu.com/ubuntu bionic/main amd64 x11-utils amd64 7.7+3build1 [196 kB]\n",
            "Get:5 http://archive.ubuntu.com/ubuntu bionic/main amd64 libatk-wrapper-java all 0.33.3-20ubuntu0.1 [34.7 kB]\n",
            "Get:6 http://archive.ubuntu.com/ubuntu bionic/main amd64 libatk-wrapper-java-jni amd64 0.33.3-20ubuntu0.1 [28.3 kB]\n",
            "Get:7 http://archive.ubuntu.com/ubuntu bionic/main amd64 libgtk2.0-common all 2.24.32-1ubuntu1 [125 kB]\n",
            "Get:8 http://archive.ubuntu.com/ubuntu bionic/main amd64 libgtk2.0-0 amd64 2.24.32-1ubuntu1 [1,769 kB]\n",
            "Get:9 http://archive.ubuntu.com/ubuntu bionic/main amd64 libgail18 amd64 2.24.32-1ubuntu1 [14.2 kB]\n",
            "Get:10 http://archive.ubuntu.com/ubuntu bionic/main amd64 libgail-common amd64 2.24.32-1ubuntu1 [112 kB]\n",
            "Get:11 http://archive.ubuntu.com/ubuntu bionic/main amd64 libgtk2.0-bin amd64 2.24.32-1ubuntu1 [7,536 B]\n",
            "Get:12 http://archive.ubuntu.com/ubuntu bionic-updates/universe amd64 openjdk-8-jre-headless amd64 8u312-b07-0ubuntu1~18.04 [28.2 MB]\n",
            "Get:13 http://archive.ubuntu.com/ubuntu bionic-updates/universe amd64 openjdk-8-jre amd64 8u312-b07-0ubuntu1~18.04 [69.6 kB]\n",
            "Get:14 http://archive.ubuntu.com/ubuntu bionic-updates/universe amd64 openjdk-8-jdk-headless amd64 8u312-b07-0ubuntu1~18.04 [8,298 kB]\n",
            "Get:15 http://archive.ubuntu.com/ubuntu bionic-updates/universe amd64 openjdk-8-jdk amd64 8u312-b07-0ubuntu1~18.04 [1,625 kB]\n",
            "Fetched 43.5 MB in 4s (9,987 kB/s)\n",
            "Selecting previously unselected package libxxf86dga1:amd64.\r\n",
            "(Reading database ... \r(Reading database ... 5%\r(Reading database ... 10%\r(Reading database ... 15%\r(Reading database ... 20%\r(Reading database ... 25%\r(Reading database ... 30%\r(Reading database ... 35%\r(Reading database ... 40%\r(Reading database ... 45%\r(Reading database ... 50%\r(Reading database ... 55%\r(Reading database ... 60%\r(Reading database ... 65%\r(Reading database ... 70%\r(Reading database ... 75%\r(Reading database ... 80%\r(Reading database ... 85%\r(Reading database ... 90%\r(Reading database ... 95%\r(Reading database ... 100%\r(Reading database ... 155632 files and directories currently installed.)\r\n",
            "Preparing to unpack .../00-libxxf86dga1_2%3a1.1.4-1_amd64.deb ...\r\n",
            "Unpacking libxxf86dga1:amd64 (2:1.1.4-1) ...\r\n",
            "Selecting previously unselected package fonts-dejavu-core.\r\n",
            "Preparing to unpack .../01-fonts-dejavu-core_2.37-1_all.deb ...\r\n",
            "Unpacking fonts-dejavu-core (2.37-1) ...\r\n",
            "Selecting previously unselected package fonts-dejavu-extra.\r\n",
            "Preparing to unpack .../02-fonts-dejavu-extra_2.37-1_all.deb ...\r\n",
            "Unpacking fonts-dejavu-extra (2.37-1) ...\r\n",
            "Selecting previously unselected package x11-utils.\r\n",
            "Preparing to unpack .../03-x11-utils_7.7+3build1_amd64.deb ...\r\n",
            "Unpacking x11-utils (7.7+3build1) ...\r\n",
            "Selecting previously unselected package libatk-wrapper-java.\r\n",
            "Preparing to unpack .../04-libatk-wrapper-java_0.33.3-20ubuntu0.1_all.deb ...\r\n",
            "Unpacking libatk-wrapper-java (0.33.3-20ubuntu0.1) ...\r\n",
            "Selecting previously unselected package libatk-wrapper-java-jni:amd64.\r\n",
            "Preparing to unpack .../05-libatk-wrapper-java-jni_0.33.3-20ubuntu0.1_amd64.deb ...\r\n",
            "Unpacking libatk-wrapper-java-jni:amd64 (0.33.3-20ubuntu0.1) ...\r\n",
            "Selecting previously unselected package libgtk2.0-common.\r\n",
            "Preparing to unpack .../06-libgtk2.0-common_2.24.32-1ubuntu1_all.deb ...\r\n",
            "Unpacking libgtk2.0-common (2.24.32-1ubuntu1) ...\r\n",
            "Selecting previously unselected package libgtk2.0-0:amd64.\r\n",
            "Preparing to unpack .../07-libgtk2.0-0_2.24.32-1ubuntu1_amd64.deb ...\r\n",
            "Unpacking libgtk2.0-0:amd64 (2.24.32-1ubuntu1) ...\r\n",
            "Selecting previously unselected package libgail18:amd64.\r\n",
            "Preparing to unpack .../08-libgail18_2.24.32-1ubuntu1_amd64.deb ...\r\n",
            "Unpacking libgail18:amd64 (2.24.32-1ubuntu1) ...\r\n",
            "Selecting previously unselected package libgail-common:amd64.\r\n",
            "Preparing to unpack .../09-libgail-common_2.24.32-1ubuntu1_amd64.deb ...\r\n",
            "Unpacking libgail-common:amd64 (2.24.32-1ubuntu1) ...\r\n",
            "Selecting previously unselected package libgtk2.0-bin.\r\n",
            "Preparing to unpack .../10-libgtk2.0-bin_2.24.32-1ubuntu1_amd64.deb ...\r\n",
            "Unpacking libgtk2.0-bin (2.24.32-1ubuntu1) ...\r\n",
            "Selecting previously unselected package openjdk-8-jre-headless:amd64.\r\n",
            "Preparing to unpack .../11-openjdk-8-jre-headless_8u312-b07-0ubuntu1~18.04_amd64.deb ...\r\n",
            "Unpacking openjdk-8-jre-headless:amd64 (8u312-b07-0ubuntu1~18.04) ...\r\n",
            "Selecting previously unselected package openjdk-8-jre:amd64.\r\n",
            "Preparing to unpack .../12-openjdk-8-jre_8u312-b07-0ubuntu1~18.04_amd64.deb ...\r\n",
            "Unpacking openjdk-8-jre:amd64 (8u312-b07-0ubuntu1~18.04) ...\r\n",
            "Selecting previously unselected package openjdk-8-jdk-headless:amd64.\r\n",
            "Preparing to unpack .../13-openjdk-8-jdk-headless_8u312-b07-0ubuntu1~18.04_amd64.deb ...\r\n",
            "Unpacking openjdk-8-jdk-headless:amd64 (8u312-b07-0ubuntu1~18.04) ...\r\n",
            "Selecting previously unselected package openjdk-8-jdk:amd64.\r\n",
            "Preparing to unpack .../14-openjdk-8-jdk_8u312-b07-0ubuntu1~18.04_amd64.deb ...\r\n",
            "Unpacking openjdk-8-jdk:amd64 (8u312-b07-0ubuntu1~18.04) ...\r\n",
            "Setting up libgtk2.0-common (2.24.32-1ubuntu1) ...\r\n",
            "Setting up fonts-dejavu-core (2.37-1) ...\r\n",
            "Setting up libxxf86dga1:amd64 (2:1.1.4-1) ...\r\n",
            "Setting up fonts-dejavu-extra (2.37-1) ...\r\n",
            "Setting up openjdk-8-jre-headless:amd64 (8u312-b07-0ubuntu1~18.04) ...\r\n",
            "update-alternatives: using /usr/lib/jvm/java-8-openjdk-amd64/jre/bin/orbd to provide /usr/bin/orbd (orbd) in auto mode\r\n",
            "update-alternatives: using /usr/lib/jvm/java-8-openjdk-amd64/jre/bin/servertool to provide /usr/bin/servertool (servertool) in auto mode\r\n",
            "update-alternatives: using /usr/lib/jvm/java-8-openjdk-amd64/jre/bin/tnameserv to provide /usr/bin/tnameserv (tnameserv) in auto mode\r\n",
            "Setting up libgtk2.0-0:amd64 (2.24.32-1ubuntu1) ...\r\n",
            "Setting up libgail18:amd64 (2.24.32-1ubuntu1) ...\r\n",
            "Setting up openjdk-8-jdk-headless:amd64 (8u312-b07-0ubuntu1~18.04) ...\r\n",
            "update-alternatives: using /usr/lib/jvm/java-8-openjdk-amd64/bin/idlj to provide /usr/bin/idlj (idlj) in auto mode\r\n",
            "update-alternatives: using /usr/lib/jvm/java-8-openjdk-amd64/bin/wsimport to provide /usr/bin/wsimport (wsimport) in auto mode\r\n",
            "update-alternatives: using /usr/lib/jvm/java-8-openjdk-amd64/bin/jsadebugd to provide /usr/bin/jsadebugd (jsadebugd) in auto mode\r\n",
            "update-alternatives: using /usr/lib/jvm/java-8-openjdk-amd64/bin/native2ascii to provide /usr/bin/native2ascii (native2ascii) in auto mode\r\n",
            "update-alternatives: using /usr/lib/jvm/java-8-openjdk-amd64/bin/javah to provide /usr/bin/javah (javah) in auto mode\r\n",
            "update-alternatives: using /usr/lib/jvm/java-8-openjdk-amd64/bin/hsdb to provide /usr/bin/hsdb (hsdb) in auto mode\r\n",
            "update-alternatives: using /usr/lib/jvm/java-8-openjdk-amd64/bin/clhsdb to provide /usr/bin/clhsdb (clhsdb) in auto mode\r\n",
            "update-alternatives: using /usr/lib/jvm/java-8-openjdk-amd64/bin/xjc to provide /usr/bin/xjc (xjc) in auto mode\r\n",
            "update-alternatives: using /usr/lib/jvm/java-8-openjdk-amd64/bin/schemagen to provide /usr/bin/schemagen (schemagen) in auto mode\r\n",
            "update-alternatives: using /usr/lib/jvm/java-8-openjdk-amd64/bin/extcheck to provide /usr/bin/extcheck (extcheck) in auto mode\r\n",
            "update-alternatives: using /usr/lib/jvm/java-8-openjdk-amd64/bin/jhat to provide /usr/bin/jhat (jhat) in auto mode\r\n",
            "update-alternatives: using /usr/lib/jvm/java-8-openjdk-amd64/bin/wsgen to provide /usr/bin/wsgen (wsgen) in auto mode\r\n",
            "Setting up x11-utils (7.7+3build1) ...\r\n",
            "Setting up libgail-common:amd64 (2.24.32-1ubuntu1) ...\r\n",
            "Setting up libatk-wrapper-java (0.33.3-20ubuntu0.1) ...\r\n",
            "Setting up libgtk2.0-bin (2.24.32-1ubuntu1) ...\r\n",
            "Setting up libatk-wrapper-java-jni:amd64 (0.33.3-20ubuntu0.1) ...\r\n",
            "Setting up openjdk-8-jre:amd64 (8u312-b07-0ubuntu1~18.04) ...\r\n",
            "update-alternatives: using /usr/lib/jvm/java-8-openjdk-amd64/jre/bin/policytool to provide /usr/bin/policytool (policytool) in auto mode\r\n",
            "Setting up openjdk-8-jdk:amd64 (8u312-b07-0ubuntu1~18.04) ...\r\n",
            "update-alternatives: using /usr/lib/jvm/java-8-openjdk-amd64/bin/appletviewer to provide /usr/bin/appletviewer (appletviewer) in auto mode\r\n",
            "update-alternatives: using /usr/lib/jvm/java-8-openjdk-amd64/bin/jconsole to provide /usr/bin/jconsole (jconsole) in auto mode\r\n",
            "Processing triggers for man-db (2.8.3-2ubuntu0.1) ...\r\n",
            "Processing triggers for hicolor-icon-theme (0.17-2) ...\r\n",
            "Processing triggers for fontconfig (2.12.6-0ubuntu2) ...\r\n",
            "Processing triggers for mime-support (3.60ubuntu1) ...\r\n",
            "Processing triggers for libc-bin (2.27-3ubuntu1.3) ...\r\n",
            "/sbin/ldconfig.real: /usr/local/lib/python3.7/dist-packages/ideep4py/lib/libmkldnn.so.0 is not a symbolic link\r\n",
            "\r\n",
            "Looking in indexes: https://pypi.org/simple, https://us-python.pkg.dev/colab-wheels/public/simple/\n",
            "Collecting JPype1\n",
            "  Downloading JPype1-1.4.0-cp37-cp37m-manylinux_2_5_x86_64.manylinux1_x86_64.whl (453 kB)\n",
            "Requirement already satisfied: typing-extensions in /usr/local/lib/python3.7/dist-packages (from JPype1) (4.2.0)\n",
            "Installing collected packages: JPype1\n",
            "Successfully installed JPype1-1.4.0\n",
            "Looking in indexes: https://pypi.org/simple, https://us-python.pkg.dev/colab-wheels/public/simple/\n",
            "Collecting konlpy\n",
            "  Downloading konlpy-0.6.0-py2.py3-none-any.whl (19.4 MB)\n",
            "Requirement already satisfied: numpy>=1.6 in /usr/local/lib/python3.7/dist-packages (from konlpy) (1.21.6)\n",
            "Requirement already satisfied: lxml>=4.1.0 in /usr/local/lib/python3.7/dist-packages (from konlpy) (4.2.6)\n",
            "Requirement already satisfied: JPype1>=0.7.0 in /usr/local/lib/python3.7/dist-packages (from konlpy) (1.4.0)\n",
            "Requirement already satisfied: typing-extensions in /usr/local/lib/python3.7/dist-packages (from JPype1>=0.7.0->konlpy) (4.2.0)\n",
            "Installing collected packages: konlpy\n",
            "Successfully installed konlpy-0.6.0\n"
          ]
        }
      ],
      "source": [
        "%%bash\n",
        "apt-get update\n",
        "apt-get install g++ openjdk-8-jdk python-dev python3-dev\n",
        "pip3 install JPype1\n",
        "pip3 install konlpy"
      ]
    },
    {
      "cell_type": "code",
      "execution_count": null,
      "metadata": {
        "colab": {
          "base_uri": "https://localhost:8080/"
        },
        "id": "Yo4EqyoPe2Bp",
        "outputId": "56a955ac-f684-4825-feaf-1dcf0544d739"
      },
      "outputs": [
        {
          "output_type": "stream",
          "name": "stdout",
          "text": [
            "env: JAVA_HOME=\"/usr/lib/jvm/java-8-openjdk-amd64\"\n"
          ]
        }
      ],
      "source": [
        "%env JAVA_HOME \"/usr/lib/jvm/java-8-openjdk-amd64\""
      ]
    },
    {
      "cell_type": "code",
      "execution_count": null,
      "metadata": {
        "colab": {
          "base_uri": "https://localhost:8080/"
        },
        "id": "PUwYlTFbe5Ux",
        "outputId": "e0c41653-8749-4eb3-d739-38069a604ad3"
      },
      "outputs": [
        {
          "output_type": "stream",
          "name": "stdout",
          "text": [
            "Installing automake (A dependency for mecab-ko)\n",
            "Hit:1 https://cloud.r-project.org/bin/linux/ubuntu bionic-cran40/ InRelease\n",
            "Hit:2 https://developer.download.nvidia.com/compute/cuda/repos/ubuntu1804/x86_64  InRelease\n",
            "Hit:3 http://security.ubuntu.com/ubuntu bionic-security InRelease\n",
            "Hit:4 http://ppa.launchpad.net/c2d4u.team/c2d4u4.0+/ubuntu bionic InRelease\n",
            "Ign:5 https://developer.download.nvidia.com/compute/machine-learning/repos/ubuntu1804/x86_64  InRelease\n",
            "Hit:6 https://developer.download.nvidia.com/compute/machine-learning/repos/ubuntu1804/x86_64  Release\n",
            "Hit:8 http://ppa.launchpad.net/cran/libgit2/ubuntu bionic InRelease\n",
            "Hit:9 http://archive.ubuntu.com/ubuntu bionic InRelease\n",
            "Hit:10 http://archive.ubuntu.com/ubuntu bionic-updates InRelease\n",
            "Hit:11 http://ppa.launchpad.net/deadsnakes/ppa/ubuntu bionic InRelease\n",
            "Hit:12 http://archive.ubuntu.com/ubuntu bionic-backports InRelease\n",
            "Hit:13 http://ppa.launchpad.net/graphics-drivers/ppa/ubuntu bionic InRelease\n",
            "Reading package lists...\n",
            "Reading package lists...\n",
            "Building dependency tree...\n",
            "Reading state information...\n",
            "The following package was automatically installed and is no longer required:\n",
            "  libnvidia-common-460\n",
            "Use 'sudo apt autoremove' to remove it.\n",
            "The following additional packages will be installed:\n",
            "  autoconf autotools-dev libsigsegv2 m4\n",
            "Suggested packages:\n",
            "  autoconf-archive gnu-standards autoconf-doc libtool gettext m4-doc\n",
            "The following NEW packages will be installed:\n",
            "  autoconf automake autotools-dev libsigsegv2 m4\n",
            "0 upgraded, 5 newly installed, 0 to remove and 87 not upgraded.\n",
            "Need to get 1,082 kB of archives.\n",
            "After this operation, 3,994 kB of additional disk space will be used.\n",
            "Get:1 http://archive.ubuntu.com/ubuntu bionic/main amd64 libsigsegv2 amd64 2.12-1 [14.7 kB]\n",
            "Get:2 http://archive.ubuntu.com/ubuntu bionic/main amd64 m4 amd64 1.4.18-1 [197 kB]\n",
            "Get:3 http://archive.ubuntu.com/ubuntu bionic/main amd64 autoconf all 2.69-11 [322 kB]\n",
            "Get:4 http://archive.ubuntu.com/ubuntu bionic/main amd64 autotools-dev all 20180224.1 [39.6 kB]\n",
            "Get:5 http://archive.ubuntu.com/ubuntu bionic/main amd64 automake all 1:1.15.1-3ubuntu2 [509 kB]\n",
            "Fetched 1,082 kB in 2s (538 kB/s)\n",
            "Selecting previously unselected package libsigsegv2:amd64.\r\n",
            "(Reading database ... \r(Reading database ... 5%\r(Reading database ... 10%\r(Reading database ... 15%\r(Reading database ... 20%\r(Reading database ... 25%\r(Reading database ... 30%\r(Reading database ... 35%\r(Reading database ... 40%\r(Reading database ... 45%\r(Reading database ... 50%\r(Reading database ... 55%\r(Reading database ... 60%\r(Reading database ... 65%\r(Reading database ... 70%\r(Reading database ... 75%\r(Reading database ... 80%\r(Reading database ... 85%\r(Reading database ... 90%\r(Reading database ... 95%\r(Reading database ... 100%\r(Reading database ... 156208 files and directories currently installed.)\r\n",
            "Preparing to unpack .../libsigsegv2_2.12-1_amd64.deb ...\r\n",
            "Unpacking libsigsegv2:amd64 (2.12-1) ...\r\n",
            "Selecting previously unselected package m4.\r\n",
            "Preparing to unpack .../archives/m4_1.4.18-1_amd64.deb ...\r\n",
            "Unpacking m4 (1.4.18-1) ...\r\n",
            "Selecting previously unselected package autoconf.\r\n",
            "Preparing to unpack .../autoconf_2.69-11_all.deb ...\r\n",
            "Unpacking autoconf (2.69-11) ...\r\n",
            "Selecting previously unselected package autotools-dev.\r\n",
            "Preparing to unpack .../autotools-dev_20180224.1_all.deb ...\r\n",
            "Unpacking autotools-dev (20180224.1) ...\r\n",
            "Selecting previously unselected package automake.\r\n",
            "Preparing to unpack .../automake_1%3a1.15.1-3ubuntu2_all.deb ...\r\n",
            "Unpacking automake (1:1.15.1-3ubuntu2) ...\r\n",
            "Setting up libsigsegv2:amd64 (2.12-1) ...\r\n",
            "Setting up m4 (1.4.18-1) ...\r\n",
            "Setting up autotools-dev (20180224.1) ...\r\n",
            "Setting up autoconf (2.69-11) ...\r\n",
            "Setting up automake (1:1.15.1-3ubuntu2) ...\r\n",
            "update-alternatives: using /usr/bin/automake-1.15 to provide /usr/bin/automake (automake) in auto mode\r\n",
            "Processing triggers for libc-bin (2.27-3ubuntu1.3) ...\r\n",
            "/sbin/ldconfig.real: /usr/local/lib/python3.7/dist-packages/ideep4py/lib/libmkldnn.so.0 is not a symbolic link\r\n",
            "\r\n",
            "Processing triggers for man-db (2.8.3-2ubuntu0.1) ...\r\n",
            "Install mecab-ko\n",
            "mecab-0.996-ko-0.9.2/\n",
            "mecab-0.996-ko-0.9.2/example/\n",
            "mecab-0.996-ko-0.9.2/example/example.cpp\n",
            "mecab-0.996-ko-0.9.2/example/example_lattice.cpp\n",
            "mecab-0.996-ko-0.9.2/example/example_lattice.c\n",
            "mecab-0.996-ko-0.9.2/example/example.c\n",
            "mecab-0.996-ko-0.9.2/example/thread_test.cpp\n",
            "mecab-0.996-ko-0.9.2/mecab-config.in\n",
            "mecab-0.996-ko-0.9.2/man/\n",
            "mecab-0.996-ko-0.9.2/man/Makefile.am\n",
            "mecab-0.996-ko-0.9.2/man/mecab.1\n",
            "mecab-0.996-ko-0.9.2/man/Makefile.in\n",
            "mecab-0.996-ko-0.9.2/mecab.iss.in\n",
            "mecab-0.996-ko-0.9.2/config.guess\n",
            "mecab-0.996-ko-0.9.2/README\n",
            "mecab-0.996-ko-0.9.2/COPYING\n",
            "mecab-0.996-ko-0.9.2/CHANGES.md\n",
            "mecab-0.996-ko-0.9.2/README.md\n",
            "mecab-0.996-ko-0.9.2/INSTALL\n",
            "mecab-0.996-ko-0.9.2/config.sub\n",
            "mecab-0.996-ko-0.9.2/configure.in\n",
            "mecab-0.996-ko-0.9.2/swig/\n",
            "mecab-0.996-ko-0.9.2/swig/Makefile\n",
            "mecab-0.996-ko-0.9.2/swig/version.h.in\n",
            "mecab-0.996-ko-0.9.2/swig/version.h\n",
            "mecab-0.996-ko-0.9.2/swig/MeCab.i\n",
            "mecab-0.996-ko-0.9.2/aclocal.m4\n",
            "mecab-0.996-ko-0.9.2/LGPL\n",
            "mecab-0.996-ko-0.9.2/Makefile.am\n",
            "mecab-0.996-ko-0.9.2/configure\n",
            "mecab-0.996-ko-0.9.2/tests/\n",
            "mecab-0.996-ko-0.9.2/tests/autolink/\n",
            "mecab-0.996-ko-0.9.2/tests/autolink/unk.def\n",
            "mecab-0.996-ko-0.9.2/tests/autolink/dicrc\n",
            "mecab-0.996-ko-0.9.2/tests/autolink/dic.csv\n",
            "mecab-0.996-ko-0.9.2/tests/autolink/test\n",
            "mecab-0.996-ko-0.9.2/tests/autolink/char.def\n",
            "mecab-0.996-ko-0.9.2/tests/autolink/matrix.def\n",
            "mecab-0.996-ko-0.9.2/tests/autolink/test.gld\n",
            "mecab-0.996-ko-0.9.2/tests/t9/\n",
            "mecab-0.996-ko-0.9.2/tests/t9/unk.def\n",
            "mecab-0.996-ko-0.9.2/tests/t9/ipadic.pl\n",
            "mecab-0.996-ko-0.9.2/tests/t9/dicrc\n",
            "mecab-0.996-ko-0.9.2/tests/t9/dic.csv\n",
            "mecab-0.996-ko-0.9.2/tests/t9/test\n",
            "mecab-0.996-ko-0.9.2/tests/t9/char.def\n",
            "mecab-0.996-ko-0.9.2/tests/t9/matrix.def\n",
            "mecab-0.996-ko-0.9.2/tests/t9/mkdic.pl\n",
            "mecab-0.996-ko-0.9.2/tests/t9/test.gld\n",
            "mecab-0.996-ko-0.9.2/tests/cost-train/\n",
            "mecab-0.996-ko-0.9.2/tests/cost-train/ipa.train\n",
            "mecab-0.996-ko-0.9.2/tests/cost-train/ipa.test\n",
            "mecab-0.996-ko-0.9.2/tests/cost-train/seed/\n",
            "mecab-0.996-ko-0.9.2/tests/cost-train/seed/rewrite.def\n",
            "mecab-0.996-ko-0.9.2/tests/cost-train/seed/feature.def\n",
            "mecab-0.996-ko-0.9.2/tests/cost-train/seed/unk.def\n",
            "mecab-0.996-ko-0.9.2/tests/cost-train/seed/dicrc\n",
            "mecab-0.996-ko-0.9.2/tests/cost-train/seed/dic.csv\n",
            "mecab-0.996-ko-0.9.2/tests/cost-train/seed/char.def\n",
            "mecab-0.996-ko-0.9.2/tests/cost-train/seed/matrix.def\n",
            "mecab-0.996-ko-0.9.2/tests/run-eval.sh\n",
            "mecab-0.996-ko-0.9.2/tests/run-cost-train.sh\n",
            "mecab-0.996-ko-0.9.2/tests/Makefile.am\n",
            "mecab-0.996-ko-0.9.2/tests/katakana/\n",
            "mecab-0.996-ko-0.9.2/tests/katakana/unk.def\n",
            "mecab-0.996-ko-0.9.2/tests/katakana/dicrc\n",
            "mecab-0.996-ko-0.9.2/tests/katakana/dic.csv\n",
            "mecab-0.996-ko-0.9.2/tests/katakana/test\n",
            "mecab-0.996-ko-0.9.2/tests/katakana/char.def\n",
            "mecab-0.996-ko-0.9.2/tests/katakana/matrix.def\n",
            "mecab-0.996-ko-0.9.2/tests/katakana/test.gld\n",
            "mecab-0.996-ko-0.9.2/tests/eval/\n",
            "mecab-0.996-ko-0.9.2/tests/eval/answer\n",
            "mecab-0.996-ko-0.9.2/tests/eval/system\n",
            "mecab-0.996-ko-0.9.2/tests/eval/test.gld\n",
            "mecab-0.996-ko-0.9.2/tests/shiin/\n",
            "mecab-0.996-ko-0.9.2/tests/shiin/unk.def\n",
            "mecab-0.996-ko-0.9.2/tests/shiin/dicrc\n",
            "mecab-0.996-ko-0.9.2/tests/shiin/dic.csv\n",
            "mecab-0.996-ko-0.9.2/tests/shiin/test\n",
            "mecab-0.996-ko-0.9.2/tests/shiin/char.def\n",
            "mecab-0.996-ko-0.9.2/tests/shiin/matrix.def\n",
            "mecab-0.996-ko-0.9.2/tests/shiin/mkdic.pl\n",
            "mecab-0.996-ko-0.9.2/tests/shiin/test.gld\n",
            "mecab-0.996-ko-0.9.2/tests/latin/\n",
            "mecab-0.996-ko-0.9.2/tests/latin/unk.def\n",
            "mecab-0.996-ko-0.9.2/tests/latin/dicrc\n",
            "mecab-0.996-ko-0.9.2/tests/latin/dic.csv\n",
            "mecab-0.996-ko-0.9.2/tests/latin/test\n",
            "mecab-0.996-ko-0.9.2/tests/latin/char.def\n",
            "mecab-0.996-ko-0.9.2/tests/latin/matrix.def\n",
            "mecab-0.996-ko-0.9.2/tests/latin/test.gld\n",
            "mecab-0.996-ko-0.9.2/tests/chartype/\n",
            "mecab-0.996-ko-0.9.2/tests/chartype/unk.def\n",
            "mecab-0.996-ko-0.9.2/tests/chartype/dicrc\n",
            "mecab-0.996-ko-0.9.2/tests/chartype/dic.csv\n",
            "mecab-0.996-ko-0.9.2/tests/chartype/test\n",
            "mecab-0.996-ko-0.9.2/tests/chartype/char.def\n",
            "mecab-0.996-ko-0.9.2/tests/chartype/matrix.def\n",
            "mecab-0.996-ko-0.9.2/tests/chartype/test.gld\n",
            "mecab-0.996-ko-0.9.2/tests/run-dics.sh\n",
            "mecab-0.996-ko-0.9.2/tests/ngram/\n",
            "mecab-0.996-ko-0.9.2/tests/ngram/unk.def\n",
            "mecab-0.996-ko-0.9.2/tests/ngram/dicrc\n",
            "mecab-0.996-ko-0.9.2/tests/ngram/dic.csv\n",
            "mecab-0.996-ko-0.9.2/tests/ngram/test\n",
            "mecab-0.996-ko-0.9.2/tests/ngram/char.def\n",
            "mecab-0.996-ko-0.9.2/tests/ngram/matrix.def\n",
            "mecab-0.996-ko-0.9.2/tests/ngram/test.gld\n",
            "mecab-0.996-ko-0.9.2/tests/Makefile.in\n",
            "mecab-0.996-ko-0.9.2/ltmain.sh\n",
            "mecab-0.996-ko-0.9.2/config.rpath\n",
            "mecab-0.996-ko-0.9.2/config.h.in\n",
            "mecab-0.996-ko-0.9.2/mecabrc.in\n",
            "mecab-0.996-ko-0.9.2/GPL\n",
            "mecab-0.996-ko-0.9.2/Makefile.train\n",
            "mecab-0.996-ko-0.9.2/ChangeLog\n",
            "mecab-0.996-ko-0.9.2/install-sh\n",
            "mecab-0.996-ko-0.9.2/AUTHORS\n",
            "mecab-0.996-ko-0.9.2/doc/\n",
            "mecab-0.996-ko-0.9.2/doc/bindings.html\n",
            "mecab-0.996-ko-0.9.2/doc/posid.html\n",
            "mecab-0.996-ko-0.9.2/doc/unk.html\n",
            "mecab-0.996-ko-0.9.2/doc/learn.html\n",
            "mecab-0.996-ko-0.9.2/doc/format.html\n",
            "mecab-0.996-ko-0.9.2/doc/libmecab.html\n",
            "mecab-0.996-ko-0.9.2/doc/mecab.css\n",
            "mecab-0.996-ko-0.9.2/doc/feature.html\n",
            "mecab-0.996-ko-0.9.2/doc/Makefile.am\n",
            "mecab-0.996-ko-0.9.2/doc/soft.html\n",
            "mecab-0.996-ko-0.9.2/doc/en/\n",
            "mecab-0.996-ko-0.9.2/doc/en/bindings.html\n",
            "mecab-0.996-ko-0.9.2/doc/dic-detail.html\n",
            "mecab-0.996-ko-0.9.2/doc/flow.png\n",
            "mecab-0.996-ko-0.9.2/doc/mecab.html\n",
            "mecab-0.996-ko-0.9.2/doc/index.html\n",
            "mecab-0.996-ko-0.9.2/doc/result.png\n",
            "mecab-0.996-ko-0.9.2/doc/doxygen/\n",
            "mecab-0.996-ko-0.9.2/doc/doxygen/tab_a.png\n",
            "mecab-0.996-ko-0.9.2/doc/doxygen/globals_eval.html\n",
            "mecab-0.996-ko-0.9.2/doc/doxygen/classMeCab_1_1Tagger-members.html\n",
            "mecab-0.996-ko-0.9.2/doc/doxygen/functions_vars.html\n",
            "mecab-0.996-ko-0.9.2/doc/doxygen/doxygen.css\n",
            "mecab-0.996-ko-0.9.2/doc/doxygen/tab_r.gif\n",
            "mecab-0.996-ko-0.9.2/doc/doxygen/classMeCab_1_1Lattice.html\n",
            "mecab-0.996-ko-0.9.2/doc/doxygen/functions.html\n",
            "mecab-0.996-ko-0.9.2/doc/doxygen/classMeCab_1_1Tagger.html\n",
            "mecab-0.996-ko-0.9.2/doc/doxygen/mecab_8h_source.html\n",
            "mecab-0.996-ko-0.9.2/doc/doxygen/tabs.css\n",
            "mecab-0.996-ko-0.9.2/doc/doxygen/nav_f.png\n",
            "mecab-0.996-ko-0.9.2/doc/doxygen/tab_b.png\n",
            "mecab-0.996-ko-0.9.2/doc/doxygen/globals.html\n",
            "mecab-0.996-ko-0.9.2/doc/doxygen/nav_h.png\n",
            "mecab-0.996-ko-0.9.2/doc/doxygen/tab_h.png\n",
            "mecab-0.996-ko-0.9.2/doc/doxygen/classMeCab_1_1Model.html\n",
            "mecab-0.996-ko-0.9.2/doc/doxygen/globals_func.html\n",
            "mecab-0.996-ko-0.9.2/doc/doxygen/closed.png\n",
            "mecab-0.996-ko-0.9.2/doc/doxygen/tab_l.gif\n",
            "mecab-0.996-ko-0.9.2/doc/doxygen/structmecab__path__t-members.html\n",
            "mecab-0.996-ko-0.9.2/doc/doxygen/functions_func.html\n",
            "mecab-0.996-ko-0.9.2/doc/doxygen/globals_type.html\n",
            "mecab-0.996-ko-0.9.2/doc/doxygen/classMeCab_1_1Lattice-members.html\n",
            "mecab-0.996-ko-0.9.2/doc/doxygen/structmecab__node__t.html\n",
            "mecab-0.996-ko-0.9.2/doc/doxygen/namespacemembers_func.html\n",
            "mecab-0.996-ko-0.9.2/doc/doxygen/tab_s.png\n",
            "mecab-0.996-ko-0.9.2/doc/doxygen/structmecab__dictionary__info__t-members.html\n",
            "mecab-0.996-ko-0.9.2/doc/doxygen/namespacemembers_type.html\n",
            "mecab-0.996-ko-0.9.2/doc/doxygen/classMeCab_1_1Model-members.html\n",
            "mecab-0.996-ko-0.9.2/doc/doxygen/structmecab__dictionary__info__t.html\n",
            "mecab-0.996-ko-0.9.2/doc/doxygen/namespaces.html\n",
            "mecab-0.996-ko-0.9.2/doc/doxygen/namespacemembers.html\n",
            "mecab-0.996-ko-0.9.2/doc/doxygen/namespaceMeCab.html\n",
            "mecab-0.996-ko-0.9.2/doc/doxygen/structmecab__path__t.html\n",
            "mecab-0.996-ko-0.9.2/doc/doxygen/files.html\n",
            "mecab-0.996-ko-0.9.2/doc/doxygen/structmecab__node__t-members.html\n",
            "mecab-0.996-ko-0.9.2/doc/doxygen/index.html\n",
            "mecab-0.996-ko-0.9.2/doc/doxygen/annotated.html\n",
            "mecab-0.996-ko-0.9.2/doc/doxygen/globals_defs.html\n",
            "mecab-0.996-ko-0.9.2/doc/doxygen/classes.html\n",
            "mecab-0.996-ko-0.9.2/doc/doxygen/mecab_8h-source.html\n",
            "mecab-0.996-ko-0.9.2/doc/doxygen/doxygen.png\n",
            "mecab-0.996-ko-0.9.2/doc/doxygen/tab_b.gif\n",
            "mecab-0.996-ko-0.9.2/doc/doxygen/bc_s.png\n",
            "mecab-0.996-ko-0.9.2/doc/doxygen/open.png\n",
            "mecab-0.996-ko-0.9.2/doc/doxygen/mecab_8h.html\n",
            "mecab-0.996-ko-0.9.2/doc/dic.html\n",
            "mecab-0.996-ko-0.9.2/doc/partial.html\n",
            "mecab-0.996-ko-0.9.2/doc/feature.png\n",
            "mecab-0.996-ko-0.9.2/doc/Makefile.in\n",
            "mecab-0.996-ko-0.9.2/missing\n",
            "mecab-0.996-ko-0.9.2/BSD\n",
            "mecab-0.996-ko-0.9.2/NEWS\n",
            "mecab-0.996-ko-0.9.2/mkinstalldirs\n",
            "mecab-0.996-ko-0.9.2/src/\n",
            "mecab-0.996-ko-0.9.2/src/dictionary.h\n",
            "mecab-0.996-ko-0.9.2/src/writer.h\n",
            "mecab-0.996-ko-0.9.2/src/utils.h\n",
            "mecab-0.996-ko-0.9.2/src/string_buffer.cpp\n",
            "mecab-0.996-ko-0.9.2/src/tokenizer.cpp\n",
            "mecab-0.996-ko-0.9.2/src/make.bat\n",
            "mecab-0.996-ko-0.9.2/src/mecab.h\n",
            "mecab-0.996-ko-0.9.2/src/freelist.h\n",
            "mecab-0.996-ko-0.9.2/src/string_buffer.h\n",
            "mecab-0.996-ko-0.9.2/src/learner_tagger.h\n",
            "mecab-0.996-ko-0.9.2/src/dictionary_compiler.cpp\n",
            "mecab-0.996-ko-0.9.2/src/eval.cpp\n",
            "mecab-0.996-ko-0.9.2/src/mecab-system-eval.cpp\n",
            "mecab-0.996-ko-0.9.2/src/darts.h\n",
            "mecab-0.996-ko-0.9.2/src/param.h\n",
            "mecab-0.996-ko-0.9.2/src/char_property.h\n",
            "mecab-0.996-ko-0.9.2/src/learner_node.h\n",
            "mecab-0.996-ko-0.9.2/src/mecab-dict-gen.cpp\n",
            "mecab-0.996-ko-0.9.2/src/mecab-dict-index.cpp\n",
            "mecab-0.996-ko-0.9.2/src/winmain.h\n",
            "mecab-0.996-ko-0.9.2/src/thread.h\n",
            "mecab-0.996-ko-0.9.2/src/context_id.cpp\n",
            "mecab-0.996-ko-0.9.2/src/Makefile.am\n",
            "mecab-0.996-ko-0.9.2/src/connector.h\n",
            "mecab-0.996-ko-0.9.2/src/common.h\n",
            "mecab-0.996-ko-0.9.2/src/dictionary_rewriter.cpp\n",
            "mecab-0.996-ko-0.9.2/src/Makefile.msvc.in\n",
            "mecab-0.996-ko-0.9.2/src/dictionary_rewriter.h\n",
            "mecab-0.996-ko-0.9.2/src/feature_index.h\n",
            "mecab-0.996-ko-0.9.2/src/iconv_utils.cpp\n",
            "mecab-0.996-ko-0.9.2/src/char_property.cpp\n",
            "mecab-0.996-ko-0.9.2/src/mecab-test-gen.cpp\n",
            "mecab-0.996-ko-0.9.2/src/tagger.cpp\n",
            "mecab-0.996-ko-0.9.2/src/mecab-cost-train.cpp\n",
            "mecab-0.996-ko-0.9.2/src/learner.cpp\n",
            "mecab-0.996-ko-0.9.2/src/dictionary.cpp\n",
            "mecab-0.996-ko-0.9.2/src/lbfgs.cpp\n",
            "mecab-0.996-ko-0.9.2/src/ucs.h\n",
            "mecab-0.996-ko-0.9.2/src/writer.cpp\n",
            "mecab-0.996-ko-0.9.2/src/learner_tagger.cpp\n",
            "mecab-0.996-ko-0.9.2/src/lbfgs.h\n",
            "mecab-0.996-ko-0.9.2/src/libmecab.cpp\n",
            "mecab-0.996-ko-0.9.2/src/tokenizer.h\n",
            "mecab-0.996-ko-0.9.2/src/mecab.cpp\n",
            "mecab-0.996-ko-0.9.2/src/utils.cpp\n",
            "mecab-0.996-ko-0.9.2/src/dictionary_generator.cpp\n",
            "mecab-0.996-ko-0.9.2/src/param.cpp\n",
            "mecab-0.996-ko-0.9.2/src/context_id.h\n",
            "mecab-0.996-ko-0.9.2/src/mmap.h\n",
            "mecab-0.996-ko-0.9.2/src/viterbi.h\n",
            "mecab-0.996-ko-0.9.2/src/viterbi.cpp\n",
            "mecab-0.996-ko-0.9.2/src/stream_wrapper.h\n",
            "mecab-0.996-ko-0.9.2/src/feature_index.cpp\n",
            "mecab-0.996-ko-0.9.2/src/nbest_generator.h\n",
            "mecab-0.996-ko-0.9.2/src/ucstable.h\n",
            "mecab-0.996-ko-0.9.2/src/nbest_generator.cpp\n",
            "mecab-0.996-ko-0.9.2/src/iconv_utils.h\n",
            "mecab-0.996-ko-0.9.2/src/connector.cpp\n",
            "mecab-0.996-ko-0.9.2/src/Makefile.in\n",
            "mecab-0.996-ko-0.9.2/src/scoped_ptr.h\n",
            "mecab-0.996-ko-0.9.2/Makefile.in\n",
            "checking for a BSD-compatible install... /usr/bin/install -c\n",
            "checking whether build environment is sane... yes\n",
            "checking for a thread-safe mkdir -p... /bin/mkdir -p\n",
            "checking for gawk... no\n",
            "checking for mawk... mawk\n",
            "checking whether make sets $(MAKE)... yes\n",
            "checking for gcc... gcc\n",
            "checking whether the C compiler works... yes\n",
            "checking for C compiler default output file name... a.out\n",
            "checking for suffix of executables... \n",
            "checking whether we are cross compiling... no\n",
            "checking for suffix of object files... o\n",
            "checking whether we are using the GNU C compiler... yes\n",
            "checking whether gcc accepts -g... yes\n",
            "checking for gcc option to accept ISO C89... none needed\n",
            "checking for style of include used by make... GNU\n",
            "checking dependency style of gcc... none\n",
            "checking for g++... g++\n",
            "checking whether we are using the GNU C++ compiler... yes\n",
            "checking whether g++ accepts -g... yes\n",
            "checking dependency style of g++... none\n",
            "checking how to run the C preprocessor... gcc -E\n",
            "checking for grep that handles long lines and -e... /bin/grep\n",
            "checking for egrep... /bin/grep -E\n",
            "checking whether gcc needs -traditional... no\n",
            "checking whether make sets $(MAKE)... (cached) yes\n",
            "checking build system type... x86_64-unknown-linux-gnu\n",
            "checking host system type... x86_64-unknown-linux-gnu\n",
            "checking how to print strings... printf\n",
            "checking for a sed that does not truncate output... /bin/sed\n",
            "checking for fgrep... /bin/grep -F\n",
            "checking for ld used by gcc... /usr/bin/ld\n",
            "checking if the linker (/usr/bin/ld) is GNU ld... yes\n",
            "checking for BSD- or MS-compatible name lister (nm)... /usr/bin/nm -B\n",
            "checking the name lister (/usr/bin/nm -B) interface... BSD nm\n",
            "checking whether ln -s works... yes\n",
            "checking the maximum length of command line arguments... 1572864\n",
            "checking whether the shell understands some XSI constructs... yes\n",
            "checking whether the shell understands \"+=\"... yes\n",
            "checking how to convert x86_64-unknown-linux-gnu file names to x86_64-unknown-linux-gnu format... func_convert_file_noop\n",
            "checking how to convert x86_64-unknown-linux-gnu file names to toolchain format... func_convert_file_noop\n",
            "checking for /usr/bin/ld option to reload object files... -r\n",
            "checking for objdump... objdump\n",
            "checking how to recognize dependent libraries... pass_all\n",
            "checking for dlltool... dlltool\n",
            "checking how to associate runtime and link libraries... printf %s\\n\n",
            "checking for ar... ar\n",
            "checking for archiver @FILE support... @\n",
            "checking for strip... strip\n",
            "checking for ranlib... ranlib\n",
            "checking command to parse /usr/bin/nm -B output from gcc object... ok\n",
            "checking for sysroot... no\n",
            "checking for mt... no\n",
            "checking if : is a manifest tool... no\n",
            "checking for ANSI C header files... yes\n",
            "checking for sys/types.h... yes\n",
            "checking for sys/stat.h... yes\n",
            "checking for stdlib.h... yes\n",
            "checking for string.h... yes\n",
            "checking for memory.h... yes\n",
            "checking for strings.h... yes\n",
            "checking for inttypes.h... yes\n",
            "checking for stdint.h... yes\n",
            "checking for unistd.h... yes\n",
            "checking for dlfcn.h... yes\n",
            "checking for objdir... .libs\n",
            "checking if gcc supports -fno-rtti -fno-exceptions... no\n",
            "checking for gcc option to produce PIC... -fPIC -DPIC\n",
            "checking if gcc PIC flag -fPIC -DPIC works... yes\n",
            "checking if gcc static flag -static works... yes\n",
            "checking if gcc supports -c -o file.o... yes\n",
            "checking if gcc supports -c -o file.o... (cached) yes\n",
            "checking whether the gcc linker (/usr/bin/ld) supports shared libraries... yes\n",
            "checking whether -lc should be explicitly linked in... no\n",
            "checking dynamic linker characteristics... GNU/Linux ld.so\n",
            "checking how to hardcode library paths into programs... immediate\n",
            "checking whether stripping libraries is possible... yes\n",
            "checking if libtool supports shared libraries... yes\n",
            "checking whether to build shared libraries... yes\n",
            "checking whether to build static libraries... yes\n",
            "checking how to run the C++ preprocessor... g++ -E\n",
            "checking for ld used by g++... /usr/bin/ld\n",
            "checking if the linker (/usr/bin/ld) is GNU ld... yes\n",
            "checking whether the g++ linker (/usr/bin/ld) supports shared libraries... yes\n",
            "checking for g++ option to produce PIC... -fPIC -DPIC\n",
            "checking if g++ PIC flag -fPIC -DPIC works... yes\n",
            "checking if g++ static flag -static works... yes\n",
            "checking if g++ supports -c -o file.o... yes\n",
            "checking if g++ supports -c -o file.o... (cached) yes\n",
            "checking whether the g++ linker (/usr/bin/ld) supports shared libraries... yes\n",
            "checking dynamic linker characteristics... (cached) GNU/Linux ld.so\n",
            "checking how to hardcode library paths into programs... immediate\n",
            "checking for library containing strerror... none required\n",
            "checking whether byte ordering is bigendian... no\n",
            "checking for ld used by GCC... /usr/bin/ld\n",
            "checking if the linker (/usr/bin/ld) is GNU ld... yes\n",
            "checking for shared library run path origin... done\n",
            "checking for iconv... yes\n",
            "checking for working iconv... yes\n",
            "checking for iconv declaration... \n",
            "         extern size_t iconv (iconv_t cd, char * *inbuf, size_t *inbytesleft, char * *outbuf, size_t *outbytesleft);\n",
            "checking for ANSI C header files... (cached) yes\n",
            "checking for an ANSI C-conforming const... yes\n",
            "checking whether byte ordering is bigendian... (cached) no\n",
            "checking for string.h... (cached) yes\n",
            "checking for stdlib.h... (cached) yes\n",
            "checking for unistd.h... (cached) yes\n",
            "checking fcntl.h usability... yes\n",
            "checking fcntl.h presence... yes\n",
            "checking for fcntl.h... yes\n",
            "checking for stdint.h... (cached) yes\n",
            "checking for sys/stat.h... (cached) yes\n",
            "checking sys/mman.h usability... yes\n",
            "checking sys/mman.h presence... yes\n",
            "checking for sys/mman.h... yes\n",
            "checking sys/times.h usability... yes\n",
            "checking sys/times.h presence... yes\n",
            "checking for sys/times.h... yes\n",
            "checking for sys/types.h... (cached) yes\n",
            "checking dirent.h usability... yes\n",
            "checking dirent.h presence... yes\n",
            "checking for dirent.h... yes\n",
            "checking ctype.h usability... yes\n",
            "checking ctype.h presence... yes\n",
            "checking for ctype.h... yes\n",
            "checking for sys/types.h... (cached) yes\n",
            "checking io.h usability... no\n",
            "checking io.h presence... no\n",
            "checking for io.h... no\n",
            "checking windows.h usability... no\n",
            "checking windows.h presence... no\n",
            "checking for windows.h... no\n",
            "checking pthread.h usability... yes\n",
            "checking pthread.h presence... yes\n",
            "checking for pthread.h... yes\n",
            "checking for off_t... yes\n",
            "checking for size_t... yes\n",
            "checking size of char... 1\n",
            "checking size of short... 2\n",
            "checking size of int... 4\n",
            "checking size of long... 8\n",
            "checking size of long long... 8\n",
            "checking size of size_t... 8\n",
            "checking for size_t... (cached) yes\n",
            "checking for unsigned long long int... yes\n",
            "checking for stdlib.h... (cached) yes\n",
            "checking for unistd.h... (cached) yes\n",
            "checking for sys/param.h... yes\n",
            "checking for getpagesize... yes\n",
            "checking for working mmap... yes\n",
            "checking for main in -lstdc++... yes\n",
            "checking for pthread_create in -lpthread... yes\n",
            "checking for pthread_join in -lpthread... yes\n",
            "checking for getenv... yes\n",
            "checking for opendir... yes\n",
            "checking whether make is GNU Make... yes\n",
            "checking if g++ supports stl <vector> (required)... yes\n",
            "checking if g++ supports stl <list> (required)... yes\n",
            "checking if g++ supports stl <map> (required)... yes\n",
            "checking if g++ supports stl <set> (required)... yes\n",
            "checking if g++ supports stl <queue> (required)... yes\n",
            "checking if g++ supports stl <functional> (required)... yes\n",
            "checking if g++ supports stl <algorithm> (required)... yes\n",
            "checking if g++ supports stl <string> (required)... yes\n",
            "checking if g++ supports stl <iostream> (required)... yes\n",
            "checking if g++ supports stl <sstream> (required)... yes\n",
            "checking if g++ supports stl <fstream> (required)... yes\n",
            "checking if g++ supports template <class T> (required)... yes\n",
            "checking if g++ supports const_cast<> (required)... yes\n",
            "checking if g++ supports static_cast<> (required)... yes\n",
            "checking if g++ supports reinterpret_cast<> (required)... yes\n",
            "checking if g++ supports namespaces (required) ... yes\n",
            "checking if g++ supports __thread (optional)... yes\n",
            "checking if g++ supports template <class T> (required)... yes\n",
            "checking if g++ supports GCC native atomic operations (optional)... yes\n",
            "checking if g++ supports OSX native atomic operations (optional)... no\n",
            "checking if g++ environment provides all required features... yes\n",
            "configure: creating ./config.status\n",
            "config.status: creating Makefile\n",
            "config.status: creating src/Makefile\n",
            "config.status: creating src/Makefile.msvc\n",
            "config.status: creating man/Makefile\n",
            "config.status: creating doc/Makefile\n",
            "config.status: creating tests/Makefile\n",
            "config.status: creating swig/version.h\n",
            "config.status: creating mecab.iss\n",
            "config.status: creating mecab-config\n",
            "config.status: creating mecabrc\n",
            "config.status: creating config.h\n",
            "config.status: executing depfiles commands\n",
            "config.status: executing libtool commands\n",
            "config.status: executing default commands\n",
            "make  all-recursive\n",
            "make[1]: Entering directory '/tmp/mecab-0.996-ko-0.9.2'\n",
            "Making all in src\n",
            "make[2]: Entering directory '/tmp/mecab-0.996-ko-0.9.2/src'\n",
            "/bin/bash ../libtool --tag=CXX   --mode=compile g++ -DHAVE_CONFIG_H -I. -I.. -DDIC_VERSION=102   -DMECAB_DEFAULT_RC=\"\\\"/usr/local/etc/mecabrc\\\"\"    -O3 -Wall  -c -o viterbi.lo viterbi.cpp\n",
            "libtool: compile:  g++ -DHAVE_CONFIG_H -I. -I.. -DDIC_VERSION=102 -DMECAB_DEFAULT_RC=\\\"/usr/local/etc/mecabrc\\\" -O3 -Wall -c viterbi.cpp  -fPIC -DPIC -o .libs/viterbi.o\n",
            "libtool: compile:  g++ -DHAVE_CONFIG_H -I. -I.. -DDIC_VERSION=102 -DMECAB_DEFAULT_RC=\\\"/usr/local/etc/mecabrc\\\" -O3 -Wall -c viterbi.cpp -o viterbi.o >/dev/null 2>&1\n",
            "/bin/bash ../libtool --tag=CXX   --mode=compile g++ -DHAVE_CONFIG_H -I. -I.. -DDIC_VERSION=102   -DMECAB_DEFAULT_RC=\"\\\"/usr/local/etc/mecabrc\\\"\"    -O3 -Wall  -c -o tagger.lo tagger.cpp\n",
            "libtool: compile:  g++ -DHAVE_CONFIG_H -I. -I.. -DDIC_VERSION=102 -DMECAB_DEFAULT_RC=\\\"/usr/local/etc/mecabrc\\\" -O3 -Wall -c tagger.cpp  -fPIC -DPIC -o .libs/tagger.o\n",
            "libtool: compile:  g++ -DHAVE_CONFIG_H -I. -I.. -DDIC_VERSION=102 -DMECAB_DEFAULT_RC=\\\"/usr/local/etc/mecabrc\\\" -O3 -Wall -c tagger.cpp -o tagger.o >/dev/null 2>&1\n",
            "/bin/bash ../libtool --tag=CXX   --mode=compile g++ -DHAVE_CONFIG_H -I. -I.. -DDIC_VERSION=102   -DMECAB_DEFAULT_RC=\"\\\"/usr/local/etc/mecabrc\\\"\"    -O3 -Wall  -c -o utils.lo utils.cpp\n",
            "libtool: compile:  g++ -DHAVE_CONFIG_H -I. -I.. -DDIC_VERSION=102 -DMECAB_DEFAULT_RC=\\\"/usr/local/etc/mecabrc\\\" -O3 -Wall -c utils.cpp  -fPIC -DPIC -o .libs/utils.o\n",
            "libtool: compile:  g++ -DHAVE_CONFIG_H -I. -I.. -DDIC_VERSION=102 -DMECAB_DEFAULT_RC=\\\"/usr/local/etc/mecabrc\\\" -O3 -Wall -c utils.cpp -o utils.o >/dev/null 2>&1\n",
            "/bin/bash ../libtool --tag=CXX   --mode=compile g++ -DHAVE_CONFIG_H -I. -I.. -DDIC_VERSION=102   -DMECAB_DEFAULT_RC=\"\\\"/usr/local/etc/mecabrc\\\"\"    -O3 -Wall  -c -o eval.lo eval.cpp\n",
            "libtool: compile:  g++ -DHAVE_CONFIG_H -I. -I.. -DDIC_VERSION=102 -DMECAB_DEFAULT_RC=\\\"/usr/local/etc/mecabrc\\\" -O3 -Wall -c eval.cpp  -fPIC -DPIC -o .libs/eval.o\n",
            "libtool: compile:  g++ -DHAVE_CONFIG_H -I. -I.. -DDIC_VERSION=102 -DMECAB_DEFAULT_RC=\\\"/usr/local/etc/mecabrc\\\" -O3 -Wall -c eval.cpp -o eval.o >/dev/null 2>&1\n",
            "/bin/bash ../libtool --tag=CXX   --mode=compile g++ -DHAVE_CONFIG_H -I. -I.. -DDIC_VERSION=102   -DMECAB_DEFAULT_RC=\"\\\"/usr/local/etc/mecabrc\\\"\"    -O3 -Wall  -c -o iconv_utils.lo iconv_utils.cpp\n",
            "libtool: compile:  g++ -DHAVE_CONFIG_H -I. -I.. -DDIC_VERSION=102 -DMECAB_DEFAULT_RC=\\\"/usr/local/etc/mecabrc\\\" -O3 -Wall -c iconv_utils.cpp  -fPIC -DPIC -o .libs/iconv_utils.o\n",
            "libtool: compile:  g++ -DHAVE_CONFIG_H -I. -I.. -DDIC_VERSION=102 -DMECAB_DEFAULT_RC=\\\"/usr/local/etc/mecabrc\\\" -O3 -Wall -c iconv_utils.cpp -o iconv_utils.o >/dev/null 2>&1\n",
            "/bin/bash ../libtool --tag=CXX   --mode=compile g++ -DHAVE_CONFIG_H -I. -I.. -DDIC_VERSION=102   -DMECAB_DEFAULT_RC=\"\\\"/usr/local/etc/mecabrc\\\"\"    -O3 -Wall  -c -o dictionary_rewriter.lo dictionary_rewriter.cpp\n",
            "libtool: compile:  g++ -DHAVE_CONFIG_H -I. -I.. -DDIC_VERSION=102 -DMECAB_DEFAULT_RC=\\\"/usr/local/etc/mecabrc\\\" -O3 -Wall -c dictionary_rewriter.cpp  -fPIC -DPIC -o .libs/dictionary_rewriter.o\n",
            "libtool: compile:  g++ -DHAVE_CONFIG_H -I. -I.. -DDIC_VERSION=102 -DMECAB_DEFAULT_RC=\\\"/usr/local/etc/mecabrc\\\" -O3 -Wall -c dictionary_rewriter.cpp -o dictionary_rewriter.o >/dev/null 2>&1\n",
            "/bin/bash ../libtool --tag=CXX   --mode=compile g++ -DHAVE_CONFIG_H -I. -I.. -DDIC_VERSION=102   -DMECAB_DEFAULT_RC=\"\\\"/usr/local/etc/mecabrc\\\"\"    -O3 -Wall  -c -o dictionary_generator.lo dictionary_generator.cpp\n",
            "libtool: compile:  g++ -DHAVE_CONFIG_H -I. -I.. -DDIC_VERSION=102 -DMECAB_DEFAULT_RC=\\\"/usr/local/etc/mecabrc\\\" -O3 -Wall -c dictionary_generator.cpp  -fPIC -DPIC -o .libs/dictionary_generator.o\n",
            "libtool: compile:  g++ -DHAVE_CONFIG_H -I. -I.. -DDIC_VERSION=102 -DMECAB_DEFAULT_RC=\\\"/usr/local/etc/mecabrc\\\" -O3 -Wall -c dictionary_generator.cpp -o dictionary_generator.o >/dev/null 2>&1\n",
            "/bin/bash ../libtool --tag=CXX   --mode=compile g++ -DHAVE_CONFIG_H -I. -I.. -DDIC_VERSION=102   -DMECAB_DEFAULT_RC=\"\\\"/usr/local/etc/mecabrc\\\"\"    -O3 -Wall  -c -o dictionary_compiler.lo dictionary_compiler.cpp\n",
            "libtool: compile:  g++ -DHAVE_CONFIG_H -I. -I.. -DDIC_VERSION=102 -DMECAB_DEFAULT_RC=\\\"/usr/local/etc/mecabrc\\\" -O3 -Wall -c dictionary_compiler.cpp  -fPIC -DPIC -o .libs/dictionary_compiler.o\n",
            "libtool: compile:  g++ -DHAVE_CONFIG_H -I. -I.. -DDIC_VERSION=102 -DMECAB_DEFAULT_RC=\\\"/usr/local/etc/mecabrc\\\" -O3 -Wall -c dictionary_compiler.cpp -o dictionary_compiler.o >/dev/null 2>&1\n",
            "/bin/bash ../libtool --tag=CXX   --mode=compile g++ -DHAVE_CONFIG_H -I. -I.. -DDIC_VERSION=102   -DMECAB_DEFAULT_RC=\"\\\"/usr/local/etc/mecabrc\\\"\"    -O3 -Wall  -c -o context_id.lo context_id.cpp\n",
            "libtool: compile:  g++ -DHAVE_CONFIG_H -I. -I.. -DDIC_VERSION=102 -DMECAB_DEFAULT_RC=\\\"/usr/local/etc/mecabrc\\\" -O3 -Wall -c context_id.cpp  -fPIC -DPIC -o .libs/context_id.o\n",
            "libtool: compile:  g++ -DHAVE_CONFIG_H -I. -I.. -DDIC_VERSION=102 -DMECAB_DEFAULT_RC=\\\"/usr/local/etc/mecabrc\\\" -O3 -Wall -c context_id.cpp -o context_id.o >/dev/null 2>&1\n",
            "/bin/bash ../libtool --tag=CXX   --mode=compile g++ -DHAVE_CONFIG_H -I. -I.. -DDIC_VERSION=102   -DMECAB_DEFAULT_RC=\"\\\"/usr/local/etc/mecabrc\\\"\"    -O3 -Wall  -c -o connector.lo connector.cpp\n",
            "libtool: compile:  g++ -DHAVE_CONFIG_H -I. -I.. -DDIC_VERSION=102 -DMECAB_DEFAULT_RC=\\\"/usr/local/etc/mecabrc\\\" -O3 -Wall -c connector.cpp  -fPIC -DPIC -o .libs/connector.o\n",
            "libtool: compile:  g++ -DHAVE_CONFIG_H -I. -I.. -DDIC_VERSION=102 -DMECAB_DEFAULT_RC=\\\"/usr/local/etc/mecabrc\\\" -O3 -Wall -c connector.cpp -o connector.o >/dev/null 2>&1\n",
            "/bin/bash ../libtool --tag=CXX   --mode=compile g++ -DHAVE_CONFIG_H -I. -I.. -DDIC_VERSION=102   -DMECAB_DEFAULT_RC=\"\\\"/usr/local/etc/mecabrc\\\"\"    -O3 -Wall  -c -o nbest_generator.lo nbest_generator.cpp\n",
            "libtool: compile:  g++ -DHAVE_CONFIG_H -I. -I.. -DDIC_VERSION=102 -DMECAB_DEFAULT_RC=\\\"/usr/local/etc/mecabrc\\\" -O3 -Wall -c nbest_generator.cpp  -fPIC -DPIC -o .libs/nbest_generator.o\n",
            "libtool: compile:  g++ -DHAVE_CONFIG_H -I. -I.. -DDIC_VERSION=102 -DMECAB_DEFAULT_RC=\\\"/usr/local/etc/mecabrc\\\" -O3 -Wall -c nbest_generator.cpp -o nbest_generator.o >/dev/null 2>&1\n",
            "/bin/bash ../libtool --tag=CXX   --mode=compile g++ -DHAVE_CONFIG_H -I. -I.. -DDIC_VERSION=102   -DMECAB_DEFAULT_RC=\"\\\"/usr/local/etc/mecabrc\\\"\"    -O3 -Wall  -c -o writer.lo writer.cpp\n",
            "libtool: compile:  g++ -DHAVE_CONFIG_H -I. -I.. -DDIC_VERSION=102 -DMECAB_DEFAULT_RC=\\\"/usr/local/etc/mecabrc\\\" -O3 -Wall -c writer.cpp  -fPIC -DPIC -o .libs/writer.o\n",
            "libtool: compile:  g++ -DHAVE_CONFIG_H -I. -I.. -DDIC_VERSION=102 -DMECAB_DEFAULT_RC=\\\"/usr/local/etc/mecabrc\\\" -O3 -Wall -c writer.cpp -o writer.o >/dev/null 2>&1\n",
            "/bin/bash ../libtool --tag=CXX   --mode=compile g++ -DHAVE_CONFIG_H -I. -I.. -DDIC_VERSION=102   -DMECAB_DEFAULT_RC=\"\\\"/usr/local/etc/mecabrc\\\"\"    -O3 -Wall  -c -o string_buffer.lo string_buffer.cpp\n",
            "libtool: compile:  g++ -DHAVE_CONFIG_H -I. -I.. -DDIC_VERSION=102 -DMECAB_DEFAULT_RC=\\\"/usr/local/etc/mecabrc\\\" -O3 -Wall -c string_buffer.cpp  -fPIC -DPIC -o .libs/string_buffer.o\n",
            "libtool: compile:  g++ -DHAVE_CONFIG_H -I. -I.. -DDIC_VERSION=102 -DMECAB_DEFAULT_RC=\\\"/usr/local/etc/mecabrc\\\" -O3 -Wall -c string_buffer.cpp -o string_buffer.o >/dev/null 2>&1\n",
            "/bin/bash ../libtool --tag=CXX   --mode=compile g++ -DHAVE_CONFIG_H -I. -I.. -DDIC_VERSION=102   -DMECAB_DEFAULT_RC=\"\\\"/usr/local/etc/mecabrc\\\"\"    -O3 -Wall  -c -o param.lo param.cpp\n",
            "libtool: compile:  g++ -DHAVE_CONFIG_H -I. -I.. -DDIC_VERSION=102 -DMECAB_DEFAULT_RC=\\\"/usr/local/etc/mecabrc\\\" -O3 -Wall -c param.cpp  -fPIC -DPIC -o .libs/param.o\n",
            "libtool: compile:  g++ -DHAVE_CONFIG_H -I. -I.. -DDIC_VERSION=102 -DMECAB_DEFAULT_RC=\\\"/usr/local/etc/mecabrc\\\" -O3 -Wall -c param.cpp -o param.o >/dev/null 2>&1\n",
            "/bin/bash ../libtool --tag=CXX   --mode=compile g++ -DHAVE_CONFIG_H -I. -I.. -DDIC_VERSION=102   -DMECAB_DEFAULT_RC=\"\\\"/usr/local/etc/mecabrc\\\"\"    -O3 -Wall  -c -o tokenizer.lo tokenizer.cpp\n",
            "libtool: compile:  g++ -DHAVE_CONFIG_H -I. -I.. -DDIC_VERSION=102 -DMECAB_DEFAULT_RC=\\\"/usr/local/etc/mecabrc\\\" -O3 -Wall -c tokenizer.cpp  -fPIC -DPIC -o .libs/tokenizer.o\n",
            "libtool: compile:  g++ -DHAVE_CONFIG_H -I. -I.. -DDIC_VERSION=102 -DMECAB_DEFAULT_RC=\\\"/usr/local/etc/mecabrc\\\" -O3 -Wall -c tokenizer.cpp -o tokenizer.o >/dev/null 2>&1\n",
            "/bin/bash ../libtool --tag=CXX   --mode=compile g++ -DHAVE_CONFIG_H -I. -I.. -DDIC_VERSION=102   -DMECAB_DEFAULT_RC=\"\\\"/usr/local/etc/mecabrc\\\"\"    -O3 -Wall  -c -o char_property.lo char_property.cpp\n",
            "libtool: compile:  g++ -DHAVE_CONFIG_H -I. -I.. -DDIC_VERSION=102 -DMECAB_DEFAULT_RC=\\\"/usr/local/etc/mecabrc\\\" -O3 -Wall -c char_property.cpp  -fPIC -DPIC -o .libs/char_property.o\n",
            "libtool: compile:  g++ -DHAVE_CONFIG_H -I. -I.. -DDIC_VERSION=102 -DMECAB_DEFAULT_RC=\\\"/usr/local/etc/mecabrc\\\" -O3 -Wall -c char_property.cpp -o char_property.o >/dev/null 2>&1\n",
            "/bin/bash ../libtool --tag=CXX   --mode=compile g++ -DHAVE_CONFIG_H -I. -I.. -DDIC_VERSION=102   -DMECAB_DEFAULT_RC=\"\\\"/usr/local/etc/mecabrc\\\"\"    -O3 -Wall  -c -o dictionary.lo dictionary.cpp\n",
            "libtool: compile:  g++ -DHAVE_CONFIG_H -I. -I.. -DDIC_VERSION=102 -DMECAB_DEFAULT_RC=\\\"/usr/local/etc/mecabrc\\\" -O3 -Wall -c dictionary.cpp  -fPIC -DPIC -o .libs/dictionary.o\n",
            "libtool: compile:  g++ -DHAVE_CONFIG_H -I. -I.. -DDIC_VERSION=102 -DMECAB_DEFAULT_RC=\\\"/usr/local/etc/mecabrc\\\" -O3 -Wall -c dictionary.cpp -o dictionary.o >/dev/null 2>&1\n",
            "/bin/bash ../libtool --tag=CXX   --mode=compile g++ -DHAVE_CONFIG_H -I. -I.. -DDIC_VERSION=102   -DMECAB_DEFAULT_RC=\"\\\"/usr/local/etc/mecabrc\\\"\"    -O3 -Wall  -c -o feature_index.lo feature_index.cpp\n",
            "libtool: compile:  g++ -DHAVE_CONFIG_H -I. -I.. -DDIC_VERSION=102 -DMECAB_DEFAULT_RC=\\\"/usr/local/etc/mecabrc\\\" -O3 -Wall -c feature_index.cpp  -fPIC -DPIC -o .libs/feature_index.o\n",
            "libtool: compile:  g++ -DHAVE_CONFIG_H -I. -I.. -DDIC_VERSION=102 -DMECAB_DEFAULT_RC=\\\"/usr/local/etc/mecabrc\\\" -O3 -Wall -c feature_index.cpp -o feature_index.o >/dev/null 2>&1\n",
            "/bin/bash ../libtool --tag=CXX   --mode=compile g++ -DHAVE_CONFIG_H -I. -I.. -DDIC_VERSION=102   -DMECAB_DEFAULT_RC=\"\\\"/usr/local/etc/mecabrc\\\"\"    -O3 -Wall  -c -o lbfgs.lo lbfgs.cpp\n",
            "libtool: compile:  g++ -DHAVE_CONFIG_H -I. -I.. -DDIC_VERSION=102 -DMECAB_DEFAULT_RC=\\\"/usr/local/etc/mecabrc\\\" -O3 -Wall -c lbfgs.cpp  -fPIC -DPIC -o .libs/lbfgs.o\n",
            "libtool: compile:  g++ -DHAVE_CONFIG_H -I. -I.. -DDIC_VERSION=102 -DMECAB_DEFAULT_RC=\\\"/usr/local/etc/mecabrc\\\" -O3 -Wall -c lbfgs.cpp -o lbfgs.o >/dev/null 2>&1\n",
            "/bin/bash ../libtool --tag=CXX   --mode=compile g++ -DHAVE_CONFIG_H -I. -I.. -DDIC_VERSION=102   -DMECAB_DEFAULT_RC=\"\\\"/usr/local/etc/mecabrc\\\"\"    -O3 -Wall  -c -o learner_tagger.lo learner_tagger.cpp\n",
            "libtool: compile:  g++ -DHAVE_CONFIG_H -I. -I.. -DDIC_VERSION=102 -DMECAB_DEFAULT_RC=\\\"/usr/local/etc/mecabrc\\\" -O3 -Wall -c learner_tagger.cpp  -fPIC -DPIC -o .libs/learner_tagger.o\n",
            "libtool: compile:  g++ -DHAVE_CONFIG_H -I. -I.. -DDIC_VERSION=102 -DMECAB_DEFAULT_RC=\\\"/usr/local/etc/mecabrc\\\" -O3 -Wall -c learner_tagger.cpp -o learner_tagger.o >/dev/null 2>&1\n",
            "/bin/bash ../libtool --tag=CXX   --mode=compile g++ -DHAVE_CONFIG_H -I. -I.. -DDIC_VERSION=102   -DMECAB_DEFAULT_RC=\"\\\"/usr/local/etc/mecabrc\\\"\"    -O3 -Wall  -c -o learner.lo learner.cpp\n",
            "libtool: compile:  g++ -DHAVE_CONFIG_H -I. -I.. -DDIC_VERSION=102 -DMECAB_DEFAULT_RC=\\\"/usr/local/etc/mecabrc\\\" -O3 -Wall -c learner.cpp  -fPIC -DPIC -o .libs/learner.o\n",
            "libtool: compile:  g++ -DHAVE_CONFIG_H -I. -I.. -DDIC_VERSION=102 -DMECAB_DEFAULT_RC=\\\"/usr/local/etc/mecabrc\\\" -O3 -Wall -c learner.cpp -o learner.o >/dev/null 2>&1\n",
            "/bin/bash ../libtool --tag=CXX   --mode=compile g++ -DHAVE_CONFIG_H -I. -I.. -DDIC_VERSION=102   -DMECAB_DEFAULT_RC=\"\\\"/usr/local/etc/mecabrc\\\"\"    -O3 -Wall  -c -o libmecab.lo libmecab.cpp\n",
            "libtool: compile:  g++ -DHAVE_CONFIG_H -I. -I.. -DDIC_VERSION=102 -DMECAB_DEFAULT_RC=\\\"/usr/local/etc/mecabrc\\\" -O3 -Wall -c libmecab.cpp  -fPIC -DPIC -o .libs/libmecab.o\n",
            "libtool: compile:  g++ -DHAVE_CONFIG_H -I. -I.. -DDIC_VERSION=102 -DMECAB_DEFAULT_RC=\\\"/usr/local/etc/mecabrc\\\" -O3 -Wall -c libmecab.cpp -o libmecab.o >/dev/null 2>&1\n",
            "/bin/bash ../libtool --tag=CXX   --mode=link g++  -O3 -Wall  -no-undefined -version-info 2:0:0  -o libmecab.la -rpath /usr/local/lib viterbi.lo tagger.lo utils.lo eval.lo iconv_utils.lo dictionary_rewriter.lo dictionary_generator.lo dictionary_compiler.lo context_id.lo connector.lo nbest_generator.lo writer.lo string_buffer.lo param.lo tokenizer.lo char_property.lo dictionary.lo feature_index.lo lbfgs.lo learner_tagger.lo learner.lo libmecab.lo  -lpthread -lpthread  -lstdc++ \n",
            "libtool: link: g++  -fPIC -DPIC -shared -nostdlib /usr/lib/gcc/x86_64-linux-gnu/7/../../../x86_64-linux-gnu/crti.o /usr/lib/gcc/x86_64-linux-gnu/7/crtbeginS.o  .libs/viterbi.o .libs/tagger.o .libs/utils.o .libs/eval.o .libs/iconv_utils.o .libs/dictionary_rewriter.o .libs/dictionary_generator.o .libs/dictionary_compiler.o .libs/context_id.o .libs/connector.o .libs/nbest_generator.o .libs/writer.o .libs/string_buffer.o .libs/param.o .libs/tokenizer.o .libs/char_property.o .libs/dictionary.o .libs/feature_index.o .libs/lbfgs.o .libs/learner_tagger.o .libs/learner.o .libs/libmecab.o   -lpthread -L/usr/lib/gcc/x86_64-linux-gnu/7 -L/usr/lib/gcc/x86_64-linux-gnu/7/../../../x86_64-linux-gnu -L/usr/lib/gcc/x86_64-linux-gnu/7/../../../../lib -L/lib/x86_64-linux-gnu -L/lib/../lib -L/usr/lib/x86_64-linux-gnu -L/usr/lib/../lib -L/usr/local/cuda/lib64/stubs -L/usr/lib/gcc/x86_64-linux-gnu/7/../../.. -lstdc++ -lm -lc -lgcc_s /usr/lib/gcc/x86_64-linux-gnu/7/crtendS.o /usr/lib/gcc/x86_64-linux-gnu/7/../../../x86_64-linux-gnu/crtn.o  -O3   -Wl,-soname -Wl,libmecab.so.2 -o .libs/libmecab.so.2.0.0\n",
            "libtool: link: (cd \".libs\" && rm -f \"libmecab.so.2\" && ln -s \"libmecab.so.2.0.0\" \"libmecab.so.2\")\n",
            "libtool: link: (cd \".libs\" && rm -f \"libmecab.so\" && ln -s \"libmecab.so.2.0.0\" \"libmecab.so\")\n",
            "libtool: link: ar cru .libs/libmecab.a  viterbi.o tagger.o utils.o eval.o iconv_utils.o dictionary_rewriter.o dictionary_generator.o dictionary_compiler.o context_id.o connector.o nbest_generator.o writer.o string_buffer.o param.o tokenizer.o char_property.o dictionary.o feature_index.o lbfgs.o learner_tagger.o learner.o libmecab.o\n",
            "libtool: link: ranlib .libs/libmecab.a\n",
            "libtool: link: ( cd \".libs\" && rm -f \"libmecab.la\" && ln -s \"../libmecab.la\" \"libmecab.la\" )\n",
            "g++ -DHAVE_CONFIG_H -I. -I.. -DDIC_VERSION=102   -DMECAB_DEFAULT_RC=\"\\\"/usr/local/etc/mecabrc\\\"\"    -O3 -Wall  -c -o mecab.o mecab.cpp\n",
            "/bin/bash ../libtool --tag=CXX   --mode=link g++  -O3 -Wall    -o mecab mecab.o libmecab.la -lpthread -lpthread  -lstdc++ \n",
            "libtool: link: g++ -O3 -Wall -o .libs/mecab mecab.o  ./.libs/libmecab.so -lpthread -lstdc++\n",
            "g++ -DHAVE_CONFIG_H -I. -I.. -DDIC_VERSION=102   -DMECAB_DEFAULT_RC=\"\\\"/usr/local/etc/mecabrc\\\"\"    -O3 -Wall  -c -o mecab-dict-index.o mecab-dict-index.cpp\n",
            "/bin/bash ../libtool --tag=CXX   --mode=link g++  -O3 -Wall    -o mecab-dict-index mecab-dict-index.o libmecab.la -lpthread -lpthread  -lstdc++ \n",
            "libtool: link: g++ -O3 -Wall -o .libs/mecab-dict-index mecab-dict-index.o  ./.libs/libmecab.so -lpthread -lstdc++\n",
            "g++ -DHAVE_CONFIG_H -I. -I.. -DDIC_VERSION=102   -DMECAB_DEFAULT_RC=\"\\\"/usr/local/etc/mecabrc\\\"\"    -O3 -Wall  -c -o mecab-dict-gen.o mecab-dict-gen.cpp\n",
            "/bin/bash ../libtool --tag=CXX   --mode=link g++  -O3 -Wall    -o mecab-dict-gen mecab-dict-gen.o libmecab.la -lpthread -lpthread  -lstdc++ \n",
            "libtool: link: g++ -O3 -Wall -o .libs/mecab-dict-gen mecab-dict-gen.o  ./.libs/libmecab.so -lpthread -lstdc++\n",
            "g++ -DHAVE_CONFIG_H -I. -I.. -DDIC_VERSION=102   -DMECAB_DEFAULT_RC=\"\\\"/usr/local/etc/mecabrc\\\"\"    -O3 -Wall  -c -o mecab-cost-train.o mecab-cost-train.cpp\n",
            "/bin/bash ../libtool --tag=CXX   --mode=link g++  -O3 -Wall    -o mecab-cost-train mecab-cost-train.o libmecab.la -lpthread -lpthread  -lstdc++ \n",
            "libtool: link: g++ -O3 -Wall -o .libs/mecab-cost-train mecab-cost-train.o  ./.libs/libmecab.so -lpthread -lstdc++\n",
            "g++ -DHAVE_CONFIG_H -I. -I.. -DDIC_VERSION=102   -DMECAB_DEFAULT_RC=\"\\\"/usr/local/etc/mecabrc\\\"\"    -O3 -Wall  -c -o mecab-system-eval.o mecab-system-eval.cpp\n",
            "/bin/bash ../libtool --tag=CXX   --mode=link g++  -O3 -Wall    -o mecab-system-eval mecab-system-eval.o libmecab.la -lpthread -lpthread  -lstdc++ \n",
            "libtool: link: g++ -O3 -Wall -o .libs/mecab-system-eval mecab-system-eval.o  ./.libs/libmecab.so -lpthread -lstdc++\n",
            "g++ -DHAVE_CONFIG_H -I. -I.. -DDIC_VERSION=102   -DMECAB_DEFAULT_RC=\"\\\"/usr/local/etc/mecabrc\\\"\"    -O3 -Wall  -c -o mecab-test-gen.o mecab-test-gen.cpp\n",
            "/bin/bash ../libtool --tag=CXX   --mode=link g++  -O3 -Wall    -o mecab-test-gen mecab-test-gen.o libmecab.la -lpthread -lpthread  -lstdc++ \n",
            "libtool: link: g++ -O3 -Wall -o .libs/mecab-test-gen mecab-test-gen.o  ./.libs/libmecab.so -lpthread -lstdc++\n",
            "make[2]: Leaving directory '/tmp/mecab-0.996-ko-0.9.2/src'\n",
            "Making all in man\n",
            "make[2]: Entering directory '/tmp/mecab-0.996-ko-0.9.2/man'\n",
            "make[2]: Nothing to be done for 'all'.\n",
            "make[2]: Leaving directory '/tmp/mecab-0.996-ko-0.9.2/man'\n",
            "Making all in doc\n",
            "make[2]: Entering directory '/tmp/mecab-0.996-ko-0.9.2/doc'\n",
            "make[2]: Nothing to be done for 'all'.\n",
            "make[2]: Leaving directory '/tmp/mecab-0.996-ko-0.9.2/doc'\n",
            "Making all in tests\n",
            "make[2]: Entering directory '/tmp/mecab-0.996-ko-0.9.2/tests'\n",
            "make[2]: Nothing to be done for 'all'.\n",
            "make[2]: Leaving directory '/tmp/mecab-0.996-ko-0.9.2/tests'\n",
            "make[2]: Entering directory '/tmp/mecab-0.996-ko-0.9.2'\n",
            "make[2]: Leaving directory '/tmp/mecab-0.996-ko-0.9.2'\n",
            "make[1]: Leaving directory '/tmp/mecab-0.996-ko-0.9.2'\n",
            "Making check in src\n",
            "make[1]: Entering directory '/tmp/mecab-0.996-ko-0.9.2/src'\n",
            "make[1]: Nothing to be done for 'check'.\n",
            "make[1]: Leaving directory '/tmp/mecab-0.996-ko-0.9.2/src'\n",
            "Making check in man\n",
            "make[1]: Entering directory '/tmp/mecab-0.996-ko-0.9.2/man'\n",
            "make[1]: Nothing to be done for 'check'.\n",
            "make[1]: Leaving directory '/tmp/mecab-0.996-ko-0.9.2/man'\n",
            "Making check in doc\n",
            "make[1]: Entering directory '/tmp/mecab-0.996-ko-0.9.2/doc'\n",
            "make[1]: Nothing to be done for 'check'.\n",
            "make[1]: Leaving directory '/tmp/mecab-0.996-ko-0.9.2/doc'\n",
            "Making check in tests\n",
            "make[1]: Entering directory '/tmp/mecab-0.996-ko-0.9.2/tests'\n",
            "make  check-TESTS\n",
            "make[2]: Entering directory '/tmp/mecab-0.996-ko-0.9.2/tests'\n",
            "reading ./unk.def ... 2\n",
            "emitting double-array:  50% |#####################                      | \remitting double-array: 100% |###########################################| \n",
            "./model.def is not found. skipped.\n",
            "reading ./dic.csv ... 177\n",
            "emitting double-array:   1% |                                           | \remitting double-array:   3% |#                                          | \remitting double-array:   5% |##                                         | \remitting double-array:   7% |###                                        | \remitting double-array:   9% |###                                        | \remitting double-array:  11% |####                                       | \remitting double-array:  12% |#####                                      | \remitting double-array:  14% |######                                     | \remitting double-array:  16% |#######                                    | \remitting double-array:  18% |#######                                    | \remitting double-array:  20% |########                                   | \remitting double-array:  22% |#########                                  | \remitting double-array:  24% |##########                                 | \remitting double-array:  25% |###########                                | \remitting double-array:  27% |###########                                | \remitting double-array:  29% |############                               | \remitting double-array:  31% |#############                              | \remitting double-array:  33% |##############                             | \remitting double-array:  35% |###############                            | \remitting double-array:  37% |###############                            | \remitting double-array:  38% |################                           | \remitting double-array:  40% |#################                          | \remitting double-array:  42% |##################                         | \remitting double-array:  44% |###################                        | \remitting double-array:  46% |###################                        | \remitting double-array:  48% |####################                       | \remitting double-array:  50% |#####################                      | \remitting double-array:  51% |######################                     | \remitting double-array:  53% |#######################                    | \remitting double-array:  55% |#######################                    | \remitting double-array:  57% |########################                   | \remitting double-array:  59% |#########################                  | \remitting double-array:  61% |##########################                 | \remitting double-array:  62% |###########################                | \remitting double-array:  64% |###########################                | \remitting double-array:  66% |############################               | \remitting double-array:  68% |#############################              | \remitting double-array:  70% |##############################             | \remitting double-array:  72% |###############################            | \remitting double-array:  74% |###############################            | \remitting double-array:  75% |################################           | \remitting double-array:  77% |#################################          | \remitting double-array:  79% |##################################         | \remitting double-array:  81% |###################################        | \remitting double-array:  83% |###################################        | \remitting double-array:  85% |####################################       | \remitting double-array:  87% |#####################################      | \remitting double-array:  88% |######################################     | \remitting double-array:  90% |#######################################    | \remitting double-array:  92% |#######################################    | \remitting double-array:  94% |########################################   | \remitting double-array:  96% |#########################################  | \remitting double-array:  98% |########################################## | \remitting double-array: 100% |###########################################| \n",
            "reading ./matrix.def ... 178x178\n",
            "emitting matrix      :   0% |                                           | \remitting matrix      :   1% |                                           | \remitting matrix      :   2% |                                           | \remitting matrix      :   3% |#                                          | \remitting matrix      :   4% |#                                          | \remitting matrix      :   5% |##                                         | \remitting matrix      :   6% |##                                         | \remitting matrix      :   7% |###                                        | \remitting matrix      :   8% |###                                        | \remitting matrix      :   9% |####                                       | \remitting matrix      :  10% |####                                       | \remitting matrix      :  11% |####                                       | \remitting matrix      :  12% |#####                                      | \remitting matrix      :  13% |#####                                      | \remitting matrix      :  14% |######                                     | \remitting matrix      :  15% |######                                     | \remitting matrix      :  16% |#######                                    | \remitting matrix      :  17% |#######                                    | \remitting matrix      :  18% |#######                                    | \remitting matrix      :  19% |########                                   | \remitting matrix      :  20% |########                                   | \remitting matrix      :  21% |#########                                  | \remitting matrix      :  22% |#########                                  | \remitting matrix      :  23% |#########                                  | \remitting matrix      :  24% |##########                                 | \remitting matrix      :  25% |##########                                 | \remitting matrix      :  26% |###########                                | \remitting matrix      :  27% |###########                                | \remitting matrix      :  28% |############                               | \remitting matrix      :  29% |############                               | \remitting matrix      :  30% |#############                              | \remitting matrix      :  31% |#############                              | \remitting matrix      :  32% |#############                              | \remitting matrix      :  33% |##############                             | \remitting matrix      :  34% |##############                             | \remitting matrix      :  35% |###############                            | \remitting matrix      :  36% |###############                            | \remitting matrix      :  37% |###############                            | \remitting matrix      :  38% |################                           | \remitting matrix      :  39% |################                           | \remitting matrix      :  40% |#################                          | \remitting matrix      :  41% |#################                          | \remitting matrix      :  42% |##################                         | \remitting matrix      :  43% |##################                         | \remitting matrix      :  44% |###################                        | \remitting matrix      :  45% |###################                        | \remitting matrix      :  46% |###################                        | \remitting matrix      :  47% |####################                       | \remitting matrix      :  48% |####################                       | \remitting matrix      :  49% |#####################                      | \remitting matrix      :  50% |#####################                      | \remitting matrix      :  51% |#####################                      | \remitting matrix      :  52% |######################                     | \remitting matrix      :  53% |######################                     | \remitting matrix      :  54% |#######################                    | \remitting matrix      :  55% |#######################                    | \remitting matrix      :  56% |########################                   | \remitting matrix      :  57% |########################                   | \remitting matrix      :  58% |#########################                  | \remitting matrix      :  59% |#########################                  | \remitting matrix      :  60% |#########################                  | \remitting matrix      :  61% |##########################                 | \remitting matrix      :  62% |##########################                 | \remitting matrix      :  63% |###########################                | \remitting matrix      :  64% |###########################                | \remitting matrix      :  65% |############################               | \remitting matrix      :  66% |############################               | \remitting matrix      :  67% |############################               | \remitting matrix      :  68% |#############################              | \remitting matrix      :  69% |#############################              | \remitting matrix      :  70% |##############################             | \remitting matrix      :  71% |##############################             | \remitting matrix      :  72% |###############################            | \remitting matrix      :  73% |###############################            | \remitting matrix      :  74% |###############################            | \remitting matrix      :  75% |################################           | \remitting matrix      :  76% |################################           | \remitting matrix      :  77% |#################################          | \remitting matrix      :  78% |#################################          | \remitting matrix      :  79% |##################################         | \remitting matrix      :  80% |##################################         | \remitting matrix      :  81% |###################################        | \remitting matrix      :  82% |###################################        | \remitting matrix      :  83% |###################################        | \remitting matrix      :  84% |####################################       | \remitting matrix      :  85% |####################################       | \remitting matrix      :  86% |#####################################      | \remitting matrix      :  87% |#####################################      | \remitting matrix      :  88% |#####################################      | \remitting matrix      :  89% |######################################     | \remitting matrix      :  90% |######################################     | \remitting matrix      :  91% |#######################################    | \remitting matrix      :  92% |#######################################    | \remitting matrix      :  93% |########################################   | \remitting matrix      :  94% |########################################   | \remitting matrix      :  95% |#########################################  | \remitting matrix      :  96% |#########################################  | \remitting matrix      :  97% |#########################################  | \remitting matrix      :  98% |########################################## | \remitting matrix      :  99% |########################################## | \remitting matrix      : 100% |###########################################| \n",
            "\n",
            "done!\n",
            "reading ./unk.def ... 2\n",
            "emitting double-array:  50% |#####################                      | \remitting double-array: 100% |###########################################| \n",
            "./model.def is not found. skipped.\n",
            "reading ./dic.csv ... 83\n",
            "emitting double-array:  10% |####                                       | \remitting double-array:  20% |########                                   | \remitting double-array:  30% |############                               | \remitting double-array:  40% |#################                          | \remitting double-array:  50% |#####################                      | \remitting double-array:  60% |#########################                  | \remitting double-array:  70% |##############################             | \remitting double-array:  80% |##################################         | \remitting double-array:  90% |######################################     | \remitting double-array: 100% |###########################################| \n",
            "reading ./matrix.def ... 84x84\n",
            "emitting matrix      :   1% |                                           | \remitting matrix      :   2% |#                                          | \remitting matrix      :   3% |#                                          | \remitting matrix      :   4% |##                                         | \remitting matrix      :   5% |##                                         | \remitting matrix      :   7% |###                                        | \remitting matrix      :   8% |###                                        | \remitting matrix      :   9% |####                                       | \remitting matrix      :  10% |####                                       | \remitting matrix      :  11% |#####                                      | \remitting matrix      :  13% |#####                                      | \remitting matrix      :  14% |######                                     | \remitting matrix      :  15% |######                                     | \remitting matrix      :  16% |#######                                    | \remitting matrix      :  17% |#######                                    | \remitting matrix      :  19% |########                                   | \remitting matrix      :  20% |########                                   | \remitting matrix      :  21% |#########                                  | \remitting matrix      :  22% |#########                                  | \remitting matrix      :  23% |##########                                 | \remitting matrix      :  25% |##########                                 | \remitting matrix      :  26% |###########                                | \remitting matrix      :  27% |###########                                | \remitting matrix      :  28% |############                               | \remitting matrix      :  29% |############                               | \remitting matrix      :  30% |#############                              | \remitting matrix      :  32% |#############                              | \remitting matrix      :  33% |##############                             | \remitting matrix      :  34% |##############                             | \remitting matrix      :  35% |###############                            | \remitting matrix      :  36% |###############                            | \remitting matrix      :  38% |################                           | \remitting matrix      :  39% |################                           | \remitting matrix      :  40% |#################                          | \remitting matrix      :  41% |#################                          | \remitting matrix      :  42% |##################                         | \remitting matrix      :  44% |##################                         | \remitting matrix      :  45% |###################                        | \remitting matrix      :  46% |###################                        | \remitting matrix      :  47% |####################                       | \remitting matrix      :  48% |####################                       | \remitting matrix      :  50% |#####################                      | \remitting matrix      :  51% |######################                     | \remitting matrix      :  52% |######################                     | \remitting matrix      :  53% |#######################                    | \remitting matrix      :  54% |#######################                    | \remitting matrix      :  55% |########################                   | \remitting matrix      :  57% |########################                   | \remitting matrix      :  58% |#########################                  | \remitting matrix      :  59% |#########################                  | \remitting matrix      :  60% |##########################                 | \remitting matrix      :  61% |##########################                 | \remitting matrix      :  63% |###########################                | \remitting matrix      :  64% |###########################                | \remitting matrix      :  65% |############################               | \remitting matrix      :  66% |############################               | \remitting matrix      :  67% |#############################              | \remitting matrix      :  69% |#############################              | \remitting matrix      :  70% |##############################             | \remitting matrix      :  71% |##############################             | \remitting matrix      :  72% |###############################            | \remitting matrix      :  73% |###############################            | \remitting matrix      :  75% |################################           | \remitting matrix      :  76% |################################           | \remitting matrix      :  77% |#################################          | \remitting matrix      :  78% |#################################          | \remitting matrix      :  79% |##################################         | \remitting matrix      :  80% |##################################         | \remitting matrix      :  82% |###################################        | \remitting matrix      :  83% |###################################        | \remitting matrix      :  84% |####################################       | \remitting matrix      :  85% |####################################       | \remitting matrix      :  86% |#####################################      | \remitting matrix      :  88% |#####################################      | \remitting matrix      :  89% |######################################     | \remitting matrix      :  90% |######################################     | \remitting matrix      :  91% |#######################################    | \remitting matrix      :  92% |#######################################    | \remitting matrix      :  94% |########################################   | \remitting matrix      :  95% |########################################   | \remitting matrix      :  96% |#########################################  | \remitting matrix      :  97% |#########################################  | \remitting matrix      :  98% |########################################## | \remitting matrix      : 100% |###########################################| \n",
            "\n",
            "done!\n",
            "reading ./unk.def ... 2\n",
            "emitting double-array:  50% |#####################                      | \remitting double-array: 100% |###########################################| \n",
            "./model.def is not found. skipped.\n",
            "reading ./dic.csv ... 450\n",
            "emitting double-array:   0% |                                           | \remitting double-array:   1% |                                           | \remitting double-array:   2% |                                           | \remitting double-array:   3% |#                                          | \remitting double-array:   4% |#                                          | \remitting double-array:   5% |##                                         | \remitting double-array:   6% |##                                         | \remitting double-array:   7% |###                                        | \remitting double-array:   8% |###                                        | \remitting double-array:   9% |###                                        | \remitting double-array:  10% |####                                       | \remitting double-array:  11% |####                                       | \remitting double-array:  12% |#####                                      | \remitting double-array:  13% |#####                                      | \remitting double-array:  14% |######                                     | \remitting double-array:  15% |######                                     | \remitting double-array:  16% |######                                     | \remitting double-array:  17% |#######                                    | \remitting double-array:  18% |#######                                    | \remitting double-array:  19% |########                                   | \remitting double-array:  20% |########                                   | \remitting double-array:  21% |#########                                  | \remitting double-array:  22% |#########                                  | \remitting double-array:  23% |#########                                  | \remitting double-array:  24% |##########                                 | \remitting double-array:  25% |##########                                 | \remitting double-array:  26% |###########                                | \remitting double-array:  27% |###########                                | \remitting double-array:  28% |############                               | \remitting double-array:  29% |############                               | \remitting double-array:  30% |############                               | \remitting double-array:  31% |#############                              | \remitting double-array:  32% |#############                              | \remitting double-array:  33% |##############                             | \remitting double-array:  34% |##############                             | \remitting double-array:  35% |###############                            | \remitting double-array:  36% |###############                            | \remitting double-array:  37% |###############                            | \remitting double-array:  38% |################                           | \remitting double-array:  39% |################                           | \remitting double-array:  40% |#################                          | \remitting double-array:  41% |#################                          | \remitting double-array:  42% |##################                         | \remitting double-array:  43% |##################                         | \remitting double-array:  44% |##################                         | \remitting double-array:  45% |###################                        | \remitting double-array:  46% |###################                        | \remitting double-array:  47% |####################                       | \remitting double-array:  48% |####################                       | \remitting double-array:  49% |#####################                      | \remitting double-array:  50% |#####################                      | \remitting double-array:  51% |#####################                      | \remitting double-array:  52% |######################                     | \remitting double-array:  53% |######################                     | \remitting double-array:  54% |#######################                    | \remitting double-array:  55% |#######################                    | \remitting double-array:  56% |########################                   | \remitting double-array:  57% |########################                   | \remitting double-array:  58% |#########################                  | \remitting double-array:  59% |#########################                  | \remitting double-array:  60% |#########################                  | \remitting double-array:  61% |##########################                 | \remitting double-array:  62% |##########################                 | \remitting double-array:  63% |###########################                | \remitting double-array:  64% |###########################                | \remitting double-array:  65% |###########################                | \remitting double-array:  66% |############################               | \remitting double-array:  67% |############################               | \remitting double-array:  68% |#############################              | \remitting double-array:  69% |#############################              | \remitting double-array:  70% |##############################             | \remitting double-array:  71% |##############################             | \remitting double-array:  72% |##############################             | \remitting double-array:  73% |###############################            | \remitting double-array:  74% |###############################            | \remitting double-array:  75% |################################           | \remitting double-array:  76% |################################           | \remitting double-array:  77% |#################################          | \remitting double-array:  78% |#################################          | \remitting double-array:  79% |##################################         | \remitting double-array:  80% |##################################         | \remitting double-array:  81% |##################################         | \remitting double-array:  82% |###################################        | \remitting double-array:  83% |###################################        | \remitting double-array:  84% |####################################       | \remitting double-array:  85% |####################################       | \remitting double-array:  86% |#####################################      | \remitting double-array:  87% |#####################################      | \remitting double-array:  88% |#####################################      | \remitting double-array:  89% |######################################     | \remitting double-array:  90% |######################################     | \remitting double-array:  91% |#######################################    | \remitting double-array:  92% |#######################################    | \remitting double-array:  93% |########################################   | \remitting double-array:  94% |########################################   | \remitting double-array:  95% |########################################   | \remitting double-array:  96% |#########################################  | \remitting double-array:  97% |#########################################  | \remitting double-array:  98% |########################################## | \remitting double-array:  99% |########################################## | \remitting double-array: 100% |###########################################| \n",
            "reading ./matrix.def ... 1x1\n",
            "\n",
            "done!\n",
            "reading ./unk.def ... 2\n",
            "emitting double-array:  50% |#####################                      | \remitting double-array: 100% |###########################################| \n",
            "./model.def is not found. skipped.\n",
            "reading ./dic.csv ... 162\n",
            "emitting double-array:   1% |                                           | \remitting double-array:   2% |#                                          | \remitting double-array:   3% |#                                          | \remitting double-array:   4% |##                                         | \remitting double-array:   6% |##                                         | \remitting double-array:   7% |###                                        | \remitting double-array:   8% |###                                        | \remitting double-array:   9% |####                                       | \remitting double-array:  11% |####                                       | \remitting double-array:  12% |#####                                      | \remitting double-array:  13% |#####                                      | \remitting double-array:  14% |######                                     | \remitting double-array:  16% |######                                     | \remitting double-array:  17% |#######                                    | \remitting double-array:  18% |#######                                    | \remitting double-array:  19% |########                                   | \remitting double-array:  20% |#########                                  | \remitting double-array:  22% |#########                                  | \remitting double-array:  23% |##########                                 | \remitting double-array:  24% |##########                                 | \remitting double-array:  25% |###########                                | \remitting double-array:  27% |###########                                | \remitting double-array:  28% |############                               | \remitting double-array:  29% |############                               | \remitting double-array:  30% |#############                              | \remitting double-array:  32% |#############                              | \remitting double-array:  33% |##############                             | \remitting double-array:  34% |##############                             | \remitting double-array:  35% |###############                            | \remitting double-array:  37% |###############                            | \remitting double-array:  38% |################                           | \remitting double-array:  39% |################                           | \remitting double-array:  40% |#################                          | \remitting double-array:  41% |##################                         | \remitting double-array:  43% |##################                         | \remitting double-array:  44% |###################                        | \remitting double-array:  45% |###################                        | \remitting double-array:  46% |####################                       | \remitting double-array:  48% |####################                       | \remitting double-array:  49% |#####################                      | \remitting double-array:  50% |#####################                      | \remitting double-array:  51% |######################                     | \remitting double-array:  53% |######################                     | \remitting double-array:  54% |#######################                    | \remitting double-array:  55% |#######################                    | \remitting double-array:  56% |########################                   | \remitting double-array:  58% |########################                   | \remitting double-array:  59% |#########################                  | \remitting double-array:  60% |##########################                 | \remitting double-array:  61% |##########################                 | \remitting double-array:  62% |###########################                | \remitting double-array:  64% |###########################                | \remitting double-array:  65% |############################               | \remitting double-array:  66% |############################               | \remitting double-array:  67% |#############################              | \remitting double-array:  69% |#############################              | \remitting double-array:  70% |##############################             | \remitting double-array:  71% |##############################             | \remitting double-array:  72% |###############################            | \remitting double-array:  74% |###############################            | \remitting double-array:  75% |################################           | \remitting double-array:  76% |################################           | \remitting double-array:  77% |#################################          | \remitting double-array:  79% |#################################          | \remitting double-array:  80% |##################################         | \remitting double-array:  81% |###################################        | \remitting double-array:  82% |###################################        | \remitting double-array:  83% |####################################       | \remitting double-array:  85% |####################################       | \remitting double-array:  86% |#####################################      | \remitting double-array:  87% |#####################################      | \remitting double-array:  88% |######################################     | \remitting double-array:  90% |######################################     | \remitting double-array:  91% |#######################################    | \remitting double-array:  92% |#######################################    | \remitting double-array:  93% |########################################   | \remitting double-array:  95% |########################################   | \remitting double-array:  96% |#########################################  | \remitting double-array:  97% |#########################################  | \remitting double-array:  98% |########################################## | \remitting double-array: 100% |###########################################| \n",
            "reading ./matrix.def ... 3x3\n",
            "emitting matrix      :  33% |##############                             | \remitting matrix      :  66% |############################               | \remitting matrix      : 100% |###########################################| \n",
            "\n",
            "done!\n",
            "reading ./unk.def ... 2\n",
            "emitting double-array:  50% |#####################                      | \remitting double-array: 100% |###########################################| \n",
            "./model.def is not found. skipped.\n",
            "reading ./dic.csv ... 4\n",
            "emitting double-array:  25% |##########                                 | \remitting double-array:  50% |#####################                      | \remitting double-array:  75% |################################           | \remitting double-array: 100% |###########################################| \n",
            "reading ./matrix.def ... 1x1\n",
            "\n",
            "done!\n",
            "reading ./unk.def ... 11\n",
            "emitting double-array:   9% |###                                        | \remitting double-array:  18% |#######                                    | \remitting double-array:  27% |###########                                | \remitting double-array:  36% |###############                            | \remitting double-array:  45% |###################                        | \remitting double-array:  54% |#######################                    | \remitting double-array:  63% |###########################                | \remitting double-array:  72% |###############################            | \remitting double-array:  81% |###################################        | \remitting double-array:  90% |#######################################    | \remitting double-array: 100% |###########################################| \n",
            "./model.def is not found. skipped.\n",
            "reading ./dic.csv ... 1\n",
            "reading ./matrix.def ... 1x1\n",
            "\n",
            "done!\n",
            "reading ./unk.def ... 2\n",
            "emitting double-array:  50% |#####################                      | \remitting double-array: 100% |###########################################| \n",
            "./model.def is not found. skipped.\n",
            "reading ./dic.csv ... 1\n",
            "reading ./matrix.def ... 1x1\n",
            "\n",
            "done!\n",
            "PASS: run-dics.sh\n",
            "PASS: run-eval.sh\n",
            "reading seed/unk.def ... 40\n",
            "emitting double-array:   9% |###                                        | \remitting double-array:  18% |#######                                    | \remitting double-array:  27% |###########                                | \remitting double-array:  36% |###############                            | \remitting double-array:  45% |###################                        | \remitting double-array:  54% |#######################                    | \remitting double-array:  63% |###########################                | \remitting double-array:  72% |###############################            | \remitting double-array:  81% |###################################        | \remitting double-array:  90% |#######################################    | \remitting double-array: 100% |###########################################| \n",
            "seed/model.def is not found. skipped.\n",
            "reading seed/dic.csv ... 4335\n",
            "emitting double-array:   0% |                                           | \remitting double-array:   1% |                                           | \remitting double-array:   2% |                                           | \remitting double-array:   3% |#                                          | \remitting double-array:   4% |#                                          | \remitting double-array:   5% |##                                         | \remitting double-array:   6% |##                                         | \remitting double-array:   7% |###                                        | \remitting double-array:   8% |###                                        | \remitting double-array:   9% |###                                        | \remitting double-array:  10% |####                                       | \remitting double-array:  11% |####                                       | \remitting double-array:  12% |#####                                      | \remitting double-array:  13% |#####                                      | \remitting double-array:  14% |######                                     | \remitting double-array:  15% |######                                     | \remitting double-array:  16% |######                                     | \remitting double-array:  17% |#######                                    | \remitting double-array:  18% |#######                                    | \remitting double-array:  19% |########                                   | \remitting double-array:  20% |########                                   | \remitting double-array:  21% |#########                                  | \remitting double-array:  22% |#########                                  | \remitting double-array:  23% |#########                                  | \remitting double-array:  24% |##########                                 | \remitting double-array:  25% |##########                                 | \remitting double-array:  26% |###########                                | \remitting double-array:  27% |###########                                | \remitting double-array:  28% |############                               | \remitting double-array:  29% |############                               | \remitting double-array:  30% |############                               | \remitting double-array:  31% |#############                              | \remitting double-array:  32% |#############                              | \remitting double-array:  33% |##############                             | \remitting double-array:  34% |##############                             | \remitting double-array:  35% |###############                            | \remitting double-array:  36% |###############                            | \remitting double-array:  37% |###############                            | \remitting double-array:  38% |################                           | \remitting double-array:  39% |################                           | \remitting double-array:  40% |#################                          | \remitting double-array:  41% |#################                          | \remitting double-array:  42% |##################                         | \remitting double-array:  43% |##################                         | \remitting double-array:  44% |##################                         | \remitting double-array:  45% |###################                        | \remitting double-array:  46% |###################                        | \remitting double-array:  47% |####################                       | \remitting double-array:  48% |####################                       | \remitting double-array:  49% |#####################                      | \remitting double-array:  50% |#####################                      | \remitting double-array:  51% |#####################                      | \remitting double-array:  52% |######################                     | \remitting double-array:  53% |######################                     | \remitting double-array:  54% |#######################                    | \remitting double-array:  55% |#######################                    | \remitting double-array:  56% |########################                   | \remitting double-array:  57% |########################                   | \remitting double-array:  58% |########################                   | \remitting double-array:  59% |#########################                  | \remitting double-array:  60% |#########################                  | \remitting double-array:  61% |##########################                 | \remitting double-array:  62% |##########################                 | \remitting double-array:  63% |###########################                | \remitting double-array:  64% |###########################                | \remitting double-array:  65% |###########################                | \remitting double-array:  66% |############################               | \remitting double-array:  67% |############################               | \remitting double-array:  68% |#############################              | \remitting double-array:  69% |#############################              | \remitting double-array:  70% |##############################             | \remitting double-array:  71% |##############################             | \remitting double-array:  72% |##############################             | \remitting double-array:  73% |###############################            | \remitting double-array:  74% |###############################            | \remitting double-array:  75% |################################           | \remitting double-array:  76% |################################           | \remitting double-array:  77% |#################################          | \remitting double-array:  78% |#################################          | \remitting double-array:  79% |#################################          | \remitting double-array:  80% |##################################         | \remitting double-array:  81% |##################################         | \remitting double-array:  82% |###################################        | \remitting double-array:  83% |###################################        | \remitting double-array:  84% |####################################       | \remitting double-array:  85% |####################################       | \remitting double-array:  86% |#####################################      | \remitting double-array:  87% |#####################################      | \remitting double-array:  88% |#####################################      | \remitting double-array:  89% |######################################     | \remitting double-array:  90% |######################################     | \remitting double-array:  91% |#######################################    | \remitting double-array:  92% |#######################################    | \remitting double-array:  93% |########################################   | \remitting double-array:  94% |########################################   | \remitting double-array:  95% |########################################   | \remitting double-array:  96% |#########################################  | \remitting double-array:  97% |#########################################  | \remitting double-array:  98% |########################################## | \remitting double-array:  99% |########################################## | \remitting double-array: 100% |###########################################| \n",
            "reading seed/matrix.def ... 1x1\n",
            "\n",
            "done!\n",
            "reading corpus ...\n",
            "Number of sentences: 34\n",
            "Number of features:  64108\n",
            "eta:                 0.00005\n",
            "freq:                1\n",
            "eval-size:           6\n",
            "unk-eval-size:       4\n",
            "threads:             1\n",
            "charset:             EUC-JP\n",
            "C(sigma^2):          1.00000\n",
            "\n",
            "iter=0 err=1.00000 F=0.35771 target=2406.28355 diff=1.00000\n",
            "iter=1 err=0.97059 F=0.65652 target=1484.25231 diff=0.38318\n",
            "iter=2 err=0.91176 F=0.79331 target=863.32765 diff=0.41834\n",
            "iter=3 err=0.85294 F=0.89213 target=596.72480 diff=0.30881\n",
            "iter=4 err=0.61765 F=0.95467 target=336.30744 diff=0.43641\n",
            "iter=5 err=0.50000 F=0.96702 target=246.53039 diff=0.26695\n",
            "iter=6 err=0.35294 F=0.95472 target=188.93963 diff=0.23361\n",
            "iter=7 err=0.20588 F=0.99106 target=168.62665 diff=0.10751\n",
            "iter=8 err=0.05882 F=0.99777 target=158.64865 diff=0.05917\n",
            "iter=9 err=0.08824 F=0.99665 target=154.14530 diff=0.02839\n",
            "iter=10 err=0.08824 F=0.99665 target=151.94257 diff=0.01429\n",
            "iter=11 err=0.02941 F=0.99888 target=147.20825 diff=0.03116\n",
            "iter=12 err=0.00000 F=1.00000 target=147.34956 diff=0.00096\n",
            "iter=13 err=0.02941 F=0.99888 target=146.32592 diff=0.00695\n",
            "iter=14 err=0.00000 F=1.00000 target=145.77299 diff=0.00378\n",
            "iter=15 err=0.02941 F=0.99888 target=145.24641 diff=0.00361\n",
            "iter=16 err=0.00000 F=1.00000 target=144.96490 diff=0.00194\n",
            "iter=17 err=0.02941 F=0.99888 target=144.90246 diff=0.00043\n",
            "iter=18 err=0.00000 F=1.00000 target=144.75959 diff=0.00099\n",
            "iter=19 err=0.00000 F=1.00000 target=144.71727 diff=0.00029\n",
            "iter=20 err=0.00000 F=1.00000 target=144.66337 diff=0.00037\n",
            "iter=21 err=0.00000 F=1.00000 target=144.61349 diff=0.00034\n",
            "iter=22 err=0.00000 F=1.00000 target=144.62987 diff=0.00011\n",
            "iter=23 err=0.00000 F=1.00000 target=144.60060 diff=0.00020\n",
            "iter=24 err=0.00000 F=1.00000 target=144.59125 diff=0.00006\n",
            "iter=25 err=0.00000 F=1.00000 target=144.58619 diff=0.00004\n",
            "iter=26 err=0.00000 F=1.00000 target=144.58219 diff=0.00003\n",
            "iter=27 err=0.00000 F=1.00000 target=144.58059 diff=0.00001\n",
            "\n",
            "Done! writing model file ... \n",
            "model-ipadic.c1.0.f1.model is not a binary model. reopen it as text mode...\n",
            "reading seed/unk.def ... 40\n",
            "reading seed/dic.csv ... 4335\n",
            "emitting model-ipadic.c1.0.f1.dic/left-id.def/ model-ipadic.c1.0.f1.dic/right-id.def\n",
            "emitting model-ipadic.c1.0.f1.dic/unk.def ... 40\n",
            "emitting model-ipadic.c1.0.f1.dic/dic.csv ... 4335\n",
            "emitting matrix      :   1% |                                           | \remitting matrix      :   2% |                                           | \remitting matrix      :   3% |#                                          | \remitting matrix      :   4% |#                                          | \remitting matrix      :   5% |##                                         | \remitting matrix      :   6% |##                                         | \remitting matrix      :   7% |###                                        | \remitting matrix      :   8% |###                                        | \remitting matrix      :   9% |###                                        | \remitting matrix      :  10% |####                                       | \remitting matrix      :  11% |####                                       | \remitting matrix      :  12% |#####                                      | \remitting matrix      :  13% |#####                                      | \remitting matrix      :  14% |######                                     | \remitting matrix      :  15% |######                                     | \remitting matrix      :  16% |######                                     | \remitting matrix      :  17% |#######                                    | \remitting matrix      :  18% |#######                                    | \remitting matrix      :  19% |########                                   | \remitting matrix      :  20% |########                                   | \remitting matrix      :  21% |#########                                  | \remitting matrix      :  22% |#########                                  | \remitting matrix      :  23% |#########                                  | \remitting matrix      :  24% |##########                                 | \remitting matrix      :  25% |##########                                 | \remitting matrix      :  26% |###########                                | \remitting matrix      :  27% |###########                                | \remitting matrix      :  28% |############                               | \remitting matrix      :  29% |############                               | \remitting matrix      :  30% |############                               | \remitting matrix      :  31% |#############                              | \remitting matrix      :  32% |#############                              | \remitting matrix      :  33% |##############                             | \remitting matrix      :  34% |##############                             | \remitting matrix      :  35% |###############                            | \remitting matrix      :  36% |###############                            | \remitting matrix      :  37% |################                           | \remitting matrix      :  38% |################                           | \remitting matrix      :  39% |################                           | \remitting matrix      :  40% |#################                          | \remitting matrix      :  41% |#################                          | \remitting matrix      :  42% |##################                         | \remitting matrix      :  43% |##################                         | \remitting matrix      :  44% |###################                        | \remitting matrix      :  45% |###################                        | \remitting matrix      :  46% |###################                        | \remitting matrix      :  47% |####################                       | \remitting matrix      :  48% |####################                       | \remitting matrix      :  49% |#####################                      | \remitting matrix      :  50% |#####################                      | \remitting matrix      :  51% |#####################                      | \remitting matrix      :  52% |######################                     | \remitting matrix      :  53% |######################                     | \remitting matrix      :  54% |#######################                    | \remitting matrix      :  55% |#######################                    | \remitting matrix      :  56% |########################                   | \remitting matrix      :  57% |########################                   | \remitting matrix      :  58% |########################                   | \remitting matrix      :  59% |#########################                  | \remitting matrix      :  60% |#########################                  | \remitting matrix      :  61% |##########################                 | \remitting matrix      :  62% |##########################                 | \remitting matrix      :  63% |###########################                | \remitting matrix      :  64% |###########################                | \remitting matrix      :  65% |###########################                | \remitting matrix      :  66% |############################               | \remitting matrix      :  67% |############################               | \remitting matrix      :  68% |#############################              | \remitting matrix      :  69% |#############################              | \remitting matrix      :  70% |##############################             | \remitting matrix      :  71% |##############################             | \remitting matrix      :  72% |###############################            | \remitting matrix      :  73% |###############################            | \remitting matrix      :  74% |###############################            | \remitting matrix      :  75% |################################           | \remitting matrix      :  76% |################################           | \remitting matrix      :  77% |#################################          | \remitting matrix      :  78% |#################################          | \remitting matrix      :  79% |##################################         | \remitting matrix      :  80% |##################################         | \remitting matrix      :  81% |##################################         | \remitting matrix      :  82% |###################################        | \remitting matrix      :  83% |###################################        | \remitting matrix      :  84% |####################################       | \remitting matrix      :  85% |####################################       | \remitting matrix      :  86% |#####################################      | \remitting matrix      :  87% |#####################################      | \remitting matrix      :  88% |#####################################      | \remitting matrix      :  89% |######################################     | \remitting matrix      :  90% |######################################     | \remitting matrix      :  91% |#######################################    | \remitting matrix      :  92% |#######################################    | \remitting matrix      :  93% |########################################   | \remitting matrix      :  94% |########################################   | \remitting matrix      :  95% |########################################   | \remitting matrix      :  96% |#########################################  | \remitting matrix      :  97% |#########################################  | \remitting matrix      :  98% |########################################## | \remitting matrix      :  99% |########################################## | \remitting matrix      : 100% |###########################################| \n",
            "copying seed/char.def to model-ipadic.c1.0.f1.dic/char.def\n",
            "copying seed/rewrite.def to model-ipadic.c1.0.f1.dic/rewrite.def\n",
            "copying seed/dicrc to model-ipadic.c1.0.f1.dic/dicrc\n",
            "copying seed/feature.def to model-ipadic.c1.0.f1.dic/feature.def\n",
            "copying model-ipadic.c1.0.f1.model to model-ipadic.c1.0.f1.dic/model.def\n",
            "\n",
            "done!\n",
            "reading model-ipadic.c1.0.f1.dic/unk.def ... 40\n",
            "emitting double-array:   9% |###                                        | \remitting double-array:  18% |#######                                    | \remitting double-array:  27% |###########                                | \remitting double-array:  36% |###############                            | \remitting double-array:  45% |###################                        | \remitting double-array:  54% |#######################                    | \remitting double-array:  63% |###########################                | \remitting double-array:  72% |###############################            | \remitting double-array:  81% |###################################        | \remitting double-array:  90% |#######################################    | \remitting double-array: 100% |###########################################| \n",
            "reading model-ipadic.c1.0.f1.dic/dic.csv ... 4335\n",
            "emitting double-array:   0% |                                           | \remitting double-array:   1% |                                           | \remitting double-array:   2% |                                           | \remitting double-array:   3% |#                                          | \remitting double-array:   4% |#                                          | \remitting double-array:   5% |##                                         | \remitting double-array:   6% |##                                         | \remitting double-array:   7% |###                                        | \remitting double-array:   8% |###                                        | \remitting double-array:   9% |###                                        | \remitting double-array:  10% |####                                       | \remitting double-array:  11% |####                                       | \remitting double-array:  12% |#####                                      | \remitting double-array:  13% |#####                                      | \remitting double-array:  14% |######                                     | \remitting double-array:  15% |######                                     | \remitting double-array:  16% |######                                     | \remitting double-array:  17% |#######                                    | \remitting double-array:  18% |#######                                    | \remitting double-array:  19% |########                                   | \remitting double-array:  20% |########                                   | \remitting double-array:  21% |#########                                  | \remitting double-array:  22% |#########                                  | \remitting double-array:  23% |#########                                  | \remitting double-array:  24% |##########                                 | \remitting double-array:  25% |##########                                 | \remitting double-array:  26% |###########                                | \remitting double-array:  27% |###########                                | \remitting double-array:  28% |############                               | \remitting double-array:  29% |############                               | \remitting double-array:  30% |############                               | \remitting double-array:  31% |#############                              | \remitting double-array:  32% |#############                              | \remitting double-array:  33% |##############                             | \remitting double-array:  34% |##############                             | \remitting double-array:  35% |###############                            | \remitting double-array:  36% |###############                            | \remitting double-array:  37% |###############                            | \remitting double-array:  38% |################                           | \remitting double-array:  39% |################                           | \remitting double-array:  40% |#################                          | \remitting double-array:  41% |#################                          | \remitting double-array:  42% |##################                         | \remitting double-array:  43% |##################                         | \remitting double-array:  44% |##################                         | \remitting double-array:  45% |###################                        | \remitting double-array:  46% |###################                        | \remitting double-array:  47% |####################                       | \remitting double-array:  48% |####################                       | \remitting double-array:  49% |#####################                      | \remitting double-array:  50% |#####################                      | \remitting double-array:  51% |#####################                      | \remitting double-array:  52% |######################                     | \remitting double-array:  53% |######################                     | \remitting double-array:  54% |#######################                    | \remitting double-array:  55% |#######################                    | \remitting double-array:  56% |########################                   | \remitting double-array:  57% |########################                   | \remitting double-array:  58% |########################                   | \remitting double-array:  59% |#########################                  | \remitting double-array:  60% |#########################                  | \remitting double-array:  61% |##########################                 | \remitting double-array:  62% |##########################                 | \remitting double-array:  63% |###########################                | \remitting double-array:  64% |###########################                | \remitting double-array:  65% |###########################                | \remitting double-array:  66% |############################               | \remitting double-array:  67% |############################               | \remitting double-array:  68% |#############################              | \remitting double-array:  69% |#############################              | \remitting double-array:  70% |##############################             | \remitting double-array:  71% |##############################             | \remitting double-array:  72% |##############################             | \remitting double-array:  73% |###############################            | \remitting double-array:  74% |###############################            | \remitting double-array:  75% |################################           | \remitting double-array:  76% |################################           | \remitting double-array:  77% |#################################          | \remitting double-array:  78% |#################################          | \remitting double-array:  79% |#################################          | \remitting double-array:  80% |##################################         | \remitting double-array:  81% |##################################         | \remitting double-array:  82% |###################################        | \remitting double-array:  83% |###################################        | \remitting double-array:  84% |####################################       | \remitting double-array:  85% |####################################       | \remitting double-array:  86% |#####################################      | \remitting double-array:  87% |#####################################      | \remitting double-array:  88% |#####################################      | \remitting double-array:  89% |######################################     | \remitting double-array:  90% |######################################     | \remitting double-array:  91% |#######################################    | \remitting double-array:  92% |#######################################    | \remitting double-array:  93% |########################################   | \remitting double-array:  94% |########################################   | \remitting double-array:  95% |########################################   | \remitting double-array:  96% |#########################################  | \remitting double-array:  97% |#########################################  | \remitting double-array:  98% |########################################## | \remitting double-array:  99% |########################################## | \remitting double-array: 100% |###########################################| \n",
            "reading model-ipadic.c1.0.f1.dic/matrix.def ... 346x346\n",
            "emitting matrix      :   0% |                                           | \remitting matrix      :   1% |                                           | \remitting matrix      :   2% |                                           | \remitting matrix      :   3% |#                                          | \remitting matrix      :   4% |#                                          | \remitting matrix      :   5% |##                                         | \remitting matrix      :   6% |##                                         | \remitting matrix      :   7% |###                                        | \remitting matrix      :   8% |###                                        | \remitting matrix      :   9% |###                                        | \remitting matrix      :  10% |####                                       | \remitting matrix      :  11% |####                                       | \remitting matrix      :  12% |#####                                      | \remitting matrix      :  13% |#####                                      | \remitting matrix      :  14% |######                                     | \remitting matrix      :  15% |######                                     | \remitting matrix      :  16% |######                                     | \remitting matrix      :  17% |#######                                    | \remitting matrix      :  18% |#######                                    | \remitting matrix      :  19% |########                                   | \remitting matrix      :  20% |########                                   | \remitting matrix      :  21% |#########                                  | \remitting matrix      :  22% |#########                                  | \remitting matrix      :  23% |#########                                  | \remitting matrix      :  24% |##########                                 | \remitting matrix      :  25% |##########                                 | \remitting matrix      :  26% |###########                                | \remitting matrix      :  27% |###########                                | \remitting matrix      :  28% |############                               | \remitting matrix      :  29% |############                               | \remitting matrix      :  30% |############                               | \remitting matrix      :  31% |#############                              | \remitting matrix      :  32% |#############                              | \remitting matrix      :  33% |##############                             | \remitting matrix      :  34% |##############                             | \remitting matrix      :  35% |###############                            | \remitting matrix      :  36% |###############                            | \remitting matrix      :  37% |################                           | \remitting matrix      :  38% |################                           | \remitting matrix      :  39% |################                           | \remitting matrix      :  40% |#################                          | \remitting matrix      :  41% |#################                          | \remitting matrix      :  42% |##################                         | \remitting matrix      :  43% |##################                         | \remitting matrix      :  44% |###################                        | \remitting matrix      :  45% |###################                        | \remitting matrix      :  46% |###################                        | \remitting matrix      :  47% |####################                       | \remitting matrix      :  48% |####################                       | \remitting matrix      :  49% |#####################                      | \remitting matrix      :  50% |#####################                      | \remitting matrix      :  51% |#####################                      | \remitting matrix      :  52% |######################                     | \remitting matrix      :  53% |######################                     | \remitting matrix      :  54% |#######################                    | \remitting matrix      :  55% |#######################                    | \remitting matrix      :  56% |########################                   | \remitting matrix      :  57% |########################                   | \remitting matrix      :  58% |########################                   | \remitting matrix      :  59% |#########################                  | \remitting matrix      :  60% |#########################                  | \remitting matrix      :  61% |##########################                 | \remitting matrix      :  62% |##########################                 | \remitting matrix      :  63% |###########################                | \remitting matrix      :  64% |###########################                | \remitting matrix      :  65% |###########################                | \remitting matrix      :  66% |############################               | \remitting matrix      :  67% |############################               | \remitting matrix      :  68% |#############################              | \remitting matrix      :  69% |#############################              | \remitting matrix      :  70% |##############################             | \remitting matrix      :  71% |##############################             | \remitting matrix      :  72% |###############################            | \remitting matrix      :  73% |###############################            | \remitting matrix      :  74% |###############################            | \remitting matrix      :  75% |################################           | \remitting matrix      :  76% |################################           | \remitting matrix      :  77% |#################################          | \remitting matrix      :  78% |#################################          | \remitting matrix      :  79% |##################################         | \remitting matrix      :  80% |##################################         | \remitting matrix      :  81% |##################################         | \remitting matrix      :  82% |###################################        | \remitting matrix      :  83% |###################################        | \remitting matrix      :  84% |####################################       | \remitting matrix      :  85% |####################################       | \remitting matrix      :  86% |#####################################      | \remitting matrix      :  87% |#####################################      | \remitting matrix      :  88% |#####################################      | \remitting matrix      :  89% |######################################     | \remitting matrix      :  90% |######################################     | \remitting matrix      :  91% |#######################################    | \remitting matrix      :  92% |#######################################    | \remitting matrix      :  93% |########################################   | \remitting matrix      :  94% |########################################   | \remitting matrix      :  95% |########################################   | \remitting matrix      :  96% |#########################################  | \remitting matrix      :  97% |#########################################  | \remitting matrix      :  98% |########################################## | \remitting matrix      :  99% |########################################## | \remitting matrix      : 100% |###########################################| \n",
            "\n",
            "done!\n",
            "              precision          recall         F\n",
            "LEVEL 0:    12.8959(57/442) 11.8998(57/479) 12.3779\n",
            "LEVEL 1:    12.2172(54/442) 11.2735(54/479) 11.7264\n",
            "LEVEL 2:    11.7647(52/442) 10.8559(52/479) 11.2921\n",
            "LEVEL 4:    11.7647(52/442) 10.8559(52/479) 11.2921\n",
            "PASS: run-cost-train.sh\n",
            "==================\n",
            "All 3 tests passed\n",
            "==================\n",
            "make[2]: Leaving directory '/tmp/mecab-0.996-ko-0.9.2/tests'\n",
            "make[1]: Leaving directory '/tmp/mecab-0.996-ko-0.9.2/tests'\n",
            "make[1]: Entering directory '/tmp/mecab-0.996-ko-0.9.2'\n",
            "make[1]: Leaving directory '/tmp/mecab-0.996-ko-0.9.2'\n",
            "Making install in src\n",
            "make[1]: Entering directory '/tmp/mecab-0.996-ko-0.9.2/src'\n",
            "make[2]: Entering directory '/tmp/mecab-0.996-ko-0.9.2/src'\n",
            "test -z \"/usr/local/lib\" || /bin/mkdir -p \"/usr/local/lib\"\n",
            " /bin/bash ../libtool   --mode=install /usr/bin/install -c   libmecab.la '/usr/local/lib'\n",
            "libtool: install: /usr/bin/install -c .libs/libmecab.so.2.0.0 /usr/local/lib/libmecab.so.2.0.0\n",
            "libtool: install: (cd /usr/local/lib && { ln -s -f libmecab.so.2.0.0 libmecab.so.2 || { rm -f libmecab.so.2 && ln -s libmecab.so.2.0.0 libmecab.so.2; }; })\n",
            "libtool: install: (cd /usr/local/lib && { ln -s -f libmecab.so.2.0.0 libmecab.so || { rm -f libmecab.so && ln -s libmecab.so.2.0.0 libmecab.so; }; })\n",
            "libtool: install: /usr/bin/install -c .libs/libmecab.lai /usr/local/lib/libmecab.la\n",
            "libtool: install: /usr/bin/install -c .libs/libmecab.a /usr/local/lib/libmecab.a\n",
            "libtool: install: chmod 644 /usr/local/lib/libmecab.a\n",
            "libtool: install: ranlib /usr/local/lib/libmecab.a\n",
            "libtool: finish: PATH=\"/usr/local/sbin:/usr/local/bin:/usr/sbin:/usr/bin:/sbin:/bin:/snap/bin:/sbin\" ldconfig -n /usr/local/lib\n",
            "----------------------------------------------------------------------\n",
            "Libraries have been installed in:\n",
            "   /usr/local/lib\n",
            "\n",
            "If you ever happen to want to link against installed libraries\n",
            "in a given directory, LIBDIR, you must either use libtool, and\n",
            "specify the full pathname of the library, or use the `-LLIBDIR'\n",
            "flag during linking and do at least one of the following:\n",
            "   - add LIBDIR to the `LD_LIBRARY_PATH' environment variable\n",
            "     during execution\n",
            "   - add LIBDIR to the `LD_RUN_PATH' environment variable\n",
            "     during linking\n",
            "   - use the `-Wl,-rpath -Wl,LIBDIR' linker flag\n",
            "   - have your system administrator add LIBDIR to `/etc/ld.so.conf'\n",
            "\n",
            "See any operating system documentation about shared libraries for\n",
            "more information, such as the ld(1) and ld.so(8) manual pages.\n",
            "----------------------------------------------------------------------\n",
            "test -z \"/usr/local/bin\" || /bin/mkdir -p \"/usr/local/bin\"\n",
            "  /bin/bash ../libtool   --mode=install /usr/bin/install -c mecab '/usr/local/bin'\n",
            "libtool: install: /usr/bin/install -c .libs/mecab /usr/local/bin/mecab\n",
            "test -z \"/usr/local/libexec/mecab\" || /bin/mkdir -p \"/usr/local/libexec/mecab\"\n",
            "  /bin/bash ../libtool   --mode=install /usr/bin/install -c mecab-dict-index mecab-dict-gen mecab-cost-train mecab-system-eval mecab-test-gen '/usr/local/libexec/mecab'\n",
            "libtool: install: /usr/bin/install -c .libs/mecab-dict-index /usr/local/libexec/mecab/mecab-dict-index\n",
            "libtool: install: /usr/bin/install -c .libs/mecab-dict-gen /usr/local/libexec/mecab/mecab-dict-gen\n",
            "libtool: install: /usr/bin/install -c .libs/mecab-cost-train /usr/local/libexec/mecab/mecab-cost-train\n",
            "libtool: install: /usr/bin/install -c .libs/mecab-system-eval /usr/local/libexec/mecab/mecab-system-eval\n",
            "libtool: install: /usr/bin/install -c .libs/mecab-test-gen /usr/local/libexec/mecab/mecab-test-gen\n",
            "test -z \"/usr/local/include\" || /bin/mkdir -p \"/usr/local/include\"\n",
            " /usr/bin/install -c -m 644 mecab.h '/usr/local/include'\n",
            "make[2]: Leaving directory '/tmp/mecab-0.996-ko-0.9.2/src'\n",
            "make[1]: Leaving directory '/tmp/mecab-0.996-ko-0.9.2/src'\n",
            "Making install in man\n",
            "make[1]: Entering directory '/tmp/mecab-0.996-ko-0.9.2/man'\n",
            "make[2]: Entering directory '/tmp/mecab-0.996-ko-0.9.2/man'\n",
            "make[2]: Nothing to be done for 'install-exec-am'.\n",
            "test -z \"/usr/local/share/man/man1\" || /bin/mkdir -p \"/usr/local/share/man/man1\"\n",
            " /usr/bin/install -c -m 644 mecab.1 '/usr/local/share/man/man1'\n",
            "make[2]: Leaving directory '/tmp/mecab-0.996-ko-0.9.2/man'\n",
            "make[1]: Leaving directory '/tmp/mecab-0.996-ko-0.9.2/man'\n",
            "Making install in doc\n",
            "make[1]: Entering directory '/tmp/mecab-0.996-ko-0.9.2/doc'\n",
            "make[2]: Entering directory '/tmp/mecab-0.996-ko-0.9.2/doc'\n",
            "make[2]: Nothing to be done for 'install-exec-am'.\n",
            "make[2]: Nothing to be done for 'install-data-am'.\n",
            "make[2]: Leaving directory '/tmp/mecab-0.996-ko-0.9.2/doc'\n",
            "make[1]: Leaving directory '/tmp/mecab-0.996-ko-0.9.2/doc'\n",
            "Making install in tests\n",
            "make[1]: Entering directory '/tmp/mecab-0.996-ko-0.9.2/tests'\n",
            "make[2]: Entering directory '/tmp/mecab-0.996-ko-0.9.2/tests'\n",
            "make[2]: Nothing to be done for 'install-exec-am'.\n",
            "make[2]: Nothing to be done for 'install-data-am'.\n",
            "make[2]: Leaving directory '/tmp/mecab-0.996-ko-0.9.2/tests'\n",
            "make[1]: Leaving directory '/tmp/mecab-0.996-ko-0.9.2/tests'\n",
            "make[1]: Entering directory '/tmp/mecab-0.996-ko-0.9.2'\n",
            "make[2]: Entering directory '/tmp/mecab-0.996-ko-0.9.2'\n",
            "test -z \"/usr/local/bin\" || /bin/mkdir -p \"/usr/local/bin\"\n",
            " /usr/bin/install -c mecab-config '/usr/local/bin'\n",
            "test -z \"/usr/local/etc\" || /bin/mkdir -p \"/usr/local/etc\"\n",
            " /usr/bin/install -c -m 644 mecabrc '/usr/local/etc'\n",
            "make[2]: Leaving directory '/tmp/mecab-0.996-ko-0.9.2'\n",
            "make[1]: Leaving directory '/tmp/mecab-0.996-ko-0.9.2'\n",
            "Install mecab-ko-dic\n",
            "Install mecab-ko-dic\n",
            "mecab-ko-dic-2.1.1-20180720/\n",
            "mecab-ko-dic-2.1.1-20180720/configure\n",
            "mecab-ko-dic-2.1.1-20180720/COPYING\n",
            "mecab-ko-dic-2.1.1-20180720/autogen.sh\n",
            "mecab-ko-dic-2.1.1-20180720/Place-station.csv\n",
            "mecab-ko-dic-2.1.1-20180720/NNG.csv\n",
            "mecab-ko-dic-2.1.1-20180720/README\n",
            "mecab-ko-dic-2.1.1-20180720/EF.csv\n",
            "mecab-ko-dic-2.1.1-20180720/MAG.csv\n",
            "mecab-ko-dic-2.1.1-20180720/Preanalysis.csv\n",
            "mecab-ko-dic-2.1.1-20180720/NNB.csv\n",
            "mecab-ko-dic-2.1.1-20180720/Person-actor.csv\n",
            "mecab-ko-dic-2.1.1-20180720/VV.csv\n",
            "mecab-ko-dic-2.1.1-20180720/Makefile.in\n",
            "mecab-ko-dic-2.1.1-20180720/matrix.def\n",
            "mecab-ko-dic-2.1.1-20180720/EC.csv\n",
            "mecab-ko-dic-2.1.1-20180720/NNBC.csv\n",
            "mecab-ko-dic-2.1.1-20180720/clean\n",
            "mecab-ko-dic-2.1.1-20180720/ChangeLog\n",
            "mecab-ko-dic-2.1.1-20180720/J.csv\n",
            "mecab-ko-dic-2.1.1-20180720/.keep\n",
            "mecab-ko-dic-2.1.1-20180720/feature.def\n",
            "mecab-ko-dic-2.1.1-20180720/Foreign.csv\n",
            "mecab-ko-dic-2.1.1-20180720/XPN.csv\n",
            "mecab-ko-dic-2.1.1-20180720/EP.csv\n",
            "mecab-ko-dic-2.1.1-20180720/NR.csv\n",
            "mecab-ko-dic-2.1.1-20180720/left-id.def\n",
            "mecab-ko-dic-2.1.1-20180720/Place.csv\n",
            "mecab-ko-dic-2.1.1-20180720/Symbol.csv\n",
            "mecab-ko-dic-2.1.1-20180720/dicrc\n",
            "mecab-ko-dic-2.1.1-20180720/NP.csv\n",
            "mecab-ko-dic-2.1.1-20180720/ETM.csv\n",
            "mecab-ko-dic-2.1.1-20180720/IC.csv\n",
            "mecab-ko-dic-2.1.1-20180720/Place-address.csv\n",
            "mecab-ko-dic-2.1.1-20180720/Group.csv\n",
            "mecab-ko-dic-2.1.1-20180720/model.def\n",
            "mecab-ko-dic-2.1.1-20180720/XSN.csv\n",
            "mecab-ko-dic-2.1.1-20180720/INSTALL\n",
            "mecab-ko-dic-2.1.1-20180720/rewrite.def\n",
            "mecab-ko-dic-2.1.1-20180720/Inflect.csv\n",
            "mecab-ko-dic-2.1.1-20180720/configure.ac\n",
            "mecab-ko-dic-2.1.1-20180720/NNP.csv\n",
            "mecab-ko-dic-2.1.1-20180720/CoinedWord.csv\n",
            "mecab-ko-dic-2.1.1-20180720/XSV.csv\n",
            "mecab-ko-dic-2.1.1-20180720/pos-id.def\n",
            "mecab-ko-dic-2.1.1-20180720/Makefile.am\n",
            "mecab-ko-dic-2.1.1-20180720/unk.def\n",
            "mecab-ko-dic-2.1.1-20180720/missing\n",
            "mecab-ko-dic-2.1.1-20180720/VCP.csv\n",
            "mecab-ko-dic-2.1.1-20180720/install-sh\n",
            "mecab-ko-dic-2.1.1-20180720/Hanja.csv\n",
            "mecab-ko-dic-2.1.1-20180720/MAJ.csv\n",
            "mecab-ko-dic-2.1.1-20180720/XSA.csv\n",
            "mecab-ko-dic-2.1.1-20180720/Wikipedia.csv\n",
            "mecab-ko-dic-2.1.1-20180720/tools/\n",
            "mecab-ko-dic-2.1.1-20180720/tools/add-userdic.sh\n",
            "mecab-ko-dic-2.1.1-20180720/tools/mecab-bestn.sh\n",
            "mecab-ko-dic-2.1.1-20180720/tools/convert_for_using_store.sh\n",
            "mecab-ko-dic-2.1.1-20180720/user-dic/\n",
            "mecab-ko-dic-2.1.1-20180720/user-dic/nnp.csv\n",
            "mecab-ko-dic-2.1.1-20180720/user-dic/place.csv\n",
            "mecab-ko-dic-2.1.1-20180720/user-dic/person.csv\n",
            "mecab-ko-dic-2.1.1-20180720/user-dic/README.md\n",
            "mecab-ko-dic-2.1.1-20180720/NorthKorea.csv\n",
            "mecab-ko-dic-2.1.1-20180720/VX.csv\n",
            "mecab-ko-dic-2.1.1-20180720/right-id.def\n",
            "mecab-ko-dic-2.1.1-20180720/VA.csv\n",
            "mecab-ko-dic-2.1.1-20180720/char.def\n",
            "mecab-ko-dic-2.1.1-20180720/NEWS\n",
            "mecab-ko-dic-2.1.1-20180720/MM.csv\n",
            "mecab-ko-dic-2.1.1-20180720/ETN.csv\n",
            "mecab-ko-dic-2.1.1-20180720/AUTHORS\n",
            "mecab-ko-dic-2.1.1-20180720/Person.csv\n",
            "mecab-ko-dic-2.1.1-20180720/XR.csv\n",
            "mecab-ko-dic-2.1.1-20180720/VCN.csv\n",
            "Looking in current directory for macros.\n",
            "checking for a BSD-compatible install... /usr/bin/install -c\n",
            "checking whether build environment is sane... yes\n",
            "checking for a thread-safe mkdir -p... /bin/mkdir -p\n",
            "checking for gawk... no\n",
            "checking for mawk... mawk\n",
            "checking whether make sets $(MAKE)... yes\n",
            "checking whether make supports nested variables... yes\n",
            "checking for mecab-config... /usr/local/bin/mecab-config\n",
            "checking that generated files are newer than configure... done\n",
            "configure: creating ./config.status\n",
            "config.status: creating Makefile\n",
            "/usr/local/lib\n",
            "/usr/local/libexec/mecab/mecab-dict-index -d . -o . -f UTF-8 -t UTF-8\n",
            "reading ./unk.def ... 13\n",
            "emitting double-array:   7% |###                                        | \remitting double-array:  15% |######                                     | \remitting double-array:  23% |#########                                  | \remitting double-array:  30% |#############                              | \remitting double-array:  38% |################                           | \remitting double-array:  46% |###################                        | \remitting double-array:  53% |#######################                    | \remitting double-array:  61% |##########################                 | \remitting double-array:  69% |#############################              | \remitting double-array:  76% |#################################          | \remitting double-array:  84% |####################################       | \remitting double-array:  92% |#######################################    | \remitting double-array: 100% |###########################################| \n",
            "reading ./MM.csv ... 453\n",
            "reading ./MAJ.csv ... 240\n",
            "reading ./NNBC.csv ... 677\n",
            "reading ./NorthKorea.csv ... 3\n",
            "reading ./XSV.csv ... 23\n",
            "reading ./Inflect.csv ... 44820\n",
            "reading ./J.csv ... 416\n",
            "reading ./Symbol.csv ... 16\n",
            "reading ./XSN.csv ... 124\n",
            "reading ./NP.csv ... 342\n",
            "reading ./Wikipedia.csv ... 36762\n",
            "reading ./EC.csv ... 2547\n",
            "reading ./EF.csv ... 1820\n",
            "reading ./NNG.csv ... 208524\n",
            "reading ./Place-address.csv ... 19301\n",
            "reading ./Preanalysis.csv ... 5\n",
            "reading ./XR.csv ... 3637\n",
            "reading ./Group.csv ... 3176\n",
            "reading ./IC.csv ... 1305\n",
            "reading ./ETN.csv ... 14\n",
            "reading ./VV.csv ... 7331\n",
            "reading ./NR.csv ... 482\n",
            "reading ./ETM.csv ... 133\n",
            "reading ./MAG.csv ... 14242\n",
            "reading ./Place-station.csv ... 1145\n",
            "reading ./NNB.csv ... 140\n",
            "reading ./VX.csv ... 125\n",
            "reading ./Person.csv ... 196459\n",
            "reading ./VCP.csv ... 9\n",
            "reading ./Place.csv ... 30303\n",
            "reading ./XSA.csv ... 19\n",
            "reading ./CoinedWord.csv ... 148\n",
            "reading ./NNP.csv ... 2371\n",
            "reading ./VCN.csv ... 7\n",
            "reading ./Foreign.csv ... 11690\n",
            "reading ./XPN.csv ... 83\n",
            "reading ./Person-actor.csv ... 99230\n",
            "reading ./VA.csv ... 2360\n",
            "reading ./Hanja.csv ... 125750\n",
            "reading ./EP.csv ... 51\n",
            "emitting double-array:   0% |                                           | \remitting double-array:   1% |                                           | \remitting double-array:   2% |                                           | \remitting double-array:   3% |#                                          | \remitting double-array:   4% |#                                          | \remitting double-array:   5% |##                                         | \remitting double-array:   6% |##                                         | \remitting double-array:   7% |###                                        | \remitting double-array:   8% |###                                        | \remitting double-array:   9% |###                                        | \remitting double-array:  10% |####                                       | \remitting double-array:  11% |####                                       | \remitting double-array:  12% |#####                                      | \remitting double-array:  13% |#####                                      | \remitting double-array:  14% |######                                     | \remitting double-array:  15% |######                                     | \remitting double-array:  16% |######                                     | \remitting double-array:  17% |#######                                    | \remitting double-array:  18% |#######                                    | \remitting double-array:  19% |########                                   | \remitting double-array:  20% |########                                   | \remitting double-array:  21% |#########                                  | \remitting double-array:  22% |#########                                  | \remitting double-array:  23% |#########                                  | \remitting double-array:  24% |##########                                 | \remitting double-array:  25% |##########                                 | \remitting double-array:  26% |###########                                | \remitting double-array:  27% |###########                                | \remitting double-array:  28% |############                               | \remitting double-array:  29% |############                               | \remitting double-array:  30% |############                               | \remitting double-array:  31% |#############                              | \remitting double-array:  32% |#############                              | \remitting double-array:  33% |##############                             | \remitting double-array:  34% |##############                             | \remitting double-array:  35% |###############                            | \remitting double-array:  36% |###############                            | \remitting double-array:  37% |###############                            | \remitting double-array:  38% |################                           | \remitting double-array:  39% |################                           | \remitting double-array:  40% |#################                          | \remitting double-array:  41% |#################                          | \remitting double-array:  42% |##################                         | \remitting double-array:  43% |##################                         | \remitting double-array:  44% |##################                         | \remitting double-array:  45% |###################                        | \remitting double-array:  46% |###################                        | \remitting double-array:  47% |####################                       | \remitting double-array:  48% |####################                       | \remitting double-array:  49% |#####################                      | \remitting double-array:  50% |#####################                      | \remitting double-array:  51% |#####################                      | \remitting double-array:  52% |######################                     | \remitting double-array:  53% |######################                     | \remitting double-array:  54% |#######################                    | \remitting double-array:  55% |#######################                    | \remitting double-array:  56% |########################                   | \remitting double-array:  57% |########################                   | \remitting double-array:  58% |########################                   | \remitting double-array:  59% |#########################                  | \remitting double-array:  60% |#########################                  | \remitting double-array:  61% |##########################                 | \remitting double-array:  62% |##########################                 | \remitting double-array:  63% |###########################                | \remitting double-array:  64% |###########################                | \remitting double-array:  65% |###########################                | \remitting double-array:  66% |############################               | \remitting double-array:  67% |############################               | \remitting double-array:  68% |#############################              | \remitting double-array:  69% |#############################              | \remitting double-array:  70% |##############################             | \remitting double-array:  71% |##############################             | \remitting double-array:  72% |##############################             | \remitting double-array:  73% |###############################            | \remitting double-array:  74% |###############################            | \remitting double-array:  75% |################################           | \remitting double-array:  76% |################################           | \remitting double-array:  77% |#################################          | \remitting double-array:  78% |#################################          | \remitting double-array:  79% |#################################          | \remitting double-array:  80% |##################################         | \remitting double-array:  81% |##################################         | \remitting double-array:  82% |###################################        | \remitting double-array:  83% |###################################        | \remitting double-array:  84% |####################################       | \remitting double-array:  85% |####################################       | \remitting double-array:  86% |####################################       | \remitting double-array:  87% |#####################################      | \remitting double-array:  88% |#####################################      | \remitting double-array:  89% |######################################     | \remitting double-array:  90% |######################################     | \remitting double-array:  91% |#######################################    | \remitting double-array:  92% |#######################################    | \remitting double-array:  93% |#######################################    | \remitting double-array:  94% |########################################   | \remitting double-array:  95% |########################################   | \remitting double-array:  96% |#########################################  | \remitting double-array:  97% |#########################################  | \remitting double-array:  98% |########################################## | \remitting double-array:  99% |########################################## | \remitting double-array: 100% |###########################################| \n",
            "reading ./matrix.def ... 3822x2693\n",
            "emitting matrix      :   0% |                                           | \remitting matrix      :   1% |                                           | \remitting matrix      :   2% |                                           | \remitting matrix      :   3% |#                                          | \remitting matrix      :   4% |#                                          | \remitting matrix      :   5% |##                                         | \remitting matrix      :   6% |##                                         | \remitting matrix      :   7% |###                                        | \remitting matrix      :   8% |###                                        | \remitting matrix      :   9% |###                                        | \remitting matrix      :  10% |####                                       | \remitting matrix      :  11% |####                                       | \remitting matrix      :  12% |#####                                      | \remitting matrix      :  13% |#####                                      | \remitting matrix      :  14% |######                                     | \remitting matrix      :  15% |######                                     | \remitting matrix      :  16% |######                                     | \remitting matrix      :  17% |#######                                    | \remitting matrix      :  18% |#######                                    | \remitting matrix      :  19% |########                                   | \remitting matrix      :  20% |########                                   | \remitting matrix      :  21% |#########                                  | \remitting matrix      :  22% |#########                                  | \remitting matrix      :  23% |#########                                  | \remitting matrix      :  24% |##########                                 | \remitting matrix      :  25% |##########                                 | \remitting matrix      :  26% |###########                                | \remitting matrix      :  27% |###########                                | \remitting matrix      :  28% |############                               | \remitting matrix      :  29% |############                               | \remitting matrix      :  30% |############                               | \remitting matrix      :  31% |#############                              | \remitting matrix      :  32% |#############                              | \remitting matrix      :  33% |##############                             | \remitting matrix      :  34% |##############                             | \remitting matrix      :  35% |###############                            | \remitting matrix      :  36% |###############                            | \remitting matrix      :  37% |###############                            | \remitting matrix      :  38% |################                           | \remitting matrix      :  39% |################                           | \remitting matrix      :  40% |#################                          | \remitting matrix      :  41% |#################                          | \remitting matrix      :  42% |##################                         | \remitting matrix      :  43% |##################                         | \remitting matrix      :  44% |##################                         | \remitting matrix      :  45% |###################                        | \remitting matrix      :  46% |###################                        | \remitting matrix      :  47% |####################                       | \remitting matrix      :  48% |####################                       | \remitting matrix      :  49% |#####################                      | \remitting matrix      :  50% |#####################                      | \remitting matrix      :  51% |#####################                      | \remitting matrix      :  52% |######################                     | \remitting matrix      :  53% |######################                     | \remitting matrix      :  54% |#######################                    | \remitting matrix      :  55% |#######################                    | \remitting matrix      :  56% |########################                   | \remitting matrix      :  57% |########################                   | \remitting matrix      :  58% |########################                   | \remitting matrix      :  59% |#########################                  | \remitting matrix      :  60% |#########################                  | \remitting matrix      :  61% |##########################                 | \remitting matrix      :  62% |##########################                 | \remitting matrix      :  63% |###########################                | \remitting matrix      :  64% |###########################                | \remitting matrix      :  65% |###########################                | \remitting matrix      :  66% |############################               | \remitting matrix      :  67% |############################               | \remitting matrix      :  68% |#############################              | \remitting matrix      :  69% |#############################              | \remitting matrix      :  70% |##############################             | \remitting matrix      :  71% |##############################             | \remitting matrix      :  72% |##############################             | \remitting matrix      :  73% |###############################            | \remitting matrix      :  74% |###############################            | \remitting matrix      :  75% |################################           | \remitting matrix      :  76% |################################           | \remitting matrix      :  77% |#################################          | \remitting matrix      :  78% |#################################          | \remitting matrix      :  79% |#################################          | \remitting matrix      :  80% |##################################         | \remitting matrix      :  81% |##################################         | \remitting matrix      :  82% |###################################        | \remitting matrix      :  83% |###################################        | \remitting matrix      :  84% |####################################       | \remitting matrix      :  85% |####################################       | \remitting matrix      :  86% |####################################       | \remitting matrix      :  87% |#####################################      | \remitting matrix      :  88% |#####################################      | \remitting matrix      :  89% |######################################     | \remitting matrix      :  90% |######################################     | \remitting matrix      :  91% |#######################################    | \remitting matrix      :  92% |#######################################    | \remitting matrix      :  93% |#######################################    | \remitting matrix      :  94% |########################################   | \remitting matrix      :  95% |########################################   | \remitting matrix      :  96% |#########################################  | \remitting matrix      :  97% |#########################################  | \remitting matrix      :  98% |########################################## | \remitting matrix      :  99% |########################################## | \remitting matrix      : 100% |###########################################| \n",
            "\n",
            "done!\n",
            "echo To enable dictionary, rewrite /usr/local/etc/mecabrc as \\\"dicdir = /usr/local/lib/mecab/dic/mecab-ko-dic\\\"\n",
            "To enable dictionary, rewrite /usr/local/etc/mecabrc as \"dicdir = /usr/local/lib/mecab/dic/mecab-ko-dic\"\n",
            "make[1]: Entering directory '/tmp/mecab-ko-dic-2.1.1-20180720'\n",
            "make[1]: Nothing to be done for 'install-exec-am'.\n",
            " /bin/mkdir -p '/usr/local/lib/mecab/dic/mecab-ko-dic'\n",
            " /usr/bin/install -c -m 644 model.bin matrix.bin char.bin sys.dic unk.dic left-id.def right-id.def rewrite.def pos-id.def dicrc '/usr/local/lib/mecab/dic/mecab-ko-dic'\n",
            "make[1]: Leaving directory '/tmp/mecab-ko-dic-2.1.1-20180720'\n",
            "Install mecab-python\n",
            "/tmp /tmp/mecab-ko-dic-2.1.1-20180720\n",
            "/tmp/mecab-ko-dic-2.1.1-20180720\n",
            "Looking in indexes: https://pypi.org/simple, https://us-python.pkg.dev/colab-wheels/public/simple/\n",
            "Processing /tmp/mecab-python-0.996\n",
            "Building wheels for collected packages: mecab-python\n",
            "  Building wheel for mecab-python (setup.py): started\n",
            "  Building wheel for mecab-python (setup.py): finished with status 'done'\n",
            "  Created wheel for mecab-python: filename=mecab_python-0.996_ko_0.9.2-cp37-cp37m-linux_x86_64.whl size=141800 sha256=1659d29715a0315f1c5d6bfd72cb0d774a441f61ae53bcb855bfee48d132b22c\n",
            "  Stored in directory: /root/.cache/pip/wheels/40/7b/9f/2922869bef86c3354ae7034f7a3647c573ee1997c2dad0290a\n",
            "Failed to build mecab-python\n",
            "Installing collected packages: mecab-python\n",
            "    Running setup.py install for mecab-python: started\n",
            "    Running setup.py install for mecab-python: finished with status 'done'\n",
            "Successfully installed mecab-python-0.996-ko-0.9.2\n",
            "Done.\n",
            "Looking in indexes: https://pypi.org/simple, https://us-python.pkg.dev/colab-wheels/public/simple/\n",
            "Processing /tmp/mecab-python-0.996\n",
            "Building wheels for collected packages: mecab-python\n",
            "  Building wheel for mecab-python (setup.py): started\n",
            "  Building wheel for mecab-python (setup.py): finished with status 'done'\n",
            "  Created wheel for mecab-python: filename=mecab_python-0.996_ko_0.9.2-cp37-cp37m-linux_x86_64.whl size=141809 sha256=b999e580953a883e8d2a310b5a5d33cb3f11d9c14c11a3aacb2b45ad3a68cd1a\n",
            "  Stored in directory: /root/.cache/pip/wheels/40/7b/9f/2922869bef86c3354ae7034f7a3647c573ee1997c2dad0290a\n",
            "Failed to build mecab-python\n",
            "Installing collected packages: mecab-python\n",
            "  Attempting uninstall: mecab-python\n",
            "    Found existing installation: mecab-python 0.996-ko-0.9.2\n",
            "    Uninstalling mecab-python-0.996-ko-0.9.2:\n",
            "      Successfully uninstalled mecab-python-0.996-ko-0.9.2\n",
            "    Running setup.py install for mecab-python: started\n",
            "    Running setup.py install for mecab-python: finished with status 'done'\n",
            "Successfully installed mecab-python-0.996-ko-0.9.2\n"
          ]
        },
        {
          "output_type": "stream",
          "name": "stderr",
          "text": [
            "debconf: unable to initialize frontend: Dialog\n",
            "debconf: (No usable dialog-like program is installed, so the dialog based frontend cannot be used. at /usr/share/perl5/Debconf/FrontEnd/Dialog.pm line 76, <> line 5.)\n",
            "debconf: falling back to frontend: Readline\n",
            "debconf: unable to initialize frontend: Readline\n",
            "debconf: (This frontend requires a controlling tty.)\n",
            "debconf: falling back to frontend: Teletype\n",
            "dpkg-preconfigure: unable to re-open stdin: \n",
            "  % Total    % Received % Xferd  Average Speed   Time    Time     Time  Current\n",
            "                                 Dload  Upload   Total   Spent    Left  Speed\n",
            "\r  0     0    0     0    0     0      0      0 --:--:-- --:--:-- --:--:--     0\r  0     0    0     0    0     0      0      0 --:--:-- --:--:-- --:--:--     0\n",
            "\r  0     0    0     0    0     0      0      0 --:--:--  0:00:01 --:--:--     0\r  2 1381k    2 33303    0     0  15775      0  0:01:29  0:00:02  0:01:27 35018\r 36 1381k   36  508k    0     0   171k      0  0:00:08  0:00:02  0:00:06  280k\r100 1381k  100 1381k    0     0   433k      0  0:00:03  0:00:03 --:--:--  680k\n",
            "./configure: line 7378: /usr/bin/file: No such file or directory\n",
            "In file included from viterbi.cpp:14:0:\n",
            "param.h:30:13: warning: 'Target {anonymous}::lexical_cast(Source) [with Target = std::__cxx11::basic_string<char>; Source = std::__cxx11::basic_string<char>]' defined but not used [-Wunused-function]\n",
            " std::string lexical_cast<std::string, std::string>(std::string arg) {\n",
            "             ^~~~~~~~~~~~~~~~~~~~~~~~~~~~~~~~~~~~~~\n",
            "learner_tagger.cpp:25:7: warning: 'char* MeCab::{anonymous}::mystrdup(const string&)' defined but not used [-Wunused-function]\n",
            " char *mystrdup(const std::string &str) {\n",
            "       ^~~~~~~~\n",
            "ar: `u' modifier ignored since `D' is the default (see `U')\n",
            "./pos-id.def is not found. minimum setting is used\n",
            "./pos-id.def is not found. minimum setting is used\n",
            "./pos-id.def is not found. minimum setting is used\n",
            "./pos-id.def is not found. minimum setting is used\n",
            "./pos-id.def is not found. minimum setting is used\n",
            "./pos-id.def is not found. minimum setting is used\n",
            "./pos-id.def is not found. minimum setting is used\n",
            "./pos-id.def is not found. minimum setting is used\n",
            "./pos-id.def is not found. minimum setting is used\n",
            "./pos-id.def is not found. minimum setting is used\n",
            "./pos-id.def is not found. minimum setting is used\n",
            "./pos-id.def is not found. minimum setting is used\n",
            "./pos-id.def is not found. minimum setting is used\n",
            "./pos-id.def is not found. minimum setting is used\n",
            "seed/pos-id.def is not found. minimum setting is used\n",
            "seed/pos-id.def is not found. minimum setting is used\n",
            "model-ipadic.c1.0.f1.dic/pos-id.def is not found. minimum setting is used\n",
            "model-ipadic.c1.0.f1.dic/pos-id.def is not found. minimum setting is used\n",
            "  % Total    % Received % Xferd  Average Speed   Time    Time     Time  Current\n",
            "                                 Dload  Upload   Total   Spent    Left  Speed\n",
            "\r  0     0    0     0    0     0      0      0 --:--:-- --:--:-- --:--:--     0\r  0     0    0     0    0     0      0      0 --:--:-- --:--:-- --:--:--     0\r  0     0    0     0    0     0      0      0 --:--:-- --:--:-- --:--:--     0\n",
            "\r  0     0    0     0    0     0      0      0 --:--:--  0:00:01 --:--:--     0\r  0 47.4M    0 68083    0     0  28799      0  0:28:48  0:00:02  0:28:46 69543\r  3 47.4M    3 1493k    0     0   432k      0  0:01:52  0:00:03  0:01:49  721k\r 23 47.4M   23 11.3M    0     0  2676k      0  0:00:18  0:00:04  0:00:14 3935k\r 54 47.4M   54 26.0M    0     0  4923k      0  0:00:09  0:00:05  0:00:04 6613k\r 79 47.4M   79 37.8M    0     0  6160k      0  0:00:07  0:00:06  0:00:01 7898k\r100 47.4M  100 47.4M    0     0  6991k      0  0:00:06  0:00:06 --:--:-- 10.3M\n",
            "configure.ac:2: warning: AM_INIT_AUTOMAKE: two- and three-arguments forms are deprecated.  For more info, see:\n",
            "configure.ac:2: http://www.gnu.org/software/automake/manual/automake.html#Modernize-AM_005fINIT_005fAUTOMAKE-invocation\n",
            "/tmp/mecab-ko-dic-2.1.1-20180720/missing: Unknown `--is-lightweight' option\n",
            "Try `/tmp/mecab-ko-dic-2.1.1-20180720/missing --help' for more information\n",
            "configure: WARNING: 'missing' script is too old or missing\n",
            "/sbin/ldconfig.real: /usr/local/lib/python3.7/dist-packages/ideep4py/lib/libmkldnn.so.0 is not a symbolic link\n",
            "\n",
            "Cloning into 'mecab-python-0.996'...\n",
            "  DEPRECATION: A future pip version will change local packages to be built in-place without first copying to a temporary directory. We recommend you use --use-feature=in-tree-build to test your packages with this new behavior before it becomes the default.\n",
            "   pip 21.3 will remove support for this functionality. You can find discussion regarding this at https://github.com/pypa/pip/issues/7555.\n",
            "  WARNING: Built wheel for mecab-python is invalid: Metadata 1.2 mandates PEP 440 version, but '0.996-ko-0.9.2' is not\n",
            "  DEPRECATION: mecab-python was installed using the legacy 'setup.py install' method, because a wheel could not be built for it. A possible replacement is to fix the wheel build issue reported above. You can find discussion regarding this at https://github.com/pypa/pip/issues/8368.\n",
            "  DEPRECATION: A future pip version will change local packages to be built in-place without first copying to a temporary directory. We recommend you use --use-feature=in-tree-build to test your packages with this new behavior before it becomes the default.\n",
            "   pip 21.3 will remove support for this functionality. You can find discussion regarding this at https://github.com/pypa/pip/issues/7555.\n",
            "  WARNING: Built wheel for mecab-python is invalid: Metadata 1.2 mandates PEP 440 version, but '0.996-ko-0.9.2' is not\n",
            "  DEPRECATION: mecab-python was installed using the legacy 'setup.py install' method, because a wheel could not be built for it. A possible replacement is to fix the wheel build issue reported above. You can find discussion regarding this at https://github.com/pypa/pip/issues/8368.\n"
          ]
        }
      ],
      "source": [
        "%%bash\n",
        "bash <(curl -s https://raw.githubusercontent.com/konlpy/konlpy/master/scripts/mecab.sh)\n",
        "pip3 install /tmp/mecab-python-0.996"
      ]
    },
    {
      "cell_type": "markdown",
      "metadata": {
        "id": "bqiQlGjbE5tr"
      },
      "source": [
        "## seq2seq.ipynb"
      ]
    },
    {
      "cell_type": "markdown",
      "metadata": {
        "id": "b7Mvs0r_GO6Y"
      },
      "source": [
        "### 모듈 불러오기"
      ]
    },
    {
      "cell_type": "code",
      "execution_count": null,
      "metadata": {
        "id": "Ct9jCvqNC6pd"
      },
      "outputs": [],
      "source": [
        "import tensorflow as tf\n",
        "import numpy as np\n",
        "import os\n",
        "\n",
        "from tensorflow.keras.callbacks import EarlyStopping, ModelCheckpoint\n",
        "import matplotlib.pyplot as plt\n",
        "\n",
        "from preprocess import *"
      ]
    },
    {
      "cell_type": "markdown",
      "metadata": {
        "id": "nCwX3FQ0GMHm"
      },
      "source": [
        "### 시각화 함수"
      ]
    },
    {
      "cell_type": "code",
      "execution_count": null,
      "metadata": {
        "id": "pVcG74f-GI7A"
      },
      "outputs": [],
      "source": [
        "def plot_graphs(history, string):\n",
        "    plt.plot(history.history[string])\n",
        "    plt.plot(history.history['val_'+string], '')\n",
        "    plt.xlabel(\"Epochs\")\n",
        "    plt.ylabel(string)\n",
        "    plt.legend([string, 'val_'+string])\n",
        "    plt.show()"
      ]
    },
    {
      "cell_type": "markdown",
      "metadata": {
        "id": "V_-mlzX4GSxA"
      },
      "source": [
        "### 학습 데이터 경로 설정"
      ]
    },
    {
      "cell_type": "code",
      "execution_count": null,
      "metadata": {
        "id": "TA5KLpsyGSbY"
      },
      "outputs": [],
      "source": [
        "DATA_IN_PATH = './data_in/'\n",
        "DATA_OUT_PATH = './data_out/'\n",
        "TRAIN_INPUTS = 'train_inputs.npy'\n",
        "TRAIN_OUTPUTS = 'train_outputs.npy'\n",
        "TRAIN_TARGETS = 'train_targets.npy'\n",
        "DATA_CONFIGS = 'data_configs.json'"
      ]
    },
    {
      "cell_type": "markdown",
      "metadata": {
        "id": "vBXL0_bBGXg4"
      },
      "source": [
        "### 랜덤 시드값 선언"
      ]
    },
    {
      "cell_type": "code",
      "execution_count": null,
      "metadata": {
        "id": "aOBew5puGZ1K"
      },
      "outputs": [],
      "source": [
        "SEED_NUM = 1234\n",
        "tf.random.set_seed(SEED_NUM)"
      ]
    },
    {
      "cell_type": "markdown",
      "metadata": {
        "id": "-00X7YE8Gb5O"
      },
      "source": [
        "### 전처리된 데이터와 설정값 불러오기 및 데이터간 크기 동일 확인"
      ]
    },
    {
      "cell_type": "code",
      "execution_count": null,
      "metadata": {
        "id": "WUWMlq5EGfHW"
      },
      "outputs": [],
      "source": [
        "index_inputs = np.load(open(DATA_IN_PATH + TRAIN_INPUTS, 'rb'))\n",
        "index_outputs = np.load(open(DATA_IN_PATH + TRAIN_OUTPUTS , 'rb'))\n",
        "index_targets = np.load(open(DATA_IN_PATH + TRAIN_TARGETS , 'rb'))\n",
        "prepro_configs = json.load(open(DATA_IN_PATH + DATA_CONFIGS, 'r'))"
      ]
    },
    {
      "cell_type": "code",
      "execution_count": null,
      "metadata": {
        "colab": {
          "base_uri": "https://localhost:8080/"
        },
        "id": "jCV4PJ5QGmUW",
        "outputId": "e09daa8a-79ae-4920-dcf7-5121d92446b9"
      },
      "outputs": [
        {
          "output_type": "stream",
          "name": "stdout",
          "text": [
            "11823 11823 11823\n"
          ]
        }
      ],
      "source": [
        "print(len(index_inputs),  len(index_outputs), len(index_targets))"
      ]
    },
    {
      "cell_type": "markdown",
      "metadata": {
        "id": "_cUK4wlEGwqD"
      },
      "source": [
        "### 모델 구성에 필요한 값 선언"
      ]
    },
    {
      "cell_type": "code",
      "execution_count": null,
      "metadata": {
        "id": "GflU96-PGy1b"
      },
      "outputs": [],
      "source": [
        "MODEL_NAME = 'seq2seq_kor'\n",
        "BATCH_SIZE = 2\n",
        "MAX_SEQUENCE = 25\n",
        "EPOCH = 15\n",
        "UNITS = 1024\n",
        "EMBEDDING_DIM = 256\n",
        "VALIDATION_SPLIT = 0.1 \n",
        "\n",
        "char2idx = prepro_configs['char2idx']\n",
        "idx2char = prepro_configs['idx2char']\n",
        "std_index = prepro_configs['std_symbol']\n",
        "end_index = prepro_configs['end_symbol']\n",
        "vocab_size = prepro_configs['vocab_size']"
      ]
    },
    {
      "cell_type": "markdown",
      "metadata": {
        "id": "B4CU26_HG-gq"
      },
      "source": [
        "## 모델"
      ]
    },
    {
      "cell_type": "markdown",
      "metadata": {
        "id": "oe-sGHcLHBD8"
      },
      "source": [
        "## 인코더"
      ]
    },
    {
      "cell_type": "code",
      "execution_count": null,
      "metadata": {
        "id": "e96tsl3zHAXa"
      },
      "outputs": [],
      "source": [
        "class Encoder(tf.keras.layers.Layer):\n",
        "    def __init__(self, vocab_size, embedding_dim, enc_units, batch_sz):\n",
        "        super(Encoder, self).__init__()\n",
        "        self.batch_sz = batch_sz\n",
        "        self.enc_units = enc_units\n",
        "        self.vocab_size = vocab_size \n",
        "        self.embedding_dim = embedding_dim          \n",
        "        \n",
        "        self.embedding = tf.keras.layers.Embedding(self.vocab_size, self.embedding_dim)\n",
        "        self.gru = tf.keras.layers.GRU(self.enc_units,\n",
        "                                       return_sequences=True, # 각 시퀀스마다 출력을 반환 할지 여부\n",
        "                                       return_state=True,     # 마지막 상태 값의 반환 여부\n",
        "                                       recurrent_initializer='glorot_uniform') # 초기값을 무엇으로 할지 선언\n",
        "        # glorot_uniform : Glorot 또는 Xavier 초기화라고도 불리는 초기화 방법\n",
        "        # 이전 노드와 다음 노드의 개수에 의존하는 방식\n",
        "        # glorot_uniform 분포 or glorot_normal 분포 중에 선택\n",
        "\n",
        "    def call(self, x, hidden):\n",
        "        x = self.embedding(x)\n",
        "        output, state = self.gru(x, initial_state = hidden)\n",
        "        return output, state\n",
        "\n",
        "    def initialize_hidden_state(self, inp):\n",
        "        return tf.zeros((tf.shape(inp)[0], self.enc_units))"
      ]
    },
    {
      "cell_type": "markdown",
      "metadata": {
        "id": "FpC7w8NXETVF"
      },
      "source": [
        "### 어텐션"
      ]
    },
    {
      "cell_type": "code",
      "execution_count": null,
      "metadata": {
        "id": "kBl8lagZCZ96"
      },
      "outputs": [],
      "source": [
        "class BahdanauAttention(tf.keras.layers.Layer):\n",
        "    def __init__(self, units):\n",
        "        super(BahdanauAttention, self).__init__()\n",
        "        self.W1 = tf.keras.layers.Dense(units)\n",
        "        self.W2 = tf.keras.layers.Dense(units)\n",
        "        self.V = tf.keras.layers.Dense(1)\n",
        "\n",
        "    def call(self, query, values):\n",
        "        hidden_with_time_axis = tf.expand_dims(query, 1)\n",
        "\n",
        "        score = self.V(tf.nn.tanh(\n",
        "            self.W1(values) + self.W2(hidden_with_time_axis)))\n",
        "\n",
        "        attention_weights = tf.nn.softmax(score, axis=1)\n",
        "\n",
        "        context_vector = attention_weights * values\n",
        "        context_vector = tf.reduce_sum(context_vector, axis=1)\n",
        "\n",
        "        return context_vector, attention_weights"
      ]
    },
    {
      "cell_type": "markdown",
      "metadata": {
        "id": "ukJkZk2sZEV_"
      },
      "source": [
        "### TEST(tanh,softmax,np.array,reduce_sum)"
      ]
    },
    {
      "cell_type": "markdown",
      "source": [
        "### tanh"
      ],
      "metadata": {
        "id": "2et13JpjSf-t"
      }
    },
    {
      "cell_type": "code",
      "execution_count": null,
      "metadata": {
        "colab": {
          "base_uri": "https://localhost:8080/"
        },
        "id": "9moqS8u2QQLn",
        "outputId": "387efb03-260e-467f-abe8-9a4fea12462c"
      },
      "outputs": [
        {
          "output_type": "stream",
          "name": "stdout",
          "text": [
            "(2, 2, 3)\n"
          ]
        },
        {
          "output_type": "execute_result",
          "data": {
            "text/plain": [
              "<tf.Tensor: shape=(2, 2, 3), dtype=float32, numpy=\n",
              "array([[[0.7615942 , 0.9640276 , 0.9950547 ],\n",
              "        [0.7615942 , 0.9950547 , 0.9640276 ]],\n",
              "\n",
              "       [[0.379949  , 0.7615942 , 0.99990916],\n",
              "        [0.99990916, 0.7615942 , 0.379949  ]]], dtype=float32)>"
            ]
          },
          "metadata": {},
          "execution_count": 16
        }
      ],
      "source": [
        "a=[[[1,2,3],[1,3,2]],[[0.4,1,5],[5,1,0.4]]]\n",
        "print(np.shape(a))\n",
        "p=tf.nn.tanh(a)\n",
        "p"
      ]
    },
    {
      "cell_type": "markdown",
      "source": [
        "### softmax"
      ],
      "metadata": {
        "id": "kkzYKOkYShtF"
      }
    },
    {
      "cell_type": "code",
      "execution_count": null,
      "metadata": {
        "colab": {
          "base_uri": "https://localhost:8080/"
        },
        "id": "VBTvk7UVRSD_",
        "outputId": "e79f64d9-d45e-479c-f72e-57f8a495e529"
      },
      "outputs": [
        {
          "output_type": "execute_result",
          "data": {
            "text/plain": [
              "(2, 2, 1)"
            ]
          },
          "metadata": {},
          "execution_count": 17
        }
      ],
      "source": [
        "p=[[[8.4],[10.6]],[[4.5],[4.6]]]\n",
        "np.shape(p)"
      ]
    },
    {
      "cell_type": "code",
      "execution_count": null,
      "metadata": {
        "colab": {
          "base_uri": "https://localhost:8080/"
        },
        "id": "4Q4WOQOgQ_2Q",
        "outputId": "44a57d1a-b4e5-49e0-8848-6ea41d5c8317"
      },
      "outputs": [
        {
          "output_type": "execute_result",
          "data": {
            "text/plain": [
              "<tf.Tensor: shape=(2, 2, 1), dtype=float32, numpy=\n",
              "array([[[0.09975041],\n",
              "        [0.90024954]],\n",
              "\n",
              "       [[0.47502083],\n",
              "        [0.5249791 ]]], dtype=float32)>"
            ]
          },
          "metadata": {},
          "execution_count": 18
        }
      ],
      "source": [
        "tf.nn.softmax(p,axis=1)"
      ]
    },
    {
      "cell_type": "code",
      "source": [
        "tf.nn.softmax(p,axis=0)"
      ],
      "metadata": {
        "colab": {
          "base_uri": "https://localhost:8080/"
        },
        "id": "aR37xfkqR2I1",
        "outputId": "92b0cff5-04b1-45ca-ca94-6292b08baf30"
      },
      "execution_count": null,
      "outputs": [
        {
          "output_type": "execute_result",
          "data": {
            "text/plain": [
              "<tf.Tensor: shape=(2, 2, 1), dtype=float32, numpy=\n",
              "array([[[0.98015964],\n",
              "        [0.9975274 ]],\n",
              "\n",
              "       [[0.01984031],\n",
              "        [0.00247262]]], dtype=float32)>"
            ]
          },
          "metadata": {},
          "execution_count": 19
        }
      ]
    },
    {
      "cell_type": "code",
      "source": [
        "tf.nn.softmax(p,axis=2)"
      ],
      "metadata": {
        "colab": {
          "base_uri": "https://localhost:8080/"
        },
        "id": "tKxciN_WR4kd",
        "outputId": "d5657781-fb53-413d-d945-11658623fa47"
      },
      "execution_count": null,
      "outputs": [
        {
          "output_type": "execute_result",
          "data": {
            "text/plain": [
              "<tf.Tensor: shape=(2, 2, 1), dtype=float32, numpy=\n",
              "array([[[1.],\n",
              "        [1.]],\n",
              "\n",
              "       [[1.],\n",
              "        [1.]]], dtype=float32)>"
            ]
          },
          "metadata": {},
          "execution_count": 20
        }
      ]
    },
    {
      "cell_type": "code",
      "source": [
        "p=[[[8.4,5.6],[10.6,5.6]],[[4.5,5.6],[4.6,5.6]]]\n",
        "np.shape(p)"
      ],
      "metadata": {
        "colab": {
          "base_uri": "https://localhost:8080/"
        },
        "id": "9NZo5Kq-SR81",
        "outputId": "cac9f8cb-4177-4a0f-f0e7-57879d0407b5"
      },
      "execution_count": null,
      "outputs": [
        {
          "output_type": "execute_result",
          "data": {
            "text/plain": [
              "(2, 2, 2)"
            ]
          },
          "metadata": {},
          "execution_count": 21
        }
      ]
    },
    {
      "cell_type": "code",
      "source": [
        "tf.nn.softmax(p,axis=2)"
      ],
      "metadata": {
        "colab": {
          "base_uri": "https://localhost:8080/"
        },
        "id": "uRChDRS4ScbN",
        "outputId": "805673e4-8747-4fd3-b301-7e31d5bf7890"
      },
      "execution_count": null,
      "outputs": [
        {
          "output_type": "execute_result",
          "data": {
            "text/plain": [
              "<tf.Tensor: shape=(2, 2, 2), dtype=float32, numpy=\n",
              "array([[[0.9426758 , 0.05732419],\n",
              "        [0.9933072 , 0.00669285]],\n",
              "\n",
              "       [[0.24973992, 0.7502601 ],\n",
              "        [0.26894143, 0.73105854]]], dtype=float32)>"
            ]
          },
          "metadata": {},
          "execution_count": 22
        }
      ]
    },
    {
      "cell_type": "markdown",
      "source": [
        "### np.array 연산"
      ],
      "metadata": {
        "id": "eQU99DH3Sj0V"
      }
    },
    {
      "cell_type": "code",
      "execution_count": null,
      "metadata": {
        "colab": {
          "base_uri": "https://localhost:8080/"
        },
        "id": "FFYFJuqtcE14",
        "outputId": "d960a1f7-c6f1-4261-ea78-11697ba49208"
      },
      "outputs": [
        {
          "data": {
            "text/plain": [
              "array([[[ 6,  8]],\n",
              "\n",
              "       [[10, 12]]])"
            ]
          },
          "execution_count": 26,
          "metadata": {},
          "output_type": "execute_result"
        }
      ],
      "source": [
        "a=np.array([[[1,2]],[[3,4]]])\n",
        "b=np.array([[[5,6]],[[7,8]]])\n",
        "a+b"
      ]
    },
    {
      "cell_type": "code",
      "execution_count": null,
      "metadata": {
        "colab": {
          "base_uri": "https://localhost:8080/"
        },
        "id": "AWkDdhaeeQgf",
        "outputId": "859799ae-0ef7-41e9-e351-7535211b6a13"
      },
      "outputs": [
        {
          "data": {
            "text/plain": [
              "array([[4, 6],\n",
              "       [6, 8]])"
            ]
          },
          "execution_count": 27,
          "metadata": {},
          "output_type": "execute_result"
        }
      ],
      "source": [
        "a=np.array([1,2])\n",
        "b=np.array([[3,4],[5,6]])\n",
        "a+b"
      ]
    },
    {
      "cell_type": "code",
      "execution_count": null,
      "metadata": {
        "colab": {
          "base_uri": "https://localhost:8080/"
        },
        "id": "gn2A38gBeb_0",
        "outputId": "581a2c09-0d6e-415c-f92f-ce1c9b2171a4"
      },
      "outputs": [
        {
          "data": {
            "text/plain": [
              "array([[4, 5],\n",
              "       [7, 8]])"
            ]
          },
          "execution_count": 28,
          "metadata": {},
          "output_type": "execute_result"
        }
      ],
      "source": [
        "a=np.array([[1],[2]])\n",
        "b=np.array([[3,4],[5,6]])\n",
        "a+b"
      ]
    },
    {
      "cell_type": "code",
      "source": [
        "a=np.array([[[1],[2],[3]]])\n",
        "b=np.array([[[7,8,9],[10,11,12],[13,14,15]]])\n",
        "print(a)\n",
        "print(b)\n",
        "a*b"
      ],
      "metadata": {
        "colab": {
          "base_uri": "https://localhost:8080/"
        },
        "id": "yCdk5yEoUW2V",
        "outputId": "c63e5105-0678-4e48-d589-4fcb838aba94"
      },
      "execution_count": null,
      "outputs": [
        {
          "output_type": "stream",
          "name": "stdout",
          "text": [
            "[[[1]\n",
            "  [2]\n",
            "  [3]]]\n",
            "[[[ 7  8  9]\n",
            "  [10 11 12]\n",
            "  [13 14 15]]]\n"
          ]
        },
        {
          "output_type": "execute_result",
          "data": {
            "text/plain": [
              "array([[[ 7,  8,  9],\n",
              "        [20, 22, 24],\n",
              "        [39, 42, 45]]])"
            ]
          },
          "metadata": {},
          "execution_count": 24
        }
      ]
    },
    {
      "cell_type": "markdown",
      "source": [
        "### tf.reduce_sum( axis=1)"
      ],
      "metadata": {
        "id": "wL8BiPkRgKsy"
      }
    },
    {
      "cell_type": "code",
      "source": [
        "b=np.array([[[7,8,9],[10,11,12],[13,14,15]]])\n",
        "print(b)\n",
        "b=tf.reduce_sum(b,axis=1)\n",
        "b "
      ],
      "metadata": {
        "colab": {
          "base_uri": "https://localhost:8080/"
        },
        "id": "GewMiON6gKN6",
        "outputId": "a4deafd0-beac-4657-d42d-bbc35cd26ff1"
      },
      "execution_count": null,
      "outputs": [
        {
          "output_type": "stream",
          "name": "stdout",
          "text": [
            "[[[ 7  8  9]\n",
            "  [10 11 12]\n",
            "  [13 14 15]]]\n"
          ]
        },
        {
          "output_type": "execute_result",
          "data": {
            "text/plain": [
              "<tf.Tensor: shape=(1, 3), dtype=int64, numpy=array([[30, 33, 36]])>"
            ]
          },
          "metadata": {},
          "execution_count": 9
        }
      ]
    },
    {
      "cell_type": "code",
      "source": [
        "b=np.array([[[7,8,9],[10,11,12],[13,14,15]]])\n",
        "b=tf.reduce_sum(b,axis=0)\n",
        "b"
      ],
      "metadata": {
        "colab": {
          "base_uri": "https://localhost:8080/"
        },
        "id": "8hSQGQdegY8b",
        "outputId": "f95c004b-992d-4639-e73d-df7a84fbcea3"
      },
      "execution_count": null,
      "outputs": [
        {
          "output_type": "execute_result",
          "data": {
            "text/plain": [
              "<tf.Tensor: shape=(3, 3), dtype=int64, numpy=\n",
              "array([[ 7,  8,  9],\n",
              "       [10, 11, 12],\n",
              "       [13, 14, 15]])>"
            ]
          },
          "metadata": {},
          "execution_count": 6
        }
      ]
    },
    {
      "cell_type": "code",
      "source": [
        "b=np.array([[[7,8,9],[10,11,12],[13,14,15]]])\n",
        "b=tf.reduce_sum(b,axis=2)\n",
        "b"
      ],
      "metadata": {
        "colab": {
          "base_uri": "https://localhost:8080/"
        },
        "id": "tU-n1b8qrMbu",
        "outputId": "644453f7-59ff-454a-a5f6-7129c3d59b22"
      },
      "execution_count": null,
      "outputs": [
        {
          "output_type": "execute_result",
          "data": {
            "text/plain": [
              "<tf.Tensor: shape=(1, 3), dtype=int64, numpy=array([[24, 33, 42]])>"
            ]
          },
          "metadata": {},
          "execution_count": 7
        }
      ]
    },
    {
      "cell_type": "markdown",
      "source": [
        "---"
      ],
      "metadata": {
        "id": "GDpRxOhBrbbW"
      }
    },
    {
      "cell_type": "code",
      "source": [
        "b=np.array([[[7,8,9],[10,11,12]],[[1,2,3],[4,5,6]]])\n",
        "print(b)\n",
        "b=tf.reduce_sum(b,axis=1)\n",
        "b "
      ],
      "metadata": {
        "colab": {
          "base_uri": "https://localhost:8080/"
        },
        "id": "IDbfnLKNpMeP",
        "outputId": "7d03ca17-f739-4e2e-f522-cb81077a7ef6"
      },
      "execution_count": null,
      "outputs": [
        {
          "output_type": "stream",
          "name": "stdout",
          "text": [
            "[[[ 7  8  9]\n",
            "  [10 11 12]]\n",
            "\n",
            " [[ 1  2  3]\n",
            "  [ 4  5  6]]]\n"
          ]
        },
        {
          "output_type": "execute_result",
          "data": {
            "text/plain": [
              "<tf.Tensor: shape=(2, 3), dtype=int64, numpy=\n",
              "array([[17, 19, 21],\n",
              "       [ 5,  7,  9]])>"
            ]
          },
          "metadata": {},
          "execution_count": 2
        }
      ]
    },
    {
      "cell_type": "code",
      "source": [
        "b=np.array([[[7,8,9],[10,11,12]],[[1,2,3],[4,5,6]]])\n",
        "print(b)\n",
        "b=tf.reduce_sum(b,axis=0)\n",
        "b "
      ],
      "metadata": {
        "colab": {
          "base_uri": "https://localhost:8080/"
        },
        "id": "DqTriFVbquSW",
        "outputId": "0a3ef9ab-967f-4c18-d593-f006d184e494"
      },
      "execution_count": null,
      "outputs": [
        {
          "output_type": "stream",
          "name": "stdout",
          "text": [
            "[[[ 7  8  9]\n",
            "  [10 11 12]]\n",
            "\n",
            " [[ 1  2  3]\n",
            "  [ 4  5  6]]]\n"
          ]
        },
        {
          "output_type": "execute_result",
          "data": {
            "text/plain": [
              "<tf.Tensor: shape=(2, 3), dtype=int64, numpy=\n",
              "array([[ 8, 10, 12],\n",
              "       [14, 16, 18]])>"
            ]
          },
          "metadata": {},
          "execution_count": 3
        }
      ]
    },
    {
      "cell_type": "code",
      "source": [
        "b=np.array([[[7,8,9],[10,11,12]],[[1,2,3],[4,5,6]]])\n",
        "print(b)\n",
        "b=tf.reduce_sum(b,axis=2)\n",
        "b "
      ],
      "metadata": {
        "colab": {
          "base_uri": "https://localhost:8080/"
        },
        "id": "E2855_njq1Hm",
        "outputId": "e815ba45-dbdb-4c5a-b0ea-9721f4767f1f"
      },
      "execution_count": null,
      "outputs": [
        {
          "output_type": "stream",
          "name": "stdout",
          "text": [
            "[[[ 7  8  9]\n",
            "  [10 11 12]]\n",
            "\n",
            " [[ 1  2  3]\n",
            "  [ 4  5  6]]]\n"
          ]
        },
        {
          "output_type": "execute_result",
          "data": {
            "text/plain": [
              "<tf.Tensor: shape=(2, 2), dtype=int64, numpy=\n",
              "array([[24, 33],\n",
              "       [ 6, 15]])>"
            ]
          },
          "metadata": {},
          "execution_count": 4
        }
      ]
    },
    {
      "cell_type": "markdown",
      "source": [
        "### tf.expand_dims "
      ],
      "metadata": {
        "id": "7bblnVNVmxzf"
      }
    },
    {
      "cell_type": "markdown",
      "source": [
        " axis\n",
        " 0(3차원 : -3)\\\n",
        " 1(2차원 : -2)\\\n",
        " 2(1차원 : -1)\n"
      ],
      "metadata": {
        "id": "t4wBeYFkp6aA"
      }
    },
    {
      "cell_type": "code",
      "source": [
        "c=[[1,2,3,4]]\n",
        "c=tf.expand_dims(c,axis=0)\n",
        "c"
      ],
      "metadata": {
        "colab": {
          "base_uri": "https://localhost:8080/"
        },
        "id": "syuKxU1zpKln",
        "outputId": "6b395569-812e-4ac4-ba93-68e3a876a03c"
      },
      "execution_count": null,
      "outputs": [
        {
          "output_type": "execute_result",
          "data": {
            "text/plain": [
              "<tf.Tensor: shape=(1, 1, 4), dtype=int32, numpy=array([[[1, 2, 3, 4]]], dtype=int32)>"
            ]
          },
          "metadata": {},
          "execution_count": 22
        }
      ]
    },
    {
      "cell_type": "code",
      "source": [
        "c=[[1,2,3,4]]\n",
        "c=tf.expand_dims(c,axis=1)\n",
        "c"
      ],
      "metadata": {
        "colab": {
          "base_uri": "https://localhost:8080/"
        },
        "id": "YFEwh1RKpOXI",
        "outputId": "7ebd851f-b452-4284-9ef2-0ac7bb46e25d"
      },
      "execution_count": null,
      "outputs": [
        {
          "output_type": "execute_result",
          "data": {
            "text/plain": [
              "<tf.Tensor: shape=(1, 1, 4), dtype=int32, numpy=array([[[1, 2, 3, 4]]], dtype=int32)>"
            ]
          },
          "metadata": {},
          "execution_count": 23
        }
      ]
    },
    {
      "cell_type": "code",
      "source": [
        "c=[[1,2,3,4]]\n",
        "c=tf.expand_dims(c,axis=2)\n",
        "c"
      ],
      "metadata": {
        "colab": {
          "base_uri": "https://localhost:8080/"
        },
        "id": "PWJmo6I7pQHO",
        "outputId": "71a726a8-8805-4cdc-f38b-c30f194300c7"
      },
      "execution_count": null,
      "outputs": [
        {
          "output_type": "execute_result",
          "data": {
            "text/plain": [
              "<tf.Tensor: shape=(1, 4, 1), dtype=int32, numpy=\n",
              "array([[[1],\n",
              "        [2],\n",
              "        [3],\n",
              "        [4]]], dtype=int32)>"
            ]
          },
          "metadata": {},
          "execution_count": 26
        }
      ]
    },
    {
      "cell_type": "markdown",
      "source": [
        "---"
      ],
      "metadata": {
        "id": "EPLYu48qpZw3"
      }
    },
    {
      "cell_type": "code",
      "source": [
        "c=[[1,2,3,4],[5,6,7,8]]\n",
        "c=tf.expand_dims(c,axis=0)\n",
        "c"
      ],
      "metadata": {
        "colab": {
          "base_uri": "https://localhost:8080/"
        },
        "id": "aSrRD9bDmxMH",
        "outputId": "e8410b29-769a-476d-df5d-5ae8298a277a"
      },
      "execution_count": null,
      "outputs": [
        {
          "output_type": "execute_result",
          "data": {
            "text/plain": [
              "<tf.Tensor: shape=(1, 2, 4), dtype=int32, numpy=\n",
              "array([[[1, 2, 3, 4],\n",
              "        [5, 6, 7, 8]]], dtype=int32)>"
            ]
          },
          "metadata": {},
          "execution_count": 18
        }
      ]
    },
    {
      "cell_type": "code",
      "source": [
        "c=[[1,2,3,4],[5,6,7,8]]\n",
        "c=tf.expand_dims(c,axis=1)\n",
        "c"
      ],
      "metadata": {
        "colab": {
          "base_uri": "https://localhost:8080/"
        },
        "id": "Z-6wmI9ZnEOv",
        "outputId": "ca108b91-d567-43c3-c747-59f072c28237"
      },
      "execution_count": null,
      "outputs": [
        {
          "output_type": "execute_result",
          "data": {
            "text/plain": [
              "<tf.Tensor: shape=(2, 1, 4), dtype=int32, numpy=\n",
              "array([[[1, 2, 3, 4]],\n",
              "\n",
              "       [[5, 6, 7, 8]]], dtype=int32)>"
            ]
          },
          "metadata": {},
          "execution_count": 20
        }
      ]
    },
    {
      "cell_type": "code",
      "source": [
        "c=[[1,2,3,4],[5,6,7,8]]\n",
        "c=tf.expand_dims(c,axis=2)\n",
        "c"
      ],
      "metadata": {
        "colab": {
          "base_uri": "https://localhost:8080/"
        },
        "id": "1ZMLdrk2ns4v",
        "outputId": "c9b7e163-3eda-4c1d-fea4-997e6cd788f3"
      },
      "execution_count": null,
      "outputs": [
        {
          "output_type": "execute_result",
          "data": {
            "text/plain": [
              "<tf.Tensor: shape=(2, 4, 1), dtype=int32, numpy=\n",
              "array([[[1],\n",
              "        [2],\n",
              "        [3],\n",
              "        [4]],\n",
              "\n",
              "       [[5],\n",
              "        [6],\n",
              "        [7],\n",
              "        [8]]], dtype=int32)>"
            ]
          },
          "metadata": {},
          "execution_count": 21
        }
      ]
    },
    {
      "cell_type": "code",
      "source": [
        "c=[1]\n",
        "tf.expand_dims(c,1)"
      ],
      "metadata": {
        "colab": {
          "base_uri": "https://localhost:8080/"
        },
        "id": "SX-hHtS1rQiY",
        "outputId": "f5f07986-497a-49f9-b1c0-67680a97cb16"
      },
      "execution_count": null,
      "outputs": [
        {
          "output_type": "execute_result",
          "data": {
            "text/plain": [
              "<tf.Tensor: shape=(1, 1), dtype=int32, numpy=array([[1]], dtype=int32)>"
            ]
          },
          "metadata": {},
          "execution_count": 5
        }
      ]
    },
    {
      "cell_type": "code",
      "source": [
        "import numpy as np\n",
        "a=np.array([[1,2,3]])\n",
        "a[0]"
      ],
      "metadata": {
        "colab": {
          "base_uri": "https://localhost:8080/"
        },
        "id": "MVeYQd2fshN-",
        "outputId": "c016e58a-96f5-4d91-98fa-efe743f86f0a"
      },
      "execution_count": null,
      "outputs": [
        {
          "output_type": "execute_result",
          "data": {
            "text/plain": [
              "array([1, 2, 3])"
            ]
          },
          "metadata": {},
          "execution_count": 11
        }
      ]
    },
    {
      "cell_type": "code",
      "source": [
        "tf.argmax(a[0])"
      ],
      "metadata": {
        "colab": {
          "base_uri": "https://localhost:8080/"
        },
        "id": "yY0Vg8JmsySH",
        "outputId": "92a20b51-5fea-4f31-d838-a2c5a6113184"
      },
      "execution_count": null,
      "outputs": [
        {
          "output_type": "execute_result",
          "data": {
            "text/plain": [
              "<tf.Tensor: shape=(), dtype=int64, numpy=2>"
            ]
          },
          "metadata": {},
          "execution_count": 14
        }
      ]
    },
    {
      "cell_type": "markdown",
      "source": [
        "### tf.concat"
      ],
      "metadata": {
        "id": "rNnKcEn9p9H4"
      }
    },
    {
      "cell_type": "code",
      "source": [
        "import tensorflow as tf\n",
        "import numpy as np"
      ],
      "metadata": {
        "id": "dtQK8ZUTs9Ed"
      },
      "execution_count": null,
      "outputs": []
    },
    {
      "cell_type": "code",
      "source": [
        "a=np.array([[1,2,3],[4,5,6],[7,8,9]])\n",
        "a"
      ],
      "metadata": {
        "colab": {
          "base_uri": "https://localhost:8080/"
        },
        "id": "IAUdcEC6-HHf",
        "outputId": "af95a9d9-7a27-4e0f-bcab-3aac6a5b6def"
      },
      "execution_count": null,
      "outputs": [
        {
          "output_type": "execute_result",
          "data": {
            "text/plain": [
              "array([[1, 2, 3],\n",
              "       [4, 5, 6],\n",
              "       [7, 8, 9]])"
            ]
          },
          "metadata": {},
          "execution_count": 59
        }
      ]
    },
    {
      "cell_type": "code",
      "source": [
        "print(a[:,1])\n"
      ],
      "metadata": {
        "colab": {
          "base_uri": "https://localhost:8080/"
        },
        "id": "D0hvFF7D_LIP",
        "outputId": "5a3bcd52-39bb-41eb-d3ea-5d53c26f0cc0"
      },
      "execution_count": null,
      "outputs": [
        {
          "output_type": "stream",
          "name": "stdout",
          "text": [
            "[2 5 8]\n"
          ]
        }
      ]
    },
    {
      "cell_type": "code",
      "source": [
        "a=tf.expand_dims(a[:,1],axis=1)\n",
        "a"
      ],
      "metadata": {
        "colab": {
          "base_uri": "https://localhost:8080/"
        },
        "id": "de8Ho9YP-OZG",
        "outputId": "dbc7f328-7972-4553-ea51-2541b454a05d"
      },
      "execution_count": null,
      "outputs": [
        {
          "output_type": "execute_result",
          "data": {
            "text/plain": [
              "<tf.Tensor: shape=(3, 1), dtype=int64, numpy=\n",
              "array([[2],\n",
              "       [5],\n",
              "       [8]])>"
            ]
          },
          "metadata": {},
          "execution_count": 62
        }
      ]
    },
    {
      "cell_type": "code",
      "source": [
        "embedding=tf.keras.layers.Embedding(input_dim=10,output_dim=3)\n",
        "output=embedding(a)\n",
        "print(output)"
      ],
      "metadata": {
        "colab": {
          "base_uri": "https://localhost:8080/"
        },
        "id": "UGO2xwBxxAB_",
        "outputId": "89b479d0-155e-4b71-a2d1-88b041b5a798"
      },
      "execution_count": null,
      "outputs": [
        {
          "output_type": "stream",
          "name": "stdout",
          "text": [
            "tf.Tensor(\n",
            "[[[ 0.02019851  0.04813669 -0.01945983]]\n",
            "\n",
            " [[-0.02738466  0.03100606 -0.04728745]]\n",
            "\n",
            " [[ 0.00344632 -0.04141901 -0.03678871]]], shape=(3, 1, 3), dtype=float32)\n"
          ]
        }
      ]
    },
    {
      "cell_type": "code",
      "source": [
        "b=np.array([[[1,2,3]],[[4,5,6]],[[7,8,9]]])   \n",
        "# [[1,2,3],[4,5,6],[7,8,9]] : shape(3,3) 를 expand_dims(,axis=1) 한것\n",
        "print(b,b.shape)"
      ],
      "metadata": {
        "colab": {
          "base_uri": "https://localhost:8080/"
        },
        "id": "S8KYkQHTABqP",
        "outputId": "88b95a70-393b-4794-de71-07ef3beddf3d"
      },
      "execution_count": null,
      "outputs": [
        {
          "output_type": "stream",
          "name": "stdout",
          "text": [
            "[[[1 2 3]]\n",
            "\n",
            " [[4 5 6]]\n",
            "\n",
            " [[7 8 9]]] (3, 1, 3)\n"
          ]
        }
      ]
    },
    {
      "cell_type": "code",
      "source": [
        "tf.concat([b,output],axis=-1) # axis=-1 == axis=2"
      ],
      "metadata": {
        "colab": {
          "base_uri": "https://localhost:8080/"
        },
        "id": "LwYrTK9l5Fym",
        "outputId": "d2c8217e-7ff0-4a53-d9ca-9390ae59ba93"
      },
      "execution_count": null,
      "outputs": [
        {
          "output_type": "execute_result",
          "data": {
            "text/plain": [
              "<tf.Tensor: shape=(3, 1, 6), dtype=float32, numpy=\n",
              "array([[[ 1.0000000e+00,  2.0000000e+00,  3.0000000e+00,  2.0198513e-02,\n",
              "          4.8136685e-02, -1.9459832e-02]],\n",
              "\n",
              "       [[ 4.0000000e+00,  5.0000000e+00,  6.0000000e+00, -2.7384663e-02,\n",
              "          3.1006064e-02, -4.7287453e-02]],\n",
              "\n",
              "       [[ 7.0000000e+00,  8.0000000e+00,  9.0000000e+00,  3.4463182e-03,\n",
              "         -4.1419007e-02, -3.6788713e-02]]], dtype=float32)>"
            ]
          },
          "metadata": {},
          "execution_count": 50
        }
      ]
    },
    {
      "cell_type": "markdown",
      "source": [
        "### tf.reshape"
      ],
      "metadata": {
        "id": "kCdWojPwy1OP"
      }
    },
    {
      "cell_type": "code",
      "source": [
        "a= np.array([[[1,2,3]],[[4,5,6]],[[7,8,9]]])\n",
        "print(a,a.shape)\n",
        "tf.reshape(a,(-1,a.shape[2]))"
      ],
      "metadata": {
        "colab": {
          "base_uri": "https://localhost:8080/"
        },
        "id": "eIzY3-O3y7IY",
        "outputId": "1bdfbb87-03a3-422d-9f18-d19f6cc6bce5"
      },
      "execution_count": null,
      "outputs": [
        {
          "output_type": "stream",
          "name": "stdout",
          "text": [
            "[[[1 2 3]]\n",
            "\n",
            " [[4 5 6]]\n",
            "\n",
            " [[7 8 9]]] (3, 1, 3)\n"
          ]
        },
        {
          "output_type": "execute_result",
          "data": {
            "text/plain": [
              "<tf.Tensor: shape=(3, 3), dtype=int64, numpy=\n",
              "array([[1, 2, 3],\n",
              "       [4, 5, 6],\n",
              "       [7, 8, 9]])>"
            ]
          },
          "metadata": {},
          "execution_count": 4
        }
      ]
    },
    {
      "cell_type": "markdown",
      "source": [
        "### list.append()"
      ],
      "metadata": {
        "id": "xs1ZFDAk5c_u"
      }
    },
    {
      "cell_type": "code",
      "source": [
        "a=np.array([[1,2,3],[4,5,6],[7,8,9]])   \n",
        "b=list()\n",
        "b.append(tf.dtypes.cast(a,tf.float32))\n",
        "print(type(b))\n",
        "print(b)\n",
        "c=np.array([[4,5,6],[7,8,9],[10,11,12]])   \n",
        "b.append(c)\n",
        "b"
      ],
      "metadata": {
        "colab": {
          "base_uri": "https://localhost:8080/"
        },
        "id": "EEAGa-hi5bAW",
        "outputId": "e9d13e80-16e0-48ca-cef7-0869b25a9965"
      },
      "execution_count": null,
      "outputs": [
        {
          "output_type": "stream",
          "name": "stdout",
          "text": [
            "<class 'list'>\n",
            "[<tf.Tensor: shape=(3, 3), dtype=float32, numpy=\n",
            "array([[1., 2., 3.],\n",
            "       [4., 5., 6.],\n",
            "       [7., 8., 9.]], dtype=float32)>]\n"
          ]
        },
        {
          "output_type": "execute_result",
          "data": {
            "text/plain": [
              "[<tf.Tensor: shape=(3, 3), dtype=float32, numpy=\n",
              " array([[1., 2., 3.],\n",
              "        [4., 5., 6.],\n",
              "        [7., 8., 9.]], dtype=float32)>, array([[ 4,  5,  6],\n",
              "        [ 7,  8,  9],\n",
              "        [10, 11, 12]])]"
            ]
          },
          "metadata": {},
          "execution_count": 10
        }
      ]
    },
    {
      "cell_type": "markdown",
      "source": [
        "### tf.stack( , axis)"
      ],
      "metadata": {
        "id": "qSJ9axfj6iB-"
      }
    },
    {
      "cell_type": "code",
      "source": [
        "d=tf.stack(b,axis=1)\n",
        "d"
      ],
      "metadata": {
        "colab": {
          "base_uri": "https://localhost:8080/"
        },
        "id": "VWl7fLTb6glo",
        "outputId": "5cc17407-749d-47de-8ecb-5fe00c7d10b7"
      },
      "execution_count": null,
      "outputs": [
        {
          "output_type": "execute_result",
          "data": {
            "text/plain": [
              "<tf.Tensor: shape=(3, 2, 3), dtype=float32, numpy=\n",
              "array([[[ 1.,  2.,  3.],\n",
              "        [ 4.,  5.,  6.]],\n",
              "\n",
              "       [[ 4.,  5.,  6.],\n",
              "        [ 7.,  8.,  9.]],\n",
              "\n",
              "       [[ 7.,  8.,  9.],\n",
              "        [10., 11., 12.]]], dtype=float32)>"
            ]
          },
          "metadata": {},
          "execution_count": 13
        }
      ]
    },
    {
      "cell_type": "code",
      "source": [
        "type(d)"
      ],
      "metadata": {
        "colab": {
          "base_uri": "https://localhost:8080/"
        },
        "id": "szDsSglF8VfO",
        "outputId": "93f97aad-e33b-44e1-bdc7-413ced37f428"
      },
      "execution_count": null,
      "outputs": [
        {
          "output_type": "execute_result",
          "data": {
            "text/plain": [
              "tensorflow.python.framework.ops.EagerTensor"
            ]
          },
          "metadata": {},
          "execution_count": 14
        }
      ]
    },
    {
      "cell_type": "markdown",
      "source": [
        "### sparsecrossentropy"
      ],
      "metadata": {
        "id": "_2_4urcF5DL5"
      }
    },
    {
      "cell_type": "code",
      "source": [
        "import tensorflow as tf \n",
        "y_true = [[1, 2],[2,1]]\n",
        "y_pred = [[[0.,1.,0.],[0.,0. ,1. ]],[[0.,0.,1.], [0., 1., 0.]]]\n",
        "\n",
        "scce = tf.keras.losses.SparseCategoricalCrossentropy(from_logits=True,reduction='none')\n",
        "a=scce(y_true, y_pred).numpy()\n",
        "a"
      ],
      "metadata": {
        "colab": {
          "base_uri": "https://localhost:8080/"
        },
        "id": "qcFsAg655CKX",
        "outputId": "8c7c45a8-194a-4276-efb3-7a3eb7cc5393"
      },
      "execution_count": null,
      "outputs": [
        {
          "output_type": "execute_result",
          "data": {
            "text/plain": [
              "array([[0.55144477, 0.55144477],\n",
              "       [0.55144477, 0.55144477]], dtype=float32)"
            ]
          },
          "metadata": {},
          "execution_count": 4
        }
      ]
    },
    {
      "cell_type": "code",
      "source": [
        "tf.reduce_mean(a)"
      ],
      "metadata": {
        "colab": {
          "base_uri": "https://localhost:8080/"
        },
        "id": "sQ6N7DGIpsEn",
        "outputId": "56d7a770-80f3-4332-91f4-4f8999bc2aab"
      },
      "execution_count": null,
      "outputs": [
        {
          "output_type": "execute_result",
          "data": {
            "text/plain": [
              "<tf.Tensor: shape=(), dtype=float32, numpy=0.55144477>"
            ]
          },
          "metadata": {},
          "execution_count": 3
        }
      ]
    },
    {
      "cell_type": "markdown",
      "metadata": {
        "id": "yrYrLgIJZIbp"
      },
      "source": [
        "### 디코더"
      ]
    },
    {
      "cell_type": "code",
      "execution_count": null,
      "metadata": {
        "id": "yxd0GDISZHkY"
      },
      "outputs": [],
      "source": [
        "class Decoder(tf.keras.layers.Layer):\n",
        "    def __init__(self, vocab_size, embedding_dim, dec_units, batch_sz):\n",
        "        super(Decoder, self).__init__()\n",
        "        \n",
        "        self.batch_sz = batch_sz\n",
        "        self.dec_units = dec_units\n",
        "        self.vocab_size = vocab_size \n",
        "        self.embedding_dim = embedding_dim  \n",
        "        \n",
        "        self.embedding = tf.keras.layers.Embedding(self.vocab_size, self.embedding_dim)\n",
        "        self.gru = tf.keras.layers.GRU(self.dec_units,\n",
        "                                       return_sequences=True,\n",
        "                                       return_state=True,\n",
        "                                       recurrent_initializer='glorot_uniform')\n",
        "        self.fc = tf.keras.layers.Dense(self.vocab_size)\n",
        "\n",
        "        self.attention = BahdanauAttention(self.dec_units)\n",
        "        \n",
        "    def call(self, x, hidden, enc_output):\n",
        "        context_vector, attention_weights = self.attention(hidden, enc_output)\n",
        "\n",
        "        x = self.embedding(x)\n",
        "\n",
        "        x = tf.concat([tf.expand_dims(context_vector, 1), x], axis=-1)\n",
        "\n",
        "        output, state = self.gru(x)\n",
        "        output = tf.reshape(output, (-1, output.shape[2]))\n",
        "            \n",
        "        x = self.fc(output)\n",
        "        \n",
        "        return x, state, attention_weights"
      ]
    },
    {
      "cell_type": "code",
      "execution_count": null,
      "metadata": {
        "id": "nM-g2zCHQ_H3"
      },
      "outputs": [],
      "source": [
        "optimizer = tf.keras.optimizers.Adam()\n",
        "\n",
        "loss_object = tf.keras.losses.SparseCategoricalCrossentropy(from_logits=True, reduction='none')\n",
        "\n",
        "train_accuracy = tf.keras.metrics.SparseCategoricalAccuracy(name='accuracy')\n",
        "\n",
        "def loss(real, pred):\n",
        "    mask = tf.math.logical_not(tf.math.equal(real, 0))\n",
        "    loss_ = loss_object(real, pred)\n",
        "    mask = tf.cast(mask, dtype=loss_.dtype)\n",
        "    loss_ *= mask\n",
        "    return tf.reduce_mean(loss_)\n",
        "\n",
        "def accuracy(real, pred):\n",
        "    mask = tf.math.logical_not(tf.math.equal(real, 0))\n",
        "    mask = tf.expand_dims(tf.cast(mask, dtype=pred.dtype), axis=-1)\n",
        "    pred *= mask    \n",
        "    acc = train_accuracy(real, pred)\n",
        "\n",
        "    return tf.reduce_mean(acc)"
      ]
    },
    {
      "cell_type": "code",
      "execution_count": null,
      "metadata": {
        "id": "6m0FzXzoZS-i"
      },
      "outputs": [],
      "source": [
        "class seq2seq(tf.keras.Model):\n",
        "    def __init__(self, vocab_size, embedding_dim, enc_units, dec_units, batch_sz, end_token_idx=2):    \n",
        "        super(seq2seq, self).__init__()\n",
        "        self.end_token_idx = end_token_idx\n",
        "        self.encoder = Encoder(vocab_size, embedding_dim, enc_units, batch_sz) \n",
        "        self.decoder = Decoder(vocab_size, embedding_dim, dec_units, batch_sz) \n",
        "\n",
        "    def call(self, x):\n",
        "        inp, tar = x\n",
        "        \n",
        "        enc_hidden = self.encoder.initialize_hidden_state(inp)\n",
        "        enc_output, enc_hidden = self.encoder(inp, enc_hidden)\n",
        "\n",
        "        dec_hidden = enc_hidden\n",
        "\n",
        "        predict_tokens = list()\n",
        "        for t in range(0, tar.shape[1]):\n",
        "            dec_input = tf.dtypes.cast(tf.expand_dims(tar[:, t], 1), tf.float32) \n",
        "            predictions, dec_hidden, _ = self.decoder(dec_input, dec_hidden, enc_output)\n",
        "            predict_tokens.append(tf.dtypes.cast(predictions, tf.float32))   \n",
        "        return tf.stack(predict_tokens, axis=1)\n",
        "    \n",
        "    def inference(self, x):\n",
        "        inp  = x\n",
        "\n",
        "        enc_hidden = self.encoder.initialize_hidden_state(inp)\n",
        "        enc_output, enc_hidden = self.encoder(inp, enc_hidden)\n",
        "\n",
        "        dec_hidden = enc_hidden\n",
        "        \n",
        "        dec_input = tf.expand_dims([char2idx[std_index]], 1)\n",
        "        \n",
        "        predict_tokens = list()\n",
        "        for t in range(0, MAX_SEQUENCE):\n",
        "            predictions, dec_hidden, _ = self.decoder(dec_input, dec_hidden, enc_output)\n",
        "            predict_token = tf.argmax(predictions[0])\n",
        "            \n",
        "            if predict_token == self.end_token_idx:\n",
        "                break\n",
        "            \n",
        "            predict_tokens.append(predict_token)\n",
        "            dec_input = tf.dtypes.cast(tf.expand_dims([predict_token], 0), tf.float32)   \n",
        "            \n",
        "        return tf.stack(predict_tokens, axis=0).numpy()"
      ]
    },
    {
      "cell_type": "code",
      "execution_count": null,
      "metadata": {
        "id": "s_1EaIKeZXd6"
      },
      "outputs": [],
      "source": [
        "model = seq2seq(vocab_size, EMBEDDING_DIM, UNITS, UNITS, BATCH_SIZE, char2idx[end_index])\n",
        "model.compile(loss=loss, optimizer=tf.keras.optimizers.Adam(1e-3), metrics=[accuracy])\n",
        "#model.run_eagerly = True"
      ]
    },
    {
      "cell_type": "code",
      "execution_count": 19,
      "metadata": {
        "colab": {
          "base_uri": "https://localhost:8080/"
        },
        "id": "OrdkrQ5aZcDS",
        "outputId": "047a9cb5-fbf3-453a-cd75-51a6d2347ee1"
      },
      "outputs": [
        {
          "output_type": "stream",
          "name": "stdout",
          "text": [
            "Epoch 1/15\n",
            "5320/5320 [==============================] - ETA: 0s - loss: 1.2640 - accuracy: 0.8565\n",
            "Epoch 1: val_accuracy improved from -inf to 0.85494, saving model to ./data_out/seq2seq_kor/weights.h5\n",
            "5320/5320 [==============================] - 880s 157ms/step - loss: 1.2640 - accuracy: 0.8565 - val_loss: 1.4565 - val_accuracy: 0.8549\n",
            "Epoch 2/15\n",
            "5320/5320 [==============================] - ETA: 0s - loss: 1.0454 - accuracy: 0.8571\n",
            "Epoch 2: val_accuracy improved from 0.85494 to 0.85899, saving model to ./data_out/seq2seq_kor/weights.h5\n",
            "5320/5320 [==============================] - 824s 155ms/step - loss: 1.0454 - accuracy: 0.8571 - val_loss: 1.5312 - val_accuracy: 0.8590\n",
            "Epoch 3/15\n",
            "5320/5320 [==============================] - ETA: 0s - loss: 0.8212 - accuracy: 0.8625\n",
            "Epoch 3: val_accuracy improved from 0.85899 to 0.86563, saving model to ./data_out/seq2seq_kor/weights.h5\n",
            "5320/5320 [==============================] - 823s 155ms/step - loss: 0.8212 - accuracy: 0.8625 - val_loss: 1.6316 - val_accuracy: 0.8656\n",
            "Epoch 4/15\n",
            "5320/5320 [==============================] - ETA: 0s - loss: 0.5871 - accuracy: 0.8702\n",
            "Epoch 4: val_accuracy improved from 0.86563 to 0.87407, saving model to ./data_out/seq2seq_kor/weights.h5\n",
            "5320/5320 [==============================] - 824s 155ms/step - loss: 0.5871 - accuracy: 0.8702 - val_loss: 1.6911 - val_accuracy: 0.8741\n",
            "Epoch 5/15\n",
            "5320/5320 [==============================] - ETA: 0s - loss: 0.3996 - accuracy: 0.8790\n",
            "Epoch 5: val_accuracy improved from 0.87407 to 0.88293, saving model to ./data_out/seq2seq_kor/weights.h5\n",
            "5320/5320 [==============================] - 826s 155ms/step - loss: 0.3996 - accuracy: 0.8790 - val_loss: 1.7948 - val_accuracy: 0.8829\n",
            "Epoch 6/15\n",
            "5320/5320 [==============================] - ETA: 0s - loss: 0.2754 - accuracy: 0.8878\n",
            "Epoch 6: val_accuracy improved from 0.88293 to 0.89165, saving model to ./data_out/seq2seq_kor/weights.h5\n",
            "5320/5320 [==============================] - 822s 155ms/step - loss: 0.2754 - accuracy: 0.8878 - val_loss: 1.9216 - val_accuracy: 0.8917\n",
            "Epoch 7/15\n",
            "5320/5320 [==============================] - ETA: 0s - loss: 0.1954 - accuracy: 0.8960\n",
            "Epoch 7: val_accuracy improved from 0.89165 to 0.89960, saving model to ./data_out/seq2seq_kor/weights.h5\n",
            "5320/5320 [==============================] - 824s 155ms/step - loss: 0.1954 - accuracy: 0.8960 - val_loss: 2.0373 - val_accuracy: 0.8996\n",
            "Epoch 8/15\n",
            "5320/5320 [==============================] - ETA: 0s - loss: 0.1377 - accuracy: 0.9035\n",
            "Epoch 8: val_accuracy improved from 0.89960 to 0.90673, saving model to ./data_out/seq2seq_kor/weights.h5\n",
            "5320/5320 [==============================] - 826s 155ms/step - loss: 0.1377 - accuracy: 0.9035 - val_loss: 2.0706 - val_accuracy: 0.9067\n",
            "Epoch 9/15\n",
            "5320/5320 [==============================] - ETA: 0s - loss: 0.0951 - accuracy: 0.9102\n",
            "Epoch 9: val_accuracy improved from 0.90673 to 0.91321, saving model to ./data_out/seq2seq_kor/weights.h5\n",
            "5320/5320 [==============================] - 826s 155ms/step - loss: 0.0951 - accuracy: 0.9102 - val_loss: 2.1123 - val_accuracy: 0.9132\n",
            "Epoch 10/15\n",
            "5320/5320 [==============================] - ETA: 0s - loss: 0.0707 - accuracy: 0.9163\n",
            "Epoch 10: val_accuracy improved from 0.91321 to 0.91892, saving model to ./data_out/seq2seq_kor/weights.h5\n",
            "5320/5320 [==============================] - 825s 155ms/step - loss: 0.0707 - accuracy: 0.9163 - val_loss: 2.1678 - val_accuracy: 0.9189\n",
            "Epoch 11/15\n",
            "5320/5320 [==============================] - ETA: 0s - loss: 0.0563 - accuracy: 0.9215\n",
            "Epoch 11: val_accuracy improved from 0.91892 to 0.92384, saving model to ./data_out/seq2seq_kor/weights.h5\n",
            "5320/5320 [==============================] - 826s 155ms/step - loss: 0.0563 - accuracy: 0.9215 - val_loss: 2.2048 - val_accuracy: 0.9238\n",
            "Epoch 12/15\n",
            "5320/5320 [==============================] - ETA: 0s - loss: 0.0484 - accuracy: 0.9261\n",
            "Epoch 12: val_accuracy improved from 0.92384 to 0.92806, saving model to ./data_out/seq2seq_kor/weights.h5\n",
            "5320/5320 [==============================] - 826s 155ms/step - loss: 0.0484 - accuracy: 0.9261 - val_loss: 2.2257 - val_accuracy: 0.9281\n",
            "Epoch 13/15\n",
            "5320/5320 [==============================] - ETA: 0s - loss: 0.0425 - accuracy: 0.9300\n",
            "Epoch 13: val_accuracy improved from 0.92806 to 0.93169, saving model to ./data_out/seq2seq_kor/weights.h5\n",
            "5320/5320 [==============================] - 826s 155ms/step - loss: 0.0425 - accuracy: 0.9300 - val_loss: 2.2700 - val_accuracy: 0.9317\n",
            "Epoch 14/15\n",
            "5320/5320 [==============================] - ETA: 0s - loss: 0.0389 - accuracy: 0.9333\n",
            "Epoch 14: val_accuracy improved from 0.93169 to 0.93484, saving model to ./data_out/seq2seq_kor/weights.h5\n",
            "5320/5320 [==============================] - 828s 156ms/step - loss: 0.0389 - accuracy: 0.9333 - val_loss: 2.2870 - val_accuracy: 0.9348\n",
            "Epoch 15/15\n",
            "5320/5320 [==============================] - ETA: 0s - loss: 0.0353 - accuracy: 0.9363\n",
            "Epoch 15: val_accuracy improved from 0.93484 to 0.93759, saving model to ./data_out/seq2seq_kor/weights.h5\n",
            "5320/5320 [==============================] - 827s 156ms/step - loss: 0.0353 - accuracy: 0.9363 - val_loss: 2.2904 - val_accuracy: 0.9376\n"
          ]
        }
      ],
      "source": [
        "PATH = DATA_OUT_PATH + MODEL_NAME\n",
        "if not(os.path.isdir(PATH)):\n",
        "        os.makedirs(os.path.join(PATH))\n",
        "        \n",
        "checkpoint_path = DATA_OUT_PATH + MODEL_NAME + '/weights.h5'\n",
        "    \n",
        "cp_callback = ModelCheckpoint(\n",
        "    checkpoint_path, monitor='val_accuracy', verbose=1, save_best_only=True, save_weights_only=True)\n",
        "\n",
        "earlystop_callback = EarlyStopping(monitor='val_accuracy', min_delta=0.0001, patience=10)\n",
        "\n",
        "history = model.fit([index_inputs, index_outputs], index_targets,\n",
        "                    batch_size=BATCH_SIZE, epochs=EPOCH,\n",
        "                    validation_split=VALIDATION_SPLIT, callbacks=[earlystop_callback, cp_callback])"
      ]
    },
    {
      "cell_type": "code",
      "execution_count": 20,
      "metadata": {
        "id": "Wu1azAzbZlQL",
        "colab": {
          "base_uri": "https://localhost:8080/",
          "height": 279
        },
        "outputId": "e187ab14-c707-4c12-9a1c-a010657f634a"
      },
      "outputs": [
        {
          "output_type": "display_data",
          "data": {
            "text/plain": [
              "<Figure size 432x288 with 1 Axes>"
            ],
            "image/png": "[encoded data removed]"
          },
          "metadata": {
            "needs_background": "light"
          }
        }
      ],
      "source": [
        "plot_graphs(history, 'accuracy')"
      ]
    },
    {
      "cell_type": "code",
      "execution_count": 21,
      "metadata": {
        "id": "2EZMiFYdZl9z",
        "colab": {
          "base_uri": "https://localhost:8080/",
          "height": 279
        },
        "outputId": "ec3aceed-ff9c-4683-f2a7-713e8bd475bc"
      },
      "outputs": [
        {
          "output_type": "display_data",
          "data": {
            "text/plain": [
              "<Figure size 432x288 with 1 Axes>"
            ],
            "image/png": "[encoded data removed]"
          },
          "metadata": {
            "needs_background": "light"
          }
        }
      ],
      "source": [
        "plot_graphs(history, 'loss')"
      ]
    },
    {
      "cell_type": "code",
      "execution_count": 22,
      "metadata": {
        "id": "lPy0ut3RZomz"
      },
      "outputs": [],
      "source": [
        "SAVE_FILE_NM = \"weights.h5\"\n",
        "model.load_weights(os.path.join(DATA_OUT_PATH, MODEL_NAME, SAVE_FILE_NM))"
      ]
    },
    {
      "cell_type": "code",
      "execution_count": 23,
      "metadata": {
        "id": "oUIqhNbiZquz",
        "colab": {
          "base_uri": "https://localhost:8080/"
        },
        "outputId": "0f13aea4-329f-42e5-b63c-431459af9d10"
      },
      "outputs": [
        {
          "output_type": "stream",
          "name": "stdout",
          "text": [
            "[13275  8248   336  2037]\n",
            "평소에 필요한 것 생각해보세요\n"
          ]
        }
      ],
      "source": [
        "query = \"남자친구 승진 선물로 뭐가 좋을까?\"\n",
        "\n",
        "test_index_inputs, _ = enc_processing([query], char2idx)    \n",
        "predict_tokens = model.inference(test_index_inputs)\n",
        "print(predict_tokens)\n",
        "\n",
        "print(' '.join([idx2char[str(t)] for t in predict_tokens]))"
      ]
    },
    {
      "cell_type": "code",
      "source": [
        "query = \"재미없다\"\n",
        "\n",
        "test_index_inputs, _ = enc_processing([query], char2idx)    \n",
        "predict_tokens = model.inference(test_index_inputs)\n",
        "print(predict_tokens)\n",
        "\n",
        "print(' '.join([idx2char[str(t)] for t in predict_tokens]))"
      ],
      "metadata": {
        "colab": {
          "base_uri": "https://localhost:8080/"
        },
        "id": "mMwmsK9BcFII",
        "outputId": "15033358-ac2e-4e3b-aa9d-6c626675a4fc"
      },
      "execution_count": 24,
      "outputs": [
        {
          "output_type": "stream",
          "name": "stdout",
          "text": [
            "[ 8847 12428 20489  5162  2047 14495 20431]\n",
            "활기찬 사람을 만나보시면 생각이 바뀔 수도 있어요\n"
          ]
        }
      ]
    },
    {
      "cell_type": "code",
      "source": [
        "query = \"안녕\"\n",
        "\n",
        "test_index_inputs, _ = enc_processing([query], char2idx)    \n",
        "predict_tokens = model.inference(test_index_inputs)\n",
        "print(predict_tokens)\n",
        "\n",
        "print(' '.join([idx2char[str(t)] for t in predict_tokens]))"
      ],
      "metadata": {
        "colab": {
          "base_uri": "https://localhost:8080/"
        },
        "id": "xfA0IKjHcJ0x",
        "outputId": "346dfa47-1669-42be-b0f4-73f8c6c9a688"
      },
      "execution_count": 27,
      "outputs": [
        {
          "output_type": "stream",
          "name": "stdout",
          "text": [
            "[6717]\n",
            "안녕하세요\n"
          ]
        }
      ]
    },
    {
      "cell_type": "code",
      "source": [
        "query = \"내일 월요일이다\"\n",
        "\n",
        "test_index_inputs, _ = enc_processing([query], char2idx)    \n",
        "predict_tokens = model.inference(test_index_inputs)\n",
        "print(predict_tokens)\n",
        "\n",
        "print(' '.join([idx2char[str(t)] for t in predict_tokens]))"
      ],
      "metadata": {
        "colab": {
          "base_uri": "https://localhost:8080/"
        },
        "id": "VTpN8XnWcXiG",
        "outputId": "f87856d6-a8c7-48e2-e5ca-ecd0fd580722"
      },
      "execution_count": 28,
      "outputs": [
        {
          "output_type": "stream",
          "name": "stdout",
          "text": [
            "[18046 18606  3564  1060   584  3888]\n",
            "날씨가 안 좋더라도 데이트는 성공적일 거예요\n"
          ]
        }
      ]
    },
    {
      "cell_type": "code",
      "source": [
        "query = \"재미있는 게임 없나?\"\n",
        "\n",
        "test_index_inputs, _ = enc_processing([query], char2idx)    \n",
        "predict_tokens = model.inference(test_index_inputs)\n",
        "print(predict_tokens)\n",
        "\n",
        "print(' '.join([idx2char[str(t)] for t in predict_tokens]))"
      ],
      "metadata": {
        "colab": {
          "base_uri": "https://localhost:8080/"
        },
        "id": "Bw9qbCYwcPF2",
        "outputId": "c71ecfe4-30de-49b9-d476-8f17f156cfa7"
      },
      "execution_count": 29,
      "outputs": [
        {
          "output_type": "stream",
          "name": "stdout",
          "text": [
            "[ 1970  8567 15397]\n",
            "재미있는 다른걸 찾아보세요\n"
          ]
        }
      ]
    },
    {
      "cell_type": "code",
      "source": [
        "query = \"어떤 운동을 하면 좋을까?\"\n",
        "\n",
        "test_index_inputs, _ = enc_processing([query], char2idx)    \n",
        "predict_tokens = model.inference(test_index_inputs)\n",
        "print(predict_tokens)\n",
        "\n",
        "print(' '.join([idx2char[str(t)] for t in predict_tokens]))"
      ],
      "metadata": {
        "colab": {
          "base_uri": "https://localhost:8080/"
        },
        "id": "nuUO-zROcjcO",
        "outputId": "9c5edd22-05ed-438e-ddae-614644a6588c"
      },
      "execution_count": 30,
      "outputs": [
        {
          "output_type": "stream",
          "name": "stdout",
          "text": [
            "[7795]\n",
            "고생했어요\n"
          ]
        }
      ]
    },
    {
      "cell_type": "code",
      "source": [
        ""
      ],
      "metadata": {
        "id": "6GC86mflcno-"
      },
      "execution_count": null,
      "outputs": []
    }
  ],
  "metadata": {
    "accelerator": "GPU",
    "colab": {
      "collapsed_sections": [
        "VheuC3ixE2oO",
        "aVNikvoXhNmt",
        "b7Mvs0r_GO6Y",
        "2et13JpjSf-t",
        "kkzYKOkYShtF",
        "eQU99DH3Sj0V",
        "wL8BiPkRgKsy",
        "rNnKcEn9p9H4",
        "kCdWojPwy1OP",
        "xs1ZFDAk5c_u",
        "qSJ9axfj6iB-",
        "_2_4urcF5DL5"
      ],
      "name": "seq2seq.ipynb",
      "provenance": [],
      "mount_file_id": "1DeqUllXJNXnp9kZ8SyrnTg6qjUE9vuEi",
      "authorship_tag": "ABX9TyPzdzejB18CVurcd397FDp4",
      "include_colab_link": true
    },
    "kernelspec": {
      "display_name": "Python 3",
      "name": "python3"
    },
    "language_info": {
      "name": "python"
    }
  },
  "nbformat": 4,
  "nbformat_minor": 0
}