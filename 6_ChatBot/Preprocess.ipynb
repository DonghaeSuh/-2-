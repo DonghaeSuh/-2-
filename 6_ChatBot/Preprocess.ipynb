{
  "nbformat": 4,
  "nbformat_minor": 0,
  "metadata": {
    "colab": {
      "name": "Preprocess.ipynb",
      "provenance": [],
      "collapsed_sections": [],
      "mount_file_id": "1Dxb24ZCXMhdszjAztwWinljgig2rdTi9",
      "authorship_tag": "ABX9TyOLQ5O0xC+bdgL4spaFgVci",
      "include_colab_link": true
    },
    "kernelspec": {
      "name": "python3",
      "display_name": "Python 3"
    },
    "language_info": {
      "name": "python"
    }
  },
  "cells": [
    {
      "cell_type": "markdown",
      "metadata": {
        "id": "view-in-github",
        "colab_type": "text"
      },
      "source": [
        "<a href=\"https://colab.research.google.com/github/DonghaeSuh/NLP_tensorflow2/blob/main/6_ChatBot/Preprocess.ipynb\" target=\"_parent\"><img src=\"https://colab.research.google.com/assets/colab-badge.svg\" alt=\"Open In Colab\"/></a>"
      ]
    },
    {
      "cell_type": "markdown",
      "source": [
        "### 작업 공간 접근"
      ],
      "metadata": {
        "id": "OUvj24uyup8C"
      }
    },
    {
      "cell_type": "code",
      "execution_count": null,
      "metadata": {
        "id": "Xgxjy95_t7O-"
      },
      "outputs": [],
      "source": [
        "ls"
      ]
    },
    {
      "cell_type": "code",
      "source": [
        "cd drive/MyDrive/Colab Notebooks/"
      ],
      "metadata": {
        "id": "PhuVTD0WuUzI"
      },
      "execution_count": null,
      "outputs": []
    },
    {
      "cell_type": "code",
      "source": [
        "ls"
      ],
      "metadata": {
        "colab": {
          "base_uri": "https://localhost:8080/"
        },
        "id": "OVTb1F3kumoR",
        "outputId": "fb015aaa-3758-4c94-a7b5-87957018e325"
      },
      "execution_count": null,
      "outputs": [
        {
          "output_type": "stream",
          "name": "stdout",
          "text": [
            "EDA.ipynb  Preprocess.ipynb  preprocess.py  preprocess_py.py  \u001b[0m\u001b[01;34m__pycache__\u001b[0m/\n"
          ]
        }
      ]
    },
    {
      "cell_type": "markdown",
      "source": [
        "### Konlpy 설치"
      ],
      "metadata": {
        "id": "aVNikvoXhNmt"
      }
    },
    {
      "cell_type": "code",
      "source": [
        "%%bash\n",
        "apt-get update\n",
        "apt-get install g++ openjdk-8-jdk python-dev python3-dev\n",
        "pip3 install JPype1\n",
        "pip3 install konlpy"
      ],
      "metadata": {
        "id": "h2asmAk_eUC1"
      },
      "execution_count": null,
      "outputs": []
    },
    {
      "cell_type": "code",
      "source": [
        "%env JAVA_HOME \"/usr/lib/jvm/java-8-openjdk-amd64\""
      ],
      "metadata": {
        "colab": {
          "base_uri": "https://localhost:8080/"
        },
        "id": "Yo4EqyoPe2Bp",
        "outputId": "cc3f36f8-d908-47f0-d8e7-bc44112c2146"
      },
      "execution_count": null,
      "outputs": [
        {
          "output_type": "stream",
          "name": "stdout",
          "text": [
            "env: JAVA_HOME=\"/usr/lib/jvm/java-8-openjdk-amd64\"\n"
          ]
        }
      ]
    },
    {
      "cell_type": "code",
      "source": [
        "%%bash\n",
        "bash <(curl -s https://raw.githubusercontent.com/konlpy/konlpy/master/scripts/mecab.sh)\n",
        "pip3 install /tmp/mecab-python-0.996"
      ],
      "metadata": {
        "id": "PUwYlTFbe5Ux"
      },
      "execution_count": null,
      "outputs": []
    },
    {
      "cell_type": "markdown",
      "source": [
        "### 학습 데이터 마련 (data_in 폴더안에 ChatBotData.csv를 넣어준다.)"
      ],
      "metadata": {
        "id": "ioUWdpuL0cUA"
      }
    },
    {
      "cell_type": "markdown",
      "source": [
        "![sample.png](data:image/png;base64,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)"
      ],
      "metadata": {
        "id": "OgKC14cx1Sa2"
      }
    },
    {
      "cell_type": "markdown",
      "source": [
        "### Preprocess.ipynb"
      ],
      "metadata": {
        "id": "pujBfZluuvXy"
      }
    },
    {
      "cell_type": "code",
      "source": [
        "from preprocess import *"
      ],
      "metadata": {
        "id": "hA7U8a3JuzA6"
      },
      "execution_count": null,
      "outputs": []
    },
    {
      "cell_type": "code",
      "source": [
        "PATH = 'data_in/ChatbotData.csv'\n",
        "VOCAB_PATH = 'data_in/vocabulary.txt'"
      ],
      "metadata": {
        "id": "HnUX1tq5yf6Q"
      },
      "execution_count": null,
      "outputs": []
    },
    {
      "cell_type": "code",
      "source": [
        "inputs, outputs = load_data(PATH)"
      ],
      "metadata": {
        "id": "wwWebIz8yiLw"
      },
      "execution_count": null,
      "outputs": []
    },
    {
      "cell_type": "code",
      "source": [
        "char2idx, idx2char, vocab_size = load_vocabulary(PATH, VOCAB_PATH, tokenize_as_morph=False)"
      ],
      "metadata": {
        "id": "9QPgQXAf2aRO"
      },
      "execution_count": null,
      "outputs": []
    },
    {
      "cell_type": "code",
      "source": [
        "index_inputs, input_seq_len = enc_processing(inputs, char2idx, tokenize_as_morph=False)\n",
        "index_outputs, output_seq_len = dec_output_processing(outputs, char2idx, tokenize_as_morph=False)\n",
        "index_targets = dec_target_processing(outputs, char2idx, tokenize_as_morph=False)"
      ],
      "metadata": {
        "id": "ckBCTkQ23shN"
      },
      "execution_count": null,
      "outputs": []
    },
    {
      "cell_type": "markdown",
      "source": [
        "### 사전 형태로 필요한 도구들 저장해놓음"
      ],
      "metadata": {
        "id": "t1qUTdGW43zG"
      }
    },
    {
      "cell_type": "code",
      "source": [
        "data_configs = {}\n",
        "data_configs['char2idx'] = char2idx\n",
        "data_configs['idx2char'] = idx2char\n",
        "data_configs['vocab_size'] = vocab_size\n",
        "data_configs['pad_symbol'] = PAD\n",
        "data_configs['std_symbol'] = STD\n",
        "data_configs['end_symbol'] = END\n",
        "data_configs['unk_symbol'] = UNK"
      ],
      "metadata": {
        "id": "h2bwtrBs3vLU"
      },
      "execution_count": null,
      "outputs": []
    },
    {
      "cell_type": "markdown",
      "source": [
        "### data_in 폴더에 전처리된 데이터들 저장하기"
      ],
      "metadata": {
        "id": "n8a5xEG24-r1"
      }
    },
    {
      "cell_type": "code",
      "source": [
        "DATA_IN_PATH = './data_in/'\n",
        "TRAIN_INPUTS = 'train_inputs.npy'\n",
        "TRAIN_OUTPUTS = 'train_outputs.npy'\n",
        "TRAIN_TARGETS = 'train_targets.npy'\n",
        "DATA_CONFIGS = 'data_configs.json'\n",
        "\n",
        "np.save(open(DATA_IN_PATH + TRAIN_INPUTS, 'wb'), index_inputs)\n",
        "np.save(open(DATA_IN_PATH + TRAIN_OUTPUTS , 'wb'), index_outputs)\n",
        "np.save(open(DATA_IN_PATH + TRAIN_TARGETS , 'wb'), index_targets)\n",
        "\n",
        "json.dump(data_configs, open(DATA_IN_PATH + DATA_CONFIGS, 'w'))"
      ],
      "metadata": {
        "id": "XXimXcWr35c0"
      },
      "execution_count": null,
      "outputs": []
    }
  ]
}