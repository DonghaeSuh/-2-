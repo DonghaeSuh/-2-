{
  "nbformat": 4,
  "nbformat_minor": 0,
  "metadata": {
    "colab": {
      "name": "Transformer_ChatBot.ipynb",
      "provenance": [],
      "collapsed_sections": [
        "OUvj24uyup8C",
        "aVNikvoXhNmt",
        "2n-7PIl4X6YD",
        "g1gKdorSX9Yk",
        "7pkPY4o2uppc",
        "9Bqh0vkhTyJY"
      ],
      "mount_file_id": "1_lKecdy02FNHFUiQ4EjXw_XXltUWTUwH",
      "authorship_tag": "ABX9TyP40PPnGO3gJ5zw6kKIxHY/",
      "include_colab_link": true
    },
    "kernelspec": {
      "name": "python3",
      "display_name": "Python 3"
    },
    "language_info": {
      "name": "python"
    },
    "accelerator": "GPU",
    "gpuClass": "standard"
  },
  "cells": [
    {
      "cell_type": "markdown",
      "metadata": {
        "id": "view-in-github",
        "colab_type": "text"
      },
      "source": [
        "<a href=\"https://colab.research.google.com/github/DonghaeSuh/NLP_tensorflow2/blob/main/6_ChatBot/Transformer_ChatBot.ipynb\" target=\"_parent\"><img src=\"https://colab.research.google.com/assets/colab-badge.svg\" alt=\"Open In Colab\"/></a>"
      ]
    },
    {
      "cell_type": "markdown",
      "source": [
        "### 작업 공간 접근"
      ],
      "metadata": {
        "id": "OUvj24uyup8C"
      }
    },
    {
      "cell_type": "code",
      "execution_count": 1,
      "metadata": {
        "id": "Xgxjy95_t7O-",
        "colab": {
          "base_uri": "https://localhost:8080/"
        },
        "outputId": "965b318c-79b9-4b09-bf6b-3f44ec3e7fad"
      },
      "outputs": [
        {
          "output_type": "stream",
          "name": "stdout",
          "text": [
            "\u001b[0m\u001b[01;34mdrive\u001b[0m/  \u001b[01;34msample_data\u001b[0m/\n"
          ]
        }
      ],
      "source": [
        "ls"
      ]
    },
    {
      "cell_type": "code",
      "source": [
        "cd drive/MyDrive/ChatBot_Transformer/"
      ],
      "metadata": {
        "id": "PhuVTD0WuUzI",
        "colab": {
          "base_uri": "https://localhost:8080/"
        },
        "outputId": "22e07c88-55fa-4ca1-f983-87fcad94f014"
      },
      "execution_count": 2,
      "outputs": [
        {
          "output_type": "stream",
          "name": "stdout",
          "text": [
            "/content/drive/MyDrive/ChatBot_Transformer\n"
          ]
        }
      ]
    },
    {
      "cell_type": "code",
      "source": [
        "ls"
      ],
      "metadata": {
        "colab": {
          "base_uri": "https://localhost:8080/"
        },
        "id": "OVTb1F3kumoR",
        "outputId": "9b88734b-6e55-4b8b-bdbe-6ea2b35e6512"
      },
      "execution_count": 3,
      "outputs": [
        {
          "output_type": "stream",
          "name": "stdout",
          "text": [
            "\u001b[0m\u001b[01;34mdata_in\u001b[0m/          preprocess.py        \u001b[01;34m__pycache__\u001b[0m/\n",
            "Preprocess.ipynb  preprocess_py.ipynb  Transformer_ChatBot.ipynb\n"
          ]
        }
      ]
    },
    {
      "cell_type": "markdown",
      "source": [
        "### Konlpy 설치"
      ],
      "metadata": {
        "id": "aVNikvoXhNmt"
      }
    },
    {
      "cell_type": "code",
      "source": [
        "%%bash\n",
        "apt-get update\n",
        "apt-get install g++ openjdk-8-jdk python-dev python3-dev\n",
        "pip3 install JPype1\n",
        "pip3 install konlpy"
      ],
      "metadata": {
        "id": "h2asmAk_eUC1"
      },
      "execution_count": null,
      "outputs": []
    },
    {
      "cell_type": "code",
      "source": [
        "%env JAVA_HOME \"/usr/lib/jvm/java-8-openjdk-amd64\""
      ],
      "metadata": {
        "id": "Yo4EqyoPe2Bp",
        "colab": {
          "base_uri": "https://localhost:8080/"
        },
        "outputId": "ea15a8ec-9843-4672-c1ba-4741b2abfb0c"
      },
      "execution_count": 5,
      "outputs": [
        {
          "output_type": "stream",
          "name": "stdout",
          "text": [
            "env: JAVA_HOME=\"/usr/lib/jvm/java-8-openjdk-amd64\"\n"
          ]
        }
      ]
    },
    {
      "cell_type": "code",
      "source": [
        "%%bash\n",
        "bash <(curl -s https://raw.githubusercontent.com/konlpy/konlpy/master/scripts/mecab.sh)\n",
        "pip3 install /tmp/mecab-python-0.996"
      ],
      "metadata": {
        "id": "PUwYlTFbe5Ux"
      },
      "execution_count": null,
      "outputs": []
    },
    {
      "cell_type": "markdown",
      "source": [
        "# 모듈 불러오기"
      ],
      "metadata": {
        "id": "PF52BXC2Yo1e"
      }
    },
    {
      "cell_type": "code",
      "source": [
        "import tensorflow as tf\n",
        "import numpy as np\n",
        "\n",
        "from konlpy.tag import Twitter\n",
        "import pandas as pd\n",
        "import tensorflow as tf\n",
        "import enum\n",
        "import os\n",
        "import re\n",
        "import json\n",
        "from sklearn.model_selection import train_test_split\n",
        "\n",
        "from tensorflow.keras.callbacks import EarlyStopping, ModelCheckpoint\n",
        "import matplotlib.pyplot as plt\n",
        "\n",
        "from preprocess import *"
      ],
      "metadata": {
        "id": "d11lUhiKYuI1"
      },
      "execution_count": 7,
      "outputs": []
    },
    {
      "cell_type": "markdown",
      "source": [
        "# 시각화 함수"
      ],
      "metadata": {
        "id": "pln8rDPixq4n"
      }
    },
    {
      "cell_type": "code",
      "source": [
        "def plot_graphs(history, string):\n",
        "    plt.plot(history.history[string])\n",
        "    plt.plot(history.history['val_'+string])\n",
        "    plt.xlabel(\"Epochs\")\n",
        "    plt.ylabel(string)\n",
        "    plt.legend([string, 'val_'+string])\n",
        "    plt.show()"
      ],
      "metadata": {
        "id": "q4do9sLcxqhv"
      },
      "execution_count": 8,
      "outputs": []
    },
    {
      "cell_type": "markdown",
      "source": [
        "# 학습 데이터 경로"
      ],
      "metadata": {
        "id": "Vx3qADIux6yu"
      }
    },
    {
      "cell_type": "code",
      "source": [
        "DATA_IN_PATH = './data_in/'\n",
        "DATA_OUT_PATH = './data_out/'\n",
        "TRAIN_INPUTS = 'train_inputs.npy'\n",
        "TRAIN_OUTPUTS = 'train_outputs.npy'\n",
        "TRAIN_TARGETS = 'train_targets.npy'\n",
        "DATA_CONFIGS = 'data_configs.json'"
      ],
      "metadata": {
        "id": "RZtlFYIkx9Wv"
      },
      "execution_count": 9,
      "outputs": []
    },
    {
      "cell_type": "markdown",
      "source": [
        "# 랜덤 시드 고정"
      ],
      "metadata": {
        "id": "n6oUNzsQyDTX"
      }
    },
    {
      "cell_type": "code",
      "source": [
        "SEED_NUM = 1234\n",
        "tf.random.set_seed(SEED_NUM)"
      ],
      "metadata": {
        "id": "1vcTyOCZyDC-"
      },
      "execution_count": 10,
      "outputs": []
    },
    {
      "cell_type": "markdown",
      "source": [
        "# 파일 불러오기"
      ],
      "metadata": {
        "id": "G_--Z4t3yI5z"
      }
    },
    {
      "cell_type": "code",
      "source": [
        "index_inputs = np.load(open(DATA_IN_PATH + TRAIN_INPUTS, 'rb'))\n",
        "index_outputs = np.load(open(DATA_IN_PATH + TRAIN_OUTPUTS , 'rb'))\n",
        "index_targets = np.load(open(DATA_IN_PATH + TRAIN_TARGETS , 'rb'))\n",
        "prepro_configs = json.load(open(DATA_IN_PATH + DATA_CONFIGS, 'r'))"
      ],
      "metadata": {
        "id": "o21b98bwyIw-"
      },
      "execution_count": 11,
      "outputs": []
    },
    {
      "cell_type": "markdown",
      "source": [
        "# 하이퍼파라미터 정의"
      ],
      "metadata": {
        "id": "-7yh4IylyOT_"
      }
    },
    {
      "cell_type": "code",
      "source": [
        "char2idx = prepro_configs['char2idx']\n",
        "end_index = prepro_configs['end_symbol']\n",
        "model_name = 'transformer'\n",
        "vocab_size = prepro_configs['vocab_size']\n",
        "BATCH_SIZE = 2\n",
        "MAX_SEQUENCE = 25\n",
        "EPOCHS = 30\n",
        "VALID_SPLIT = 0.1\n",
        "\n",
        "kargs = {'model_name': model_name,\n",
        "         'num_layers': 2,\n",
        "         'd_model': 512,\n",
        "         'num_heads': 8,\n",
        "         'dff': 2048,\n",
        "         'input_vocab_size': vocab_size,\n",
        "         'target_vocab_size': vocab_size,\n",
        "         'maximum_position_encoding': MAX_SEQUENCE,\n",
        "         'end_token_idx': char2idx[end_index],\n",
        "         'rate': 0.1\n",
        "        }"
      ],
      "metadata": {
        "id": "naZDhK2vyRYP"
      },
      "execution_count": 39,
      "outputs": []
    },
    {
      "cell_type": "markdown",
      "source": [
        "# 모델"
      ],
      "metadata": {
        "id": "WWxZnwM7ya1I"
      }
    },
    {
      "cell_type": "markdown",
      "source": [
        "## 마스킹"
      ],
      "metadata": {
        "id": "9fX4oXnIydF3"
      }
    },
    {
      "cell_type": "code",
      "source": [
        "def create_padding_mask(seq):\n",
        "    seq = tf.cast(tf.math.equal(seq, 0), tf.float32)\n",
        "\n",
        "    return seq[:, tf.newaxis, tf.newaxis, :]  # (batch_size, 1, 1, seq_len) # Numpy Broadcasting을 위한 차원 확장"
      ],
      "metadata": {
        "id": "NKS8EU5RyfZe"
      },
      "execution_count": 13,
      "outputs": []
    },
    {
      "cell_type": "code",
      "source": [
        "def create_look_ahead_mask(size):\n",
        "    mask = 1 - tf.linalg.band_part(tf.ones((size, size)), -1, 0)\n",
        "    return mask  # (seq_len, seq_len)"
      ],
      "metadata": {
        "id": "uoufABL1yiGn"
      },
      "execution_count": 14,
      "outputs": []
    },
    {
      "cell_type": "code",
      "source": [
        "def create_masks(inp, tar):\n",
        "    # 인코더 패딩 마스크\n",
        "    enc_padding_mask = create_padding_mask(inp)\n",
        "\n",
        "    # 디코더에서 2번째 멀티헤드어텐션에서 사용하는 패딩 마스크 (인코더 단어들에 대한 패딩)\n",
        "    dec_padding_mask = create_padding_mask(inp)\n",
        "\n",
        "    # 디코더 1번째 멀티헤드어텐션에서 사용하는 마스크 (디코더 단어들에 대한 패딩 마스크 + 미래 참조를 막는 마스크)\n",
        "    look_ahead_mask = create_look_ahead_mask(tf.shape(tar)[1])\n",
        "    dec_target_padding_mask = create_padding_mask(tar)\n",
        "    combined_mask = tf.maximum(dec_target_padding_mask, look_ahead_mask)\n",
        "    # tf.maximum을 통한 (디코더 단어들에 대한 패딩 마스크 + 미래 참조를 막는 마스크)\n",
        "\n",
        "    return enc_padding_mask, combined_mask, dec_padding_mask"
      ],
      "metadata": {
        "id": "9wU7gbFHytgY"
      },
      "execution_count": 15,
      "outputs": []
    },
    {
      "cell_type": "code",
      "source": [
        "enc_padding_mask, look_ahead_mask, dec_padding_mask = create_masks(index_inputs, index_outputs)"
      ],
      "metadata": {
        "id": "wo9eYxr-oCxM"
      },
      "execution_count": 17,
      "outputs": []
    },
    {
      "cell_type": "markdown",
      "source": [
        "## 포지셔널 인코딩"
      ],
      "metadata": {
        "id": "SZ932OVCoHkM"
      }
    },
    {
      "cell_type": "code",
      "source": [
        "def get_angles(pos, i, d_model):\n",
        "    angle_rates = 1 / np.power(10000, (2 * i//2) / np.float32(d_model))\n",
        "    return pos * angle_rates"
      ],
      "metadata": {
        "id": "KftL2uL5oJui"
      },
      "execution_count": 16,
      "outputs": []
    },
    {
      "cell_type": "code",
      "source": [
        "def positional_encoding(position, d_model):\n",
        "    angle_rads = get_angles(np.arange(position)[:, np.newaxis],\n",
        "                          np.arange(d_model)[np.newaxis, :],\n",
        "                          d_model)\n",
        "\n",
        "    # apply sin to even indices in the array; 2i\n",
        "    angle_rads[:, 0::2] = np.sin(angle_rads[:, 0::2])\n",
        "\n",
        "    # apply cos to odd indices in the array; 2i+1\n",
        "    angle_rads[:, 1::2] = np.cos(angle_rads[:, 1::2])\n",
        "\n",
        "    pos_encoding = angle_rads[np.newaxis, ...]\n",
        "\n",
        "    return tf.cast(pos_encoding, dtype=tf.float32)"
      ],
      "metadata": {
        "id": "GD6RhRquoLFE"
      },
      "execution_count": 18,
      "outputs": []
    },
    {
      "cell_type": "code",
      "source": [
        "pos_encoding = positional_encoding(50, 512)\n",
        "print (pos_encoding.shape)\n",
        "\n",
        "plt.pcolormesh(pos_encoding[0], cmap='RdBu') #컬러 : Red&Blue\n",
        "plt.xlabel('Depth')\n",
        "plt.xlim((0, 512)) # d_model의 차원=512\n",
        "plt.ylabel('Position')\n",
        "plt.colorbar() # 칼라바(우측) 표시\n",
        "plt.show()"
      ],
      "metadata": {
        "colab": {
          "base_uri": "https://localhost:8080/",
          "height": 301
        },
        "id": "K0ZrIwlCoNJc",
        "outputId": "e8659edf-8d02-432e-fb7f-6c85e8aae4f7"
      },
      "execution_count": 19,
      "outputs": [
        {
          "output_type": "stream",
          "name": "stdout",
          "text": [
            "(1, 50, 512)\n"
          ]
        },
        {
          "output_type": "display_data",
          "data": {
            "text/plain": [
              "<Figure size 432x288 with 2 Axes>"
            ],
            "image/png": "[encoded data removed]"
          },
          "metadata": {
            "needs_background": "light"
          }
        }
      ]
    },
    {
      "cell_type": "markdown",
      "source": [
        "## 어텐션"
      ],
      "metadata": {
        "id": "6meAAeJvSojR"
      }
    },
    {
      "cell_type": "code",
      "source": [
        "def scaled_dot_product_attention(q, k, v, mask):\n",
        "    \"\"\"Calculate the attention weights.\n",
        "    q, k, v must have matching leading dimensions.\n",
        "    k, v must have matching penultimate dimension, i.e.: seq_len_k = seq_len_v.\n",
        "    The mask has different shapes depending on its type(padding or look ahead) \n",
        "    but it must be broadcastable for addition.\n",
        "\n",
        "    Args:\n",
        "    q: query shape == (..., seq_len_q, depth)\n",
        "    k: key shape == (..., seq_len_k, depth)\n",
        "    v: value shape == (..., seq_len_v, depth_v)\n",
        "    mask: Float tensor with shape broadcastable \n",
        "          to (..., seq_len_q, seq_len_k). Defaults to None.\n",
        "\n",
        "    Returns:\n",
        "    output, attention_weights\n",
        "    \"\"\"\n",
        "\n",
        "    matmul_qk = tf.matmul(q, k, transpose_b=True)  # (..., seq_len_q, seq_len_k)\n",
        "\n",
        "    # scale matmul_qk\n",
        "    dk = tf.cast(tf.shape(k)[-1], tf.float32)\n",
        "    scaled_attention_logits = matmul_qk / tf.math.sqrt(dk)\n",
        "\n",
        "    # add the mask to the scaled tensor.\n",
        "    if mask is not None:\n",
        "        scaled_attention_logits += (mask * -1e9)  \n",
        "\n",
        "    # softmax is normalized on the last axis (seq_len_k) so that the scores\n",
        "    # add up to 1.\n",
        "    attention_weights = tf.nn.softmax(scaled_attention_logits, axis=-1)  # (..., seq_len_q, seq_len_k)\n",
        "\n",
        "    output = tf.matmul(attention_weights, v)  # (..., seq_len_q, depth_v)\n",
        "\n",
        "    return output, attention_weights"
      ],
      "metadata": {
        "id": "cY6owmv-rbJD"
      },
      "execution_count": 20,
      "outputs": []
    },
    {
      "cell_type": "markdown",
      "source": [
        "## 멀티헤드어텐션"
      ],
      "metadata": {
        "id": "R_RzodmfSwdq"
      }
    },
    {
      "cell_type": "code",
      "source": [
        "class MultiHeadAttention(tf.keras.layers.Layer):\n",
        "    def __init__(self, **kargs):\n",
        "        super(MultiHeadAttention, self).__init__()\n",
        "        self.num_heads = kargs['num_heads']\n",
        "        self.d_model = kargs['d_model']\n",
        "\n",
        "        assert self.d_model % self.num_heads == 0\n",
        "\n",
        "        self.depth = self.d_model // self.num_heads\n",
        "\n",
        "        self.wq = tf.keras.layers.Dense(kargs['d_model'])\n",
        "        self.wk = tf.keras.layers.Dense(kargs['d_model'])\n",
        "        self.wv = tf.keras.layers.Dense(kargs['d_model'])\n",
        "\n",
        "        self.dense = tf.keras.layers.Dense(kargs['d_model'])\n",
        "\n",
        "    def split_heads(self, x, batch_size):\n",
        "        \"\"\"Split the last dimension into (num_heads, depth).\n",
        "        Transpose the result such that the shape is (batch_size, num_heads, seq_len, depth)\n",
        "        \"\"\"\n",
        "        x = tf.reshape(x, (batch_size, -1, self.num_heads, self.depth))\n",
        "        return tf.transpose(x, perm=[0, 2, 1, 3])\n",
        "\n",
        "    def call(self, v, k, q, mask):\n",
        "        batch_size = tf.shape(q)[0]\n",
        "\n",
        "        q = self.wq(q)  # (batch_size, seq_len, d_model)\n",
        "        k = self.wk(k)  # (batch_size, seq_len, d_model)\n",
        "        v = self.wv(v)  # (batch_size, seq_len, d_model)\n",
        "\n",
        "        q = self.split_heads(q, batch_size)  # (batch_size, num_heads, seq_len_q, depth)\n",
        "        k = self.split_heads(k, batch_size)  # (batch_size, num_heads, seq_len_k, depth)\n",
        "        v = self.split_heads(v, batch_size)  # (batch_size, num_heads, seq_len_v, depth)\n",
        "\n",
        "        # scaled_attention.shape == (batch_size, num_heads, seq_len_q, depth)\n",
        "        # attention_weights.shape == (batch_size, num_heads, seq_len_q, seq_len_k)\n",
        "        scaled_attention, attention_weights = scaled_dot_product_attention(\n",
        "            q, k, v, mask)\n",
        "\n",
        "        scaled_attention = tf.transpose(scaled_attention, perm=[0, 2, 1, 3])  # (batch_size, seq_len_q, num_heads, depth)\n",
        "\n",
        "        concat_attention = tf.reshape(scaled_attention, \n",
        "                                      (batch_size, -1, self.d_model))  # (batch_size, seq_len_q, d_model)\n",
        "\n",
        "        output = self.dense(concat_attention)  # (batch_size, seq_len_q, d_model)\n",
        "\n",
        "        return output, attention_weights"
      ],
      "metadata": {
        "id": "hLniqaolSyZ6"
      },
      "execution_count": 21,
      "outputs": []
    },
    {
      "cell_type": "markdown",
      "source": [
        "## Point_wise_feed_forward_network"
      ],
      "metadata": {
        "id": "obrutsFES0vy"
      }
    },
    {
      "cell_type": "code",
      "source": [
        "def point_wise_feed_forward_network(**kargs):\n",
        "    return tf.keras.Sequential([\n",
        "      tf.keras.layers.Dense(kargs['dff'], activation='relu'),  # (batch_size, seq_len, dff)\n",
        "      tf.keras.layers.Dense(kargs['d_model'])  # (batch_size, seq_len, d_model)\n",
        "    ])"
      ],
      "metadata": {
        "id": "WezEYdrSS0da"
      },
      "execution_count": 22,
      "outputs": []
    },
    {
      "cell_type": "markdown",
      "source": [
        "## 인코더 레이어"
      ],
      "metadata": {
        "id": "rXgpo3GvS8cK"
      }
    },
    {
      "cell_type": "code",
      "source": [
        "class EncoderLayer(tf.keras.layers.Layer):\n",
        "    def __init__(self, **kargs):\n",
        "        super(EncoderLayer, self).__init__()\n",
        "\n",
        "        self.mha = MultiHeadAttention(**kargs)\n",
        "        self.ffn = point_wise_feed_forward_network(**kargs)\n",
        "\n",
        "        self.layernorm1 = tf.keras.layers.LayerNormalization(epsilon=1e-6)\n",
        "        self.layernorm2 = tf.keras.layers.LayerNormalization(epsilon=1e-6)\n",
        "\n",
        "        self.dropout1 = tf.keras.layers.Dropout(kargs['rate'])\n",
        "        self.dropout2 = tf.keras.layers.Dropout(kargs['rate'])\n",
        "\n",
        "    def call(self, x, mask):\n",
        "        attn_output, _ = self.mha(x, x, x, mask)  # (batch_size, input_seq_len, d_model)\n",
        "        attn_output = self.dropout1(attn_output)\n",
        "        out1 = self.layernorm1(x + attn_output)  # (batch_size, input_seq_len, d_model)\n",
        "\n",
        "        ffn_output = self.ffn(out1)  # (batch_size, input_seq_len, d_model)\n",
        "        ffn_output = self.dropout2(ffn_output)\n",
        "        out2 = self.layernorm2(out1 + ffn_output)  # (batch_size, input_seq_len, d_model)\n",
        "\n",
        "        return out2"
      ],
      "metadata": {
        "id": "lsWOKs_4S-C6"
      },
      "execution_count": 23,
      "outputs": []
    },
    {
      "cell_type": "markdown",
      "source": [
        "## 디코더 레이어"
      ],
      "metadata": {
        "id": "vG9X1VM3TADT"
      }
    },
    {
      "cell_type": "code",
      "source": [
        "class DecoderLayer(tf.keras.layers.Layer):\n",
        "    def __init__(self, **kargs):\n",
        "        super(DecoderLayer, self).__init__()\n",
        "\n",
        "        self.mha1 = MultiHeadAttention(**kargs)\n",
        "        self.mha2 = MultiHeadAttention(**kargs)\n",
        "\n",
        "        self.ffn = point_wise_feed_forward_network(**kargs)\n",
        "\n",
        "        self.layernorm1 = tf.keras.layers.LayerNormalization(epsilon=1e-6)\n",
        "        self.layernorm2 = tf.keras.layers.LayerNormalization(epsilon=1e-6)\n",
        "        self.layernorm3 = tf.keras.layers.LayerNormalization(epsilon=1e-6)\n",
        "\n",
        "        self.dropout1 = tf.keras.layers.Dropout(kargs['rate'])\n",
        "        self.dropout2 = tf.keras.layers.Dropout(kargs['rate'])\n",
        "        self.dropout3 = tf.keras.layers.Dropout(kargs['rate'])\n",
        "    \n",
        "    \n",
        "    def call(self, x, enc_output, look_ahead_mask, padding_mask):\n",
        "        # enc_output.shape == (batch_size, input_seq_len, d_model)\n",
        "        attn1, attn_weights_block1 = self.mha1(x, x, x, look_ahead_mask)  # (batch_size, target_seq_len, d_model)\n",
        "        attn1 = self.dropout1(attn1)\n",
        "        out1 = self.layernorm1(attn1 + x)\n",
        "\n",
        "        attn2, attn_weights_block2 = self.mha2(\n",
        "            enc_output, enc_output, out1, padding_mask)  # (batch_size, target_seq_len, d_model)\n",
        "        attn2 = self.dropout2(attn2)\n",
        "        out2 = self.layernorm2(attn2 + out1)  # (batch_size, target_seq_len, d_model)\n",
        "\n",
        "        ffn_output = self.ffn(out2)  # (batch_size, target_seq_len, d_model)\n",
        "        ffn_output = self.dropout3(ffn_output)\n",
        "        out3 = self.layernorm3(ffn_output + out2)  # (batch_size, target_seq_len, d_model)\n",
        "\n",
        "        return out3, attn_weights_block1, attn_weights_block2"
      ],
      "metadata": {
        "id": "AQbGdmT-TBqa"
      },
      "execution_count": 24,
      "outputs": []
    },
    {
      "cell_type": "markdown",
      "source": [
        "## 인코더"
      ],
      "metadata": {
        "id": "_oI17xlOTDEC"
      }
    },
    {
      "cell_type": "code",
      "source": [
        "class Encoder(tf.keras.layers.Layer):\n",
        "    def __init__(self, **kargs):\n",
        "        super(Encoder, self).__init__()\n",
        "\n",
        "        self.d_model = kargs['d_model']\n",
        "        self.num_layers = kargs['num_layers']\n",
        "\n",
        "        self.embedding = tf.keras.layers.Embedding(kargs['input_vocab_size'], self.d_model)\n",
        "        self.pos_encoding = positional_encoding(kargs['maximum_position_encoding'], \n",
        "                                                self.d_model)\n",
        "\n",
        "\n",
        "        self.enc_layers = [EncoderLayer(**kargs) \n",
        "                           for _ in range(self.num_layers)]\n",
        "\n",
        "        self.dropout = tf.keras.layers.Dropout(kargs['rate'])\n",
        "\n",
        "    def call(self, x, mask):\n",
        "\n",
        "        seq_len = tf.shape(x)[1]\n",
        "\n",
        "        # adding embedding and position encoding.\n",
        "        x = self.embedding(x)  # (batch_size, input_seq_len, d_model)\n",
        "        x *= tf.math.sqrt(tf.cast(self.d_model, tf.float32))\n",
        "        x += self.pos_encoding[:, :seq_len, :]\n",
        "\n",
        "        x = self.dropout(x)\n",
        "\n",
        "        for i in range(self.num_layers):\n",
        "            x = self.enc_layers[i](x, mask)\n",
        "\n",
        "        return x  # (batch_size, input_seq_len, d_model)"
      ],
      "metadata": {
        "id": "FlURr2ovTEP6"
      },
      "execution_count": 25,
      "outputs": []
    },
    {
      "cell_type": "markdown",
      "source": [
        "## 디코더"
      ],
      "metadata": {
        "id": "4VVGwpFjTFgk"
      }
    },
    {
      "cell_type": "code",
      "source": [
        "class Decoder(tf.keras.layers.Layer):\n",
        "    def __init__(self, **kargs):\n",
        "        super(Decoder, self).__init__()\n",
        "\n",
        "        self.d_model = kargs['d_model']\n",
        "        self.num_layers = kargs['num_layers']\n",
        "\n",
        "        self.embedding = tf.keras.layers.Embedding(kargs['target_vocab_size'], self.d_model)\n",
        "        self.pos_encoding = positional_encoding(kargs['maximum_position_encoding'], self.d_model)\n",
        "\n",
        "        self.dec_layers = [DecoderLayer(**kargs) \n",
        "                           for _ in range(self.num_layers)]\n",
        "        self.dropout = tf.keras.layers.Dropout(kargs['rate'])\n",
        "\n",
        "    def call(self, x, enc_output, look_ahead_mask, padding_mask):\n",
        "        seq_len = tf.shape(x)[1]\n",
        "        attention_weights = {}\n",
        "\n",
        "        x = self.embedding(x)  # (batch_size, target_seq_len, d_model)\n",
        "        x *= tf.math.sqrt(tf.cast(self.d_model, tf.float32))\n",
        "        x += self.pos_encoding[:, :seq_len, :]\n",
        "\n",
        "        x = self.dropout(x)\n",
        "\n",
        "        for i in range(self.num_layers):\n",
        "            x, block1, block2 = self.dec_layers[i](x, enc_output, look_ahead_mask, padding_mask)\n",
        "\n",
        "            attention_weights['decoder_layer{}_block1'.format(i+1)] = block1\n",
        "            attention_weights['decoder_layer{}_block2'.format(i+1)] = block2\n",
        "\n",
        "        # x.shape == (batch_size, target_seq_len, d_model)\n",
        "        return x, attention_weights"
      ],
      "metadata": {
        "id": "AkHvfCqTTHtK"
      },
      "execution_count": 26,
      "outputs": []
    },
    {
      "cell_type": "markdown",
      "source": [
        "## 트랜스포머 모델"
      ],
      "metadata": {
        "id": "3H67vLGMTIeZ"
      }
    },
    {
      "cell_type": "code",
      "source": [
        "class Transformer(tf.keras.Model):\n",
        "    def __init__(self, **kargs):\n",
        "        super(Transformer, self).__init__(name=kargs['model_name'])\n",
        "        self.end_token_idx = kargs['end_token_idx']\n",
        "        \n",
        "        self.encoder = Encoder(**kargs)\n",
        "        self.decoder = Decoder(**kargs)\n",
        "\n",
        "        self.final_layer = tf.keras.layers.Dense(kargs['target_vocab_size'])\n",
        "\n",
        "    def call(self, x):\n",
        "        inp, tar = x\n",
        "\n",
        "        enc_padding_mask, look_ahead_mask, dec_padding_mask = create_masks(inp, tar)\n",
        "        enc_output = self.encoder(inp, enc_padding_mask)  # (batch_size, inp_seq_len, d_model)\n",
        "\n",
        "        # dec_output.shape == (batch_size, tar_seq_len, d_model)\n",
        "        dec_output, _ = self.decoder(\n",
        "            tar, enc_output, look_ahead_mask, dec_padding_mask)\n",
        "\n",
        "        final_output = self.final_layer(dec_output)  # (batch_size, tar_seq_len, target_vocab_size)\n",
        "\n",
        "        return final_output\n",
        "    \n",
        "    def inference(self, x):\n",
        "        inp = x\n",
        "        tar = tf.expand_dims([STD_INDEX], 0)\n",
        "\n",
        "        enc_padding_mask, look_ahead_mask, dec_padding_mask = create_masks(inp, tar)        \n",
        "        enc_output = self.encoder(inp, enc_padding_mask)\n",
        "        \n",
        "        predict_tokens = list()\n",
        "        for t in range(0, MAX_SEQUENCE):\n",
        "            dec_output, _ = self.decoder(tar, enc_output, look_ahead_mask, dec_padding_mask)\n",
        "            final_output = self.final_layer(dec_output)\n",
        "            outputs = tf.argmax(final_output, -1).numpy()\n",
        "            pred_token = outputs[0][-1]\n",
        "            if pred_token == self.end_token_idx:\n",
        "                break\n",
        "            predict_tokens.append(pred_token)\n",
        "            tar = tf.expand_dims([STD_INDEX] + predict_tokens, 0)\n",
        "            _, look_ahead_mask, dec_padding_mask = create_masks(inp, tar)\n",
        "            \n",
        "        return predict_tokens"
      ],
      "metadata": {
        "id": "SkiwE5iUTKg7"
      },
      "execution_count": 27,
      "outputs": []
    },
    {
      "cell_type": "markdown",
      "source": [
        "## 모델 로스 설정"
      ],
      "metadata": {
        "id": "CNQkSD7MTMoB"
      }
    },
    {
      "cell_type": "code",
      "source": [
        "loss_object = tf.keras.losses.SparseCategoricalCrossentropy(\n",
        "    from_logits=True, reduction='none')\n",
        "\n",
        "train_accuracy = tf.keras.metrics.SparseCategoricalAccuracy(name='accuracy')\n",
        "\n",
        "def loss(real, pred):\n",
        "    mask = tf.math.logical_not(tf.math.equal(real, 0))\n",
        "    loss_ = loss_object(real, pred)\n",
        "\n",
        "    mask = tf.cast(mask, dtype=loss_.dtype)\n",
        "    loss_ *= mask\n",
        "\n",
        "    return tf.reduce_mean(loss_)\n",
        "\n",
        "def accuracy(real, pred):\n",
        "    mask = tf.math.logical_not(tf.math.equal(real, 0))\n",
        "    mask = tf.expand_dims(tf.cast(mask, dtype=pred.dtype), axis=-1)\n",
        "    pred *= mask    \n",
        "    acc = train_accuracy(real, pred)\n",
        "\n",
        "    return tf.reduce_mean(acc)"
      ],
      "metadata": {
        "id": "Zif_7hrxTPYC"
      },
      "execution_count": 28,
      "outputs": []
    },
    {
      "cell_type": "markdown",
      "source": [
        "## 모델 컴파일"
      ],
      "metadata": {
        "id": "PQhjEkmSTsya"
      }
    },
    {
      "cell_type": "code",
      "source": [
        "model = Transformer(**kargs)\n",
        "model.compile(optimizer=tf.keras.optimizers.Adam(1e-4),\n",
        "              loss=loss,\n",
        "              metrics=[accuracy])"
      ],
      "metadata": {
        "id": "YKldS-7MTrG_"
      },
      "execution_count": 29,
      "outputs": []
    },
    {
      "cell_type": "markdown",
      "source": [
        "## Callback ( earlystop )"
      ],
      "metadata": {
        "id": "e7NSfyrpTuou"
      }
    },
    {
      "cell_type": "code",
      "source": [
        "# overfitting을 막기 위한 ealrystop 추가\n",
        "earlystop_callback = EarlyStopping(monitor='val_accuracy', min_delta=0.0001, patience=10)\n",
        "# min_delta: the threshold that triggers the termination (acc should at least improve 0.0001)\n",
        "# patience: no improvment epochs (patience = 1, 1번 이상 상승이 없으면 종료)\n",
        "\n",
        "checkpoint_path = DATA_OUT_PATH + model_name + '/weights.h5'\n",
        "checkpoint_dir = os.path.dirname(checkpoint_path)\n",
        "\n",
        "# Create path if exists\n",
        "if os.path.exists(checkpoint_dir):\n",
        "    print(\"{} -- Folder already exists \\n\".format(checkpoint_dir))\n",
        "else:\n",
        "    os.makedirs(checkpoint_dir, exist_ok=True)\n",
        "    print(\"{} -- Folder create complete \\n\".format(checkpoint_dir))\n",
        "    \n",
        "\n",
        "cp_callback = ModelCheckpoint(\n",
        "    checkpoint_path, monitor='val_accuracy', verbose=1, save_best_only=True, save_weights_only=True)"
      ],
      "metadata": {
        "colab": {
          "base_uri": "https://localhost:8080/"
        },
        "id": "47zJZ4eHT0NK",
        "outputId": "14fe1474-7fca-4931-b9c5-7fe3bc622eaa"
      },
      "execution_count": 30,
      "outputs": [
        {
          "output_type": "stream",
          "name": "stdout",
          "text": [
            "./data_out/transformer -- Folder create complete \n",
            "\n"
          ]
        }
      ]
    },
    {
      "cell_type": "markdown",
      "source": [
        "## 모델 학습"
      ],
      "metadata": {
        "id": "AMrfrF-zT3cy"
      }
    },
    {
      "cell_type": "code",
      "source": [
        "history = model.fit([index_inputs, index_outputs], index_targets, \n",
        "                    batch_size=BATCH_SIZE, epochs=EPOCHS,\n",
        "                    validation_split=VALID_SPLIT, callbacks=[earlystop_callback, cp_callback])"
      ],
      "metadata": {
        "colab": {
          "base_uri": "https://localhost:8080/"
        },
        "id": "7lFsJ7QPT6ji",
        "outputId": "1eaf9fa6-8f28-4ec6-8cae-7ab4619eca7f"
      },
      "execution_count": 40,
      "outputs": [
        {
          "output_type": "stream",
          "name": "stdout",
          "text": [
            "Epoch 1/30\n",
            "5318/5320 [============================>.] - ETA: 0s - loss: 0.3797 - accuracy: 0.8848\n",
            "Epoch 1: val_accuracy improved from 0.88362 to 0.88579, saving model to ./data_out/transformer/weights.h5\n",
            "5320/5320 [==============================] - 126s 24ms/step - loss: 0.3797 - accuracy: 0.8848 - val_loss: 1.8355 - val_accuracy: 0.8858\n",
            "Epoch 2/30\n",
            "5319/5320 [============================>.] - ETA: 0s - loss: 0.3759 - accuracy: 0.8868\n",
            "Epoch 2: val_accuracy improved from 0.88579 to 0.88774, saving model to ./data_out/transformer/weights.h5\n",
            "5320/5320 [==============================] - 126s 24ms/step - loss: 0.3759 - accuracy: 0.8868 - val_loss: 1.7836 - val_accuracy: 0.8877\n",
            "Epoch 3/30\n",
            "5319/5320 [============================>.] - ETA: 0s - loss: 0.3694 - accuracy: 0.8887\n",
            "Epoch 3: val_accuracy improved from 0.88774 to 0.88954, saving model to ./data_out/transformer/weights.h5\n",
            "5320/5320 [==============================] - 126s 24ms/step - loss: 0.3693 - accuracy: 0.8887 - val_loss: 1.8055 - val_accuracy: 0.8895\n",
            "Epoch 4/30\n",
            "5319/5320 [============================>.] - ETA: 0s - loss: 0.3622 - accuracy: 0.8904\n",
            "Epoch 4: val_accuracy improved from 0.88954 to 0.89119, saving model to ./data_out/transformer/weights.h5\n",
            "5320/5320 [==============================] - 126s 24ms/step - loss: 0.3622 - accuracy: 0.8904 - val_loss: 1.8357 - val_accuracy: 0.8912\n",
            "Epoch 5/30\n",
            "5319/5320 [============================>.] - ETA: 0s - loss: 0.3571 - accuracy: 0.8920\n",
            "Epoch 5: val_accuracy improved from 0.89119 to 0.89270, saving model to ./data_out/transformer/weights.h5\n",
            "5320/5320 [==============================] - 126s 24ms/step - loss: 0.3571 - accuracy: 0.8920 - val_loss: 1.8597 - val_accuracy: 0.8927\n",
            "Epoch 6/30\n",
            "5319/5320 [============================>.] - ETA: 0s - loss: 0.3499 - accuracy: 0.8934\n",
            "Epoch 6: val_accuracy improved from 0.89270 to 0.89411, saving model to ./data_out/transformer/weights.h5\n",
            "5320/5320 [==============================] - 126s 24ms/step - loss: 0.3499 - accuracy: 0.8934 - val_loss: 1.8568 - val_accuracy: 0.8941\n",
            "Epoch 7/30\n",
            "5320/5320 [==============================] - ETA: 0s - loss: 0.3444 - accuracy: 0.8948\n",
            "Epoch 7: val_accuracy improved from 0.89411 to 0.89543, saving model to ./data_out/transformer/weights.h5\n",
            "5320/5320 [==============================] - 126s 24ms/step - loss: 0.3444 - accuracy: 0.8948 - val_loss: 1.8573 - val_accuracy: 0.8954\n",
            "Epoch 8/30\n",
            "5320/5320 [==============================] - ETA: 0s - loss: 0.3394 - accuracy: 0.8961\n",
            "Epoch 8: val_accuracy improved from 0.89543 to 0.89665, saving model to ./data_out/transformer/weights.h5\n",
            "5320/5320 [==============================] - 126s 24ms/step - loss: 0.3394 - accuracy: 0.8961 - val_loss: 1.8619 - val_accuracy: 0.8967\n",
            "Epoch 9/30\n",
            "5320/5320 [==============================] - ETA: 0s - loss: 0.3350 - accuracy: 0.8973\n",
            "Epoch 9: val_accuracy improved from 0.89665 to 0.89779, saving model to ./data_out/transformer/weights.h5\n",
            "5320/5320 [==============================] - 127s 24ms/step - loss: 0.3350 - accuracy: 0.8973 - val_loss: 1.8514 - val_accuracy: 0.8978\n",
            "Epoch 10/30\n",
            "5318/5320 [============================>.] - ETA: 0s - loss: 0.3307 - accuracy: 0.8984\n",
            "Epoch 10: val_accuracy improved from 0.89779 to 0.89887, saving model to ./data_out/transformer/weights.h5\n",
            "5320/5320 [==============================] - 126s 24ms/step - loss: 0.3307 - accuracy: 0.8984 - val_loss: 1.8749 - val_accuracy: 0.8989\n",
            "Epoch 11/30\n",
            "5318/5320 [============================>.] - ETA: 0s - loss: 0.3258 - accuracy: 0.8994\n",
            "Epoch 11: val_accuracy improved from 0.89887 to 0.89989, saving model to ./data_out/transformer/weights.h5\n",
            "5320/5320 [==============================] - 126s 24ms/step - loss: 0.3258 - accuracy: 0.8994 - val_loss: 1.8859 - val_accuracy: 0.8999\n",
            "Epoch 12/30\n",
            "5320/5320 [==============================] - ETA: 0s - loss: 0.3225 - accuracy: 0.9004\n",
            "Epoch 12: val_accuracy improved from 0.89989 to 0.90085, saving model to ./data_out/transformer/weights.h5\n",
            "5320/5320 [==============================] - 126s 24ms/step - loss: 0.3225 - accuracy: 0.9004 - val_loss: 1.8920 - val_accuracy: 0.9008\n",
            "Epoch 13/30\n",
            "5318/5320 [============================>.] - ETA: 0s - loss: 0.3180 - accuracy: 0.9013\n",
            "Epoch 13: val_accuracy improved from 0.90085 to 0.90175, saving model to ./data_out/transformer/weights.h5\n",
            "5320/5320 [==============================] - 126s 24ms/step - loss: 0.3180 - accuracy: 0.9013 - val_loss: 1.8796 - val_accuracy: 0.9018\n",
            "Epoch 14/30\n",
            "5318/5320 [============================>.] - ETA: 0s - loss: 0.3153 - accuracy: 0.9022\n",
            "Epoch 14: val_accuracy improved from 0.90175 to 0.90261, saving model to ./data_out/transformer/weights.h5\n",
            "5320/5320 [==============================] - 126s 24ms/step - loss: 0.3153 - accuracy: 0.9022 - val_loss: 1.9071 - val_accuracy: 0.9026\n",
            "Epoch 15/30\n",
            "5318/5320 [============================>.] - ETA: 0s - loss: 0.3117 - accuracy: 0.9030\n",
            "Epoch 15: val_accuracy improved from 0.90261 to 0.90343, saving model to ./data_out/transformer/weights.h5\n",
            "5320/5320 [==============================] - 126s 24ms/step - loss: 0.3117 - accuracy: 0.9030 - val_loss: 1.9017 - val_accuracy: 0.9034\n",
            "Epoch 16/30\n",
            "5318/5320 [============================>.] - ETA: 0s - loss: 0.3109 - accuracy: 0.9038\n",
            "Epoch 16: val_accuracy improved from 0.90343 to 0.90421, saving model to ./data_out/transformer/weights.h5\n",
            "5320/5320 [==============================] - 126s 24ms/step - loss: 0.3109 - accuracy: 0.9038 - val_loss: 1.9229 - val_accuracy: 0.9042\n",
            "Epoch 17/30\n",
            "5318/5320 [============================>.] - ETA: 0s - loss: 0.3069 - accuracy: 0.9046\n",
            "Epoch 17: val_accuracy improved from 0.90421 to 0.90495, saving model to ./data_out/transformer/weights.h5\n",
            "5320/5320 [==============================] - 125s 24ms/step - loss: 0.3069 - accuracy: 0.9046 - val_loss: 1.8981 - val_accuracy: 0.9049\n",
            "Epoch 18/30\n",
            "5319/5320 [============================>.] - ETA: 0s - loss: 0.3062 - accuracy: 0.9053\n",
            "Epoch 18: val_accuracy improved from 0.90495 to 0.90564, saving model to ./data_out/transformer/weights.h5\n",
            "5320/5320 [==============================] - 126s 24ms/step - loss: 0.3062 - accuracy: 0.9053 - val_loss: 1.9175 - val_accuracy: 0.9056\n",
            "Epoch 19/30\n",
            "5319/5320 [============================>.] - ETA: 0s - loss: 0.3035 - accuracy: 0.9060\n",
            "Epoch 19: val_accuracy improved from 0.90564 to 0.90631, saving model to ./data_out/transformer/weights.h5\n",
            "5320/5320 [==============================] - 126s 24ms/step - loss: 0.3035 - accuracy: 0.9060 - val_loss: 1.9068 - val_accuracy: 0.9063\n",
            "Epoch 20/30\n",
            "5319/5320 [============================>.] - ETA: 0s - loss: 0.2996 - accuracy: 0.9067\n",
            "Epoch 20: val_accuracy improved from 0.90631 to 0.90696, saving model to ./data_out/transformer/weights.h5\n",
            "5320/5320 [==============================] - 126s 24ms/step - loss: 0.2996 - accuracy: 0.9067 - val_loss: 1.9343 - val_accuracy: 0.9070\n",
            "Epoch 21/30\n",
            "5320/5320 [==============================] - ETA: 0s - loss: 0.2982 - accuracy: 0.9073\n",
            "Epoch 21: val_accuracy improved from 0.90696 to 0.90758, saving model to ./data_out/transformer/weights.h5\n",
            "5320/5320 [==============================] - 126s 24ms/step - loss: 0.2982 - accuracy: 0.9073 - val_loss: 1.9316 - val_accuracy: 0.9076\n",
            "Epoch 22/30\n",
            "5318/5320 [============================>.] - ETA: 0s - loss: 0.2957 - accuracy: 0.9079\n",
            "Epoch 22: val_accuracy improved from 0.90758 to 0.90818, saving model to ./data_out/transformer/weights.h5\n",
            "5320/5320 [==============================] - 125s 24ms/step - loss: 0.2957 - accuracy: 0.9079 - val_loss: 1.9304 - val_accuracy: 0.9082\n",
            "Epoch 23/30\n",
            "5318/5320 [============================>.] - ETA: 0s - loss: 0.2944 - accuracy: 0.9085\n",
            "Epoch 23: val_accuracy improved from 0.90818 to 0.90874, saving model to ./data_out/transformer/weights.h5\n",
            "5320/5320 [==============================] - 126s 24ms/step - loss: 0.2944 - accuracy: 0.9085 - val_loss: 1.9206 - val_accuracy: 0.9087\n",
            "Epoch 24/30\n",
            "5319/5320 [============================>.] - ETA: 0s - loss: 0.2909 - accuracy: 0.9090\n",
            "Epoch 24: val_accuracy improved from 0.90874 to 0.90929, saving model to ./data_out/transformer/weights.h5\n",
            "5320/5320 [==============================] - 126s 24ms/step - loss: 0.2910 - accuracy: 0.9090 - val_loss: 1.9299 - val_accuracy: 0.9093\n",
            "Epoch 25/30\n",
            "5318/5320 [============================>.] - ETA: 0s - loss: 0.2895 - accuracy: 0.9095\n",
            "Epoch 25: val_accuracy improved from 0.90929 to 0.90981, saving model to ./data_out/transformer/weights.h5\n",
            "5320/5320 [==============================] - 127s 24ms/step - loss: 0.2895 - accuracy: 0.9095 - val_loss: 1.9574 - val_accuracy: 0.9098\n",
            "Epoch 26/30\n",
            "5319/5320 [============================>.] - ETA: 0s - loss: 0.2876 - accuracy: 0.9101\n",
            "Epoch 26: val_accuracy improved from 0.90981 to 0.91032, saving model to ./data_out/transformer/weights.h5\n",
            "5320/5320 [==============================] - 126s 24ms/step - loss: 0.2876 - accuracy: 0.9101 - val_loss: 1.9321 - val_accuracy: 0.9103\n",
            "Epoch 27/30\n",
            "5320/5320 [==============================] - ETA: 0s - loss: 0.2851 - accuracy: 0.9106\n",
            "Epoch 27: val_accuracy improved from 0.91032 to 0.91081, saving model to ./data_out/transformer/weights.h5\n",
            "5320/5320 [==============================] - 127s 24ms/step - loss: 0.2851 - accuracy: 0.9106 - val_loss: 1.9382 - val_accuracy: 0.9108\n",
            "Epoch 28/30\n",
            "5320/5320 [==============================] - ETA: 0s - loss: 0.2850 - accuracy: 0.9110\n",
            "Epoch 28: val_accuracy improved from 0.91081 to 0.91128, saving model to ./data_out/transformer/weights.h5\n",
            "5320/5320 [==============================] - 126s 24ms/step - loss: 0.2850 - accuracy: 0.9110 - val_loss: 1.9354 - val_accuracy: 0.9113\n",
            "Epoch 29/30\n",
            "5319/5320 [============================>.] - ETA: 0s - loss: 0.2822 - accuracy: 0.9115\n",
            "Epoch 29: val_accuracy improved from 0.91128 to 0.91173, saving model to ./data_out/transformer/weights.h5\n",
            "5320/5320 [==============================] - 125s 24ms/step - loss: 0.2822 - accuracy: 0.9115 - val_loss: 1.9355 - val_accuracy: 0.9117\n",
            "Epoch 30/30\n",
            "5320/5320 [==============================] - ETA: 0s - loss: 0.2803 - accuracy: 0.9119\n",
            "Epoch 30: val_accuracy improved from 0.91173 to 0.91218, saving model to ./data_out/transformer/weights.h5\n",
            "5320/5320 [==============================] - 126s 24ms/step - loss: 0.2803 - accuracy: 0.9119 - val_loss: 1.9528 - val_accuracy: 0.9122\n"
          ]
        }
      ]
    },
    {
      "cell_type": "markdown",
      "source": [
        "## 성능 그래프"
      ],
      "metadata": {
        "id": "xbKOuEi9UHNa"
      }
    },
    {
      "cell_type": "code",
      "source": [
        "plot_graphs(history, 'accuracy')"
      ],
      "metadata": {
        "colab": {
          "base_uri": "https://localhost:8080/",
          "height": 279
        },
        "id": "HRuuZsUmUI-O",
        "outputId": "781f1f90-db13-454c-f226-e7d4ffaa1b6e"
      },
      "execution_count": 41,
      "outputs": [
        {
          "output_type": "display_data",
          "data": {
            "text/plain": [
              "<Figure size 432x288 with 1 Axes>"
            ],
            "image/png": "[encoded data removed]"
          },
          "metadata": {
            "needs_background": "light"
          }
        }
      ]
    },
    {
      "cell_type": "code",
      "source": [
        "plot_graphs(history, 'loss')"
      ],
      "metadata": {
        "colab": {
          "base_uri": "https://localhost:8080/",
          "height": 279
        },
        "id": "22k2KknaUJ2z",
        "outputId": "4af120ba-1c80-4e79-c1b2-b72e5277636b"
      },
      "execution_count": 42,
      "outputs": [
        {
          "output_type": "display_data",
          "data": {
            "text/plain": [
              "<Figure size 432x288 with 1 Axes>"
            ],
            "image/png": "[encoded data removed]"
          },
          "metadata": {
            "needs_background": "light"
          }
        }
      ]
    },
    {
      "cell_type": "markdown",
      "source": [
        "## 최고성능모델 불러오기"
      ],
      "metadata": {
        "id": "o1Ov5ZDoUKnS"
      }
    },
    {
      "cell_type": "code",
      "source": [
        "DATA_OUT_PATH = './data_out/'\n",
        "SAVE_FILE_NM = 'weights.h5'\n",
        "\n",
        "model.load_weights(os.path.join(DATA_OUT_PATH, model_name, SAVE_FILE_NM))"
      ],
      "metadata": {
        "id": "ZEhOyLi5UM6C"
      },
      "execution_count": 43,
      "outputs": []
    },
    {
      "cell_type": "markdown",
      "source": [
        "## 모델 테스트"
      ],
      "metadata": {
        "id": "zYnANC7oUOfN"
      }
    },
    {
      "cell_type": "code",
      "source": [
        "char2idx = prepro_configs['char2idx']\n",
        "idx2char = prepro_configs['idx2char']"
      ],
      "metadata": {
        "id": "YUwVgKUpUPo6"
      },
      "execution_count": 44,
      "outputs": []
    },
    {
      "cell_type": "code",
      "source": [
        "text = \"안녕?\"\n",
        "test_index_inputs, _ = enc_processing([text], char2idx)\n",
        "outputs = model.inference(test_index_inputs)\n",
        "\n",
        "print(' '.join([idx2char[str(o)] for o in outputs]))"
      ],
      "metadata": {
        "colab": {
          "base_uri": "https://localhost:8080/"
        },
        "id": "viH6C4orUR9j",
        "outputId": "f753bb1a-facb-4bf1-8571-235794f53a25"
      },
      "execution_count": 45,
      "outputs": [
        {
          "output_type": "stream",
          "name": "stdout",
          "text": [
            "안녕하세요\n"
          ]
        }
      ]
    },
    {
      "cell_type": "code",
      "source": [
        "text = \"받고 싶은 선물 있니?\"\n",
        "test_index_inputs, _ = enc_processing([text], char2idx)\n",
        "outputs = model.inference(test_index_inputs)\n",
        "\n",
        "print(' '.join([idx2char[str(o)] for o in outputs]))"
      ],
      "metadata": {
        "colab": {
          "base_uri": "https://localhost:8080/"
        },
        "id": "JWn4I4VRrRiO",
        "outputId": "70e9f826-27a7-4f92-8d8c-cc0d901590ef"
      },
      "execution_count": 57,
      "outputs": [
        {
          "output_type": "stream",
          "name": "stdout",
          "text": [
            "저 도 좋아해주세요\n"
          ]
        }
      ]
    },
    {
      "cell_type": "code",
      "source": [
        "text = \"받고 싶은 선물 있니?\"\n",
        "test_index_inputs, _ = enc_processing([text], char2idx)\n",
        "outputs = model.inference(test_index_inputs)\n",
        "\n",
        "print(' '.join([idx2char[str(o)] for o in outputs]))"
      ],
      "metadata": {
        "id": "suyWKfFFu9xP"
      },
      "execution_count": null,
      "outputs": []
    },
    {
      "cell_type": "code",
      "source": [
        "text = \"내일 뭐하지?\"\n",
        "test_index_inputs, _ = enc_processing([text], char2idx)\n",
        "outputs = model.inference(test_index_inputs)\n",
        "\n",
        "print(' '.join([idx2char[str(o)] for o in outputs]))"
      ],
      "metadata": {
        "colab": {
          "base_uri": "https://localhost:8080/"
        },
        "id": "aG3uepTXuYLs",
        "outputId": "78db4835-0d8e-4868-cc56-d47ced0966b9"
      },
      "execution_count": 58,
      "outputs": [
        {
          "output_type": "stream",
          "name": "stdout",
          "text": [
            "지 금도 잘 하고있어요\n"
          ]
        }
      ]
    },
    {
      "cell_type": "markdown",
      "source": [
        "# TEST"
      ],
      "metadata": {
        "id": "gqYTDSgXX3nk"
      }
    },
    {
      "cell_type": "markdown",
      "source": [
        "### mask"
      ],
      "metadata": {
        "id": "2n-7PIl4X6YD"
      }
    },
    {
      "cell_type": "code",
      "execution_count": null,
      "metadata": {
        "id": "hfYL4Z917unU"
      },
      "outputs": [],
      "source": [
        "import tensorflow as tf"
      ]
    },
    {
      "cell_type": "code",
      "source": [
        "b=1-tf.linalg.band_part(tf.ones((2,2)),-1,0)"
      ],
      "metadata": {
        "id": "W1wdWJP-9UBq"
      },
      "execution_count": null,
      "outputs": []
    },
    {
      "cell_type": "code",
      "source": [
        "b*-1e9"
      ],
      "metadata": {
        "colab": {
          "base_uri": "https://localhost:8080/"
        },
        "id": "2Rbk3kOxc-Lw",
        "outputId": "a455921e-1a2c-463d-8947-ef18f4ac24e9"
      },
      "execution_count": null,
      "outputs": [
        {
          "output_type": "execute_result",
          "data": {
            "text/plain": [
              "<tf.Tensor: shape=(2, 2), dtype=float32, numpy=\n",
              "array([[-0.e+00, -1.e+09],\n",
              "       [-0.e+00, -0.e+00]], dtype=float32)>"
            ]
          },
          "metadata": {},
          "execution_count": 4
        }
      ]
    },
    {
      "cell_type": "code",
      "source": [
        "import numpy as np"
      ],
      "metadata": {
        "id": "cLKxxt5scqzR"
      },
      "execution_count": null,
      "outputs": []
    },
    {
      "cell_type": "code",
      "source": [
        "a=np.array([[1,2],[3,4]])"
      ],
      "metadata": {
        "id": "YlLvlYzFbN9C"
      },
      "execution_count": null,
      "outputs": []
    },
    {
      "cell_type": "code",
      "source": [
        "a+=b*-1e9"
      ],
      "metadata": {
        "id": "2LG-IsrRcvvx"
      },
      "execution_count": null,
      "outputs": []
    },
    {
      "cell_type": "code",
      "source": [
        "a"
      ],
      "metadata": {
        "colab": {
          "base_uri": "https://localhost:8080/"
        },
        "id": "7s5AkTaFcy5y",
        "outputId": "0ddd2489-d431-485d-95ce-a9c2c7403f27"
      },
      "execution_count": null,
      "outputs": [
        {
          "output_type": "execute_result",
          "data": {
            "text/plain": [
              "<tf.Tensor: shape=(2, 2), dtype=float32, numpy=\n",
              "array([[ 1.e+00, -1.e+09],\n",
              "       [ 3.e+00,  4.e+00]], dtype=float32)>"
            ]
          },
          "metadata": {},
          "execution_count": 12
        }
      ]
    },
    {
      "cell_type": "markdown",
      "source": [
        "### tf.matamul"
      ],
      "metadata": {
        "id": "g1gKdorSX9Yk"
      }
    },
    {
      "cell_type": "code",
      "source": [
        "a=np.array([[[[1,2,3],[3,4,5]],[[5,6,7],[7,8,9]]],[[[1,2,3],[3,4,5]],[[5,6,7],[7,8,9]]]])"
      ],
      "metadata": {
        "id": "sdENY4_tpwlG"
      },
      "execution_count": null,
      "outputs": []
    },
    {
      "cell_type": "code",
      "source": [
        "a.shape"
      ],
      "metadata": {
        "colab": {
          "base_uri": "https://localhost:8080/"
        },
        "id": "BZcGhEodqDD-",
        "outputId": "11e28cec-156a-4c6c-f113-0c1f6161b549"
      },
      "execution_count": null,
      "outputs": [
        {
          "output_type": "execute_result",
          "data": {
            "text/plain": [
              "(2, 2, 2, 3)"
            ]
          },
          "metadata": {},
          "execution_count": 7
        }
      ]
    },
    {
      "cell_type": "code",
      "source": [
        "tf.matmul(a,a,transpose_b=True)"
      ],
      "metadata": {
        "colab": {
          "base_uri": "https://localhost:8080/"
        },
        "id": "OSwFtdspdEPY",
        "outputId": "fd19e66c-b563-429b-bc56-4db6ab785255"
      },
      "execution_count": null,
      "outputs": [
        {
          "output_type": "execute_result",
          "data": {
            "text/plain": [
              "<tf.Tensor: shape=(2, 2, 2, 2), dtype=int64, numpy=\n",
              "array([[[[ 14,  26],\n",
              "         [ 26,  50]],\n",
              "\n",
              "        [[110, 146],\n",
              "         [146, 194]]],\n",
              "\n",
              "\n",
              "       [[[ 14,  26],\n",
              "         [ 26,  50]],\n",
              "\n",
              "        [[110, 146],\n",
              "         [146, 194]]]])>"
            ]
          },
          "metadata": {},
          "execution_count": 8
        }
      ]
    },
    {
      "cell_type": "markdown",
      "source": [
        "### tf.reshape & tf.transpose  (4차원)"
      ],
      "metadata": {
        "id": "7pkPY4o2uppc"
      }
    },
    {
      "cell_type": "code",
      "source": [
        "a = np.array([[[1,2,3,4],[4,5,6,7]],[[7,8,9,10],[10,11,12,13]]])\n",
        "a"
      ],
      "metadata": {
        "id": "OiS5YN12DhPW",
        "colab": {
          "base_uri": "https://localhost:8080/"
        },
        "outputId": "b355c1cf-e20f-4127-f163-96bfc4ea1f10"
      },
      "execution_count": null,
      "outputs": [
        {
          "output_type": "execute_result",
          "data": {
            "text/plain": [
              "array([[[ 1,  2,  3,  4],\n",
              "        [ 4,  5,  6,  7]],\n",
              "\n",
              "       [[ 7,  8,  9, 10],\n",
              "        [10, 11, 12, 13]]])"
            ]
          },
          "metadata": {},
          "execution_count": 8
        }
      ]
    },
    {
      "cell_type": "code",
      "source": [
        "b=tf.reshape(a,(2,-1,2,2))\n",
        "b"
      ],
      "metadata": {
        "colab": {
          "base_uri": "https://localhost:8080/"
        },
        "id": "nsv8X_yku9uE",
        "outputId": "b4635d7b-b105-4728-a78e-0af608a399a5"
      },
      "execution_count": null,
      "outputs": [
        {
          "output_type": "execute_result",
          "data": {
            "text/plain": [
              "<tf.Tensor: shape=(2, 2, 2, 2), dtype=int64, numpy=\n",
              "array([[[[ 1,  2],\n",
              "         [ 3,  4]],\n",
              "\n",
              "        [[ 4,  5],\n",
              "         [ 6,  7]]],\n",
              "\n",
              "\n",
              "       [[[ 7,  8],\n",
              "         [ 9, 10]],\n",
              "\n",
              "        [[10, 11],\n",
              "         [12, 13]]]])>"
            ]
          },
          "metadata": {},
          "execution_count": 9
        }
      ]
    },
    {
      "cell_type": "code",
      "source": [
        "tf.transpose(b) # perm = [3,2,1,0]"
      ],
      "metadata": {
        "colab": {
          "base_uri": "https://localhost:8080/"
        },
        "id": "A7iS6MF7Vss5",
        "outputId": "9fcac77b-0b5f-41a1-efba-ac80ebd727e6"
      },
      "execution_count": null,
      "outputs": [
        {
          "output_type": "execute_result",
          "data": {
            "text/plain": [
              "<tf.Tensor: shape=(2, 2, 2, 2), dtype=int64, numpy=\n",
              "array([[[[ 1,  7],\n",
              "         [ 4, 10]],\n",
              "\n",
              "        [[ 3,  9],\n",
              "         [ 6, 12]]],\n",
              "\n",
              "\n",
              "       [[[ 2,  8],\n",
              "         [ 5, 11]],\n",
              "\n",
              "        [[ 4, 10],\n",
              "         [ 7, 13]]]])>"
            ]
          },
          "metadata": {},
          "execution_count": 10
        }
      ]
    },
    {
      "cell_type": "code",
      "source": [
        "tf.transpose(b,[0,2,1,3])"
      ],
      "metadata": {
        "colab": {
          "base_uri": "https://localhost:8080/"
        },
        "id": "jWt0p6mkv6nd",
        "outputId": "fb6e40bc-7698-44c4-963d-69a0dd44554a"
      },
      "execution_count": null,
      "outputs": [
        {
          "output_type": "execute_result",
          "data": {
            "text/plain": [
              "<tf.Tensor: shape=(2, 2, 2, 2), dtype=int64, numpy=\n",
              "array([[[[ 1,  2],\n",
              "         [ 4,  5]],\n",
              "\n",
              "        [[ 3,  4],\n",
              "         [ 6,  7]]],\n",
              "\n",
              "\n",
              "       [[[ 7,  8],\n",
              "         [10, 11]],\n",
              "\n",
              "        [[ 9, 10],\n",
              "         [12, 13]]]])>"
            ]
          },
          "metadata": {},
          "execution_count": 5
        }
      ]
    },
    {
      "cell_type": "code",
      "source": [
        "tf.transpose(b,[3,1,2,0])"
      ],
      "metadata": {
        "colab": {
          "base_uri": "https://localhost:8080/"
        },
        "id": "VJDMCSC37m3d",
        "outputId": "c6a35f4a-1c57-4dc8-bb6b-d6efe1326199"
      },
      "execution_count": null,
      "outputs": [
        {
          "output_type": "execute_result",
          "data": {
            "text/plain": [
              "<tf.Tensor: shape=(2, 2, 2, 2), dtype=int64, numpy=\n",
              "array([[[[ 1,  7],\n",
              "         [ 3,  9]],\n",
              "\n",
              "        [[ 4, 10],\n",
              "         [ 6, 12]]],\n",
              "\n",
              "\n",
              "       [[[ 2,  8],\n",
              "         [ 4, 10]],\n",
              "\n",
              "        [[ 5, 11],\n",
              "         [ 7, 13]]]])>"
            ]
          },
          "metadata": {},
          "execution_count": 14
        }
      ]
    },
    {
      "cell_type": "code",
      "source": [
        "tf.reshape(a,(2,2,-1,2))"
      ],
      "metadata": {
        "colab": {
          "base_uri": "https://localhost:8080/"
        },
        "id": "cKhqTfIvvYgz",
        "outputId": "03180ec3-0c37-48d8-89e3-8f9ec7dbbf04"
      },
      "execution_count": null,
      "outputs": [
        {
          "output_type": "execute_result",
          "data": {
            "text/plain": [
              "<tf.Tensor: shape=(2, 2, 2, 2), dtype=int64, numpy=\n",
              "array([[[[ 1,  2],\n",
              "         [ 3,  4]],\n",
              "\n",
              "        [[ 4,  5],\n",
              "         [ 6,  7]]],\n",
              "\n",
              "\n",
              "       [[[ 7,  8],\n",
              "         [ 9, 10]],\n",
              "\n",
              "        [[10, 11],\n",
              "         [12, 13]]]])>"
            ]
          },
          "metadata": {},
          "execution_count": 7
        }
      ]
    },
    {
      "cell_type": "code",
      "source": [
        "x = tf.constant([[[ 1,  2,  3],\n",
        "                  [ 4,  5,  6]],\n",
        "                 [[ 7,  8,  9],\n",
        "                  [10, 11, 12]]])"
      ],
      "metadata": {
        "id": "BZRocipPzXz0"
      },
      "execution_count": null,
      "outputs": []
    },
    {
      "cell_type": "code",
      "source": [
        "x"
      ],
      "metadata": {
        "colab": {
          "base_uri": "https://localhost:8080/"
        },
        "id": "T11Yc4r46MYl",
        "outputId": "cf7dc156-619f-4ecc-b760-6c9b84f36b32"
      },
      "execution_count": null,
      "outputs": [
        {
          "output_type": "execute_result",
          "data": {
            "text/plain": [
              "<tf.Tensor: shape=(2, 2, 3), dtype=int32, numpy=\n",
              "array([[[ 1,  2,  3],\n",
              "        [ 4,  5,  6]],\n",
              "\n",
              "       [[ 7,  8,  9],\n",
              "        [10, 11, 12]]], dtype=int32)>"
            ]
          },
          "metadata": {},
          "execution_count": 7
        }
      ]
    },
    {
      "cell_type": "code",
      "source": [
        "tf.transpose(x) #perm=[2,1,0]"
      ],
      "metadata": {
        "colab": {
          "base_uri": "https://localhost:8080/"
        },
        "id": "sAM9mHdN5L8u",
        "outputId": "d7dd3619-8b8f-45f4-9eb3-3e58dd835d91"
      },
      "execution_count": null,
      "outputs": [
        {
          "output_type": "execute_result",
          "data": {
            "text/plain": [
              "<tf.Tensor: shape=(3, 2, 2), dtype=int32, numpy=\n",
              "array([[[ 1,  7],\n",
              "        [ 4, 10]],\n",
              "\n",
              "       [[ 2,  8],\n",
              "        [ 5, 11]],\n",
              "\n",
              "       [[ 3,  9],\n",
              "        [ 6, 12]]], dtype=int32)>"
            ]
          },
          "metadata": {},
          "execution_count": 4
        }
      ]
    },
    {
      "cell_type": "code",
      "source": [
        "tf.transpose(x,perm=[1,2,0])"
      ],
      "metadata": {
        "colab": {
          "base_uri": "https://localhost:8080/"
        },
        "id": "iiLUWZFLzZUk",
        "outputId": "f6d3c908-e33a-4fd2-c57c-e66b47673a17"
      },
      "execution_count": null,
      "outputs": [
        {
          "output_type": "execute_result",
          "data": {
            "text/plain": [
              "<tf.Tensor: shape=(2, 3, 2), dtype=int32, numpy=\n",
              "array([[[ 1,  7],\n",
              "        [ 2,  8],\n",
              "        [ 3,  9]],\n",
              "\n",
              "       [[ 4, 10],\n",
              "        [ 5, 11],\n",
              "        [ 6, 12]]], dtype=int32)>"
            ]
          },
          "metadata": {},
          "execution_count": 5
        }
      ]
    },
    {
      "cell_type": "code",
      "source": [
        "tf.transpose(x,perm=[2,0,1])"
      ],
      "metadata": {
        "colab": {
          "base_uri": "https://localhost:8080/"
        },
        "id": "Cfskk2_FzoHr",
        "outputId": "6edfa1e1-3612-4f37-bfed-bd44cb389724"
      },
      "execution_count": null,
      "outputs": [
        {
          "output_type": "execute_result",
          "data": {
            "text/plain": [
              "<tf.Tensor: shape=(3, 2, 2), dtype=int32, numpy=\n",
              "array([[[ 1,  4],\n",
              "        [ 7, 10]],\n",
              "\n",
              "       [[ 2,  5],\n",
              "        [ 8, 11]],\n",
              "\n",
              "       [[ 3,  6],\n",
              "        [ 9, 12]]], dtype=int32)>"
            ]
          },
          "metadata": {},
          "execution_count": 6
        }
      ]
    },
    {
      "cell_type": "code",
      "source": [
        "a=np.array([[1,2,3],[4,5,6]])\n",
        "a"
      ],
      "metadata": {
        "colab": {
          "base_uri": "https://localhost:8080/"
        },
        "id": "UF5WoNF90AHE",
        "outputId": "401256b9-5a24-4adf-f38e-04c20a2a8b78"
      },
      "execution_count": null,
      "outputs": [
        {
          "output_type": "execute_result",
          "data": {
            "text/plain": [
              "array([[1, 2, 3],\n",
              "       [4, 5, 6]])"
            ]
          },
          "metadata": {},
          "execution_count": 14
        }
      ]
    },
    {
      "cell_type": "code",
      "source": [
        "tf.transpose(a) # perm = [1,0]"
      ],
      "metadata": {
        "colab": {
          "base_uri": "https://localhost:8080/"
        },
        "id": "5cplCmxy2Wmu",
        "outputId": "b57629a7-c24c-4038-bd0e-9924f30c5c44"
      },
      "execution_count": null,
      "outputs": [
        {
          "output_type": "execute_result",
          "data": {
            "text/plain": [
              "<tf.Tensor: shape=(3, 2), dtype=int64, numpy=\n",
              "array([[1, 4],\n",
              "       [2, 5],\n",
              "       [3, 6]])>"
            ]
          },
          "metadata": {},
          "execution_count": 15
        }
      ]
    },
    {
      "cell_type": "markdown",
      "source": [
        "perm의 해당 차원(axis)에 따른 연산 횟수(이어붙이기)가, 새로 만들어지는 행렬의 행 차원이 될 것이므로, 현재 차원이 perm의 위치에 따라 적절하게 변하다."
      ],
      "metadata": {
        "id": "xcDTaAyy2p9c"
      }
    },
    {
      "cell_type": "markdown",
      "source": [
        "perm의 마지막 axis부터 차례대로 뒷 차원부터 쌓여서 결과가 나올텐데,\n",
        "각 차원에 해당하는 이어붙이기 개수가 그 차워의 개수가 될 것이므로,\\\n",
        "차원이 우리가 원하는 대로 변형된다."
      ],
      "metadata": {
        "id": "W30ZlSN64FON"
      }
    },
    {
      "cell_type": "code",
      "source": [
        ""
      ],
      "metadata": {
        "id": "i-shQFKg2and"
      },
      "execution_count": null,
      "outputs": []
    },
    {
      "cell_type": "markdown",
      "source": [
        "### list의 [...]"
      ],
      "metadata": {
        "id": "9Bqh0vkhTyJY"
      }
    },
    {
      "cell_type": "code",
      "source": [
        "import numpy as np\n",
        "import tensorflow as tf"
      ],
      "metadata": {
        "id": "ltLg-AJ1VpOj"
      },
      "execution_count": null,
      "outputs": []
    },
    {
      "cell_type": "code",
      "source": [
        "a=np.array([[1,2,3],[4,5,6]])\n",
        "a"
      ],
      "metadata": {
        "colab": {
          "base_uri": "https://localhost:8080/"
        },
        "id": "rHQklHEvTxaR",
        "outputId": "7dfb6a95-a97f-4f8f-8310-5fdd2bada4c4"
      },
      "execution_count": null,
      "outputs": [
        {
          "output_type": "execute_result",
          "data": {
            "text/plain": [
              "array([[1, 2, 3],\n",
              "       [4, 5, 6]])"
            ]
          },
          "metadata": {},
          "execution_count": 2
        }
      ]
    },
    {
      "cell_type": "code",
      "source": [
        "a[...]"
      ],
      "metadata": {
        "colab": {
          "base_uri": "https://localhost:8080/"
        },
        "id": "3NKHxm3XV0gm",
        "outputId": "8219c264-1f7e-44d9-9b25-e01f671e7dbc"
      },
      "execution_count": null,
      "outputs": [
        {
          "output_type": "execute_result",
          "data": {
            "text/plain": [
              "array([[1, 2, 3],\n",
              "       [4, 5, 6]])"
            ]
          },
          "metadata": {},
          "execution_count": 3
        }
      ]
    },
    {
      "cell_type": "code",
      "source": [
        "a[np.newaxis,...]"
      ],
      "metadata": {
        "colab": {
          "base_uri": "https://localhost:8080/"
        },
        "id": "mVDcIVR3V2UN",
        "outputId": "6588351f-143d-496f-839f-bc78eb7b2b8b"
      },
      "execution_count": null,
      "outputs": [
        {
          "output_type": "execute_result",
          "data": {
            "text/plain": [
              "array([[[1, 2, 3],\n",
              "        [4, 5, 6]]])"
            ]
          },
          "metadata": {},
          "execution_count": 4
        }
      ]
    },
    {
      "cell_type": "code",
      "source": [
        "a[...,np.newaxis]"
      ],
      "metadata": {
        "colab": {
          "base_uri": "https://localhost:8080/"
        },
        "id": "ntEOWqzhV7uN",
        "outputId": "3b1c83f2-626f-4ae5-9d77-32e60a362eff"
      },
      "execution_count": null,
      "outputs": [
        {
          "output_type": "execute_result",
          "data": {
            "text/plain": [
              "array([[[1],\n",
              "        [2],\n",
              "        [3]],\n",
              "\n",
              "       [[4],\n",
              "        [5],\n",
              "        [6]]])"
            ]
          },
          "metadata": {},
          "execution_count": 5
        }
      ]
    },
    {
      "cell_type": "markdown",
      "source": [
        "### BroadCastiing numpy"
      ],
      "metadata": {
        "id": "39Ujek3BRpjb"
      }
    },
    {
      "cell_type": "code",
      "source": [
        "import numpy as np\n",
        "import tensorflow as tf"
      ],
      "metadata": {
        "id": "vAOpm7kTiubN"
      },
      "execution_count": null,
      "outputs": []
    },
    {
      "cell_type": "code",
      "source": [
        "a=np.array([[[1,2,3],[4,5,6]]]) \n",
        "print(a.shape)\n",
        "b=np.array([[[1,2,3],[4,5,6]],[[7,8,9],[10,11,12]]]) \n",
        "print(b.shape)\n",
        "b+a"
      ],
      "metadata": {
        "id": "-2WOqbi_V_1F",
        "colab": {
          "base_uri": "https://localhost:8080/"
        },
        "outputId": "90aea807-5ba0-458a-b52e-e5ad4ed74f65"
      },
      "execution_count": null,
      "outputs": [
        {
          "output_type": "stream",
          "name": "stdout",
          "text": [
            "(1, 2, 3)\n",
            "(2, 2, 3)\n"
          ]
        },
        {
          "output_type": "execute_result",
          "data": {
            "text/plain": [
              "array([[[ 2,  4,  6],\n",
              "        [ 8, 10, 12]],\n",
              "\n",
              "       [[ 8, 10, 12],\n",
              "        [14, 16, 18]]])"
            ]
          },
          "metadata": {},
          "execution_count": 14
        }
      ]
    },
    {
      "cell_type": "code",
      "source": [
        "a=tf.cast(np.array([[False,True,True],[False,False,True]]),tf.float32) # 2 x 3 ( 문장 개수 x 단어 개수 )\n",
        "c=a[:,None,None,:] # 2 x 1 x 1 x 3  ( 문장 개수 x 1 x 1 x 단어 개수)"
      ],
      "metadata": {
        "id": "8h9GA-NhIHsK"
      },
      "execution_count": null,
      "outputs": []
    },
    {
      "cell_type": "code",
      "source": [
        "c"
      ],
      "metadata": {
        "colab": {
          "base_uri": "https://localhost:8080/"
        },
        "id": "c9feE__CJ4eb",
        "outputId": "d087db02-fcb0-45a7-dfc8-9f8e57313494"
      },
      "execution_count": null,
      "outputs": [
        {
          "output_type": "execute_result",
          "data": {
            "text/plain": [
              "<tf.Tensor: shape=(2, 1, 1, 3), dtype=float32, numpy=\n",
              "array([[[[0., 1., 1.]]],\n",
              "\n",
              "\n",
              "       [[[0., 0., 1.]]]], dtype=float32)>"
            ]
          },
          "metadata": {},
          "execution_count": 4
        }
      ]
    },
    {
      "cell_type": "code",
      "source": [
        "b=np.array([[0,1,1],[0,0,1],[0,0,0]])  # 3 x 3  ( 단어 개수 x 단어 개수 )\n",
        "print(b)\n",
        "tf.maximum(c,b)"
      ],
      "metadata": {
        "colab": {
          "base_uri": "https://localhost:8080/"
        },
        "id": "GI7XKSRLIP07",
        "outputId": "458d65b6-4911-4f78-9196-45a043077c37"
      },
      "execution_count": null,
      "outputs": [
        {
          "output_type": "stream",
          "name": "stdout",
          "text": [
            "[[0 1 1]\n",
            " [0 0 1]\n",
            " [0 0 0]]\n"
          ]
        },
        {
          "output_type": "execute_result",
          "data": {
            "text/plain": [
              "<tf.Tensor: shape=(2, 1, 3, 3), dtype=float32, numpy=\n",
              "array([[[[0., 1., 1.],\n",
              "         [0., 1., 1.],\n",
              "         [0., 1., 1.]]],\n",
              "\n",
              "\n",
              "       [[[0., 1., 1.],\n",
              "         [0., 0., 1.],\n",
              "         [0., 0., 1.]]]], dtype=float32)>"
            ]
          },
          "metadata": {},
          "execution_count": 5
        }
      ]
    },
    {
      "cell_type": "code",
      "source": [
        "a=np.array([[[[1,2,3],[4,5,6],[7,8,9]],[[7,8,9],[10,11,12],[1,2,3]]],[[[1,2,3],[4,5,6],[7,8,9]],[[7,8,9],[10,11,12],[1,2,3]]]])"
      ],
      "metadata": {
        "id": "GD-ZZB9PI4-7"
      },
      "execution_count": null,
      "outputs": []
    },
    {
      "cell_type": "code",
      "source": [
        "print(a.shape)\n",
        "a"
      ],
      "metadata": {
        "id": "FFA5tkHb3aFA",
        "colab": {
          "base_uri": "https://localhost:8080/"
        },
        "outputId": "25a27321-72b1-4ba0-b42a-b999c30bad05"
      },
      "execution_count": null,
      "outputs": [
        {
          "output_type": "stream",
          "name": "stdout",
          "text": [
            "(2, 2, 3, 3)\n"
          ]
        },
        {
          "output_type": "execute_result",
          "data": {
            "text/plain": [
              "array([[[[ 1,  2,  3],\n",
              "         [ 4,  5,  6],\n",
              "         [ 7,  8,  9]],\n",
              "\n",
              "        [[ 7,  8,  9],\n",
              "         [10, 11, 12],\n",
              "         [ 1,  2,  3]]],\n",
              "\n",
              "\n",
              "       [[[ 1,  2,  3],\n",
              "         [ 4,  5,  6],\n",
              "         [ 7,  8,  9]],\n",
              "\n",
              "        [[ 7,  8,  9],\n",
              "         [10, 11, 12],\n",
              "         [ 1,  2,  3]]]])"
            ]
          },
          "metadata": {},
          "execution_count": 36
        }
      ]
    },
    {
      "cell_type": "code",
      "source": [
        "mask=np.array([[[[0,0,-100]]],[[[0,-100,-100]]]])\n",
        "print(mask.shape)\n",
        "mask"
      ],
      "metadata": {
        "colab": {
          "base_uri": "https://localhost:8080/"
        },
        "id": "CM3IcGYVsnRD",
        "outputId": "ced4fc17-2bb6-4ec8-f316-e7f9838fbcfb"
      },
      "execution_count": null,
      "outputs": [
        {
          "output_type": "stream",
          "name": "stdout",
          "text": [
            "(2, 1, 1, 3)\n"
          ]
        },
        {
          "output_type": "execute_result",
          "data": {
            "text/plain": [
              "array([[[[   0,    0, -100]]],\n",
              "\n",
              "\n",
              "       [[[   0, -100, -100]]]])"
            ]
          },
          "metadata": {},
          "execution_count": 40
        }
      ]
    },
    {
      "cell_type": "code",
      "source": [
        "a+mask"
      ],
      "metadata": {
        "colab": {
          "base_uri": "https://localhost:8080/"
        },
        "id": "K5KIbnCzs7Ir",
        "outputId": "64a66fe4-3464-4b1f-fe84-8758f21cbbaf"
      },
      "execution_count": null,
      "outputs": [
        {
          "output_type": "execute_result",
          "data": {
            "text/plain": [
              "array([[[[  1,   2, -97],\n",
              "         [  4,   5, -94],\n",
              "         [  7,   8, -91]],\n",
              "\n",
              "        [[  7,   8, -91],\n",
              "         [ 10,  11, -88],\n",
              "         [  1,   2, -97]]],\n",
              "\n",
              "\n",
              "       [[[  1, -98, -97],\n",
              "         [  4, -95, -94],\n",
              "         [  7, -92, -91]],\n",
              "\n",
              "        [[  7, -92, -91],\n",
              "         [ 10, -89, -88],\n",
              "         [  1, -98, -97]]]])"
            ]
          },
          "metadata": {},
          "execution_count": 41
        }
      ]
    },
    {
      "cell_type": "code",
      "source": [
        "True*-100"
      ],
      "metadata": {
        "id": "vaBuVWtwtc8C",
        "colab": {
          "base_uri": "https://localhost:8080/"
        },
        "outputId": "6690d54c-beb1-4000-bac7-4b257ed8e4d3"
      },
      "execution_count": null,
      "outputs": [
        {
          "output_type": "execute_result",
          "data": {
            "text/plain": [
              "-100"
            ]
          },
          "metadata": {},
          "execution_count": 2
        }
      ]
    },
    {
      "cell_type": "code",
      "source": [
        ""
      ],
      "metadata": {
        "id": "cURau9p6oTki"
      },
      "execution_count": null,
      "outputs": []
    },
    {
      "cell_type": "markdown",
      "source": [
        "### tf.linalg.band_part( , -1, 0)"
      ],
      "metadata": {
        "id": "jvhmcpZ0HThL"
      }
    },
    {
      "cell_type": "code",
      "source": [
        "import tensorflow as tf\n",
        "import numpy as np"
      ],
      "metadata": {
        "id": "cPdk1c6fHqDA"
      },
      "execution_count": null,
      "outputs": []
    },
    {
      "cell_type": "code",
      "source": [
        "tf.linalg.band_part(tf.ones((5, 5)), 0, 0)"
      ],
      "metadata": {
        "colab": {
          "base_uri": "https://localhost:8080/"
        },
        "id": "OfDqXKMVHkmG",
        "outputId": "7667da16-622f-489a-f58b-1d4eb1b35783"
      },
      "execution_count": null,
      "outputs": [
        {
          "output_type": "execute_result",
          "data": {
            "text/plain": [
              "<tf.Tensor: shape=(5, 5), dtype=float32, numpy=\n",
              "array([[1., 0., 0., 0., 0.],\n",
              "       [0., 1., 0., 0., 0.],\n",
              "       [0., 0., 1., 0., 0.],\n",
              "       [0., 0., 0., 1., 0.],\n",
              "       [0., 0., 0., 0., 1.]], dtype=float32)>"
            ]
          },
          "metadata": {},
          "execution_count": 5
        }
      ]
    },
    {
      "cell_type": "code",
      "source": [
        "tf.linalg.band_part(tf.ones((5, 5)), -1, 0)"
      ],
      "metadata": {
        "colab": {
          "base_uri": "https://localhost:8080/"
        },
        "id": "gYK0GIZNH4UO",
        "outputId": "69fc3ca9-5c3d-4f0b-8f62-45ff3e1317f7"
      },
      "execution_count": null,
      "outputs": [
        {
          "output_type": "execute_result",
          "data": {
            "text/plain": [
              "<tf.Tensor: shape=(5, 5), dtype=float32, numpy=\n",
              "array([[1., 0., 0., 0., 0.],\n",
              "       [1., 1., 0., 0., 0.],\n",
              "       [1., 1., 1., 0., 0.],\n",
              "       [1., 1., 1., 1., 0.],\n",
              "       [1., 1., 1., 1., 1.]], dtype=float32)>"
            ]
          },
          "metadata": {},
          "execution_count": 6
        }
      ]
    },
    {
      "cell_type": "code",
      "source": [
        "1-tf.linalg.band_part(tf.ones((5, 5)), -1, 0)"
      ],
      "metadata": {
        "colab": {
          "base_uri": "https://localhost:8080/"
        },
        "id": "KSOerpQrHoXQ",
        "outputId": "3dc7be05-cc06-4c02-95ad-2c3e7338a4a7"
      },
      "execution_count": null,
      "outputs": [
        {
          "output_type": "execute_result",
          "data": {
            "text/plain": [
              "<tf.Tensor: shape=(5, 5), dtype=float32, numpy=\n",
              "array([[0., 1., 1., 1., 1.],\n",
              "       [0., 0., 1., 1., 1.],\n",
              "       [0., 0., 0., 1., 1.],\n",
              "       [0., 0., 0., 0., 1.],\n",
              "       [0., 0., 0., 0., 0.]], dtype=float32)>"
            ]
          },
          "metadata": {},
          "execution_count": 4
        }
      ]
    }
  ]
}