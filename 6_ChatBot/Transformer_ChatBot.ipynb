{
  "nbformat": 4,
  "nbformat_minor": 0,
  "metadata": {
    "colab": {
      "name": "Transformer_ChatBot.ipynb",
      "provenance": [],
      "collapsed_sections": [
        "2n-7PIl4X6YD",
        "g1gKdorSX9Yk",
        "7pkPY4o2uppc",
        "9Bqh0vkhTyJY",
        "39Ujek3BRpjb"
      ],
      "mount_file_id": "1_lKecdy02FNHFUiQ4EjXw_XXltUWTUwH",
      "authorship_tag": "ABX9TyPT7eAyXi3gBcjO6KoynMXc",
      "include_colab_link": true
    },
    "kernelspec": {
      "name": "python3",
      "display_name": "Python 3"
    },
    "language_info": {
      "name": "python"
    }
  },
  "cells": [
    {
      "cell_type": "markdown",
      "metadata": {
        "id": "view-in-github",
        "colab_type": "text"
      },
      "source": [
        "<a href=\"https://colab.research.google.com/github/DonghaeSuh/NLP_tensorflow2/blob/main/6_ChatBot/Transformer_ChatBot.ipynb\" target=\"_parent\"><img src=\"https://colab.research.google.com/assets/colab-badge.svg\" alt=\"Open In Colab\"/></a>"
      ]
    },
    {
      "cell_type": "markdown",
      "source": [
        "### 작업 공간 접근"
      ],
      "metadata": {
        "id": "OUvj24uyup8C"
      }
    },
    {
      "cell_type": "code",
      "execution_count": 2,
      "metadata": {
        "id": "Xgxjy95_t7O-",
        "colab": {
          "base_uri": "https://localhost:8080/"
        },
        "outputId": "232e246c-085b-4413-e0e6-2627f3e4aca7"
      },
      "outputs": [
        {
          "output_type": "stream",
          "name": "stdout",
          "text": [
            "\u001b[0m\u001b[01;34mdrive\u001b[0m/  \u001b[01;34msample_data\u001b[0m/\n"
          ]
        }
      ],
      "source": [
        "ls"
      ]
    },
    {
      "cell_type": "code",
      "source": [
        "cd drive/MyDrive/ChatBot_Transformer/"
      ],
      "metadata": {
        "id": "PhuVTD0WuUzI",
        "colab": {
          "base_uri": "https://localhost:8080/"
        },
        "outputId": "5d225bb1-aa66-4d11-a58a-fcb59c09d2f9"
      },
      "execution_count": 3,
      "outputs": [
        {
          "output_type": "stream",
          "name": "stdout",
          "text": [
            "/content/drive/MyDrive/ChatBot_Transformer\n"
          ]
        }
      ]
    },
    {
      "cell_type": "code",
      "source": [
        "ls"
      ],
      "metadata": {
        "colab": {
          "base_uri": "https://localhost:8080/"
        },
        "id": "OVTb1F3kumoR",
        "outputId": "504aab3c-b9e4-44e1-a949-cafcf44f6445"
      },
      "execution_count": 4,
      "outputs": [
        {
          "output_type": "stream",
          "name": "stdout",
          "text": [
            "\u001b[0m\u001b[01;34mdata_in\u001b[0m/          preprocess.py        \u001b[01;34m__pycache__\u001b[0m/\n",
            "Preprocess.ipynb  preprocess_py.ipynb  Transformer_ChatBot.ipynb\n"
          ]
        }
      ]
    },
    {
      "cell_type": "markdown",
      "source": [
        "### Konlpy 설치"
      ],
      "metadata": {
        "id": "aVNikvoXhNmt"
      }
    },
    {
      "cell_type": "code",
      "source": [
        "%%bash\n",
        "apt-get update\n",
        "apt-get install g++ openjdk-8-jdk python-dev python3-dev\n",
        "pip3 install JPype1\n",
        "pip3 install konlpy"
      ],
      "metadata": {
        "id": "h2asmAk_eUC1"
      },
      "execution_count": null,
      "outputs": []
    },
    {
      "cell_type": "code",
      "source": [
        "%env JAVA_HOME \"/usr/lib/jvm/java-8-openjdk-amd64\""
      ],
      "metadata": {
        "id": "Yo4EqyoPe2Bp"
      },
      "execution_count": null,
      "outputs": []
    },
    {
      "cell_type": "code",
      "source": [
        "%%bash\n",
        "bash <(curl -s https://raw.githubusercontent.com/konlpy/konlpy/master/scripts/mecab.sh)\n",
        "pip3 install /tmp/mecab-python-0.996"
      ],
      "metadata": {
        "id": "PUwYlTFbe5Ux"
      },
      "execution_count": null,
      "outputs": []
    },
    {
      "cell_type": "markdown",
      "source": [
        "# 모듈 불러오기"
      ],
      "metadata": {
        "id": "PF52BXC2Yo1e"
      }
    },
    {
      "cell_type": "code",
      "source": [
        "import tensorflow as tf\n",
        "import numpy as np\n",
        "\n",
        "from konlpy.tag import Twitter\n",
        "import pandas as pd\n",
        "import tensorflow as tf\n",
        "import enum\n",
        "import os\n",
        "import re\n",
        "import json\n",
        "from sklearn.model_selection import train_test_split\n",
        "\n",
        "from tensorflow.keras.callbacks import EarlyStopping, ModelCheckpoint\n",
        "import matplotlib.pyplot as plt\n",
        "\n",
        "from preprocess import *"
      ],
      "metadata": {
        "id": "d11lUhiKYuI1"
      },
      "execution_count": null,
      "outputs": []
    },
    {
      "cell_type": "markdown",
      "source": [
        "## TEST"
      ],
      "metadata": {
        "id": "gqYTDSgXX3nk"
      }
    },
    {
      "cell_type": "markdown",
      "source": [
        "### mask"
      ],
      "metadata": {
        "id": "2n-7PIl4X6YD"
      }
    },
    {
      "cell_type": "code",
      "execution_count": null,
      "metadata": {
        "id": "hfYL4Z917unU"
      },
      "outputs": [],
      "source": [
        "import tensorflow as tf"
      ]
    },
    {
      "cell_type": "code",
      "source": [
        "b=1-tf.linalg.band_part(tf.ones((2,2)),-1,0)"
      ],
      "metadata": {
        "id": "W1wdWJP-9UBq"
      },
      "execution_count": null,
      "outputs": []
    },
    {
      "cell_type": "code",
      "source": [
        "b*-1e9"
      ],
      "metadata": {
        "colab": {
          "base_uri": "https://localhost:8080/"
        },
        "id": "2Rbk3kOxc-Lw",
        "outputId": "a455921e-1a2c-463d-8947-ef18f4ac24e9"
      },
      "execution_count": null,
      "outputs": [
        {
          "output_type": "execute_result",
          "data": {
            "text/plain": [
              "<tf.Tensor: shape=(2, 2), dtype=float32, numpy=\n",
              "array([[-0.e+00, -1.e+09],\n",
              "       [-0.e+00, -0.e+00]], dtype=float32)>"
            ]
          },
          "metadata": {},
          "execution_count": 4
        }
      ]
    },
    {
      "cell_type": "code",
      "source": [
        "import numpy as np"
      ],
      "metadata": {
        "id": "cLKxxt5scqzR"
      },
      "execution_count": null,
      "outputs": []
    },
    {
      "cell_type": "code",
      "source": [
        "a=np.array([[1,2],[3,4]])"
      ],
      "metadata": {
        "id": "YlLvlYzFbN9C"
      },
      "execution_count": null,
      "outputs": []
    },
    {
      "cell_type": "code",
      "source": [
        "a+=b*-1e9"
      ],
      "metadata": {
        "id": "2LG-IsrRcvvx"
      },
      "execution_count": null,
      "outputs": []
    },
    {
      "cell_type": "code",
      "source": [
        "a"
      ],
      "metadata": {
        "colab": {
          "base_uri": "https://localhost:8080/"
        },
        "id": "7s5AkTaFcy5y",
        "outputId": "0ddd2489-d431-485d-95ce-a9c2c7403f27"
      },
      "execution_count": null,
      "outputs": [
        {
          "output_type": "execute_result",
          "data": {
            "text/plain": [
              "<tf.Tensor: shape=(2, 2), dtype=float32, numpy=\n",
              "array([[ 1.e+00, -1.e+09],\n",
              "       [ 3.e+00,  4.e+00]], dtype=float32)>"
            ]
          },
          "metadata": {},
          "execution_count": 12
        }
      ]
    },
    {
      "cell_type": "markdown",
      "source": [
        "### tf.matamul"
      ],
      "metadata": {
        "id": "g1gKdorSX9Yk"
      }
    },
    {
      "cell_type": "code",
      "source": [
        "a=np.array([[[[1,2,3],[3,4,5]],[[5,6,7],[7,8,9]]],[[[1,2,3],[3,4,5]],[[5,6,7],[7,8,9]]]])"
      ],
      "metadata": {
        "id": "sdENY4_tpwlG"
      },
      "execution_count": null,
      "outputs": []
    },
    {
      "cell_type": "code",
      "source": [
        "a.shape"
      ],
      "metadata": {
        "colab": {
          "base_uri": "https://localhost:8080/"
        },
        "id": "BZcGhEodqDD-",
        "outputId": "11e28cec-156a-4c6c-f113-0c1f6161b549"
      },
      "execution_count": null,
      "outputs": [
        {
          "output_type": "execute_result",
          "data": {
            "text/plain": [
              "(2, 2, 2, 3)"
            ]
          },
          "metadata": {},
          "execution_count": 7
        }
      ]
    },
    {
      "cell_type": "code",
      "source": [
        "tf.matmul(a,a,transpose_b=True)"
      ],
      "metadata": {
        "colab": {
          "base_uri": "https://localhost:8080/"
        },
        "id": "OSwFtdspdEPY",
        "outputId": "fd19e66c-b563-429b-bc56-4db6ab785255"
      },
      "execution_count": null,
      "outputs": [
        {
          "output_type": "execute_result",
          "data": {
            "text/plain": [
              "<tf.Tensor: shape=(2, 2, 2, 2), dtype=int64, numpy=\n",
              "array([[[[ 14,  26],\n",
              "         [ 26,  50]],\n",
              "\n",
              "        [[110, 146],\n",
              "         [146, 194]]],\n",
              "\n",
              "\n",
              "       [[[ 14,  26],\n",
              "         [ 26,  50]],\n",
              "\n",
              "        [[110, 146],\n",
              "         [146, 194]]]])>"
            ]
          },
          "metadata": {},
          "execution_count": 8
        }
      ]
    },
    {
      "cell_type": "markdown",
      "source": [
        "### tf.reshape & tf.transpose  (4차원)"
      ],
      "metadata": {
        "id": "7pkPY4o2uppc"
      }
    },
    {
      "cell_type": "code",
      "source": [
        "a = np.array([[[1,2,3,4],[4,5,6,7]],[[7,8,9,10],[10,11,12,13]]])\n",
        "a"
      ],
      "metadata": {
        "id": "OiS5YN12DhPW",
        "colab": {
          "base_uri": "https://localhost:8080/"
        },
        "outputId": "b355c1cf-e20f-4127-f163-96bfc4ea1f10"
      },
      "execution_count": null,
      "outputs": [
        {
          "output_type": "execute_result",
          "data": {
            "text/plain": [
              "array([[[ 1,  2,  3,  4],\n",
              "        [ 4,  5,  6,  7]],\n",
              "\n",
              "       [[ 7,  8,  9, 10],\n",
              "        [10, 11, 12, 13]]])"
            ]
          },
          "metadata": {},
          "execution_count": 8
        }
      ]
    },
    {
      "cell_type": "code",
      "source": [
        "b=tf.reshape(a,(2,-1,2,2))\n",
        "b"
      ],
      "metadata": {
        "colab": {
          "base_uri": "https://localhost:8080/"
        },
        "id": "nsv8X_yku9uE",
        "outputId": "b4635d7b-b105-4728-a78e-0af608a399a5"
      },
      "execution_count": null,
      "outputs": [
        {
          "output_type": "execute_result",
          "data": {
            "text/plain": [
              "<tf.Tensor: shape=(2, 2, 2, 2), dtype=int64, numpy=\n",
              "array([[[[ 1,  2],\n",
              "         [ 3,  4]],\n",
              "\n",
              "        [[ 4,  5],\n",
              "         [ 6,  7]]],\n",
              "\n",
              "\n",
              "       [[[ 7,  8],\n",
              "         [ 9, 10]],\n",
              "\n",
              "        [[10, 11],\n",
              "         [12, 13]]]])>"
            ]
          },
          "metadata": {},
          "execution_count": 9
        }
      ]
    },
    {
      "cell_type": "code",
      "source": [
        "tf.transpose(b) # perm = [3,2,1,0]"
      ],
      "metadata": {
        "colab": {
          "base_uri": "https://localhost:8080/"
        },
        "id": "A7iS6MF7Vss5",
        "outputId": "9fcac77b-0b5f-41a1-efba-ac80ebd727e6"
      },
      "execution_count": null,
      "outputs": [
        {
          "output_type": "execute_result",
          "data": {
            "text/plain": [
              "<tf.Tensor: shape=(2, 2, 2, 2), dtype=int64, numpy=\n",
              "array([[[[ 1,  7],\n",
              "         [ 4, 10]],\n",
              "\n",
              "        [[ 3,  9],\n",
              "         [ 6, 12]]],\n",
              "\n",
              "\n",
              "       [[[ 2,  8],\n",
              "         [ 5, 11]],\n",
              "\n",
              "        [[ 4, 10],\n",
              "         [ 7, 13]]]])>"
            ]
          },
          "metadata": {},
          "execution_count": 10
        }
      ]
    },
    {
      "cell_type": "code",
      "source": [
        "tf.transpose(b,[0,2,1,3])"
      ],
      "metadata": {
        "colab": {
          "base_uri": "https://localhost:8080/"
        },
        "id": "jWt0p6mkv6nd",
        "outputId": "fb6e40bc-7698-44c4-963d-69a0dd44554a"
      },
      "execution_count": null,
      "outputs": [
        {
          "output_type": "execute_result",
          "data": {
            "text/plain": [
              "<tf.Tensor: shape=(2, 2, 2, 2), dtype=int64, numpy=\n",
              "array([[[[ 1,  2],\n",
              "         [ 4,  5]],\n",
              "\n",
              "        [[ 3,  4],\n",
              "         [ 6,  7]]],\n",
              "\n",
              "\n",
              "       [[[ 7,  8],\n",
              "         [10, 11]],\n",
              "\n",
              "        [[ 9, 10],\n",
              "         [12, 13]]]])>"
            ]
          },
          "metadata": {},
          "execution_count": 5
        }
      ]
    },
    {
      "cell_type": "code",
      "source": [
        "tf.transpose(b,[3,1,2,0])"
      ],
      "metadata": {
        "colab": {
          "base_uri": "https://localhost:8080/"
        },
        "id": "VJDMCSC37m3d",
        "outputId": "c6a35f4a-1c57-4dc8-bb6b-d6efe1326199"
      },
      "execution_count": null,
      "outputs": [
        {
          "output_type": "execute_result",
          "data": {
            "text/plain": [
              "<tf.Tensor: shape=(2, 2, 2, 2), dtype=int64, numpy=\n",
              "array([[[[ 1,  7],\n",
              "         [ 3,  9]],\n",
              "\n",
              "        [[ 4, 10],\n",
              "         [ 6, 12]]],\n",
              "\n",
              "\n",
              "       [[[ 2,  8],\n",
              "         [ 4, 10]],\n",
              "\n",
              "        [[ 5, 11],\n",
              "         [ 7, 13]]]])>"
            ]
          },
          "metadata": {},
          "execution_count": 14
        }
      ]
    },
    {
      "cell_type": "code",
      "source": [
        "tf.reshape(a,(2,2,-1,2))"
      ],
      "metadata": {
        "colab": {
          "base_uri": "https://localhost:8080/"
        },
        "id": "cKhqTfIvvYgz",
        "outputId": "03180ec3-0c37-48d8-89e3-8f9ec7dbbf04"
      },
      "execution_count": null,
      "outputs": [
        {
          "output_type": "execute_result",
          "data": {
            "text/plain": [
              "<tf.Tensor: shape=(2, 2, 2, 2), dtype=int64, numpy=\n",
              "array([[[[ 1,  2],\n",
              "         [ 3,  4]],\n",
              "\n",
              "        [[ 4,  5],\n",
              "         [ 6,  7]]],\n",
              "\n",
              "\n",
              "       [[[ 7,  8],\n",
              "         [ 9, 10]],\n",
              "\n",
              "        [[10, 11],\n",
              "         [12, 13]]]])>"
            ]
          },
          "metadata": {},
          "execution_count": 7
        }
      ]
    },
    {
      "cell_type": "code",
      "source": [
        "x = tf.constant([[[ 1,  2,  3],\n",
        "                  [ 4,  5,  6]],\n",
        "                 [[ 7,  8,  9],\n",
        "                  [10, 11, 12]]])"
      ],
      "metadata": {
        "id": "BZRocipPzXz0"
      },
      "execution_count": null,
      "outputs": []
    },
    {
      "cell_type": "code",
      "source": [
        "x"
      ],
      "metadata": {
        "colab": {
          "base_uri": "https://localhost:8080/"
        },
        "id": "T11Yc4r46MYl",
        "outputId": "cf7dc156-619f-4ecc-b760-6c9b84f36b32"
      },
      "execution_count": null,
      "outputs": [
        {
          "output_type": "execute_result",
          "data": {
            "text/plain": [
              "<tf.Tensor: shape=(2, 2, 3), dtype=int32, numpy=\n",
              "array([[[ 1,  2,  3],\n",
              "        [ 4,  5,  6]],\n",
              "\n",
              "       [[ 7,  8,  9],\n",
              "        [10, 11, 12]]], dtype=int32)>"
            ]
          },
          "metadata": {},
          "execution_count": 7
        }
      ]
    },
    {
      "cell_type": "code",
      "source": [
        "tf.transpose(x) #perm=[2,1,0]"
      ],
      "metadata": {
        "colab": {
          "base_uri": "https://localhost:8080/"
        },
        "id": "sAM9mHdN5L8u",
        "outputId": "d7dd3619-8b8f-45f4-9eb3-3e58dd835d91"
      },
      "execution_count": null,
      "outputs": [
        {
          "output_type": "execute_result",
          "data": {
            "text/plain": [
              "<tf.Tensor: shape=(3, 2, 2), dtype=int32, numpy=\n",
              "array([[[ 1,  7],\n",
              "        [ 4, 10]],\n",
              "\n",
              "       [[ 2,  8],\n",
              "        [ 5, 11]],\n",
              "\n",
              "       [[ 3,  9],\n",
              "        [ 6, 12]]], dtype=int32)>"
            ]
          },
          "metadata": {},
          "execution_count": 4
        }
      ]
    },
    {
      "cell_type": "code",
      "source": [
        "tf.transpose(x,perm=[1,2,0])"
      ],
      "metadata": {
        "colab": {
          "base_uri": "https://localhost:8080/"
        },
        "id": "iiLUWZFLzZUk",
        "outputId": "f6d3c908-e33a-4fd2-c57c-e66b47673a17"
      },
      "execution_count": null,
      "outputs": [
        {
          "output_type": "execute_result",
          "data": {
            "text/plain": [
              "<tf.Tensor: shape=(2, 3, 2), dtype=int32, numpy=\n",
              "array([[[ 1,  7],\n",
              "        [ 2,  8],\n",
              "        [ 3,  9]],\n",
              "\n",
              "       [[ 4, 10],\n",
              "        [ 5, 11],\n",
              "        [ 6, 12]]], dtype=int32)>"
            ]
          },
          "metadata": {},
          "execution_count": 5
        }
      ]
    },
    {
      "cell_type": "code",
      "source": [
        "tf.transpose(x,perm=[2,0,1])"
      ],
      "metadata": {
        "colab": {
          "base_uri": "https://localhost:8080/"
        },
        "id": "Cfskk2_FzoHr",
        "outputId": "6edfa1e1-3612-4f37-bfed-bd44cb389724"
      },
      "execution_count": null,
      "outputs": [
        {
          "output_type": "execute_result",
          "data": {
            "text/plain": [
              "<tf.Tensor: shape=(3, 2, 2), dtype=int32, numpy=\n",
              "array([[[ 1,  4],\n",
              "        [ 7, 10]],\n",
              "\n",
              "       [[ 2,  5],\n",
              "        [ 8, 11]],\n",
              "\n",
              "       [[ 3,  6],\n",
              "        [ 9, 12]]], dtype=int32)>"
            ]
          },
          "metadata": {},
          "execution_count": 6
        }
      ]
    },
    {
      "cell_type": "code",
      "source": [
        "a=np.array([[1,2,3],[4,5,6]])\n",
        "a"
      ],
      "metadata": {
        "colab": {
          "base_uri": "https://localhost:8080/"
        },
        "id": "UF5WoNF90AHE",
        "outputId": "401256b9-5a24-4adf-f38e-04c20a2a8b78"
      },
      "execution_count": null,
      "outputs": [
        {
          "output_type": "execute_result",
          "data": {
            "text/plain": [
              "array([[1, 2, 3],\n",
              "       [4, 5, 6]])"
            ]
          },
          "metadata": {},
          "execution_count": 14
        }
      ]
    },
    {
      "cell_type": "code",
      "source": [
        "tf.transpose(a) # perm = [1,0]"
      ],
      "metadata": {
        "colab": {
          "base_uri": "https://localhost:8080/"
        },
        "id": "5cplCmxy2Wmu",
        "outputId": "b57629a7-c24c-4038-bd0e-9924f30c5c44"
      },
      "execution_count": null,
      "outputs": [
        {
          "output_type": "execute_result",
          "data": {
            "text/plain": [
              "<tf.Tensor: shape=(3, 2), dtype=int64, numpy=\n",
              "array([[1, 4],\n",
              "       [2, 5],\n",
              "       [3, 6]])>"
            ]
          },
          "metadata": {},
          "execution_count": 15
        }
      ]
    },
    {
      "cell_type": "markdown",
      "source": [
        "perm의 해당 차원(axis)에 따른 연산 횟수(이어붙이기)가, 새로 만들어지는 행렬의 행 차원이 될 것이므로, 현재 차원이 perm의 위치에 따라 적절하게 변하다."
      ],
      "metadata": {
        "id": "xcDTaAyy2p9c"
      }
    },
    {
      "cell_type": "markdown",
      "source": [
        "perm의 마지막 axis부터 차례대로 뒷 차원부터 쌓여서 결과가 나올텐데,\n",
        "각 차원에 해당하는 이어붙이기 개수가 그 차워의 개수가 될 것이므로,\\\n",
        "차원이 우리가 원하는 대로 변형된다."
      ],
      "metadata": {
        "id": "W30ZlSN64FON"
      }
    },
    {
      "cell_type": "code",
      "source": [
        ""
      ],
      "metadata": {
        "id": "i-shQFKg2and"
      },
      "execution_count": null,
      "outputs": []
    },
    {
      "cell_type": "markdown",
      "source": [
        "### list의 [...]"
      ],
      "metadata": {
        "id": "9Bqh0vkhTyJY"
      }
    },
    {
      "cell_type": "code",
      "source": [
        "import numpy as np\n",
        "import tensorflow as tf"
      ],
      "metadata": {
        "id": "ltLg-AJ1VpOj"
      },
      "execution_count": null,
      "outputs": []
    },
    {
      "cell_type": "code",
      "source": [
        "a=np.array([[1,2,3],[4,5,6]])\n",
        "a"
      ],
      "metadata": {
        "colab": {
          "base_uri": "https://localhost:8080/"
        },
        "id": "rHQklHEvTxaR",
        "outputId": "7dfb6a95-a97f-4f8f-8310-5fdd2bada4c4"
      },
      "execution_count": null,
      "outputs": [
        {
          "output_type": "execute_result",
          "data": {
            "text/plain": [
              "array([[1, 2, 3],\n",
              "       [4, 5, 6]])"
            ]
          },
          "metadata": {},
          "execution_count": 2
        }
      ]
    },
    {
      "cell_type": "code",
      "source": [
        "a[...]"
      ],
      "metadata": {
        "colab": {
          "base_uri": "https://localhost:8080/"
        },
        "id": "3NKHxm3XV0gm",
        "outputId": "8219c264-1f7e-44d9-9b25-e01f671e7dbc"
      },
      "execution_count": null,
      "outputs": [
        {
          "output_type": "execute_result",
          "data": {
            "text/plain": [
              "array([[1, 2, 3],\n",
              "       [4, 5, 6]])"
            ]
          },
          "metadata": {},
          "execution_count": 3
        }
      ]
    },
    {
      "cell_type": "code",
      "source": [
        "a[np.newaxis,...]"
      ],
      "metadata": {
        "colab": {
          "base_uri": "https://localhost:8080/"
        },
        "id": "mVDcIVR3V2UN",
        "outputId": "6588351f-143d-496f-839f-bc78eb7b2b8b"
      },
      "execution_count": null,
      "outputs": [
        {
          "output_type": "execute_result",
          "data": {
            "text/plain": [
              "array([[[1, 2, 3],\n",
              "        [4, 5, 6]]])"
            ]
          },
          "metadata": {},
          "execution_count": 4
        }
      ]
    },
    {
      "cell_type": "code",
      "source": [
        "a[...,np.newaxis]"
      ],
      "metadata": {
        "colab": {
          "base_uri": "https://localhost:8080/"
        },
        "id": "ntEOWqzhV7uN",
        "outputId": "3b1c83f2-626f-4ae5-9d77-32e60a362eff"
      },
      "execution_count": null,
      "outputs": [
        {
          "output_type": "execute_result",
          "data": {
            "text/plain": [
              "array([[[1],\n",
              "        [2],\n",
              "        [3]],\n",
              "\n",
              "       [[4],\n",
              "        [5],\n",
              "        [6]]])"
            ]
          },
          "metadata": {},
          "execution_count": 5
        }
      ]
    },
    {
      "cell_type": "markdown",
      "source": [
        "### BroadCastiing numpy"
      ],
      "metadata": {
        "id": "39Ujek3BRpjb"
      }
    },
    {
      "cell_type": "code",
      "source": [
        "a=np.array([[[1,2,3],[4,5,6]]])\n",
        "b=np.array([[[1,2,3],[4,5,6]],[[7,8,9],[10,11,12]]])\n",
        "\n",
        "b+a"
      ],
      "metadata": {
        "id": "-2WOqbi_V_1F",
        "colab": {
          "base_uri": "https://localhost:8080/"
        },
        "outputId": "66b14c6d-bd83-480d-a739-53c0ccd64bc8"
      },
      "execution_count": null,
      "outputs": [
        {
          "output_type": "execute_result",
          "data": {
            "text/plain": [
              "array([[[ 2,  4,  6],\n",
              "        [ 8, 10, 12]],\n",
              "\n",
              "       [[ 8, 10, 12],\n",
              "        [14, 16, 18]]])"
            ]
          },
          "metadata": {},
          "execution_count": 12
        }
      ]
    },
    {
      "cell_type": "code",
      "source": [
        "a=tf.cast(np.array([[False,True,True],[False,False,True]]),tf.float32) # 2 x 3\n",
        "c=a[:,None,None,:] # 2 x 1 x 1 x 3"
      ],
      "metadata": {
        "id": "8h9GA-NhIHsK"
      },
      "execution_count": null,
      "outputs": []
    },
    {
      "cell_type": "code",
      "source": [
        "c"
      ],
      "metadata": {
        "colab": {
          "base_uri": "https://localhost:8080/"
        },
        "id": "c9feE__CJ4eb",
        "outputId": "49ea936c-26a8-4a42-9629-7120358e16ad"
      },
      "execution_count": null,
      "outputs": [
        {
          "output_type": "execute_result",
          "data": {
            "text/plain": [
              "<tf.Tensor: shape=(2, 1, 1, 3), dtype=float32, numpy=\n",
              "array([[[[0., 1., 1.]]],\n",
              "\n",
              "\n",
              "       [[[0., 0., 1.]]]], dtype=float32)>"
            ]
          },
          "metadata": {},
          "execution_count": 10
        }
      ]
    },
    {
      "cell_type": "code",
      "source": [
        "b=np.array([[0,1,1],[0,0,1],[0,0,0]])\n",
        "tf.maximum(c,b)"
      ],
      "metadata": {
        "colab": {
          "base_uri": "https://localhost:8080/"
        },
        "id": "GI7XKSRLIP07",
        "outputId": "962c893b-6078-4cdb-d886-d8156b574f01"
      },
      "execution_count": null,
      "outputs": [
        {
          "output_type": "execute_result",
          "data": {
            "text/plain": [
              "<tf.Tensor: shape=(2, 1, 3, 3), dtype=float32, numpy=\n",
              "array([[[[0., 1., 1.],\n",
              "         [0., 1., 1.],\n",
              "         [0., 1., 1.]]],\n",
              "\n",
              "\n",
              "       [[[0., 1., 1.],\n",
              "         [0., 0., 1.],\n",
              "         [0., 0., 1.]]]], dtype=float32)>"
            ]
          },
          "metadata": {},
          "execution_count": 11
        }
      ]
    },
    {
      "cell_type": "code",
      "source": [
        ""
      ],
      "metadata": {
        "id": "GD-ZZB9PI4-7"
      },
      "execution_count": null,
      "outputs": []
    }
  ]
}