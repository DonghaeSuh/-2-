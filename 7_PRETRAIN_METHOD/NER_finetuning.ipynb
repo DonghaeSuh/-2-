{
  "nbformat": 4,
  "nbformat_minor": 0,
  "metadata": {
    "colab": {
      "name": "NER_finetuning.ipynb",
      "provenance": [],
      "collapsed_sections": [
        "ZSRrrnbEgvkL"
      ],
      "mount_file_id": "1VTZ0-cK1JVKWoQID1g58tEJfy4Vgihx2",
      "authorship_tag": "ABX9TyNJcpxyDm4hCXKjxFEd8G6m",
      "include_colab_link": true
    },
    "kernelspec": {
      "name": "python3",
      "display_name": "Python 3"
    },
    "language_info": {
      "name": "python"
    },
    "accelerator": "GPU",
    "gpuClass": "standard"
  },
  "cells": [
    {
      "cell_type": "markdown",
      "metadata": {
        "id": "view-in-github",
        "colab_type": "text"
      },
      "source": [
        "<a href=\"https://colab.research.google.com/github/DonghaeSuh/NLP_tensorflow2/blob/main/7_PRETRAIN_METHOD/NER_finetuning.ipynb\" target=\"_parent\"><img src=\"https://colab.research.google.com/assets/colab-badge.svg\" alt=\"Open In Colab\"/></a>"
      ]
    },
    {
      "cell_type": "markdown",
      "source": [
        "### 허깅페이스 transformers 라이브러리 가져오기"
      ],
      "metadata": {
        "id": "ZSRrrnbEgvkL"
      }
    },
    {
      "cell_type": "code",
      "source": [
        "pip install transformers==3.0.2"
      ],
      "metadata": {
        "colab": {
          "base_uri": "https://localhost:8080/"
        },
        "id": "99dvJXW0gjfd",
        "outputId": "f18fb73a-8015-4885-fa40-0779e009bd7f"
      },
      "execution_count": 1,
      "outputs": [
        {
          "output_type": "stream",
          "name": "stdout",
          "text": [
            "Looking in indexes: https://pypi.org/simple, https://us-python.pkg.dev/colab-wheels/public/simple/\n",
            "Collecting transformers==3.0.2\n",
            "  Downloading transformers-3.0.2-py3-none-any.whl (769 kB)\n",
            "\u001b[K     |████████████████████████████████| 769 kB 28.0 MB/s \n",
            "\u001b[?25hCollecting sentencepiece!=0.1.92\n",
            "  Downloading sentencepiece-0.1.97-cp37-cp37m-manylinux_2_17_x86_64.manylinux2014_x86_64.whl (1.3 MB)\n",
            "\u001b[K     |████████████████████████████████| 1.3 MB 49.5 MB/s \n",
            "\u001b[?25hRequirement already satisfied: filelock in /usr/local/lib/python3.7/dist-packages (from transformers==3.0.2) (3.8.0)\n",
            "Collecting tokenizers==0.8.1.rc1\n",
            "  Downloading tokenizers-0.8.1rc1-cp37-cp37m-manylinux1_x86_64.whl (3.0 MB)\n",
            "\u001b[K     |████████████████████████████████| 3.0 MB 56.0 MB/s \n",
            "\u001b[?25hRequirement already satisfied: regex!=2019.12.17 in /usr/local/lib/python3.7/dist-packages (from transformers==3.0.2) (2022.6.2)\n",
            "Requirement already satisfied: tqdm>=4.27 in /usr/local/lib/python3.7/dist-packages (from transformers==3.0.2) (4.64.0)\n",
            "Requirement already satisfied: requests in /usr/local/lib/python3.7/dist-packages (from transformers==3.0.2) (2.23.0)\n",
            "Collecting sacremoses\n",
            "  Downloading sacremoses-0.0.53.tar.gz (880 kB)\n",
            "\u001b[K     |████████████████████████████████| 880 kB 68.8 MB/s \n",
            "\u001b[?25hRequirement already satisfied: numpy in /usr/local/lib/python3.7/dist-packages (from transformers==3.0.2) (1.21.6)\n",
            "Requirement already satisfied: packaging in /usr/local/lib/python3.7/dist-packages (from transformers==3.0.2) (21.3)\n",
            "Requirement already satisfied: pyparsing!=3.0.5,>=2.0.2 in /usr/local/lib/python3.7/dist-packages (from packaging->transformers==3.0.2) (3.0.9)\n",
            "Requirement already satisfied: idna<3,>=2.5 in /usr/local/lib/python3.7/dist-packages (from requests->transformers==3.0.2) (2.10)\n",
            "Requirement already satisfied: chardet<4,>=3.0.2 in /usr/local/lib/python3.7/dist-packages (from requests->transformers==3.0.2) (3.0.4)\n",
            "Requirement already satisfied: certifi>=2017.4.17 in /usr/local/lib/python3.7/dist-packages (from requests->transformers==3.0.2) (2022.6.15)\n",
            "Requirement already satisfied: urllib3!=1.25.0,!=1.25.1,<1.26,>=1.21.1 in /usr/local/lib/python3.7/dist-packages (from requests->transformers==3.0.2) (1.24.3)\n",
            "Requirement already satisfied: six in /usr/local/lib/python3.7/dist-packages (from sacremoses->transformers==3.0.2) (1.15.0)\n",
            "Requirement already satisfied: click in /usr/local/lib/python3.7/dist-packages (from sacremoses->transformers==3.0.2) (7.1.2)\n",
            "Requirement already satisfied: joblib in /usr/local/lib/python3.7/dist-packages (from sacremoses->transformers==3.0.2) (1.1.0)\n",
            "Building wheels for collected packages: sacremoses\n",
            "  Building wheel for sacremoses (setup.py) ... \u001b[?25l\u001b[?25hdone\n",
            "  Created wheel for sacremoses: filename=sacremoses-0.0.53-py3-none-any.whl size=895260 sha256=37870eee591b8a255fda1f78b7e0f5c57e5def8411bdd2304f77120584a8a3c6\n",
            "  Stored in directory: /root/.cache/pip/wheels/87/39/dd/a83eeef36d0bf98e7a4d1933a4ad2d660295a40613079bafc9\n",
            "Successfully built sacremoses\n",
            "Installing collected packages: tokenizers, sentencepiece, sacremoses, transformers\n",
            "Successfully installed sacremoses-0.0.53 sentencepiece-0.1.97 tokenizers-0.8.1rc1 transformers-3.0.2\n"
          ]
        }
      ]
    },
    {
      "cell_type": "code",
      "source": [
        "cd drive/MyDrive/BERT"
      ],
      "metadata": {
        "colab": {
          "base_uri": "https://localhost:8080/"
        },
        "id": "0rzNiPCBhCvq",
        "outputId": "5a655bf2-1fd6-4ad6-8d29-c0d5993d57be"
      },
      "execution_count": 2,
      "outputs": [
        {
          "output_type": "stream",
          "name": "stdout",
          "text": [
            "/content/drive/MyDrive/BERT\n"
          ]
        }
      ]
    },
    {
      "cell_type": "code",
      "source": [
        "pip install seqeval"
      ],
      "metadata": {
        "colab": {
          "base_uri": "https://localhost:8080/"
        },
        "id": "eUKvkRbYhNvS",
        "outputId": "962f6965-6899-490e-befe-7953a900b2f5"
      },
      "execution_count": 3,
      "outputs": [
        {
          "output_type": "stream",
          "name": "stdout",
          "text": [
            "Looking in indexes: https://pypi.org/simple, https://us-python.pkg.dev/colab-wheels/public/simple/\n",
            "Collecting seqeval\n",
            "  Downloading seqeval-1.2.2.tar.gz (43 kB)\n",
            "\u001b[K     |████████████████████████████████| 43 kB 1.7 MB/s \n",
            "\u001b[?25hRequirement already satisfied: numpy>=1.14.0 in /usr/local/lib/python3.7/dist-packages (from seqeval) (1.21.6)\n",
            "Requirement already satisfied: scikit-learn>=0.21.3 in /usr/local/lib/python3.7/dist-packages (from seqeval) (1.0.2)\n",
            "Requirement already satisfied: joblib>=0.11 in /usr/local/lib/python3.7/dist-packages (from scikit-learn>=0.21.3->seqeval) (1.1.0)\n",
            "Requirement already satisfied: scipy>=1.1.0 in /usr/local/lib/python3.7/dist-packages (from scikit-learn>=0.21.3->seqeval) (1.7.3)\n",
            "Requirement already satisfied: threadpoolctl>=2.0.0 in /usr/local/lib/python3.7/dist-packages (from scikit-learn>=0.21.3->seqeval) (3.1.0)\n",
            "Building wheels for collected packages: seqeval\n",
            "  Building wheel for seqeval (setup.py) ... \u001b[?25l\u001b[?25hdone\n",
            "  Created wheel for seqeval: filename=seqeval-1.2.2-py3-none-any.whl size=16180 sha256=7ab3bf14a142c312d7994c18b21971ae94afc61b6a99786347b2640abf51fb56\n",
            "  Stored in directory: /root/.cache/pip/wheels/05/96/ee/7cac4e74f3b19e3158dce26a20a1c86b3533c43ec72a549fd7\n",
            "Successfully built seqeval\n",
            "Installing collected packages: seqeval\n",
            "Successfully installed seqeval-1.2.2\n"
          ]
        }
      ]
    },
    {
      "cell_type": "markdown",
      "source": [
        "### 라이브러리 불러오기"
      ],
      "metadata": {
        "id": "fJz7nyNog0nz"
      }
    },
    {
      "cell_type": "code",
      "source": [
        "pip install seqeval"
      ],
      "metadata": {
        "colab": {
          "base_uri": "https://localhost:8080/"
        },
        "id": "Z6NOMEBaXY5d",
        "outputId": "644653cf-46e2-4fb8-a55d-9adb2b000b0f"
      },
      "execution_count": 4,
      "outputs": [
        {
          "output_type": "stream",
          "name": "stdout",
          "text": [
            "Looking in indexes: https://pypi.org/simple, https://us-python.pkg.dev/colab-wheels/public/simple/\n",
            "Requirement already satisfied: seqeval in /usr/local/lib/python3.7/dist-packages (1.2.2)\n",
            "Requirement already satisfied: scikit-learn>=0.21.3 in /usr/local/lib/python3.7/dist-packages (from seqeval) (1.0.2)\n",
            "Requirement already satisfied: numpy>=1.14.0 in /usr/local/lib/python3.7/dist-packages (from seqeval) (1.21.6)\n",
            "Requirement already satisfied: scipy>=1.1.0 in /usr/local/lib/python3.7/dist-packages (from scikit-learn>=0.21.3->seqeval) (1.7.3)\n",
            "Requirement already satisfied: joblib>=0.11 in /usr/local/lib/python3.7/dist-packages (from scikit-learn>=0.21.3->seqeval) (1.1.0)\n",
            "Requirement already satisfied: threadpoolctl>=2.0.0 in /usr/local/lib/python3.7/dist-packages (from scikit-learn>=0.21.3->seqeval) (3.1.0)\n"
          ]
        }
      ]
    },
    {
      "cell_type": "code",
      "execution_count": 5,
      "metadata": {
        "id": "kbH4-wY6TXlW"
      },
      "outputs": [],
      "source": [
        "import os\n",
        "import re\n",
        "import numpy as np\n",
        "from tqdm import tqdm\n",
        "import json\n",
        "import copy\n",
        "\n",
        "import tensorflow as tf\n",
        "from transformers import *\n",
        "\n",
        "from tensorflow.keras.preprocessing.sequence import pad_sequences\n",
        "from tensorflow.keras.callbacks import EarlyStopping, ModelCheckpoint\n",
        "\n",
        "\n",
        "from seqeval.metrics import precision_score, recall_score, f1_score, classification_report\n",
        "\n",
        "import pandas as pd\n",
        "import matplotlib.pyplot as plt"
      ]
    },
    {
      "cell_type": "code",
      "source": [
        "tf.random.set_seed(1234)\n",
        "np.random.seed(1234)\n",
        "\n",
        "BATCH_SIZE = 32\n",
        "NUM_EPOCHS = 3\n",
        "MAX_LEN = 111 # EDA에서 추출된 Max Length\n",
        "DATA_IN_PATH = 'data_in'\n",
        "DATA_OUT_PATH = \"data_out\""
      ],
      "metadata": {
        "id": "E0Libb-JhdrD"
      },
      "execution_count": null,
      "outputs": []
    },
    {
      "cell_type": "code",
      "source": [
        "# 데이터 전처리 준비\n",
        "DATA_TRAIN_PATH = os.path.join(DATA_IN_PATH, \"NER\", \"train.tsv\")\n",
        "DATA_LABEL_PATH = os.path.join(DATA_IN_PATH, \"NER\", \"label.txt\")\n",
        "DATA_TEST_PATH = os.path.join(DATA_IN_PATH, \"NER\", \"test.tsv\")\n",
        "\n",
        "def read_file(input_path):\n",
        "    \"\"\"Read tsv file, and return words and label as list\"\"\"\n",
        "    with open(input_path, \"r\", encoding=\"utf-8\") as f:\n",
        "        sentences = []\n",
        "        labels = []\n",
        "        for line in f:\n",
        "            split_line = line.strip().split(\"\\t\")\n",
        "            sentences.append(split_line[0])\n",
        "            labels.append(split_line[1])\n",
        "        return sentences, labels\n",
        "\n",
        "train_sentences, train_labels = read_file(DATA_TRAIN_PATH)\n",
        "\n",
        "train_ner_dict = {\"sentence\": train_sentences, \"label\": train_labels}\n",
        "train_ner_df = pd.DataFrame(train_ner_dict)\n",
        "\n",
        "test_sentences, test_labels = read_file(DATA_TEST_PATH)\n",
        "test_ner_dict = {\"sentence\": test_sentences, \"label\": test_labels}\n",
        "test_ner_df = pd.DataFrame(test_ner_dict)\n",
        "\n",
        "print(\"개체명 인식 학습 데이터 개수: {}\".format(len(train_ner_df)))\n",
        "print(\"개체명 인식 테스트 데이터 개수: {}\".format(len(test_ner_df)))"
      ],
      "metadata": {
        "id": "mq3kDkZoVFw-",
        "colab": {
          "base_uri": "https://localhost:8080/"
        },
        "outputId": "a78ec1f7-c2ec-41ae-8c9c-119046f5d1f2"
      },
      "execution_count": null,
      "outputs": [
        {
          "output_type": "stream",
          "name": "stdout",
          "text": [
            "개체명 인식 학습 데이터 개수: 81000\n",
            "개체명 인식 테스트 데이터 개수: 9000\n"
          ]
        }
      ]
    },
    {
      "cell_type": "code",
      "source": [
        "def get_labels(label_path):\n",
        "    return [label.strip() for label in open(os.path.join(label_path), 'r', encoding='utf-8')]\n",
        "\n",
        "ner_labels = get_labels(DATA_LABEL_PATH)\n",
        "\n",
        "print(\"개체명 인식 레이블 개수: {}\".format(len(ner_labels)))"
      ],
      "metadata": {
        "colab": {
          "base_uri": "https://localhost:8080/"
        },
        "id": "ZNfwRm63hZYz",
        "outputId": "cecb90c7-bf8d-451b-e067-4c04ae2ee921"
      },
      "execution_count": null,
      "outputs": [
        {
          "output_type": "stream",
          "name": "stdout",
          "text": [
            "개체명 인식 레이블 개수: 30\n"
          ]
        }
      ]
    },
    {
      "cell_type": "code",
      "source": [
        "tokenizer = BertTokenizer.from_pretrained(\"bert-base-multilingual-cased\", cache_dir='bert_ckpt')\n",
        "\n",
        "pad_token_id = tokenizer.pad_token_id # 0\n",
        "pad_token_label_id = 0\n",
        "cls_token_label_id = 0\n",
        "sep_token_label_id = 0"
      ],
      "metadata": {
        "id": "iq72TaDqh6qj"
      },
      "execution_count": null,
      "outputs": []
    },
    {
      "cell_type": "code",
      "source": [
        "def bert_tokenizer(sent, MAX_LEN):\n",
        "    \n",
        "    encoded_dict = tokenizer.encode_plus(\n",
        "        text = sent,\n",
        "        truncation=True,\n",
        "        add_special_tokens = True, #'[CLS]'와 '[SEP]' 추가\n",
        "        max_length = MAX_LEN,           # 문장 패딩 및 자르기 진행\n",
        "        pad_to_max_length = True,\n",
        "        return_attention_mask = True   # 어탠션 마스크 생성\n",
        "    )\n",
        "    \n",
        "    input_id = encoded_dict['input_ids']\n",
        "    attention_mask = encoded_dict['attention_mask'] \n",
        "    token_type_id = encoded_dict['token_type_ids']\n",
        "    \n",
        "    return input_id, attention_mask, token_type_id\n",
        "\n",
        "def convert_label(words, labels_idx, ner_begin_label, max_seq_len):\n",
        "            \n",
        "    tokens = []\n",
        "    label_ids = []\n",
        "\n",
        "    for word, slot_label in zip(words, labels_idx):\n",
        "\n",
        "        word_tokens = tokenizer.tokenize(word)\n",
        "        if not word_tokens:\n",
        "            word_tokens = ['unk_token']\n",
        "        tokens.extend(word_tokens)\n",
        "        \n",
        "        # 슬롯 레이블 값이 Begin이면 I로 추가\n",
        "        if int(slot_label) in ner_begin_label:\n",
        "            label_ids.extend([int(slot_label)] + [int(slot_label) + 1] * (len(word_tokens) - 1))\n",
        "        else:\n",
        "            label_ids.extend([int(slot_label)] * len(word_tokens))\n",
        "  \n",
        "    # [CLS] and [SEP] 설정\n",
        "    special_tokens_count = 2\n",
        "    if len(label_ids) > max_seq_len - special_tokens_count:\n",
        "        label_ids = label_ids[: (max_seq_len - special_tokens_count)]\n",
        "\n",
        "    # [SEP] 토큰 추가\n",
        "    label_ids += [sep_token_label_id]\n",
        "\n",
        "    # [CLS] 토큰 추가\n",
        "    label_ids = [cls_token_label_id] + label_ids\n",
        "    \n",
        "    padding_length = max_seq_len - len(label_ids)\n",
        "    label_ids = label_ids + ([pad_token_label_id] * padding_length)\n",
        "    \n",
        "    return label_ids"
      ],
      "metadata": {
        "id": "uDIbSKAGh-j0"
      },
      "execution_count": null,
      "outputs": []
    },
    {
      "cell_type": "code",
      "source": [
        "tokenizer.tokenize(\"안녕하세요 나는 사람입니다\")"
      ],
      "metadata": {
        "colab": {
          "base_uri": "https://localhost:8080/"
        },
        "id": "jEu0xAfXXK-N",
        "outputId": "e8268f65-7828-4b7a-b830-6e2ece04199e"
      },
      "execution_count": null,
      "outputs": [
        {
          "output_type": "execute_result",
          "data": {
            "text/plain": [
              "['안', '##녕', '##하', '##세', '##요', '나는', '사', '##람', '##입', '##니다']"
            ]
          },
          "metadata": {},
          "execution_count": 14
        }
      ]
    },
    {
      "cell_type": "code",
      "source": [
        "tokenizer.tokenize(\"안녕하세요\")"
      ],
      "metadata": {
        "colab": {
          "base_uri": "https://localhost:8080/"
        },
        "id": "-6nrsZRlhbcc",
        "outputId": "1f8569b7-7cbe-4158-d2fa-38d58537a74a"
      },
      "execution_count": null,
      "outputs": [
        {
          "output_type": "execute_result",
          "data": {
            "text/plain": [
              "['안', '##녕', '##하', '##세', '##요']"
            ]
          },
          "metadata": {},
          "execution_count": 16
        }
      ]
    },
    {
      "cell_type": "code",
      "source": [
        "# 테스트용\n",
        "ner_begin_label = [ner_labels.index(begin_label) for begin_label in ner_labels if \"B\" in begin_label]\n",
        "ner_begin_label_string = [ner_labels[label_index] for label_index in ner_begin_label]\n",
        "\n",
        "print(ner_begin_label)\n",
        "print(ner_begin_label_string)"
      ],
      "metadata": {
        "colab": {
          "base_uri": "https://localhost:8080/"
        },
        "id": "t2vX5r4EjO5U",
        "outputId": "898fb816-4605-41d8-e310-4a695dc38f55"
      },
      "execution_count": null,
      "outputs": [
        {
          "output_type": "stream",
          "name": "stdout",
          "text": [
            "[2, 4, 6, 8, 10, 12, 14, 16, 18, 20, 22, 24, 26, 28]\n",
            "['PER-B', 'FLD-B', 'AFW-B', 'ORG-B', 'LOC-B', 'CVL-B', 'DAT-B', 'TIM-B', 'NUM-B', 'EVT-B', 'ANM-B', 'PLT-B', 'MAT-B', 'TRM-B']\n"
          ]
        }
      ]
    },
    {
      "cell_type": "code",
      "source": [
        "ner_begin_label = [ner_labels.index(begin_label) for begin_label in ner_labels if \"B\" in begin_label]\n",
        "\n",
        "def create_inputs_targets(df):\n",
        "    input_ids = []\n",
        "    attention_masks = []\n",
        "    token_type_ids = []\n",
        "    label_list = []\n",
        "\n",
        "    for i, data in enumerate(df[['sentence', 'label']].values):\n",
        "        sentence, labels = data\n",
        "        words = sentence.split()\n",
        "        labels = labels.split()\n",
        "        labels_idx = []\n",
        "        \n",
        "        for label in labels:\n",
        "            labels_idx.append(ner_labels.index(label) if label in ner_labels else ner_labels.index(\"UNK\"))\n",
        "\n",
        "        assert len(words) == len(labels_idx)\n",
        "            \n",
        "            \n",
        "        assert len(words) == len(labels_idx)\n",
        "\n",
        "        input_id, attention_mask, token_type_id = bert_tokenizer(sentence, MAX_LEN)\n",
        "\n",
        "        convert_label_id = convert_label(words, labels_idx, ner_begin_label, MAX_LEN)\n",
        "\n",
        "        input_ids.append(input_id)\n",
        "        attention_masks.append(attention_mask)\n",
        "        token_type_ids.append(token_type_id)\n",
        "        label_list.append(convert_label_id)\n",
        "\n",
        "    input_ids = np.array(input_ids, dtype=int)\n",
        "    attention_masks = np.array(attention_masks, dtype=int)\n",
        "    token_type_ids = np.array(token_type_ids, dtype=int)\n",
        "    label_list = np.asarray(label_list, dtype=int) #레이블 토크나이징 리스트\n",
        "    inputs = (input_ids, attention_masks, token_type_ids)\n",
        "    \n",
        "    return inputs, label_list\n",
        "\n",
        "train_inputs, train_labels = create_inputs_targets(train_ner_df)\n",
        "test_inputs, test_labels = create_inputs_targets(test_ner_df)"
      ],
      "metadata": {
        "id": "LkHHjvwHBzXL"
      },
      "execution_count": null,
      "outputs": []
    },
    {
      "cell_type": "code",
      "source": [
        "train_inputs   ## 3가지 BERT input들은 모두 문장 개수 x MAX_LEN 크기의 np.array 형태"
      ],
      "metadata": {
        "colab": {
          "base_uri": "https://localhost:8080/"
        },
        "id": "U_kyHsGv6f1W",
        "outputId": "2187f588-1c42-4634-8e24-34a22a2b0af6"
      },
      "execution_count": null,
      "outputs": [
        {
          "output_type": "execute_result",
          "data": {
            "text/plain": [
              "(array([[  101,  8928, 40958, ...,     0,     0,     0],\n",
              "        [  101,  9638, 12310, ...,     0,     0,     0],\n",
              "        [  101,   128,   118, ...,     0,     0,     0],\n",
              "        ...,\n",
              "        [  101,  8909, 35115, ...,     0,     0,     0],\n",
              "        [  101,  9619, 14279, ...,     0,     0,     0],\n",
              "        [  101,  9519, 46861, ...,     0,     0,     0]]),\n",
              " array([[1, 1, 1, ..., 0, 0, 0],\n",
              "        [1, 1, 1, ..., 0, 0, 0],\n",
              "        [1, 1, 1, ..., 0, 0, 0],\n",
              "        ...,\n",
              "        [1, 1, 1, ..., 0, 0, 0],\n",
              "        [1, 1, 1, ..., 0, 0, 0],\n",
              "        [1, 1, 1, ..., 0, 0, 0]]),\n",
              " array([[0, 0, 0, ..., 0, 0, 0],\n",
              "        [0, 0, 0, ..., 0, 0, 0],\n",
              "        [0, 0, 0, ..., 0, 0, 0],\n",
              "        ...,\n",
              "        [0, 0, 0, ..., 0, 0, 0],\n",
              "        [0, 0, 0, ..., 0, 0, 0],\n",
              "        [0, 0, 0, ..., 0, 0, 0]]))"
            ]
          },
          "metadata": {},
          "execution_count": 80
        }
      ]
    },
    {
      "cell_type": "code",
      "source": [
        "train_labels  ##  문장 개수 x MAX_LEN"
      ],
      "metadata": {
        "colab": {
          "base_uri": "https://localhost:8080/"
        },
        "id": "7RlBLRokT-JD",
        "outputId": "0c345659-e708-4958-ec10-34201d19bc6b"
      },
      "execution_count": null,
      "outputs": [
        {
          "output_type": "execute_result",
          "data": {
            "text/plain": [
              "array([[ 0,  8,  9, ...,  0,  0,  0],\n",
              "       [ 0,  2,  3, ...,  0,  0,  0],\n",
              "       [ 0, 20, 21, ...,  0,  0,  0],\n",
              "       ...,\n",
              "       [ 0,  8,  9, ...,  0,  0,  0],\n",
              "       [ 0,  8,  9, ...,  0,  0,  0],\n",
              "       [ 0, 20, 21, ...,  0,  0,  0]])"
            ]
          },
          "metadata": {},
          "execution_count": 21
        }
      ]
    },
    {
      "cell_type": "code",
      "source": [
        "\n",
        "class TFBertNERClassifier(tf.keras.Model):\n",
        "    def __init__(self, model_name, dir_path, num_class):\n",
        "        super(TFBertNERClassifier, self).__init__()\n",
        "\n",
        "        self.bert = TFBertModel.from_pretrained(model_name, cache_dir=dir_path)\n",
        "        self.dropout = tf.keras.layers.Dropout(self.bert.config.hidden_dropout_prob)\n",
        "        self.classifier = tf.keras.layers.Dense(num_class, \n",
        "                                                kernel_initializer=tf.keras.initializers.TruncatedNormal(self.bert.config.initializer_range),\n",
        "                                                name=\"ner_classifier\")\n",
        "\n",
        "    def call(self, inputs, attention_mask=None, token_type_ids=None, training=False):\n",
        "\n",
        "        #outputs 값: # sequence_output, pooled_output, (hidden_states), (attentions)\n",
        "        outputs = self.bert(inputs, attention_mask=attention_mask, token_type_ids=token_type_ids)\n",
        "        sequence_output = outputs[0]\n",
        "                \n",
        "        sequence_output = self.dropout(sequence_output, training=training)\n",
        "        logits = self.classifier(sequence_output)\n",
        "        \n",
        "\n",
        "        return logits"
      ],
      "metadata": {
        "id": "7CKIdF84EEj6"
      },
      "execution_count": null,
      "outputs": []
    },
    {
      "cell_type": "code",
      "source": [
        "ner_model = TFBertNERClassifier(model_name='bert-base-multilingual-cased',\n",
        "                                  dir_path='bert_ckpt',\n",
        "                                  num_class=len(ner_labels))"
      ],
      "metadata": {
        "id": "tTcdHbutEFVq",
        "colab": {
          "base_uri": "https://localhost:8080/"
        },
        "outputId": "2d1a82f2-54b2-4aa2-b598-4fdbfc06e271"
      },
      "execution_count": null,
      "outputs": [
        {
          "output_type": "stream",
          "name": "stderr",
          "text": [
            "WARNING:transformers.modeling_tf_utils:Some weights of the model checkpoint at bert-base-multilingual-cased were not used when initializing TFBertModel: ['nsp___cls', 'mlm___cls']\n",
            "- This IS expected if you are initializing TFBertModel from the checkpoint of a model trained on another task or with another architecture (e.g. initializing a BertForSequenceClassification model from a BertForPretraining model).\n",
            "- This IS NOT expected if you are initializing TFBertModel from the checkpoint of a model that you expect to be exactly identical (initializing a BertForSequenceClassification model from a BertForSequenceClassification model).\n",
            "WARNING:transformers.modeling_tf_utils:All the weights of TFBertModel were initialized from the model checkpoint at bert-base-multilingual-cased.\n",
            "If your task is similar to the task the model of the ckeckpoint was trained on, you can already use TFBertModel for predictions without further training.\n"
          ]
        }
      ]
    },
    {
      "cell_type": "code",
      "source": [
        "def compute_loss(labels, logits):\n",
        "    loss_fn = tf.keras.losses.SparseCategoricalCrossentropy(\n",
        "        from_logits=True, reduction=tf.keras.losses.Reduction.NONE\n",
        "    )\n",
        "\n",
        "    # 0의 레이블 값은 손실 값을 계산할 때 제외\n",
        "    active_loss = tf.reshape(labels, (-1,)) != 0\n",
        "        \n",
        "    reduced_logits = tf.boolean_mask(tf.reshape(logits, (-1, shape_list(logits)[2])), active_loss)\n",
        "        \n",
        "    labels = tf.boolean_mask(tf.reshape(labels, (-1,)), active_loss)\n",
        "    \n",
        "    return loss_fn(labels, reduced_logits)"
      ],
      "metadata": {
        "id": "jSlBYKBzDJD0"
      },
      "execution_count": null,
      "outputs": []
    },
    {
      "cell_type": "code",
      "source": [
        "class F1Metrics(tf.keras.callbacks.Callback):\n",
        "    def __init__(self, x_eval, y_eval):\n",
        "        self.x_eval = x_eval\n",
        "        self.y_eval = y_eval\n",
        "\n",
        "    def compute_f1_pre_rec(self, labels, preds):\n",
        "\n",
        "        return {\n",
        "            \"precision\": precision_score(labels, preds, suffix=True),\n",
        "            \"recall\": recall_score(labels, preds, suffix=True),\n",
        "            \"f1\": f1_score(labels, preds, suffix=True)\n",
        "        }\n",
        "\n",
        "\n",
        "    def show_report(self, labels, preds):\n",
        "        return classification_report(labels, preds, suffix=True)\n",
        "        \n",
        "    def on_epoch_end(self, epoch, logs=None):\n",
        "\n",
        "        results = {}\n",
        "        \n",
        "        pred = self.model.predict(self.x_eval)\n",
        "        label = self.y_eval\n",
        "        pred_argmax = np.argmax(pred, axis = 2)\n",
        "\n",
        "        slot_label_map = {i: label for i, label in enumerate(ner_labels)}\n",
        "\n",
        "        out_label_list = [[] for _ in range(label.shape[0])]\n",
        "        preds_list = [[] for _ in range(label.shape[0])]\n",
        "\n",
        "        for i in range(label.shape[0]):\n",
        "            for j in range(label.shape[1]):\n",
        "                if label[i, j] != 0:\n",
        "                    out_label_list[i].append(slot_label_map[label[i][j]])\n",
        "                    preds_list[i].append(slot_label_map[pred_argmax[i][j]])\n",
        "                    \n",
        "        result = self.compute_f1_pre_rec(out_label_list, preds_list)\n",
        "        results.update(result) # 굳이..?\n",
        "\n",
        "        print(\"********\")\n",
        "        print(\"F1 Score\")\n",
        "        for key in sorted(results.keys()):\n",
        "            print(\"{}, {:.4f}\".format(key, results[key]))\n",
        "        print(\"\\n\" + self.show_report(out_label_list, preds_list))\n",
        "        print(\"********\")\n",
        "\n",
        "f1_score_callback = F1Metrics(test_inputs, test_labels)"
      ],
      "metadata": {
        "id": "jMp2lJshELfD"
      },
      "execution_count": null,
      "outputs": []
    },
    {
      "cell_type": "code",
      "source": [
        "# Prepare training: Compile tf.keras model with optimizer, loss and learning rate schedule\n",
        "optimizer = tf.keras.optimizers.Adam(3e-5)\n",
        "# ner_model.compile(optimizer=optimizer, loss=compute_loss, run_eagerly=True)\n",
        "ner_model.compile(optimizer=optimizer, loss=compute_loss)"
      ],
      "metadata": {
        "id": "0-SkhsU-EOca"
      },
      "execution_count": null,
      "outputs": []
    },
    {
      "cell_type": "markdown",
      "source": [
        "### np.argmax"
      ],
      "metadata": {
        "id": "bRmdL5Nosdyl"
      }
    },
    {
      "cell_type": "code",
      "source": [
        "import numpy as np"
      ],
      "metadata": {
        "id": "nyf15ZtHr8rM"
      },
      "execution_count": null,
      "outputs": []
    },
    {
      "cell_type": "code",
      "source": [
        "a=np.array([[[1,3,2],[4,5,6]],[[10,11,12],[9,8,7]]])\n",
        "a"
      ],
      "metadata": {
        "colab": {
          "base_uri": "https://localhost:8080/"
        },
        "id": "1TuqdvHDqv5c",
        "outputId": "b4002949-df06-41d4-b093-1c514881ebf9"
      },
      "execution_count": null,
      "outputs": [
        {
          "output_type": "execute_result",
          "data": {
            "text/plain": [
              "array([[[ 1,  3,  2],\n",
              "        [ 4,  5,  6]],\n",
              "\n",
              "       [[10, 11, 12],\n",
              "        [ 9,  8,  7]]])"
            ]
          },
          "metadata": {},
          "execution_count": 11
        }
      ]
    },
    {
      "cell_type": "code",
      "source": [
        "np.argmax(a,axis=2)"
      ],
      "metadata": {
        "colab": {
          "base_uri": "https://localhost:8080/"
        },
        "id": "cT7FYMTWsLBE",
        "outputId": "398203d3-4dd5-4c69-a8b2-dc4a030ffac0"
      },
      "execution_count": null,
      "outputs": [
        {
          "output_type": "execute_result",
          "data": {
            "text/plain": [
              "array([[1, 2],\n",
              "       [2, 0]])"
            ]
          },
          "metadata": {},
          "execution_count": 12
        }
      ]
    },
    {
      "cell_type": "code",
      "source": [
        "b= [[] for _ in range(5)]\n",
        "c=tf.constant(b)\n",
        "print(b)\n",
        "print(np.array(b).shape) # .shape는 리스트 형태에 사용 불가 -> np.array 형태로 바꿔줘야함\n",
        "shape_list(c)  # 튜플형태나 리스트 형태는 shape_list 사용 불가 -> tf tensor 형태로 바꿔주어야함\n"
      ],
      "metadata": {
        "colab": {
          "base_uri": "https://localhost:8080/"
        },
        "id": "MyQFYCV0SwfM",
        "outputId": "c4155469-05db-4dc4-8e47-6ee87bf4eaaf"
      },
      "execution_count": null,
      "outputs": [
        {
          "output_type": "stream",
          "name": "stdout",
          "text": [
            "[[], [], [], [], []]\n",
            "(5, 0)\n"
          ]
        },
        {
          "output_type": "execute_result",
          "data": {
            "text/plain": [
              "[5, 0]"
            ]
          },
          "metadata": {},
          "execution_count": 20
        }
      ]
    },
    {
      "cell_type": "code",
      "source": [
        "a= {2:'b',3:'c',1:'a'}\n",
        "print(a.keys())\n",
        "print(sorted(a.keys()))"
      ],
      "metadata": {
        "colab": {
          "base_uri": "https://localhost:8080/"
        },
        "id": "qsidb_Tubb_G",
        "outputId": "633d8bef-3cba-498e-ac47-7c2fdccc850a"
      },
      "execution_count": null,
      "outputs": [
        {
          "output_type": "stream",
          "name": "stdout",
          "text": [
            "dict_keys([2, 3, 1])\n",
            "[1, 2, 3]\n"
          ]
        }
      ]
    },
    {
      "cell_type": "code",
      "source": [
        "a={'b':2,'c':3,'a':1}\n",
        "b={'a':2,'b':2,'c':4}"
      ],
      "metadata": {
        "id": "Q6hWNIJJZIeF"
      },
      "execution_count": 11,
      "outputs": []
    },
    {
      "cell_type": "code",
      "source": [
        "print(a.keys())\n",
        "print(sorted(a.keys()))"
      ],
      "metadata": {
        "colab": {
          "base_uri": "https://localhost:8080/"
        },
        "id": "om2TUuSezgog",
        "outputId": "21c50090-ede4-4754-f758-a5ba9a84dd14"
      },
      "execution_count": 12,
      "outputs": [
        {
          "output_type": "stream",
          "name": "stdout",
          "text": [
            "dict_keys(['b', 'c', 'a'])\n",
            "['a', 'b', 'c']\n"
          ]
        }
      ]
    },
    {
      "cell_type": "code",
      "source": [
        "r={}\n",
        "r.update(a)\n",
        "r"
      ],
      "metadata": {
        "colab": {
          "base_uri": "https://localhost:8080/"
        },
        "id": "1hzUuF6dZRXF",
        "outputId": "07819a98-9090-43af-974f-b51be0a2ff4e"
      },
      "execution_count": 7,
      "outputs": [
        {
          "output_type": "execute_result",
          "data": {
            "text/plain": [
              "{'a': 1, 'b': 2, 'c': 3}"
            ]
          },
          "metadata": {},
          "execution_count": 7
        }
      ]
    },
    {
      "cell_type": "code",
      "source": [
        "r.update(b)\n",
        "r"
      ],
      "metadata": {
        "colab": {
          "base_uri": "https://localhost:8080/"
        },
        "id": "ES0vraH3ZZKU",
        "outputId": "b40b52a2-71f3-418f-93f4-8c0550ed3725"
      },
      "execution_count": 9,
      "outputs": [
        {
          "output_type": "execute_result",
          "data": {
            "text/plain": [
              "{'a': 2, 'b': 2, 'c': 4}"
            ]
          },
          "metadata": {},
          "execution_count": 9
        }
      ]
    },
    {
      "cell_type": "markdown",
      "source": [
        "### 모델 earlystop 및 학습(fit)"
      ],
      "metadata": {
        "id": "5c2eBgzNsnck"
      }
    },
    {
      "cell_type": "code",
      "source": [
        "model_name = \"tf2_bert_ner\"\n",
        "\n",
        "checkpoint_path = os.path.join(DATA_OUT_PATH, model_name, 'weights.h5')\n",
        "checkpoint_dir = os.path.dirname(checkpoint_path)\n",
        "\n",
        "# Create path if exists\n",
        "if os.path.exists(checkpoint_dir):\n",
        "    print(\"{} -- Folder already exists \\n\".format(checkpoint_dir))\n",
        "else:\n",
        "    os.makedirs(checkpoint_dir, exist_ok=True)\n",
        "    print(\"{} -- Folder create complete \\n\".format(checkpoint_dir))\n",
        "    \n",
        "cp_callback = ModelCheckpoint(\n",
        "    checkpoint_path, verbose=1, save_best_only=True, save_weights_only=True)\n",
        "\n",
        "history = ner_model.fit(train_inputs, train_labels, batch_size=BATCH_SIZE, epochs=NUM_EPOCHS,\n",
        "                        callbacks=[cp_callback, f1_score_callback])\n",
        "\n",
        "print(history.history)"
      ],
      "metadata": {
        "id": "n8Eu4yKDEOW5"
      },
      "execution_count": null,
      "outputs": []
    },
    {
      "cell_type": "markdown",
      "source": [
        "### 성능 시각화"
      ],
      "metadata": {
        "id": "KK-SCO_Kstcs"
      }
    },
    {
      "cell_type": "code",
      "source": [
        "# 시각화\n",
        "\n",
        "def plot_graphs(history, string):\n",
        "    plt.plot(history.history[string])\n",
        "    plt.xlabel(\"Epochs\")\n",
        "    plt.ylabel(string)\n",
        "    plt.legend([string])\n",
        "    plt.show()"
      ],
      "metadata": {
        "id": "j0QmKm2iEP9x"
      },
      "execution_count": null,
      "outputs": []
    },
    {
      "cell_type": "code",
      "source": [
        "plot_graphs(history, 'loss')"
      ],
      "metadata": {
        "id": "HF7sS2XAEQ3z"
      },
      "execution_count": null,
      "outputs": []
    }
  ]
}