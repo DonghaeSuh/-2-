{
 "cells": [
  {
   "cell_type": "markdown",
   "id": "aaad5717-a36c-40c5-b902-b3de847e7d5b",
   "metadata": {},
   "source": [
    "Babi 데이터셋 전처리를 위해 필요한 도구들을 임포트합니다."
   ]
  },
  {
   "cell_type": "code",
   "execution_count": 54,
   "id": "a144abf0-24c2-4f25-8701-ca4bae5271bd",
   "metadata": {},
   "outputs": [],
   "source": [
    "from tensorflow.keras.utils import get_file\n",
    "from tensorflow.keras.preprocessing.sequence import pad_sequences\n",
    "from tensorflow.keras.utils import to_categorical\n",
    "import numpy as np\n",
    "import tarfile\n",
    "from nltk import FreqDist\n",
    "from functools import reduce\n",
    "import os\n",
    "import re\n",
    "import matplotlib.pyplot as plt"
   ]
  },
  {
   "cell_type": "markdown",
   "id": "425a4fe5-50b8-4b9f-89bc-29972e68d866",
   "metadata": {},
   "source": [
    "케라스의 get_file을 통해 데이터셋을 다운로드합니다."
   ]
  },
  {
   "cell_type": "code",
   "execution_count": 55,
   "id": "6329e42d-0bd8-48f1-8aff-6efdcf3ccac5",
   "metadata": {},
   "outputs": [],
   "source": [
    "path = get_file('babi-tasks-v1-2.tar.gz', origin='https://s3.amazonaws.com/text-datasets/'\n",
    "                'babi_tasks_1-20_v1-2.tar.gz')"
   ]
  },
  {
   "cell_type": "markdown",
   "id": "9c5ffdd3-aa77-4be7-9b95-26f529a3368b",
   "metadata": {},
   "source": [
    "압축을 풀고 훈련 데이터와 테스트 데이터를 각각 얻습니다."
   ]
  },
  {
   "cell_type": "code",
   "execution_count": 3,
   "id": "fdd95b15-bb51-4e16-81da-32940fa3bbbc",
   "metadata": {},
   "outputs": [],
   "source": [
    "with tarfile.open(path) as tar:\n",
    " tar.extractall()\n",
    " tar.close()\n",
    "\n",
    "DATA_DIR = 'tasks_1-20_v1-2/en-10k'\n",
    "TRAIN_FILE = os.path.join(DATA_DIR, \"qa1_single-supporting-fact_train.txt\")\n",
    "TEST_FILE = os.path.join(DATA_DIR, \"qa1_single-supporting-fact_test.txt\")"
   ]
  },
  {
   "cell_type": "markdown",
   "id": "f65a8807-9556-41a2-af04-006d86f84027",
   "metadata": {},
   "source": [
    "훈련 데이터로부터 상위 20개의 라인(line)만 읽고 출력해보겠습니다."
   ]
  },
  {
   "cell_type": "code",
   "execution_count": 56,
   "id": "e6f931a9-59fa-4cf0-bf0d-f3bade7797fe",
   "metadata": {},
   "outputs": [
    {
     "name": "stdout",
     "output_type": "stream",
     "text": [
      "<class '_io.BufferedReader'>\n",
      "1 Mary moved to the bathroom.\n",
      "2 John went to the hallway.\n",
      "3 Where is Mary? \tbathroom\t1\n",
      "4 Daniel went back to the hallway.\n",
      "5 Sandra moved to the garden.\n",
      "6 Where is Daniel? \thallway\t4\n",
      "7 John moved to the office.\n",
      "8 Sandra journeyed to the bathroom.\n",
      "9 Where is Daniel? \thallway\t4\n",
      "10 Mary moved to the hallway.\n",
      "11 Daniel travelled to the office.\n",
      "12 Where is Daniel? \toffice\t11\n",
      "13 John went back to the garden.\n",
      "14 John moved to the bedroom.\n",
      "15 Where is Sandra? \tbathroom\t8\n",
      "1 Sandra travelled to the office.\n",
      "2 Sandra went to the bathroom.\n",
      "3 Where is Sandra? \tbathroom\t2\n",
      "4 Mary went to the bedroom.\n",
      "5 Daniel moved to the hallway.\n"
     ]
    }
   ],
   "source": [
    "i = 0\n",
    "lines = open(TRAIN_FILE , \"rb\")\n",
    "for line in lines:\n",
    "    line = line.decode(\"utf-8\").strip()\n",
    "    # lno, text = line.split(\" \", 1) # ID와 TEXT 분리\n",
    "    i = i + 1\n",
    "    print(line)\n",
    "    if i == 20:\n",
    "      break"
   ]
  },
  {
   "cell_type": "markdown",
   "id": "ee7a6fd9-2764-448c-a4a8-af7555f034b1",
   "metadata": {},
   "source": [
    "숫자 1부터 15까지 한 개의 스토리입니다. 그 중간 중간에 질문이 나오고 있습니다. 3번, 6번, 9번, 12번, 15번 라인이 각 스토리 중간에 이어지는 질문에 해당되지요. 그리고 그 각각의 질문 옆에는 질문에 해당되는 정답이 적혀져있고, 그 정답 옆에 나오는 번호는 해당 정답이 몇 번 번호의 라인에 있었는지를 알려줍니다.\n",
    "\n",
    "그리고 숫자 1이 다시 나오면 이제부터는 다시 별개의 스토리가 시작됨을 의미합니다. 이렇게 복잡한 형태의 텍스트를 기계에게 바로 학습시키는 것은 조금 까다롭습니다. 그렇기 때문에 전처리를 거쳐서 스토리, 질문, 답변을 전부 별도로 저장해두겠습니다."
   ]
  },
  {
   "cell_type": "code",
   "execution_count": 13,
   "id": "f1b36ae5-d55a-4464-9d74-fb95862f603d",
   "metadata": {},
   "outputs": [],
   "source": [
    "def read_data(dir):\n",
    "    stories, questions, answers = [], [], [] # 각각 스토리, 질문, 답변을 저장할 예정\n",
    "    story_temp = [] # 현재 시점의 스토리 임시 저장\n",
    "    lines = open(dir, \"rb\")\n",
    "\n",
    "    for line in lines:\n",
    "        line = line.decode(\"utf-8\") # b' 제거\n",
    "        line = line.strip() # '\\n' 제거\n",
    "        idx, text = line.split(\" \", 1) # 맨 앞에 있는 id number 분리\n",
    "        # 여기까지는 모든 줄에 적용되는 전처리\n",
    "\n",
    "        if int(idx) == 1:\n",
    "            story_temp = []\n",
    "\n",
    "        if \"\\t\" in text: # 현재 읽는 줄이 질문 (tab) 답변 (tab)인 경우\n",
    "            question, answer, _ = text.split(\"\\t\") # 질문과 답변을 각각 저장\n",
    "            stories.append([x for x in story_temp if x]) # 지금까지의 누적 스토리를 스토리에 저장\n",
    "            questions.append(question)\n",
    "            answers.append(answer)\n",
    "\n",
    "        else: # 현재 읽는 줄이 스토리인 경우\n",
    "            story_temp.append(text) # 임시 저장\n",
    "\n",
    "    lines.close()\n",
    "    return stories, questions, answers"
   ]
  },
  {
   "cell_type": "code",
   "execution_count": 14,
   "id": "43a7546d-6f30-4faf-a7e2-ba239159a0a8",
   "metadata": {},
   "outputs": [],
   "source": [
    "train_data = read_data(TRAIN_FILE)\n",
    "test_data = read_data(TEST_FILE)"
   ]
  },
  {
   "cell_type": "code",
   "execution_count": 62,
   "id": "bf82d50f-0ff0-4ea9-8bd9-b92404c61a13",
   "metadata": {},
   "outputs": [
    {
     "name": "stdout",
     "output_type": "stream",
     "text": [
      "<class 'tuple'>\n"
     ]
    }
   ],
   "source": [
    "print(type(train_data))"
   ]
  },
  {
   "cell_type": "code",
   "execution_count": 15,
   "id": "495ba699-ea29-4068-96a6-189ed61fb034",
   "metadata": {},
   "outputs": [],
   "source": [
    "train_stories, train_questions, train_answers = read_data(TRAIN_FILE)\n",
    "test_stories, test_questions, test_answers = read_data(TEST_FILE)"
   ]
  },
  {
   "cell_type": "code",
   "execution_count": 16,
   "id": "55cc13cd-bea6-4f30-92bb-a1fccddedd05",
   "metadata": {},
   "outputs": [
    {
     "name": "stdout",
     "output_type": "stream",
     "text": [
      "훈련용 스토리의 개수 : 10000\n",
      "훈련용 질문의 개수 : 10000\n",
      "훈련용 답변의 개수 : 10000\n",
      "테스트용 스토리의 개수 : 1000\n",
      "테스트용 질문의 개수 : 1000\n",
      "테스트용 답변의 개수 : 1000\n"
     ]
    }
   ],
   "source": [
    "print('훈련용 스토리의 개수 :', len(train_stories))\n",
    "print('훈련용 질문의 개수 :',len(train_questions))\n",
    "print('훈련용 답변의 개수 :',len(train_answers))\n",
    "print('테스트용 스토리의 개수 :',len(test_stories))\n",
    "print('테스트용 질문의 개수 :',len(test_questions))\n",
    "print('테스트용 답변의 개수 :',len(test_answers))"
   ]
  },
  {
   "cell_type": "markdown",
   "id": "aaa77935-8501-4383-b509-91f79d84bb6f",
   "metadata": {},
   "source": [
    "임의로 3,576번째 스토리를 출력해봅시다."
   ]
  },
  {
   "cell_type": "code",
   "execution_count": 17,
   "id": "a15be72c-d939-4899-a0e0-eb924d8088ef",
   "metadata": {},
   "outputs": [
    {
     "data": {
      "text/plain": [
       "['John went back to the garden.',\n",
       " 'Mary went to the kitchen.',\n",
       " 'Sandra went back to the bedroom.',\n",
       " 'John travelled to the bedroom.']"
      ]
     },
     "execution_count": 17,
     "metadata": {},
     "output_type": "execute_result"
    }
   ],
   "source": [
    "train_stories[3576]"
   ]
  },
  {
   "cell_type": "code",
   "execution_count": 19,
   "id": "a36370c1-48cb-489a-80ac-061d0055cc2c",
   "metadata": {},
   "outputs": [
    {
     "data": {
      "text/plain": [
       "'Where is John? '"
      ]
     },
     "execution_count": 19,
     "metadata": {},
     "output_type": "execute_result"
    }
   ],
   "source": [
    "train_questions[3576]"
   ]
  },
  {
   "cell_type": "code",
   "execution_count": 20,
   "id": "f687d094-3dec-46f3-a3b3-49322500bb99",
   "metadata": {},
   "outputs": [
    {
     "data": {
      "text/plain": [
       "'bedroom'"
      ]
     },
     "execution_count": 20,
     "metadata": {},
     "output_type": "execute_result"
    }
   ],
   "source": [
    "train_answers[3576]"
   ]
  },
  {
   "cell_type": "code",
   "execution_count": null,
   "id": "bffdf004-7b3d-4621-80d2-ca3fb11e7734",
   "metadata": {},
   "outputs": [],
   "source": []
  },
  {
   "cell_type": "code",
   "execution_count": 21,
   "id": "db42c1fe-0d6b-4c57-abbb-07d642dcf72d",
   "metadata": {},
   "outputs": [],
   "source": [
    "def tokenize(sent):\n",
    "    return [ x.strip() for x in re.split('(\\W+)', sent) if x and x.strip()]"
   ]
  },
  {
   "cell_type": "code",
   "execution_count": 22,
   "id": "a65ff1b1-e620-4a50-bdcc-1d833def6013",
   "metadata": {},
   "outputs": [],
   "source": [
    "def preprocess_data(train_data, test_data):\n",
    "    counter = FreqDist()\n",
    "\n",
    "    # 두 문장의 story를 하나의 문장으로 통합하는 함수\n",
    "    flatten = lambda data: reduce(lambda x, y: x + y, data)\n",
    "\n",
    "    # 각 샘플의 길이를 저장하는 리스트\n",
    "    story_len = []\n",
    "    question_len = []\n",
    "\n",
    "    for stories, questions, answers in [train_data, test_data]:\n",
    "        for story in stories:\n",
    "            stories = tokenize(flatten(story)) # 스토리의 문장들을 펼친 후 토큰화\n",
    "            story_len.append(len(stories)) # 각 story의 길이 저장\n",
    "            for word in stories: # 단어 집합에 단어 추가\n",
    "                counter[word] += 1\n",
    "        for question in questions:\n",
    "            question = tokenize(question)\n",
    "            question_len.append(len(question))\n",
    "            for word in question:\n",
    "                counter[word] += 1\n",
    "        for answer in answers:\n",
    "            answer = tokenize(answer)\n",
    "            for word in answer:\n",
    "                counter[word] += 1\n",
    "\n",
    "    # 단어 집합 생성\n",
    "    word2idx = {word : (idx + 1) for idx, (word, _) in enumerate(counter.most_common())}\n",
    "    idx2word = {idx : word for word, idx in word2idx.items()}\n",
    "\n",
    "    # 가장 긴 샘플의 길이\n",
    "    story_max_len = np.max(story_len)\n",
    "    question_max_len = np.max(question_len)\n",
    "\n",
    "    return word2idx, idx2word, story_max_len, question_max_len"
   ]
  },
  {
   "cell_type": "code",
   "execution_count": 23,
   "id": "4829622e-3b50-4e72-9cfc-11da4d8bd087",
   "metadata": {},
   "outputs": [],
   "source": [
    "word2idx, idx2word, story_max_len, question_max_len = preprocess_data(train_data, test_data)"
   ]
  },
  {
   "cell_type": "code",
   "execution_count": 24,
   "id": "792afa68-3da5-445a-99c4-577fb114a459",
   "metadata": {},
   "outputs": [
    {
     "name": "stdout",
     "output_type": "stream",
     "text": [
      "{'to': 1, 'the': 2, '.': 3, 'went': 4, 'Sandra': 5, 'John': 6, 'Daniel': 7, 'Mary': 8, 'travelled': 9, 'journeyed': 10, 'back': 11, 'bathroom': 12, 'garden': 13, 'hallway': 14, 'moved': 15, 'office': 16, 'kitchen': 17, 'bedroom': 18, 'Where': 19, 'is': 20, '?': 21}\n"
     ]
    }
   ],
   "source": [
    "print(word2idx)"
   ]
  },
  {
   "cell_type": "code",
   "execution_count": 25,
   "id": "0bbf2901-0b63-453f-97ba-36bb42368620",
   "metadata": {},
   "outputs": [],
   "source": [
    "vocab_size = len(word2idx) + 1"
   ]
  },
  {
   "cell_type": "code",
   "execution_count": 26,
   "id": "8f56339d-c17e-48ac-b503-5012d39bc139",
   "metadata": {},
   "outputs": [
    {
     "name": "stdout",
     "output_type": "stream",
     "text": [
      "스토리의 최대 길이 : 68\n",
      "질문의 최대 길이 : 4\n"
     ]
    }
   ],
   "source": [
    "print('스토리의 최대 길이 :',story_max_len)\n",
    "print('질문의 최대 길이 :',question_max_len)"
   ]
  },
  {
   "cell_type": "code",
   "execution_count": 27,
   "id": "1bfd2182-fda1-48a4-a323-9f427bbf5871",
   "metadata": {},
   "outputs": [],
   "source": [
    "def vectorize(data, word2idx, story_maxlen, question_maxlen):\n",
    "    Xs, Xq, Y = [], [], []\n",
    "    flatten = lambda data: reduce(lambda x, y: x + y, data)\n",
    "\n",
    "    stories, questions, answers = data\n",
    "    for story, question, answer in zip(stories, questions, answers):\n",
    "        xs = [word2idx[w] for w in tokenize(flatten(story))]\n",
    "        xq = [word2idx[w] for w in tokenize(question)]\n",
    "        Xs.append(xs)\n",
    "        Xq.append(xq)\n",
    "        Y.append(word2idx[answer])\n",
    "\n",
    "        # 스토리와 질문은 각각의 최대 길이로 패딩\n",
    "        # 정답은 원-핫 인코딩\n",
    "    return pad_sequences(Xs, maxlen=story_maxlen),\\\n",
    "           pad_sequences(Xq, maxlen=question_maxlen),\\\n",
    "           to_categorical(Y, num_classes=len(word2idx) + 1)"
   ]
  },
  {
   "cell_type": "code",
   "execution_count": 28,
   "id": "dcd1f314-2d2b-4b95-a401-aca10bef4ceb",
   "metadata": {},
   "outputs": [],
   "source": [
    "Xstrain, Xqtrain, Ytrain = vectorize(train_data, word2idx, story_max_len, question_max_len)\n",
    "Xstest, Xqtest, Ytest = vectorize(test_data, word2idx, story_max_len, question_max_len)"
   ]
  },
  {
   "cell_type": "code",
   "execution_count": 29,
   "id": "f4940adf-8e14-417e-ae96-d42ce6f03428",
   "metadata": {},
   "outputs": [
    {
     "name": "stdout",
     "output_type": "stream",
     "text": [
      "(10000, 68) (10000, 4) (10000, 22) (1000, 68) (1000, 4) (1000, 22)\n"
     ]
    }
   ],
   "source": [
    "print(Xstrain.shape, Xqtrain.shape, Ytrain.shape, Xstest.shape, Xqtest.shape, Ytest.shape)"
   ]
  },
  {
   "cell_type": "markdown",
   "id": "87145508-9cc1-4fb5-8fd8-d4a423dd3faf",
   "metadata": {
    "tags": []
   },
   "source": [
    "## 메모리 네트워크로 QA 태스크 풀기"
   ]
  },
  {
   "cell_type": "code",
   "execution_count": 30,
   "id": "c644e6bd-f9bf-4204-80a2-b0a44e832281",
   "metadata": {},
   "outputs": [],
   "source": [
    "from tensorflow.keras.models import Sequential, Model\n",
    "from tensorflow.keras.layers import Embedding\n",
    "from tensorflow.keras.layers import Permute, dot, add, concatenate\n",
    "from tensorflow.keras.layers import LSTM, Dense, Dropout, Input, Activation"
   ]
  },
  {
   "cell_type": "code",
   "execution_count": 31,
   "id": "7b41d247-b1a5-4c5c-b58f-62385dda37a6",
   "metadata": {},
   "outputs": [],
   "source": [
    "# 에포크 횟수\n",
    "train_epochs = 120\n",
    "# 배치 크기\n",
    "batch_size = 32\n",
    "# 임베딩 크기\n",
    "embed_size = 50\n",
    "# LSTM의 크기\n",
    "lstm_size = 64\n",
    "# 과적합 방지 기법인 드롭아웃 적용 비율\n",
    "dropout_rate = 0.30"
   ]
  },
  {
   "cell_type": "code",
   "execution_count": 32,
   "id": "a7d96b6c-012b-4a5a-86f1-3a9337509875",
   "metadata": {},
   "outputs": [
    {
     "name": "stdout",
     "output_type": "stream",
     "text": [
      "Stories : KerasTensor(type_spec=TensorSpec(shape=(None, 68), dtype=tf.float32, name='input_1'), name='input_1', description=\"created by layer 'input_1'\")\n",
      "Question: KerasTensor(type_spec=TensorSpec(shape=(None, 4), dtype=tf.float32, name='input_2'), name='input_2', description=\"created by layer 'input_2'\")\n"
     ]
    }
   ],
   "source": [
    "# 플레이스 홀더. 입력을 담는 변수\n",
    "input_sequence = Input((story_max_len,))\n",
    "question = Input((question_max_len,))\n",
    "\n",
    "print('Stories :', input_sequence)\n",
    "print('Question:', question)"
   ]
  },
  {
   "cell_type": "code",
   "execution_count": 41,
   "id": "94960d90-5aeb-4e60-b61b-02b49467fc68",
   "metadata": {},
   "outputs": [],
   "source": [
    "# 스토리를 위한 첫번째 임베딩. 그림에서의 Embedding C\n",
    "input_encoder_m = Sequential()\n",
    "input_encoder_m.add(Embedding(input_dim=vocab_size,\n",
    "                              output_dim=embed_size))\n",
    "input_encoder_m.add(Dropout(dropout_rate))\n",
    "# 결과 : (samples, story_max_len, embedding_dim) \n",
    "#       샘플의 수, 문장의 최대 길이, 임베딩 벡터의 차원\n",
    "\n",
    "# 스토리를 위한 두번째 임베딩. 그림에서의 Embedding A\n",
    "# 임베딩 벡터의 차원을 question_max_len(질문의 최대 길이)로 한다.\n",
    "input_encoder_c = Sequential()\n",
    "input_encoder_c.add(Embedding(input_dim=vocab_size,\n",
    "                              output_dim=question_max_len))\n",
    "input_encoder_c.add(Dropout(dropout_rate))\n",
    "# 결과 : (samples, story_max_len, question_max_len) \n",
    "#       샘플의 수, 문장의 최대 길이, 질문의 최대 길이(임베딩 벡터의 차원)"
   ]
  },
  {
   "cell_type": "code",
   "execution_count": 1,
   "id": "a04a8c8a-5706-43a5-bd3c-ee21f9701273",
   "metadata": {},
   "outputs": [
    {
     "ename": "NameError",
     "evalue": "name 'Sequential' is not defined",
     "output_type": "error",
     "traceback": [
      "\u001b[1;31m---------------------------------------------------------------------------\u001b[0m",
      "\u001b[1;31mNameError\u001b[0m                                 Traceback (most recent call last)",
      "\u001b[1;32m~\\AppData\\Local\\Temp/ipykernel_12708/3141607522.py\u001b[0m in \u001b[0;36m<module>\u001b[1;34m\u001b[0m\n\u001b[0;32m      1\u001b[0m \u001b[1;31m# 질문을 위한 임베딩. 그림에서의 Embedding B\u001b[0m\u001b[1;33m\u001b[0m\u001b[1;33m\u001b[0m\u001b[1;33m\u001b[0m\u001b[0m\n\u001b[1;32m----> 2\u001b[1;33m \u001b[0mquestion_encoder\u001b[0m \u001b[1;33m=\u001b[0m \u001b[0mSequential\u001b[0m\u001b[1;33m(\u001b[0m\u001b[1;33m)\u001b[0m\u001b[1;33m\u001b[0m\u001b[1;33m\u001b[0m\u001b[0m\n\u001b[0m\u001b[0;32m      3\u001b[0m question_encoder.add(Embedding(input_dim=vocab_size,\n\u001b[0;32m      4\u001b[0m                                \u001b[0moutput_dim\u001b[0m\u001b[1;33m=\u001b[0m\u001b[0membed_size\u001b[0m\u001b[1;33m,\u001b[0m\u001b[1;33m\u001b[0m\u001b[1;33m\u001b[0m\u001b[0m\n\u001b[0;32m      5\u001b[0m ))\n",
      "\u001b[1;31mNameError\u001b[0m: name 'Sequential' is not defined"
     ]
    }
   ],
   "source": [
    "# 질문을 위한 임베딩. 그림에서의 Embedding B\n",
    "question_encoder = Sequential()\n",
    "question_encoder.add(Embedding(input_dim=vocab_size,\n",
    "                               output_dim=embed_size,\n",
    "                               input_length=question_max_len))\n",
    "question_encoder.add(Dropout(dropout_rate))\n",
    "# 결과 : (samples, question_max_len, embedding_dim) \n",
    "#       샘플의 수, 질문의 최대 길이, 임베딩 벡터의 차원"
   ]
  },
  {
   "cell_type": "code",
   "execution_count": 43,
   "id": "499ce8d3-f166-4940-a0f0-e9b8fe577bf7",
   "metadata": {},
   "outputs": [
    {
     "name": "stdout",
     "output_type": "stream",
     "text": [
      "Input encoded m KerasTensor(type_spec=TensorSpec(shape=(None, 68, 50), dtype=tf.float32, name=None), name='sequential/dropout/Identity:0', description=\"created by layer 'sequential'\")\n",
      "Input encoded c KerasTensor(type_spec=TensorSpec(shape=(None, 68, 4), dtype=tf.float32, name=None), name='sequential_1/dropout_1/Identity:0', description=\"created by layer 'sequential_1'\")\n",
      "Question encoded KerasTensor(type_spec=TensorSpec(shape=(None, 4, 50), dtype=tf.float32, name=None), name='sequential_2/dropout_2/Identity:0', description=\"created by layer 'sequential_2'\")\n"
     ]
    }
   ],
   "source": [
    "# 실질적인 임베딩 과정\n",
    "input_encoded_m = input_encoder_m(input_sequence)\n",
    "input_encoded_c = input_encoder_c(input_sequence)\n",
    "question_encoded = question_encoder(question)\n",
    "\n",
    "print('Input encoded m', input_encoded_m)\n",
    "print('Input encoded c', input_encoded_c)\n",
    "print('Question encoded', question_encoded)"
   ]
  },
  {
   "cell_type": "code",
   "execution_count": 44,
   "id": "ed00f78c-3d9a-4c81-9328-7645e2fc5f06",
   "metadata": {},
   "outputs": [
    {
     "name": "stdout",
     "output_type": "stream",
     "text": [
      "Match shape KerasTensor(type_spec=TensorSpec(shape=(None, 68, 4), dtype=tf.float32, name=None), name='activation/Softmax:0', description=\"created by layer 'activation'\")\n",
      "Response shape KerasTensor(type_spec=TensorSpec(shape=(None, 4, 68), dtype=tf.float32, name=None), name='permute/transpose:0', description=\"created by layer 'permute'\")\n",
      "Answer shape KerasTensor(type_spec=TensorSpec(shape=(None, 4, 118), dtype=tf.float32, name=None), name='concatenate/concat:0', description=\"created by layer 'concatenate'\")\n"
     ]
    }
   ],
   "source": [
    "# 스토리 단어들과 질문 단어들 간의 유사도를 구하는 과정\n",
    "# 유사도는 내적을 사용한다.\n",
    "match = dot([input_encoded_m, question_encoded], axes=-1, normalize=False)\n",
    "match = Activation('softmax')(match)\n",
    "print('Match shape', match)\n",
    "# 결과 : (samples, story_maxlen, question_max_len) / 샘플의 수, 문장의 최대 길이, 질문의 최대 길이\n",
    "\n",
    "response = add([match, input_encoded_c])  \n",
    "# (samples, story_max_len, question_max_len)\n",
    "response = Permute((2, 1))(response) \n",
    "# (samples, question_max_len, story_max_len)\n",
    "print('Response shape', response)\n",
    "\n",
    "# 질문 벡터와 답변 벡터를 연결\n",
    "answer = concatenate([response, question_encoded])\n",
    "print('Answer shape', answer)\n",
    "\n",
    "answer = LSTM(lstm_size)(answer)\n",
    "answer = Dropout(dropout_rate)(answer)\n",
    "answer = Dense(vocab_size)(answer)\n",
    "answer = Activation('softmax')(answer)"
   ]
  },
  {
   "cell_type": "code",
   "execution_count": 45,
   "id": "6ecd5323-8307-4f40-b37f-07bb42fcdaa5",
   "metadata": {},
   "outputs": [
    {
     "name": "stdout",
     "output_type": "stream",
     "text": [
      "Model: \"model\"\n",
      "__________________________________________________________________________________________________\n",
      " Layer (type)                   Output Shape         Param #     Connected to                     \n",
      "==================================================================================================\n",
      " input_1 (InputLayer)           [(None, 68)]         0           []                               \n",
      "                                                                                                  \n",
      " input_2 (InputLayer)           [(None, 4)]          0           []                               \n",
      "                                                                                                  \n",
      " sequential (Sequential)        (None, None, 50)     1100        ['input_1[0][0]']                \n",
      "                                                                                                  \n",
      " sequential_2 (Sequential)      (None, 4, 50)        1100        ['input_2[0][0]']                \n",
      "                                                                                                  \n",
      " dot (Dot)                      (None, 68, 4)        0           ['sequential[0][0]',             \n",
      "                                                                  'sequential_2[0][0]']           \n",
      "                                                                                                  \n",
      " activation (Activation)        (None, 68, 4)        0           ['dot[0][0]']                    \n",
      "                                                                                                  \n",
      " sequential_1 (Sequential)      (None, None, 4)      88          ['input_1[0][0]']                \n",
      "                                                                                                  \n",
      " add (Add)                      (None, 68, 4)        0           ['activation[0][0]',             \n",
      "                                                                  'sequential_1[0][0]']           \n",
      "                                                                                                  \n",
      " permute (Permute)              (None, 4, 68)        0           ['add[0][0]']                    \n",
      "                                                                                                  \n",
      " concatenate (Concatenate)      (None, 4, 118)       0           ['permute[0][0]',                \n",
      "                                                                  'sequential_2[0][0]']           \n",
      "                                                                                                  \n",
      " lstm (LSTM)                    (None, 64)           46848       ['concatenate[0][0]']            \n",
      "                                                                                                  \n",
      " dropout_3 (Dropout)            (None, 64)           0           ['lstm[0][0]']                   \n",
      "                                                                                                  \n",
      " dense (Dense)                  (None, 22)           1430        ['dropout_3[0][0]']              \n",
      "                                                                                                  \n",
      " activation_1 (Activation)      (None, 22)           0           ['dense[0][0]']                  \n",
      "                                                                                                  \n",
      "==================================================================================================\n",
      "Total params: 50,566\n",
      "Trainable params: 50,566\n",
      "Non-trainable params: 0\n",
      "__________________________________________________________________________________________________\n",
      "None\n",
      "Epoch 1/120\n",
      "313/313 [==============================] - 5s 8ms/step - loss: 1.8778 - acc: 0.1801 - val_loss: 1.7721 - val_acc: 0.2260\n",
      "Epoch 2/120\n",
      "313/313 [==============================] - 2s 6ms/step - loss: 1.6886 - acc: 0.2726 - val_loss: 1.6293 - val_acc: 0.2900\n",
      "Epoch 3/120\n",
      "313/313 [==============================] - 2s 7ms/step - loss: 1.5846 - acc: 0.3532 - val_loss: 1.4852 - val_acc: 0.4120\n",
      "Epoch 4/120\n",
      "313/313 [==============================] - 3s 9ms/step - loss: 1.4895 - acc: 0.4222 - val_loss: 1.4298 - val_acc: 0.4530\n",
      "Epoch 5/120\n",
      "313/313 [==============================] - 3s 9ms/step - loss: 1.4245 - acc: 0.4550 - val_loss: 1.3695 - val_acc: 0.4710\n",
      "Epoch 6/120\n",
      "313/313 [==============================] - 2s 7ms/step - loss: 1.3773 - acc: 0.4631 - val_loss: 1.3471 - val_acc: 0.4800\n",
      "Epoch 7/120\n",
      "313/313 [==============================] - 2s 7ms/step - loss: 1.3569 - acc: 0.4710 - val_loss: 1.3722 - val_acc: 0.4580\n",
      "Epoch 8/120\n",
      "313/313 [==============================] - 2s 8ms/step - loss: 1.3460 - acc: 0.4767 - val_loss: 1.2907 - val_acc: 0.5090\n",
      "Epoch 9/120\n",
      "313/313 [==============================] - 2s 8ms/step - loss: 1.3030 - acc: 0.4890 - val_loss: 1.2583 - val_acc: 0.5130\n",
      "Epoch 10/120\n",
      "313/313 [==============================] - 2s 8ms/step - loss: 1.2618 - acc: 0.5054 - val_loss: 1.2075 - val_acc: 0.5310\n",
      "Epoch 11/120\n",
      "313/313 [==============================] - 2s 8ms/step - loss: 1.2333 - acc: 0.5088 - val_loss: 1.2090 - val_acc: 0.5250\n",
      "Epoch 12/120\n",
      "313/313 [==============================] - 2s 7ms/step - loss: 1.2183 - acc: 0.5147 - val_loss: 1.2120 - val_acc: 0.5060\n",
      "Epoch 13/120\n",
      "313/313 [==============================] - 2s 7ms/step - loss: 1.2092 - acc: 0.5132 - val_loss: 1.1822 - val_acc: 0.5160\n",
      "Epoch 14/120\n",
      "313/313 [==============================] - 2s 7ms/step - loss: 1.1841 - acc: 0.5238 - val_loss: 1.1695 - val_acc: 0.5150\n",
      "Epoch 15/120\n",
      "313/313 [==============================] - 2s 7ms/step - loss: 1.1702 - acc: 0.5236 - val_loss: 1.1616 - val_acc: 0.5250\n",
      "Epoch 16/120\n",
      "313/313 [==============================] - 2s 7ms/step - loss: 1.1629 - acc: 0.5236 - val_loss: 1.1432 - val_acc: 0.5230\n",
      "Epoch 17/120\n",
      "313/313 [==============================] - 2s 8ms/step - loss: 1.1642 - acc: 0.5187 - val_loss: 1.1877 - val_acc: 0.5020\n",
      "Epoch 18/120\n",
      "313/313 [==============================] - 2s 8ms/step - loss: 1.1532 - acc: 0.5208 - val_loss: 1.1477 - val_acc: 0.5220\n",
      "Epoch 19/120\n",
      "313/313 [==============================] - 2s 7ms/step - loss: 1.1411 - acc: 0.5249 - val_loss: 1.1587 - val_acc: 0.5190\n",
      "Epoch 20/120\n",
      "313/313 [==============================] - 2s 7ms/step - loss: 1.1332 - acc: 0.5354 - val_loss: 1.1487 - val_acc: 0.5260\n",
      "Epoch 21/120\n",
      "313/313 [==============================] - 2s 7ms/step - loss: 1.1224 - acc: 0.5263 - val_loss: 1.1516 - val_acc: 0.5170\n",
      "Epoch 22/120\n",
      "313/313 [==============================] - 2s 7ms/step - loss: 1.1171 - acc: 0.5332 - val_loss: 1.1551 - val_acc: 0.5170\n",
      "Epoch 23/120\n",
      "313/313 [==============================] - 2s 7ms/step - loss: 1.1100 - acc: 0.5381 - val_loss: 1.1476 - val_acc: 0.5150\n",
      "Epoch 24/120\n",
      "313/313 [==============================] - 2s 8ms/step - loss: 1.1018 - acc: 0.5339 - val_loss: 1.1598 - val_acc: 0.5280\n",
      "Epoch 25/120\n",
      "313/313 [==============================] - 2s 8ms/step - loss: 1.0992 - acc: 0.5400 - val_loss: 1.1399 - val_acc: 0.5310\n",
      "Epoch 26/120\n",
      "313/313 [==============================] - 2s 7ms/step - loss: 1.0866 - acc: 0.5420 - val_loss: 1.1368 - val_acc: 0.5220\n",
      "Epoch 27/120\n",
      "313/313 [==============================] - 2s 7ms/step - loss: 1.0754 - acc: 0.5507 - val_loss: 1.1394 - val_acc: 0.5160\n",
      "Epoch 28/120\n",
      "313/313 [==============================] - 2s 7ms/step - loss: 1.0675 - acc: 0.5539 - val_loss: 1.1518 - val_acc: 0.5320\n",
      "Epoch 29/120\n",
      "313/313 [==============================] - 2s 7ms/step - loss: 1.0465 - acc: 0.5704 - val_loss: 1.1205 - val_acc: 0.5470\n",
      "Epoch 30/120\n",
      "313/313 [==============================] - 2s 7ms/step - loss: 0.9878 - acc: 0.6015 - val_loss: 0.9957 - val_acc: 0.5990\n",
      "Epoch 31/120\n",
      "313/313 [==============================] - 2s 7ms/step - loss: 0.8159 - acc: 0.6936 - val_loss: 0.7668 - val_acc: 0.7160\n",
      "Epoch 32/120\n",
      "313/313 [==============================] - 3s 8ms/step - loss: 0.6806 - acc: 0.7511 - val_loss: 0.7210 - val_acc: 0.7410\n",
      "Epoch 33/120\n",
      "313/313 [==============================] - 2s 7ms/step - loss: 0.6161 - acc: 0.7716 - val_loss: 0.6582 - val_acc: 0.7440\n",
      "Epoch 34/120\n",
      "313/313 [==============================] - 2s 7ms/step - loss: 0.5892 - acc: 0.7775 - val_loss: 0.6175 - val_acc: 0.7650\n",
      "Epoch 35/120\n",
      "313/313 [==============================] - 2s 7ms/step - loss: 0.5359 - acc: 0.7898 - val_loss: 0.5747 - val_acc: 0.7580\n",
      "Epoch 36/120\n",
      "313/313 [==============================] - 2s 7ms/step - loss: 0.4852 - acc: 0.8103 - val_loss: 0.5253 - val_acc: 0.7940\n",
      "Epoch 37/120\n",
      "313/313 [==============================] - 2s 7ms/step - loss: 0.4355 - acc: 0.8296 - val_loss: 0.4695 - val_acc: 0.8190\n",
      "Epoch 38/120\n",
      "313/313 [==============================] - 2s 7ms/step - loss: 0.4020 - acc: 0.8475 - val_loss: 0.4144 - val_acc: 0.8420\n",
      "Epoch 39/120\n",
      "313/313 [==============================] - 2s 7ms/step - loss: 0.3701 - acc: 0.8567 - val_loss: 0.4078 - val_acc: 0.8450\n",
      "Epoch 40/120\n",
      "313/313 [==============================] - 2s 7ms/step - loss: 0.3485 - acc: 0.8680 - val_loss: 0.3798 - val_acc: 0.8610\n",
      "Epoch 41/120\n",
      "313/313 [==============================] - 2s 7ms/step - loss: 0.3326 - acc: 0.8784 - val_loss: 0.3791 - val_acc: 0.8650\n",
      "Epoch 42/120\n",
      "313/313 [==============================] - 2s 7ms/step - loss: 0.3167 - acc: 0.8824 - val_loss: 0.3654 - val_acc: 0.8610\n",
      "Epoch 43/120\n",
      "313/313 [==============================] - 2s 6ms/step - loss: 0.3006 - acc: 0.8864 - val_loss: 0.3524 - val_acc: 0.8760\n",
      "Epoch 44/120\n",
      "313/313 [==============================] - 2s 7ms/step - loss: 0.2926 - acc: 0.8900 - val_loss: 0.3514 - val_acc: 0.8700\n",
      "Epoch 45/120\n",
      "313/313 [==============================] - 2s 7ms/step - loss: 0.2784 - acc: 0.8969 - val_loss: 0.3503 - val_acc: 0.8650\n",
      "Epoch 46/120\n",
      "313/313 [==============================] - 2s 8ms/step - loss: 0.2592 - acc: 0.9026 - val_loss: 0.3306 - val_acc: 0.8790\n",
      "Epoch 47/120\n",
      "313/313 [==============================] - 2s 7ms/step - loss: 0.2506 - acc: 0.9074 - val_loss: 0.3240 - val_acc: 0.8720\n",
      "Epoch 48/120\n",
      "313/313 [==============================] - 2s 7ms/step - loss: 0.2330 - acc: 0.9120 - val_loss: 0.3187 - val_acc: 0.8900\n",
      "Epoch 49/120\n",
      "313/313 [==============================] - 2s 7ms/step - loss: 0.2245 - acc: 0.9187 - val_loss: 0.2578 - val_acc: 0.9080\n",
      "Epoch 50/120\n",
      "313/313 [==============================] - 2s 7ms/step - loss: 0.2076 - acc: 0.9229 - val_loss: 0.2786 - val_acc: 0.8950\n",
      "Epoch 51/120\n",
      "313/313 [==============================] - 2s 7ms/step - loss: 0.1838 - acc: 0.9362 - val_loss: 0.2249 - val_acc: 0.9190\n",
      "Epoch 52/120\n",
      "313/313 [==============================] - 2s 7ms/step - loss: 0.1764 - acc: 0.9379 - val_loss: 0.2281 - val_acc: 0.9170\n",
      "Epoch 53/120\n",
      "313/313 [==============================] - 2s 7ms/step - loss: 0.1596 - acc: 0.9455 - val_loss: 0.1974 - val_acc: 0.9290\n",
      "Epoch 54/120\n",
      "313/313 [==============================] - 2s 7ms/step - loss: 0.1431 - acc: 0.9490 - val_loss: 0.1743 - val_acc: 0.9420\n",
      "Epoch 55/120\n",
      "313/313 [==============================] - 2s 7ms/step - loss: 0.1418 - acc: 0.9520 - val_loss: 0.1668 - val_acc: 0.9500\n",
      "Epoch 56/120\n",
      "313/313 [==============================] - 2s 7ms/step - loss: 0.1296 - acc: 0.9550 - val_loss: 0.1576 - val_acc: 0.9450\n",
      "Epoch 57/120\n",
      "313/313 [==============================] - 2s 7ms/step - loss: 0.1225 - acc: 0.9594 - val_loss: 0.1923 - val_acc: 0.9400\n",
      "Epoch 58/120\n",
      "313/313 [==============================] - 2s 7ms/step - loss: 0.1119 - acc: 0.9597 - val_loss: 0.1492 - val_acc: 0.9500\n",
      "Epoch 59/120\n",
      "313/313 [==============================] - 2s 7ms/step - loss: 0.0996 - acc: 0.9652 - val_loss: 0.1581 - val_acc: 0.9400\n",
      "Epoch 60/120\n",
      "313/313 [==============================] - 2s 8ms/step - loss: 0.1024 - acc: 0.9656 - val_loss: 0.1326 - val_acc: 0.9590\n",
      "Epoch 61/120\n",
      "313/313 [==============================] - 2s 7ms/step - loss: 0.0947 - acc: 0.9692 - val_loss: 0.1459 - val_acc: 0.9530\n",
      "Epoch 62/120\n",
      "313/313 [==============================] - 2s 7ms/step - loss: 0.0924 - acc: 0.9686 - val_loss: 0.1507 - val_acc: 0.9540\n",
      "Epoch 63/120\n",
      "313/313 [==============================] - 2s 7ms/step - loss: 0.0840 - acc: 0.9726 - val_loss: 0.1401 - val_acc: 0.9600\n",
      "Epoch 64/120\n",
      "313/313 [==============================] - 2s 7ms/step - loss: 0.0836 - acc: 0.9710 - val_loss: 0.1476 - val_acc: 0.9490\n",
      "Epoch 65/120\n",
      "313/313 [==============================] - 2s 7ms/step - loss: 0.0826 - acc: 0.9732 - val_loss: 0.1856 - val_acc: 0.9400\n",
      "Epoch 66/120\n",
      "313/313 [==============================] - 2s 7ms/step - loss: 0.0750 - acc: 0.9756 - val_loss: 0.1330 - val_acc: 0.9550\n",
      "Epoch 67/120\n",
      "313/313 [==============================] - 2s 7ms/step - loss: 0.0767 - acc: 0.9740 - val_loss: 0.1178 - val_acc: 0.9610\n",
      "Epoch 68/120\n",
      "313/313 [==============================] - 2s 8ms/step - loss: 0.0723 - acc: 0.9753 - val_loss: 0.1357 - val_acc: 0.9540\n",
      "Epoch 69/120\n",
      "313/313 [==============================] - 2s 7ms/step - loss: 0.0728 - acc: 0.9775 - val_loss: 0.1516 - val_acc: 0.9580\n",
      "Epoch 70/120\n",
      "313/313 [==============================] - 2s 7ms/step - loss: 0.0698 - acc: 0.9771 - val_loss: 0.1293 - val_acc: 0.9640\n",
      "Epoch 71/120\n",
      "313/313 [==============================] - 2s 7ms/step - loss: 0.0632 - acc: 0.9783 - val_loss: 0.1291 - val_acc: 0.9590\n",
      "Epoch 72/120\n",
      "313/313 [==============================] - 2s 7ms/step - loss: 0.0620 - acc: 0.9797 - val_loss: 0.1413 - val_acc: 0.9600\n",
      "Epoch 73/120\n",
      "313/313 [==============================] - 3s 8ms/step - loss: 0.0601 - acc: 0.9800 - val_loss: 0.1314 - val_acc: 0.9620\n",
      "Epoch 74/120\n",
      "313/313 [==============================] - 2s 7ms/step - loss: 0.0574 - acc: 0.9813 - val_loss: 0.1379 - val_acc: 0.9580\n",
      "Epoch 75/120\n",
      "313/313 [==============================] - 3s 8ms/step - loss: 0.0600 - acc: 0.9804 - val_loss: 0.1349 - val_acc: 0.9550\n",
      "Epoch 76/120\n",
      "313/313 [==============================] - 2s 7ms/step - loss: 0.0582 - acc: 0.9820 - val_loss: 0.1283 - val_acc: 0.9590\n",
      "Epoch 77/120\n",
      "313/313 [==============================] - 2s 7ms/step - loss: 0.0614 - acc: 0.9817 - val_loss: 0.1315 - val_acc: 0.9620\n",
      "Epoch 78/120\n",
      "313/313 [==============================] - 2s 7ms/step - loss: 0.0553 - acc: 0.9819 - val_loss: 0.1467 - val_acc: 0.9580\n",
      "Epoch 79/120\n",
      "313/313 [==============================] - 2s 7ms/step - loss: 0.0496 - acc: 0.9850 - val_loss: 0.1292 - val_acc: 0.9670\n",
      "Epoch 80/120\n",
      "313/313 [==============================] - 2s 7ms/step - loss: 0.0539 - acc: 0.9826 - val_loss: 0.1345 - val_acc: 0.9590\n",
      "Epoch 81/120\n",
      "313/313 [==============================] - 2s 7ms/step - loss: 0.0439 - acc: 0.9862 - val_loss: 0.1713 - val_acc: 0.9590\n",
      "Epoch 82/120\n",
      "313/313 [==============================] - 3s 8ms/step - loss: 0.0446 - acc: 0.9860 - val_loss: 0.1410 - val_acc: 0.9640\n",
      "Epoch 83/120\n",
      "313/313 [==============================] - 2s 7ms/step - loss: 0.0486 - acc: 0.9847 - val_loss: 0.1516 - val_acc: 0.9580\n",
      "Epoch 84/120\n",
      "313/313 [==============================] - 2s 7ms/step - loss: 0.0482 - acc: 0.9852 - val_loss: 0.1369 - val_acc: 0.9600\n",
      "Epoch 85/120\n",
      "313/313 [==============================] - 2s 7ms/step - loss: 0.0419 - acc: 0.9859 - val_loss: 0.1378 - val_acc: 0.9680\n",
      "Epoch 86/120\n",
      "313/313 [==============================] - 2s 7ms/step - loss: 0.0441 - acc: 0.9861 - val_loss: 0.1410 - val_acc: 0.9650\n",
      "Epoch 87/120\n",
      "313/313 [==============================] - 2s 7ms/step - loss: 0.0462 - acc: 0.9866 - val_loss: 0.1540 - val_acc: 0.9630\n",
      "Epoch 88/120\n",
      "313/313 [==============================] - 2s 7ms/step - loss: 0.0466 - acc: 0.9857 - val_loss: 0.1421 - val_acc: 0.9640\n",
      "Epoch 89/120\n",
      "313/313 [==============================] - 3s 8ms/step - loss: 0.0442 - acc: 0.9872 - val_loss: 0.1181 - val_acc: 0.9690\n",
      "Epoch 90/120\n",
      "313/313 [==============================] - 2s 7ms/step - loss: 0.0411 - acc: 0.9876 - val_loss: 0.1294 - val_acc: 0.9710\n",
      "Epoch 91/120\n",
      "313/313 [==============================] - 2s 7ms/step - loss: 0.0392 - acc: 0.9871 - val_loss: 0.1353 - val_acc: 0.9640\n",
      "Epoch 92/120\n",
      "313/313 [==============================] - 2s 7ms/step - loss: 0.0411 - acc: 0.9882 - val_loss: 0.1391 - val_acc: 0.9630\n",
      "Epoch 93/120\n",
      "313/313 [==============================] - 2s 7ms/step - loss: 0.0390 - acc: 0.9885 - val_loss: 0.1354 - val_acc: 0.9580\n",
      "Epoch 94/120\n",
      "313/313 [==============================] - 2s 7ms/step - loss: 0.0437 - acc: 0.9877 - val_loss: 0.1284 - val_acc: 0.9650\n",
      "Epoch 95/120\n",
      "313/313 [==============================] - 2s 8ms/step - loss: 0.0330 - acc: 0.9901 - val_loss: 0.1230 - val_acc: 0.9680\n",
      "Epoch 96/120\n",
      "313/313 [==============================] - 2s 8ms/step - loss: 0.0370 - acc: 0.9887 - val_loss: 0.1171 - val_acc: 0.9730\n",
      "Epoch 97/120\n",
      "313/313 [==============================] - 2s 8ms/step - loss: 0.0326 - acc: 0.9908 - val_loss: 0.1609 - val_acc: 0.9610\n",
      "Epoch 98/120\n",
      "313/313 [==============================] - 2s 7ms/step - loss: 0.0334 - acc: 0.9895 - val_loss: 0.1142 - val_acc: 0.9690\n",
      "Epoch 99/120\n",
      "313/313 [==============================] - 2s 7ms/step - loss: 0.0324 - acc: 0.9917 - val_loss: 0.1333 - val_acc: 0.9690\n",
      "Epoch 100/120\n",
      "313/313 [==============================] - 2s 7ms/step - loss: 0.0337 - acc: 0.9895 - val_loss: 0.1737 - val_acc: 0.9560\n",
      "Epoch 101/120\n",
      "313/313 [==============================] - 2s 7ms/step - loss: 0.0288 - acc: 0.9917 - val_loss: 0.1611 - val_acc: 0.9640\n",
      "Epoch 102/120\n",
      "313/313 [==============================] - 2s 8ms/step - loss: 0.0380 - acc: 0.9899 - val_loss: 0.1367 - val_acc: 0.9650\n",
      "Epoch 103/120\n",
      "313/313 [==============================] - 2s 8ms/step - loss: 0.0344 - acc: 0.9899 - val_loss: 0.1233 - val_acc: 0.9660\n",
      "Epoch 104/120\n",
      "313/313 [==============================] - 2s 7ms/step - loss: 0.0337 - acc: 0.9910 - val_loss: 0.1223 - val_acc: 0.9720\n",
      "Epoch 105/120\n",
      "313/313 [==============================] - 2s 7ms/step - loss: 0.0336 - acc: 0.9909 - val_loss: 0.1288 - val_acc: 0.9680\n",
      "Epoch 106/120\n",
      "313/313 [==============================] - 2s 7ms/step - loss: 0.0303 - acc: 0.9916 - val_loss: 0.1190 - val_acc: 0.9720\n",
      "Epoch 107/120\n",
      "313/313 [==============================] - 2s 7ms/step - loss: 0.0239 - acc: 0.9925 - val_loss: 0.1338 - val_acc: 0.9700\n",
      "Epoch 108/120\n",
      "313/313 [==============================] - 2s 7ms/step - loss: 0.0290 - acc: 0.9924 - val_loss: 0.1203 - val_acc: 0.9700\n",
      "Epoch 109/120\n",
      "313/313 [==============================] - 2s 8ms/step - loss: 0.0264 - acc: 0.9920 - val_loss: 0.1368 - val_acc: 0.9680\n",
      "Epoch 110/120\n",
      "313/313 [==============================] - 3s 8ms/step - loss: 0.0315 - acc: 0.9920 - val_loss: 0.1284 - val_acc: 0.9700\n",
      "Epoch 111/120\n",
      "313/313 [==============================] - 2s 7ms/step - loss: 0.0313 - acc: 0.9914 - val_loss: 0.1267 - val_acc: 0.9720\n",
      "Epoch 112/120\n",
      "313/313 [==============================] - 2s 8ms/step - loss: 0.0272 - acc: 0.9931 - val_loss: 0.1472 - val_acc: 0.9660\n",
      "Epoch 113/120\n",
      "313/313 [==============================] - 2s 7ms/step - loss: 0.0236 - acc: 0.9921 - val_loss: 0.1340 - val_acc: 0.9650\n",
      "Epoch 114/120\n",
      "313/313 [==============================] - 2s 7ms/step - loss: 0.0276 - acc: 0.9917 - val_loss: 0.1475 - val_acc: 0.9710\n",
      "Epoch 115/120\n",
      "313/313 [==============================] - 2s 7ms/step - loss: 0.0274 - acc: 0.9930 - val_loss: 0.1333 - val_acc: 0.9690\n",
      "Epoch 116/120\n",
      "313/313 [==============================] - 2s 8ms/step - loss: 0.0253 - acc: 0.9932 - val_loss: 0.1329 - val_acc: 0.9660\n",
      "Epoch 117/120\n",
      "313/313 [==============================] - 2s 8ms/step - loss: 0.0277 - acc: 0.9928 - val_loss: 0.1208 - val_acc: 0.9680\n",
      "Epoch 118/120\n",
      "313/313 [==============================] - 2s 8ms/step - loss: 0.0295 - acc: 0.9916 - val_loss: 0.1544 - val_acc: 0.9640\n",
      "Epoch 119/120\n",
      "313/313 [==============================] - 2s 8ms/step - loss: 0.0280 - acc: 0.9924 - val_loss: 0.1452 - val_acc: 0.9650\n",
      "Epoch 120/120\n",
      "313/313 [==============================] - 2s 7ms/step - loss: 0.0269 - acc: 0.9926 - val_loss: 0.1273 - val_acc: 0.9670\n"
     ]
    }
   ],
   "source": [
    "model = Model([input_sequence, question], answer)\n",
    "model.compile(optimizer='rmsprop', loss='categorical_crossentropy',\n",
    "              metrics=['acc'])\n",
    "\n",
    "print(model.summary())\n",
    "\n",
    "history = model.fit([Xstrain, Xqtrain],\n",
    "         Ytrain, batch_size, train_epochs,\n",
    "         validation_data=([Xstest, Xqtest], Ytest))\n",
    "\n",
    "model.save('model.h5')"
   ]
  },
  {
   "cell_type": "code",
   "execution_count": 46,
   "id": "599daee0-bb65-486a-bced-7cddcc70bb6c",
   "metadata": {},
   "outputs": [
    {
     "name": "stdout",
     "output_type": "stream",
     "text": [
      "32/32 [==============================] - 0s 4ms/step - loss: 0.1273 - acc: 0.9670\n",
      "\n",
      " 테스트 정확도: 0.9670\n"
     ]
    }
   ],
   "source": [
    "print(\"\\n 테스트 정확도: %.4f\" % (model.evaluate([Xstest, Xqtest], Ytest)[1]))"
   ]
  },
  {
   "cell_type": "code",
   "execution_count": 47,
   "id": "86a96d49-d6de-463f-bb6e-6096c5f5f7c6",
   "metadata": {},
   "outputs": [
    {
     "data": {
      "image/png": "[encoded data removed]",
      "text/plain": [
       "<Figure size 432x288 with 2 Axes>"
      ]
     },
     "metadata": {
      "needs_background": "light"
     },
     "output_type": "display_data"
    }
   ],
   "source": [
    "plt.subplot(211)\n",
    "plt.title(\"Accuracy\")\n",
    "plt.plot(history.history[\"acc\"], color=\"g\", label=\"train\")\n",
    "plt.plot(history.history[\"val_acc\"], color=\"b\", label=\"validation\")\n",
    "plt.legend(loc=\"best\")\n",
    "\n",
    "plt.subplot(212)\n",
    "plt.title(\"Loss\")\n",
    "plt.plot(history.history[\"loss\"], color=\"g\", label=\"train\")\n",
    "plt.plot(history.history[\"val_loss\"], color=\"b\", label=\"validation\")\n",
    "plt.legend(loc=\"best\")\n",
    "\n",
    "plt.tight_layout()\n",
    "plt.show()\n",
    "\n",
    "ytest = np.argmax(Ytest, axis=1)\n",
    "\n",
    "Ytest_ = model.predict([Xstest, Xqtest])\n",
    "ytest_ = np.argmax(Ytest_, axis=1)"
   ]
  },
  {
   "cell_type": "code",
   "execution_count": null,
   "id": "478e6a82-fbf7-43b7-8b26-c7be7f9a6ccd",
   "metadata": {},
   "outputs": [],
   "source": []
  }
 ],
 "metadata": {
  "kernelspec": {
   "display_name": "Python 3 (ipykernel)",
   "language": "python",
   "name": "python3"
  },
  "language_info": {
   "codemirror_mode": {
    "name": "ipython",
    "version": 3
   },
   "file_extension": ".py",
   "mimetype": "text/x-python",
   "name": "python",
   "nbconvert_exporter": "python",
   "pygments_lexer": "ipython3",
   "version": "3.8.12"
  }
 },
 "nbformat": 4,
 "nbformat_minor": 5
}
