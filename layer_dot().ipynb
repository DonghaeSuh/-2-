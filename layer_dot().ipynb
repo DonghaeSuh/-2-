{
  "nbformat": 4,
  "nbformat_minor": 0,
  "metadata": {
    "colab": {
      "name": "layer.dot().ipynb",
      "provenance": [],
      "collapsed_sections": [],
      "authorship_tag": "ABX9TyNJHlGTX67BPM1chSKbU71s",
      "include_colab_link": true
    },
    "kernelspec": {
      "name": "python3",
      "display_name": "Python 3"
    },
    "language_info": {
      "name": "python"
    }
  },
  "cells": [
    {
      "cell_type": "markdown",
      "metadata": {
        "id": "view-in-github",
        "colab_type": "text"
      },
      "source": [
        "<a href=\"https://colab.research.google.com/github/DonghaeSuh/NLP_tensorflow2/blob/main/layer_dot().ipynb\" target=\"_parent\"><img src=\"https://colab.research.google.com/assets/colab-badge.svg\" alt=\"Open In Colab\"/></a>"
      ]
    },
    {
      "cell_type": "code",
      "source": [
        "from tensorflow.keras.layers import dot"
      ],
      "metadata": {
        "id": "8p1wz14nf2AH"
      },
      "execution_count": 1,
      "outputs": []
    },
    {
      "cell_type": "code",
      "source": [
        "import numpy as np"
      ],
      "metadata": {
        "id": "gBiEcV32e7fN"
      },
      "execution_count": 2,
      "outputs": []
    },
    {
      "cell_type": "code",
      "source": [
        "a=np.arange(2*3*5).reshape(2,3,5)\n",
        "b=np.arange(2*1*5).reshape(2,1,5)"
      ],
      "metadata": {
        "id": "kVBZ9pEJe-uU"
      },
      "execution_count": 3,
      "outputs": []
    },
    {
      "cell_type": "code",
      "source": [
        "print(a)\n",
        "print(b)"
      ],
      "metadata": {
        "id": "v-gdCNL8gFPo",
        "outputId": "12cf2d5e-e55c-46af-a787-78782c1471af",
        "colab": {
          "base_uri": "https://localhost:8080/"
        }
      },
      "execution_count": 4,
      "outputs": [
        {
          "output_type": "stream",
          "name": "stdout",
          "text": [
            "[[[ 0  1  2  3  4]\n",
            "  [ 5  6  7  8  9]\n",
            "  [10 11 12 13 14]]\n",
            "\n",
            " [[15 16 17 18 19]\n",
            "  [20 21 22 23 24]\n",
            "  [25 26 27 28 29]]]\n",
            "[[[0 1 2 3 4]]\n",
            "\n",
            " [[5 6 7 8 9]]]\n"
          ]
        }
      ]
    },
    {
      "cell_type": "code",
      "source": [
        "c=dot([a,b],axes=-1)\n",
        "print(c)"
      ],
      "metadata": {
        "id": "IZLwfhlCfVQ2",
        "outputId": "20ec7cd1-5848-4f6f-92fd-f85d2d059fe7",
        "colab": {
          "base_uri": "https://localhost:8080/"
        }
      },
      "execution_count": 5,
      "outputs": [
        {
          "output_type": "stream",
          "name": "stdout",
          "text": [
            "tf.Tensor(\n",
            "[[[ 30]\n",
            "  [ 80]\n",
            "  [130]]\n",
            "\n",
            " [[605]\n",
            "  [780]\n",
            "  [955]]], shape=(2, 3, 1), dtype=int64)\n"
          ]
        }
      ]
    },
    {
      "cell_type": "code",
      "source": [
        "x = np.arange(10).reshape(1, 5, 2)\n",
        "print(x)\n",
        "\n",
        "y = np.arange(10, 20).reshape(1, 2, 5)\n",
        "print(y)\n",
        "\n",
        "c=dot([x, y],axes=(1, 2))\n",
        "print(c)"
      ],
      "metadata": {
        "id": "lTntatRy_QDw",
        "outputId": "5467d8d1-61f7-439b-f19e-106ba9188709",
        "colab": {
          "base_uri": "https://localhost:8080/"
        }
      },
      "execution_count": 6,
      "outputs": [
        {
          "output_type": "stream",
          "name": "stdout",
          "text": [
            "[[[0 1]\n",
            "  [2 3]\n",
            "  [4 5]\n",
            "  [6 7]\n",
            "  [8 9]]]\n",
            "[[[10 11 12 13 14]\n",
            "  [15 16 17 18 19]]]\n",
            "tf.Tensor(\n",
            "[[[260 360]\n",
            "  [320 445]]], shape=(1, 2, 2), dtype=int64)\n"
          ]
        }
      ]
    },
    {
      "cell_type": "code",
      "source": [
        "x = np.arange(10).reshape(1, 5, 2)\n",
        "print(x)\n",
        "\n",
        "y = np.arange(10, 20).reshape(1, 2, 5)\n",
        "print(y)\n",
        "\n",
        "c=dot([x, y],axes=(1,2))\n",
        "print(c)"
      ],
      "metadata": {
        "id": "bdJRJrTa_csj",
        "outputId": "e5b5351f-81d2-459c-bbcb-3f42a5180064",
        "colab": {
          "base_uri": "https://localhost:8080/"
        }
      },
      "execution_count": 7,
      "outputs": [
        {
          "output_type": "stream",
          "name": "stdout",
          "text": [
            "[[[0 1]\n",
            "  [2 3]\n",
            "  [4 5]\n",
            "  [6 7]\n",
            "  [8 9]]]\n",
            "[[[10 11 12 13 14]\n",
            "  [15 16 17 18 19]]]\n",
            "tf.Tensor(\n",
            "[[[260 360]\n",
            "  [320 445]]], shape=(1, 2, 2), dtype=int64)\n"
          ]
        }
      ]
    },
    {
      "cell_type": "code",
      "source": [
        "x = np.arange(10).reshape(1, 5, 2)\n",
        "print(x)\n",
        "\n",
        "y = np.arange(10, 20).reshape(1, 2, 5)\n",
        "print(y)\n",
        "\n",
        "c=dot([x, y],axes=(2,1))\n",
        "print(c)"
      ],
      "metadata": {
        "id": "rtohx_B2A6Y5",
        "outputId": "d332af61-25f4-48d2-970c-2d9a242402bb",
        "colab": {
          "base_uri": "https://localhost:8080/"
        }
      },
      "execution_count": 8,
      "outputs": [
        {
          "output_type": "stream",
          "name": "stdout",
          "text": [
            "[[[0 1]\n",
            "  [2 3]\n",
            "  [4 5]\n",
            "  [6 7]\n",
            "  [8 9]]]\n",
            "[[[10 11 12 13 14]\n",
            "  [15 16 17 18 19]]]\n",
            "tf.Tensor(\n",
            "[[[ 15  16  17  18  19]\n",
            "  [ 65  70  75  80  85]\n",
            "  [115 124 133 142 151]\n",
            "  [165 178 191 204 217]\n",
            "  [215 232 249 266 283]]], shape=(1, 5, 5), dtype=int64)\n"
          ]
        }
      ]
    }
  ]
}