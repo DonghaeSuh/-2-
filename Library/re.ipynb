{
 "cells": [
  {
   "cell_type": "code",
   "execution_count": 1,
   "id": "7ec6af5a-b595-4c47-ae5e-3ebb99de205c",
   "metadata": {},
   "outputs": [],
   "source": [
    "import re"
   ]
  },
  {
   "cell_type": "markdown",
   "id": "197a1d88-28a8-449f-b591-cec902711a29",
   "metadata": {},
   "source": [
    "compile 함수는 정규식을 패턴으로 만들어준다."
   ]
  },
  {
   "cell_type": "code",
   "execution_count": 18,
   "id": "d91ff5a0-ed54-48ba-abb4-ee3b3fc2ccc2",
   "metadata": {},
   "outputs": [],
   "source": [
    "pattern = '(\\w+)' # 한 개 이상의 알파벳 또는 숫자\n",
    "re_pattern = re.compile(pattern)"
   ]
  },
  {
   "cell_type": "code",
   "execution_count": 19,
   "id": "4467e69c-e972-4ac5-96ac-b8c9b88933fc",
   "metadata": {},
   "outputs": [
    {
     "data": {
      "text/plain": [
       "<re.Match object; span=(0, 3), match='wow'>"
      ]
     },
     "execution_count": 19,
     "metadata": {},
     "output_type": "execute_result"
    }
   ],
   "source": [
    "re_pattern.search(\"wow, it is awesome\" )\n",
    "#re.search( \"(\\w+)\", \"wow, it is awesome\" )"
   ]
  },
  {
   "cell_type": "code",
   "execution_count": 32,
   "id": "29431006-13a3-41ea-acee-24fadc14ebec",
   "metadata": {},
   "outputs": [
    {
     "data": {
      "text/plain": [
       "['wow', '', 'it', 'is', 'world', 'of', 'word']"
      ]
     },
     "execution_count": 32,
     "metadata": {},
     "output_type": "execute_result"
    }
   ],
   "source": [
    "re.split(\"\\W\", \"wow, it is world of word\")"
   ]
  },
  {
   "cell_type": "code",
   "execution_count": 22,
   "id": "538b06d0-b776-44e3-a1d5-0d94df7c8f44",
   "metadata": {},
   "outputs": [
    {
     "data": {
      "text/plain": [
       "'number candy'"
      ]
     },
     "execution_count": 22,
     "metadata": {},
     "output_type": "execute_result"
    }
   ],
   "source": [
    "re.sub(\"\\d\", \"number\", \"7 candy\" )"
   ]
  }
 ],
 "metadata": {
  "kernelspec": {
   "display_name": "Python 3 (ipykernel)",
   "language": "python",
   "name": "python3"
  },
  "language_info": {
   "codemirror_mode": {
    "name": "ipython",
    "version": 3
   },
   "file_extension": ".py",
   "mimetype": "text/x-python",
   "name": "python",
   "nbconvert_exporter": "python",
   "pygments_lexer": "ipython3",
   "version": "3.8.12"
  }
 },
 "nbformat": 4,
 "nbformat_minor": 5
}
