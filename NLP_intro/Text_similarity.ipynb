{
 "cells": [
  {
   "cell_type": "code",
   "execution_count": 1,
   "id": "d4975e2e-3688-4dd0-bae6-bc0bdeef1c51",
   "metadata": {},
   "outputs": [],
   "source": [
    "import numpy as np"
   ]
  },
  {
   "cell_type": "code",
   "execution_count": 17,
   "id": "cd4be0b6-2ef1-4d4a-9740-5eae4b121f2f",
   "metadata": {},
   "outputs": [
    {
     "name": "stdout",
     "output_type": "stream",
     "text": [
      "[[0.         0.3160305  0.         0.         0.3160305  0.3160305\n",
      "  0.3160305  0.3160305  0.3160305  0.3160305  0.         0.\n",
      "  0.3160305  0.3160305  0.2248583  0.         0.         0.2248583 ]\n",
      " [0.35327777 0.         0.35327777 0.35327777 0.         0.\n",
      "  0.         0.         0.         0.         0.35327777 0.35327777\n",
      "  0.         0.         0.25136004 0.35327777 0.35327777 0.25136004]]\n",
      "\n",
      "[('갑작스런', 0), ('내일', 1), ('놀러왔다가', 2), ('망연자실', 3), ('반가운', 4), ('서쪽', 5), ('소식', 6), ('오늘', 7), ('으로', 8), ('이어졌는데요', 9), ('인해', 10), ('있습니', 11), ('있습니다', 12), ('중심', 13), ('폭염', 14), ('피해서', 15), ('하고', 16), ('휴일', 17)]\n",
      "\n",
      "{'갑작스런': 1.4054651081081644, '내일': 1.4054651081081644, '놀러왔다가': 1.4054651081081644, '망연자실': 1.4054651081081644, '반가운': 1.4054651081081644, '서쪽': 1.4054651081081644, '소식': 1.4054651081081644, '오늘': 1.4054651081081644, '으로': 1.4054651081081644, '이어졌는데요': 1.4054651081081644, '인해': 1.4054651081081644, '있습니': 1.4054651081081644, '있습니다': 1.4054651081081644, '중심': 1.4054651081081644, '폭염': 1.0, '피해서': 1.4054651081081644, '하고': 1.4054651081081644, '휴일': 1.0}\n"
     ]
    }
   ],
   "source": [
    "from sklearn.feature_extraction.text import TfidfVectorizer\n",
    "\n",
    "sent = (\"휴일 인 오늘 도 서쪽 을 중심 으로 폭염 이 이어졌는데요, 내일 은 반가운 비 소식 이 있습니다.\"\\\n",
    "        , \"폭염 을 피해서 휴일 에 놀러왔다가 갑작스런 비 로 인해 망연자실 하고 있습니 다.\") \n",
    "tfidf_vectorizer = TfidfVectorizer()\n",
    "tfidf_matrix = tfidf_vectorizer.fit_transform(sent) #문장 벡터화 진행\n",
    "\n",
    "print(tfidf_matrix.toarray())\n",
    "print()\n",
    "print(sorted(tfidf_vectorizer.vocabulary_.items())) # 사전을 key별로 정렬(0부터 17까지 단어)\n",
    "print()\n",
    "idf = tfidf_vectorizer.idf_ # 각 단어의 idf값을 array로 저장\n",
    "print(dict(zip(tfidf_vectorizer.get_feature_names_out(), idf))) \n",
    "# 각 단어의 이름과 그에 해당하는 idf 값을 튜플형태로 짝지어서 저장하고 사전 형태로 변환 (zip() 이용)"
   ]
  },
  {
   "cell_type": "markdown",
   "id": "1c1f1c41-b51c-402d-a739-b8e7bd02e9a8",
   "metadata": {},
   "source": [
    "## 자카드 유사도"
   ]
  },
  {
   "cell_type": "code",
   "execution_count": 26,
   "id": "5977a368-4cf0-456d-8bae-1143a73fee1e",
   "metadata": {},
   "outputs": [
    {
     "name": "stdout",
     "output_type": "stream",
     "text": [
      "합집합 =  {'비', '갑작스런', '망연자실', '은', '있습니다.', '내일', '폭염', '이어졌는데요,', '에', '오늘', '인해', '피해서', '도', '휴일', '하고', '을', '로', '서쪽', '으로', '이', '놀러왔다가', '소식', '인', '반가운', '중심'}\n",
      "교집합 =  {'휴일', '비', '을', '있습니다.', '폭염'}\n",
      "자카드 유사도 =  0.2\n"
     ]
    }
   ],
   "source": [
    "sent = (\"휴일 인 오늘 도 서쪽 을 중심 으로 폭염 이 이어졌는데요, 내일 은 반가운 비 소식 이 있습니다.\", \n",
    "        \"폭염 을 피해서 휴일 에 놀러왔다가 갑작스런 비 로 인해 망연자실 하고 있습니다.\") \n",
    "        \n",
    "tokenized_doc1 = set(sent[0].split(' '))\n",
    "tokenized_doc2 = set(sent[1].split(' '))\n",
    "\n",
    "union =tokenized_doc1.union(tokenized_doc2)\n",
    "print(\"합집합 = \", union)\n",
    "\n",
    "intersection = tokenized_doc1.intersection(tokenized_doc2)\n",
    "print(\"교집합 = \", intersection)\n",
    "\n",
    "jaccardScore = len(intersection)/len(union)\n",
    "\n",
    "print(\"자카드 유사도 = \", jaccardScore)"
   ]
  },
  {
   "cell_type": "markdown",
   "id": "4b4fa6ca-e5af-4778-ab01-21c35b7cf77b",
   "metadata": {
    "tags": []
   },
   "source": [
    "## 코사인 유사도"
   ]
  },
  {
   "cell_type": "code",
   "execution_count": 30,
   "id": "0af9b6ae-a159-4108-a48d-7781f9c3d857",
   "metadata": {},
   "outputs": [
    {
     "data": {
      "text/plain": [
       "array([[0.11304078]])"
      ]
     },
     "execution_count": 30,
     "metadata": {},
     "output_type": "execute_result"
    }
   ],
   "source": [
    "from sklearn.metrics.pairwise import cosine_similarity\n",
    "\n",
    "cosine_similarity(tfidf_matrix[0], tfidf_matrix[1]) #첫번째 행과 둘째 행간의 유사도 "
   ]
  },
  {
   "cell_type": "markdown",
   "id": "b93fd0be-a313-445f-be78-34921ca145d0",
   "metadata": {},
   "source": [
    "## 유클리디안 유사도"
   ]
  },
  {
   "cell_type": "code",
   "execution_count": 31,
   "id": "384f8e87-70f0-4bdc-8ab2-45576b0a065e",
   "metadata": {},
   "outputs": [
    {
     "data": {
      "text/plain": [
       "array([[1.33188529]])"
      ]
     },
     "execution_count": 31,
     "metadata": {},
     "output_type": "execute_result"
    }
   ],
   "source": [
    "from sklearn.metrics.pairwise import euclidean_distances\n",
    "\n",
    "euclidean_distances(tfidf_matrix[0], tfidf_matrix[1])"
   ]
  },
  {
   "cell_type": "code",
   "execution_count": 32,
   "id": "b97f86c1-3384-4d27-aaa1-4720fd092a9d",
   "metadata": {},
   "outputs": [
    {
     "data": {
      "text/plain": [
       "array([[0.21243357]])"
      ]
     },
     "execution_count": 32,
     "metadata": {},
     "output_type": "execute_result"
    }
   ],
   "source": [
    "from sklearn.metrics.pairwise import euclidean_distances\n",
    "\n",
    "euclidean_distances(tfidf_matrix[0], tfidf_matrix[1])\n",
    "\n",
    "\n",
    "import numpy as np\n",
    "\n",
    "def l1_normalize(v):\n",
    "    norm = np.sum(v)\n",
    "    return v / norm\n",
    "\n",
    "tfidf_norm_l1 = l1_normalize(tfidf_matrix)\n",
    "euclidean_distances(tfidf_norm_l1[0], tfidf_norm_l1[1])"
   ]
  },
  {
   "cell_type": "code",
   "execution_count": 41,
   "id": "59f9ac92-5a73-415b-bcb7-0613cf487dae",
   "metadata": {},
   "outputs": [
    {
     "name": "stdout",
     "output_type": "stream",
     "text": [
      "[[1 2]\n",
      " [3 4]]\n"
     ]
    }
   ],
   "source": [
    "a= np.array([[1,2],[3,4]])\n",
    "print(a)"
   ]
  },
  {
   "cell_type": "code",
   "execution_count": 43,
   "id": "28c17b3f-b049-495e-9712-964899e476b3",
   "metadata": {},
   "outputs": [
    {
     "name": "stdout",
     "output_type": "stream",
     "text": [
      "[[0.1 0.2]\n",
      " [0.3 0.4]]\n"
     ]
    }
   ],
   "source": [
    "b= np.sum(a)\n",
    "print(a/b)"
   ]
  },
  {
   "cell_type": "markdown",
   "id": "0bd6e4e4-277f-4c7a-a4c3-9a3cbde33eae",
   "metadata": {},
   "source": [
    "## 맨해튼 유사도"
   ]
  },
  {
   "cell_type": "code",
   "execution_count": 44,
   "id": "3e91c2e0-dc31-4402-bb40-30243ba8f4cc",
   "metadata": {},
   "outputs": [
    {
     "data": {
      "text/plain": [
       "array([[0.85654185]])"
      ]
     },
     "execution_count": 44,
     "metadata": {},
     "output_type": "execute_result"
    }
   ],
   "source": [
    "from sklearn.metrics.pairwise import manhattan_distances\n",
    "\n",
    "manhattan_distances(tfidf_norm_l1[0], tfidf_norm_l1[1])"
   ]
  },
  {
   "cell_type": "code",
   "execution_count": null,
   "id": "411d7cb4-c6d3-435f-a7d9-557d53be60f9",
   "metadata": {},
   "outputs": [],
   "source": []
  }
 ],
 "metadata": {
  "kernelspec": {
   "display_name": "Python 3 (ipykernel)",
   "language": "python",
   "name": "python3"
  },
  "language_info": {
   "codemirror_mode": {
    "name": "ipython",
    "version": 3
   },
   "file_extension": ".py",
   "mimetype": "text/x-python",
   "name": "python",
   "nbconvert_exporter": "python",
   "pygments_lexer": "ipython3",
   "version": "3.8.12"
  }
 },
 "nbformat": 4,
 "nbformat_minor": 5
}
