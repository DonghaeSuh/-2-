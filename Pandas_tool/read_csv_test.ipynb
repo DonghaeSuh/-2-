{
 "cells": [
  {
   "cell_type": "code",
   "execution_count": 12,
   "id": "0b551906-377b-443d-ad94-607de5c8c5a4",
   "metadata": {},
   "outputs": [
    {
     "name": "stdout",
     "output_type": "stream",
     "text": [
      "   c0  c1  c2  c3\n",
      "0   0   1   4   7\n",
      "1   1   2   5   8\n",
      "2   2   3   6   9\n"
     ]
    }
   ],
   "source": [
    "import pandas as pd\n",
    "\n",
    "df = pd.DataFrame({'c0':[0,1,2],'c1':[1,2,3],'c2':[4,5,6],'c3':[7,8,9]})\n",
    "df.to_csv(\"test.csv\", index=False)\n",
    "print(df)"
   ]
  },
  {
   "cell_type": "code",
   "execution_count": 13,
   "id": "31159f68-51eb-4c65-9004-a07afa25d673",
   "metadata": {},
   "outputs": [
    {
     "name": "stdout",
     "output_type": "stream",
     "text": [
      "   c0  c1  c2  c3\n",
      "0   0   1   4   7\n",
      "1   1   2   5   8\n",
      "2   2   3   6   9\n"
     ]
    }
   ],
   "source": [
    "df1 = pd.read_csv(\"test.csv\")\n",
    "print(df1)"
   ]
  },
  {
   "cell_type": "markdown",
   "id": "c4f4b525-811f-4e3d-b550-5bdfe98bc58b",
   "metadata": {},
   "source": [
    "## delimiter"
   ]
  },
  {
   "cell_type": "code",
   "execution_count": 15,
   "id": "0f52a9f5-5fb2-485b-a2b2-502d0fbb02a4",
   "metadata": {},
   "outputs": [
    {
     "name": "stdout",
     "output_type": "stream",
     "text": [
      "   c0  c1  c2  c3\n",
      "0   0   1   4   7\n",
      "1   1   2   5   8\n",
      "2   2   3   6   9\n"
     ]
    }
   ],
   "source": [
    "df1 = pd.read_csv(\"test.csv\",delimiter=\",\")\n",
    "print(df1)"
   ]
  },
  {
   "cell_type": "code",
   "execution_count": 19,
   "id": "1b0a153c-e472-4f3d-ab8e-7556b33094ad",
   "metadata": {},
   "outputs": [
    {
     "name": "stdout",
     "output_type": "stream",
     "text": [
      "  c0,c1,c2,c3\n",
      "0     0,1,4,7\n",
      "1     1,2,5,8\n",
      "2     2,3,6,9\n"
     ]
    }
   ],
   "source": [
    "df1 = pd.read_csv(\"test.csv\",delimiter=\"\\t\")\n",
    "print(df1)"
   ]
  },
  {
   "cell_type": "code",
   "execution_count": 20,
   "id": "5d3dd916-8837-4045-b537-987d948f9ef0",
   "metadata": {},
   "outputs": [
    {
     "name": "stdout",
     "output_type": "stream",
     "text": [
      "   c0  c1  c2  c3\n",
      "0   0   1   4   7\n",
      "1   1   2   5   8\n",
      "2   2   3   6   9\n"
     ]
    }
   ],
   "source": [
    "df1 = pd.read_csv(\"test2.csv\",delimiter=\"\\t\")\n",
    "print(df1)"
   ]
  },
  {
   "cell_type": "markdown",
   "id": "7d204dbe-2d52-4836-9ebe-cee1df1388b7",
   "metadata": {},
   "source": [
    "## index_col"
   ]
  },
  {
   "cell_type": "code",
   "execution_count": 7,
   "id": "df2bc5f3-841a-4c8c-ac00-cd487e4d26a6",
   "metadata": {},
   "outputs": [
    {
     "name": "stdout",
     "output_type": "stream",
     "text": [
      "    c1  c2  c3\n",
      "c0            \n",
      "0    1   4   7\n",
      "1    2   5   8\n",
      "2    3   6   9\n"
     ]
    }
   ],
   "source": [
    "df1 = pd.read_csv(\"test.csv\",index_col='c0')\n",
    "print(df1)"
   ]
  },
  {
   "cell_type": "markdown",
   "id": "867630ca-66dc-4844-9ffc-cdd538b27ce5",
   "metadata": {},
   "source": [
    "## skiprows"
   ]
  },
  {
   "cell_type": "code",
   "execution_count": 8,
   "id": "fa694f54-2939-427a-b248-794fd134332d",
   "metadata": {},
   "outputs": [
    {
     "name": "stdout",
     "output_type": "stream",
     "text": [
      "   0  1  4  7\n",
      "0  1  2  5  8\n",
      "1  2  3  6  9\n"
     ]
    }
   ],
   "source": [
    "df1 = pd.read_csv(\"test.csv\",skiprows=1)\n",
    "print(df1)"
   ]
  },
  {
   "cell_type": "markdown",
   "id": "9c96904e-fa13-462f-8b25-fe1425cd0c60",
   "metadata": {},
   "source": [
    "## header"
   ]
  },
  {
   "cell_type": "code",
   "execution_count": 3,
   "id": "9e572df4-5dda-48c2-8504-1a0ac9396e5a",
   "metadata": {},
   "outputs": [
    {
     "name": "stdout",
     "output_type": "stream",
     "text": [
      "    0   1   2   3\n",
      "0  c0  c1  c2  c3\n",
      "1   0   1   4   7\n",
      "2   1   2   5   8\n",
      "3   2   3   6   9\n"
     ]
    }
   ],
   "source": [
    "df2 = pd.read_csv(\"test.csv\",header=None)\n",
    "print(df2)"
   ]
  },
  {
   "cell_type": "code",
   "execution_count": 21,
   "id": "c4a77878-9800-45b3-bdbf-101e3ccae65c",
   "metadata": {},
   "outputs": [
    {
     "name": "stdout",
     "output_type": "stream",
     "text": [
      "   c0  c1  c2  c3\n",
      "0   0   1   4   7\n",
      "1   1   2   5   8\n",
      "2   2   3   6   9\n"
     ]
    }
   ],
   "source": [
    "df2 = pd.read_csv(\"test.csv\")\n",
    "print(df2)"
   ]
  },
  {
   "cell_type": "code",
   "execution_count": 4,
   "id": "87b4d266-2f90-4e4e-940b-a3c1cba2d99e",
   "metadata": {},
   "outputs": [
    {
     "name": "stdout",
     "output_type": "stream",
     "text": [
      "   c0  c1  c2  c3\n",
      "0   0   1   4   7\n",
      "1   1   2   5   8\n",
      "2   2   3   6   9\n"
     ]
    }
   ],
   "source": [
    "df2 = pd.read_csv(\"test.csv\",header=0)\n",
    "print(df2)"
   ]
  },
  {
   "cell_type": "code",
   "execution_count": 6,
   "id": "475055f7-7e67-40b5-b922-07671f638a32",
   "metadata": {},
   "outputs": [
    {
     "name": "stdout",
     "output_type": "stream",
     "text": [
      "   c0  c1  c2  c3\n",
      "0   0   1   4   7\n",
      "1   1   2   5   8\n",
      "2   2   3   6   9\n"
     ]
    }
   ],
   "source": [
    "df2 = pd.read_csv(\"test.csv\",header='infer')\n",
    "print(df2)"
   ]
  },
  {
   "cell_type": "code",
   "execution_count": 5,
   "id": "0e220c53-f409-400e-b10d-70bc36b7cc1d",
   "metadata": {},
   "outputs": [
    {
     "name": "stdout",
     "output_type": "stream",
     "text": [
      "   0  1  4  7\n",
      "0  1  2  5  8\n",
      "1  2  3  6  9\n"
     ]
    }
   ],
   "source": [
    "df2 = pd.read_csv(\"test.csv\",header=1)\n",
    "print(df2)"
   ]
  },
  {
   "cell_type": "markdown",
   "id": "dc21e229-c7cb-48fc-bb7d-0cce48730ecc",
   "metadata": {},
   "source": [
    "## names"
   ]
  },
  {
   "cell_type": "code",
   "execution_count": 22,
   "id": "fee700c6-ccfc-4758-b99c-829bc5f5f622",
   "metadata": {},
   "outputs": [
    {
     "name": "stdout",
     "output_type": "stream",
     "text": [
      "   c0  c1  c2  c3\n",
      "0   0   1   4   7\n",
      "1   1   2   5   8\n",
      "2   2   3   6   9\n"
     ]
    }
   ],
   "source": [
    "df1 = pd.read_csv(\"test.csv\")\n",
    "print(df1)"
   ]
  },
  {
   "cell_type": "code",
   "execution_count": 23,
   "id": "bb4dac14-a7de-4e56-b115-9df30825b884",
   "metadata": {},
   "outputs": [
    {
     "name": "stdout",
     "output_type": "stream",
     "text": [
      "    a   b   c   d\n",
      "0  c0  c1  c2  c3\n",
      "1   0   1   4   7\n",
      "2   1   2   5   8\n",
      "3   2   3   6   9\n"
     ]
    }
   ],
   "source": [
    "df1 = pd.read_csv(\"test.csv\",names=['a','b','c','d'])\n",
    "print(df1)"
   ]
  },
  {
   "cell_type": "markdown",
   "id": "30934cba-3ede-4759-b947-8363e1070bc4",
   "metadata": {},
   "source": [
    "## prefix"
   ]
  },
  {
   "cell_type": "code",
   "execution_count": 24,
   "id": "75934dba-6775-4d4f-8bd4-40b3ee515023",
   "metadata": {},
   "outputs": [
    {
     "name": "stdout",
     "output_type": "stream",
     "text": [
      "   c0  c1  c2  c3\n",
      "0   0   1   4   7\n",
      "1   1   2   5   8\n",
      "2   2   3   6   9\n"
     ]
    }
   ],
   "source": [
    "df1 = pd.read_csv(\"test.csv\")\n",
    "print(df1)"
   ]
  },
  {
   "cell_type": "code",
   "execution_count": 26,
   "id": "7fbb2780-0507-4973-9cbd-9a93877a79e1",
   "metadata": {},
   "outputs": [
    {
     "name": "stdout",
     "output_type": "stream",
     "text": [
      "   V0  V1  V2  V3\n",
      "0  c0  c1  c2  c3\n",
      "1   0   1   4   7\n",
      "2   1   2   5   8\n",
      "3   2   3   6   9\n"
     ]
    },
    {
     "name": "stderr",
     "output_type": "stream",
     "text": [
      "C:\\Users\\gypsi\\AppData\\Local\\Temp/ipykernel_7388/2825443079.py:1: FutureWarning: The prefix argument has been deprecated and will be removed in a future version. Use a list comprehension on the column names in the future.\n",
      "\n",
      "\n",
      "  df1 = pd.read_csv(\"test.csv\",header=None,prefix='V')\n"
     ]
    }
   ],
   "source": [
    "df1 = pd.read_csv(\"test.csv\",header=None,prefix='V')\n",
    "print(df1)"
   ]
  },
  {
   "cell_type": "code",
   "execution_count": 32,
   "id": "2cafd935-3233-4ad4-900e-5db7cc6736eb",
   "metadata": {},
   "outputs": [
    {
     "name": "stdout",
     "output_type": "stream",
     "text": [
      "   V0  V1  V2  V3\n",
      "0  c0  c1  c2  c3\n",
      "1   0   1   4   7\n",
      "2   1   2   5   8\n",
      "3   2   3   6   9\n"
     ]
    }
   ],
   "source": [
    "df1 = pd.read_csv(\"test.csv\",names=[f'V{i}' for i in range(4)])\n",
    "print(df1)"
   ]
  },
  {
   "cell_type": "markdown",
   "id": "1a0b7f03-bdbf-4de5-8ebd-acf888d6ce02",
   "metadata": {},
   "source": [
    "## dtype"
   ]
  },
  {
   "cell_type": "code",
   "execution_count": 33,
   "id": "bc57cf84-2fdd-4c13-8e10-462ffd4a33b9",
   "metadata": {},
   "outputs": [
    {
     "name": "stdout",
     "output_type": "stream",
     "text": [
      "   c0  c1  c2  c3\n",
      "0   0   1   4   7\n",
      "1   1   2   5   8\n",
      "2   2   3   6   9\n"
     ]
    }
   ],
   "source": [
    "df1 = pd.read_csv(\"test.csv\")\n",
    "print(df1)"
   ]
  },
  {
   "cell_type": "code",
   "execution_count": 36,
   "id": "c51b4288-498e-4e99-bb62-f62149c01f1f",
   "metadata": {},
   "outputs": [],
   "source": [
    "import numpy as np"
   ]
  },
  {
   "cell_type": "code",
   "execution_count": 38,
   "id": "7e0f8b9f-a6ca-4b7d-a2ea-85ba45250757",
   "metadata": {},
   "outputs": [
    {
     "name": "stdout",
     "output_type": "stream",
     "text": [
      "    c0   c1   c2   c3\n",
      "0  0.0  1.0  4.0  7.0\n",
      "1  1.0  2.0  5.0  8.0\n",
      "2  2.0  3.0  6.0  9.0\n"
     ]
    }
   ],
   "source": [
    "df1 = pd.read_csv(\"test.csv\",dtype=np.float64)\n",
    "print(df1)"
   ]
  },
  {
   "cell_type": "code",
   "execution_count": 37,
   "id": "c77b1dd1-b288-4b98-98da-8ec7db298752",
   "metadata": {},
   "outputs": [
    {
     "name": "stdout",
     "output_type": "stream",
     "text": [
      "    c0  c1  c2  c3\n",
      "0  0.0   1   4   7\n",
      "1  1.0   2   5   8\n",
      "2  2.0   3   6   9\n"
     ]
    }
   ],
   "source": [
    "df1 = pd.read_csv(\"test.csv\",dtype={'c0':np.float64})\n",
    "print(df1)"
   ]
  },
  {
   "cell_type": "markdown",
   "id": "a0310517-89c9-464f-bdc9-0f013b21c96b",
   "metadata": {},
   "source": [
    "## na_values"
   ]
  },
  {
   "cell_type": "code",
   "execution_count": 39,
   "id": "29f27563-a5ec-4eeb-9d41-520b48f36556",
   "metadata": {},
   "outputs": [
    {
     "name": "stdout",
     "output_type": "stream",
     "text": [
      "   c0  c1  c2  c3\n",
      "0   0   1   4   7\n",
      "1   1   2   5   8\n",
      "2   2   3   6   9\n"
     ]
    }
   ],
   "source": [
    "df1 = pd.read_csv(\"test.csv\")\n",
    "print(df1)"
   ]
  },
  {
   "cell_type": "code",
   "execution_count": 40,
   "id": "5cfb775c-3dd4-44dc-afdd-e8e860ed36c2",
   "metadata": {},
   "outputs": [
    {
     "name": "stdout",
     "output_type": "stream",
     "text": [
      "    c0   c1  c2  c3\n",
      "0  0.0  NaN   4   7\n",
      "1  NaN  2.0   5   8\n",
      "2  2.0  3.0   6   9\n"
     ]
    }
   ],
   "source": [
    "df1 = pd.read_csv(\"test.csv\",na_values='1')\n",
    "print(df1)"
   ]
  },
  {
   "cell_type": "code",
   "execution_count": 45,
   "id": "23f7a155-66fe-42f8-b537-5371071204bc",
   "metadata": {},
   "outputs": [
    {
     "name": "stdout",
     "output_type": "stream",
     "text": [
      "    c0   c1  c2  c3\n",
      "0  0.0  NaN   4   7\n",
      "1  NaN  NaN   5   8\n",
      "2  NaN  3.0   6   9\n"
     ]
    }
   ],
   "source": [
    "df1 = pd.read_csv(\"test.csv\",na_values=['1','2'])\n",
    "print(df1)"
   ]
  },
  {
   "cell_type": "code",
   "execution_count": 46,
   "id": "7a4fed25-aaee-4cc5-9e32-6ef69a3e2bcb",
   "metadata": {},
   "outputs": [
    {
     "name": "stdout",
     "output_type": "stream",
     "text": [
      "<class 'numpy.float64'>\n"
     ]
    }
   ],
   "source": [
    "print(type(df1['c0'][0]))"
   ]
  },
  {
   "cell_type": "markdown",
   "id": "ef9780d8-15b6-46bc-a80d-636232a4ab97",
   "metadata": {},
   "source": [
    "## keep_default_na"
   ]
  },
  {
   "cell_type": "code",
   "execution_count": 47,
   "id": "0ec95eba-41ee-49e2-aef1-81632a903aff",
   "metadata": {},
   "outputs": [
    {
     "name": "stdout",
     "output_type": "stream",
     "text": [
      "    c0   c1  c2  c3\n",
      "0  0.0  NaN   4   7\n",
      "1  NaN  NaN   5   8\n",
      "2  NaN  3.0   6   9\n"
     ]
    }
   ],
   "source": [
    "df1 = pd.read_csv(\"test.csv\",na_values=['1','2'])\n",
    "print(df1)"
   ]
  },
  {
   "cell_type": "code",
   "execution_count": 49,
   "id": "01e022a2-144a-491f-860f-cea85c086754",
   "metadata": {},
   "outputs": [
    {
     "name": "stdout",
     "output_type": "stream",
     "text": [
      "    c0   c1  c2  c3\n",
      "0  0.0  NaN   4   7\n",
      "1  NaN  NaN   5   8\n",
      "2  NaN  3.0   6   9\n"
     ]
    }
   ],
   "source": [
    "df1 = pd.read_csv(\"test.csv\",na_values=['1','2'],keep_default_na=True)\n",
    "print(df1)"
   ]
  },
  {
   "cell_type": "code",
   "execution_count": 53,
   "id": "adcf5b96-7423-4f53-9139-80cd0fbfe768",
   "metadata": {},
   "outputs": [
    {
     "name": "stdout",
     "output_type": "stream",
     "text": [
      "    c0   c1  c2  c3\n",
      "0  0.0  NaN   4   7\n",
      "1  NaN  NaN   5   8\n",
      "2  NaN  3.0   6   9\n"
     ]
    }
   ],
   "source": [
    "df1 = pd.read_csv(\"test.csv\",na_values=['1','2'],keep_default_na=False)\n",
    "print(df1)"
   ]
  },
  {
   "cell_type": "code",
   "execution_count": 55,
   "id": "d8c04f18-d992-497d-8098-fa06e33711c0",
   "metadata": {},
   "outputs": [
    {
     "name": "stdout",
     "output_type": "stream",
     "text": [
      "    c0   c1  c2  c3\n",
      "0  0.0        4   7\n",
      "1             5   8\n",
      "2       3.0   6   9\n"
     ]
    }
   ],
   "source": [
    "df1.to_csv('test3.csv',index=False)\n",
    "df1 = pd.read_csv(\"test3.csv\",keep_default_na=False)\n",
    "print(df1)"
   ]
  },
  {
   "cell_type": "markdown",
   "id": "acf6c7b9-dfe1-4a69-8f1f-b2e764327a68",
   "metadata": {},
   "source": [
    "## na_filter"
   ]
  },
  {
   "cell_type": "code",
   "execution_count": 56,
   "id": "7e13ee52-d1dc-4db2-a43b-7d2cc6dbdbc7",
   "metadata": {},
   "outputs": [
    {
     "name": "stdout",
     "output_type": "stream",
     "text": [
      "   c0  c1  c2  c3\n",
      "0   0   1   4   7\n",
      "1   1   2   5   8\n",
      "2   2   3   6   9\n"
     ]
    }
   ],
   "source": [
    "df1 = pd.read_csv(\"test.csv\")\n",
    "print(df1)"
   ]
  },
  {
   "cell_type": "code",
   "execution_count": 57,
   "id": "c1dd4b6f-3860-4201-b465-61d48abf313d",
   "metadata": {},
   "outputs": [
    {
     "name": "stdout",
     "output_type": "stream",
     "text": [
      "   c0  c1  c2  c3\n",
      "0   0   1   4   7\n",
      "1   1   2   5   8\n",
      "2   2   3   6   9\n"
     ]
    }
   ],
   "source": [
    "df1 = pd.read_csv(\"test.csv\",na_filter=True)\n",
    "print(df1)"
   ]
  },
  {
   "cell_type": "code",
   "execution_count": 60,
   "id": "dba63b2e-a29a-4ea5-ab66-e49a55ad63dc",
   "metadata": {},
   "outputs": [
    {
     "name": "stdout",
     "output_type": "stream",
     "text": [
      "    c0   c1  c2  c3\n",
      "0  0.0  NaN   4   7\n",
      "1  NaN  NaN   5   8\n",
      "2  NaN  3.0   6   9\n"
     ]
    }
   ],
   "source": [
    "df1 = pd.read_csv(\"test3.csv\",na_filter=True)\n",
    "print(df1)"
   ]
  },
  {
   "cell_type": "code",
   "execution_count": 59,
   "id": "d27ff30f-ca75-4571-8b3f-baa8fa3dc2c2",
   "metadata": {},
   "outputs": [
    {
     "name": "stdout",
     "output_type": "stream",
     "text": [
      "    c0   c1  c2  c3\n",
      "0  0.0        4   7\n",
      "1             5   8\n",
      "2       3.0   6   9\n"
     ]
    }
   ],
   "source": [
    "df1 = pd.read_csv(\"test3.csv\",na_filter=False)\n",
    "print(df1)"
   ]
  },
  {
   "cell_type": "markdown",
   "id": "e663e065-fd6f-4fd1-9366-571cb5166d0c",
   "metadata": {},
   "source": [
    "## skip_blank_lines"
   ]
  },
  {
   "cell_type": "code",
   "execution_count": 68,
   "id": "efa3b17b-dee3-4e16-ac2e-61847ef2fa50",
   "metadata": {},
   "outputs": [
    {
     "name": "stdout",
     "output_type": "stream",
     "text": [
      "   c0   c1  c2  c3\n",
      "0 NaN  NaN   4   7\n",
      "1 NaN  NaN   5   8\n",
      "2 NaN  3.0   6   9\n"
     ]
    }
   ],
   "source": [
    "df1 = pd.read_csv(\"test3.csv\")\n",
    "print(df1)"
   ]
  },
  {
   "cell_type": "code",
   "execution_count": 69,
   "id": "428416c1-9364-4657-96f9-ae5703926110",
   "metadata": {},
   "outputs": [
    {
     "name": "stdout",
     "output_type": "stream",
     "text": [
      "   c0   c1   c2   c3\n",
      "0 NaN  NaN  4.0  7.0\n",
      "1 NaN  NaN  5.0  8.0\n",
      "2 NaN  NaN  NaN  NaN\n",
      "3 NaN  3.0  6.0  9.0\n"
     ]
    }
   ],
   "source": [
    "df1 = pd.read_csv(\"test3.csv\",skip_blank_lines=False)\n",
    "print(df1)"
   ]
  },
  {
   "cell_type": "code",
   "execution_count": 70,
   "id": "9cc08e88-c3ea-410e-a7ba-0d2cf4cae82d",
   "metadata": {},
   "outputs": [
    {
     "name": "stdout",
     "output_type": "stream",
     "text": [
      "   c0   c1  c2  c3\n",
      "0 NaN  NaN   4   7\n",
      "1 NaN  NaN   5   8\n",
      "2 NaN  3.0   6   9\n"
     ]
    }
   ],
   "source": [
    "df1 = pd.read_csv(\"test3.csv\",skip_blank_lines=True)\n",
    "print(df1)"
   ]
  },
  {
   "cell_type": "markdown",
   "id": "745be917-0ea9-4c9c-b592-61d45642f8e0",
   "metadata": {},
   "source": [
    "## nrows"
   ]
  },
  {
   "cell_type": "code",
   "execution_count": 74,
   "id": "93d972ad-8517-4667-bdda-c15057aa475c",
   "metadata": {},
   "outputs": [
    {
     "name": "stdout",
     "output_type": "stream",
     "text": [
      "   c0  c1  c2  c3\n",
      "0   0   1   4   7\n",
      "1   1   2   5   8\n",
      "2   2   3   6   9\n"
     ]
    }
   ],
   "source": [
    "df1 = pd.read_csv(\"test.csv\")\n",
    "print(df1)"
   ]
  },
  {
   "cell_type": "code",
   "execution_count": 75,
   "id": "8a81cd65-79fb-4fa5-b3b3-9f9b77c9805c",
   "metadata": {},
   "outputs": [
    {
     "name": "stdout",
     "output_type": "stream",
     "text": [
      "   c0  c1  c2  c3\n",
      "0   0   1   4   7\n"
     ]
    }
   ],
   "source": [
    "df1 = pd.read_csv(\"test.csv\",nrows=1)\n",
    "print(df1)"
   ]
  },
  {
   "cell_type": "markdown",
   "id": "a121e16c-72a4-406e-9313-0de96b952053",
   "metadata": {},
   "source": [
    "## quoting"
   ]
  },
  {
   "cell_type": "code",
   "execution_count": 86,
   "id": "3558b150-8843-497b-87d4-a19ef360c748",
   "metadata": {},
   "outputs": [
    {
     "name": "stdout",
     "output_type": "stream",
     "text": [
      "   c0  c1  c2   c3\n",
      "0   0   1   4  abc\n",
      "1   1   2   5  def\n",
      "2   2   3   6  ghi\n"
     ]
    }
   ],
   "source": [
    "df1 = pd.read_csv(\"test2.csv\",delimiter='\\t')\n",
    "print(df1)"
   ]
  },
  {
   "cell_type": "code",
   "execution_count": 101,
   "id": "fabfe2fc-539f-4c6b-be91-6dfab9b5073c",
   "metadata": {},
   "outputs": [
    {
     "name": "stdout",
     "output_type": "stream",
     "text": [
      "   c0  c1  c2     c3\n",
      "0   0   1   4  \"abc\"\n",
      "1   1   2   5  \"def\"\n",
      "2   2   3   6  \"ghi\"\n"
     ]
    }
   ],
   "source": [
    "df1 = pd.read_csv(\"test2.csv\",delimiter='\\t',quoting=3)\n",
    "print(df1)"
   ]
  },
  {
   "cell_type": "code",
   "execution_count": null,
   "id": "b790feff-70ab-4588-87c7-13ccc2247e38",
   "metadata": {},
   "outputs": [],
   "source": []
  }
 ],
 "metadata": {
  "kernelspec": {
   "display_name": "Python 3 (ipykernel)",
   "language": "python",
   "name": "python3"
  },
  "language_info": {
   "codemirror_mode": {
    "name": "ipython",
    "version": 3
   },
   "file_extension": ".py",
   "mimetype": "text/x-python",
   "name": "python",
   "nbconvert_exporter": "python",
   "pygments_lexer": "ipython3",
   "version": "3.8.12"
  }
 },
 "nbformat": 4,
 "nbformat_minor": 5
}
