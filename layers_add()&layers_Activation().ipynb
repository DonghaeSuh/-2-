{
  "nbformat": 4,
  "nbformat_minor": 0,
  "metadata": {
    "colab": {
      "name": "layers.add()&layers.Activation().ipynb",
      "provenance": [],
      "collapsed_sections": [],
      "authorship_tag": "ABX9TyONmXxWeC5rttWlmIli3gDG",
      "include_colab_link": true
    },
    "kernelspec": {
      "name": "python3",
      "display_name": "Python 3"
    },
    "language_info": {
      "name": "python"
    }
  },
  "cells": [
    {
      "cell_type": "markdown",
      "metadata": {
        "id": "view-in-github",
        "colab_type": "text"
      },
      "source": [
        "<a href=\"https://colab.research.google.com/github/DonghaeSuh/NLP_tensorflow2/blob/main/layers_add()%26layers_Activation().ipynb\" target=\"_parent\"><img src=\"https://colab.research.google.com/assets/colab-badge.svg\" alt=\"Open In Colab\"/></a>"
      ]
    },
    {
      "cell_type": "code",
      "source": [
        "from keras.layers import dot"
      ],
      "metadata": {
        "id": "DZ6SkJ2pDGmO"
      },
      "execution_count": 3,
      "outputs": []
    },
    {
      "cell_type": "code",
      "execution_count": 10,
      "metadata": {
        "id": "LisKwzVTBit0"
      },
      "outputs": [],
      "source": [
        "from keras.layers import add "
      ]
    },
    {
      "cell_type": "code",
      "source": [
        "import numpy as np"
      ],
      "metadata": {
        "id": "dN8tRpYcBtXb"
      },
      "execution_count": 2,
      "outputs": []
    },
    {
      "cell_type": "code",
      "source": [
        "a= np.arange(2*3*2).reshape(2,3,2)\n",
        "b=np.arange(10,10+2*2*2).reshape(2,2,2)\n",
        "print(a)\n",
        "print(b)"
      ],
      "metadata": {
        "colab": {
          "base_uri": "https://localhost:8080/"
        },
        "id": "aiGa1OglBwx2",
        "outputId": "7de9fb1d-a71c-431b-f18c-2cbdf9cd9a7c"
      },
      "execution_count": 17,
      "outputs": [
        {
          "output_type": "stream",
          "name": "stdout",
          "text": [
            "[[[ 0  1]\n",
            "  [ 2  3]\n",
            "  [ 4  5]]\n",
            "\n",
            " [[ 6  7]\n",
            "  [ 8  9]\n",
            "  [10 11]]]\n",
            "[[[10 11]\n",
            "  [12 13]]\n",
            "\n",
            " [[14 15]\n",
            "  [16 17]]]\n"
          ]
        }
      ]
    },
    {
      "cell_type": "code",
      "source": [
        "c=add([a,b])\n",
        "print(c)"
      ],
      "metadata": {
        "colab": {
          "base_uri": "https://localhost:8080/"
        },
        "id": "T6iO5z0nCFJ3",
        "outputId": "c1e6a9c6-abec-4074-b3d4-099c849b4f32"
      },
      "execution_count": 11,
      "outputs": [
        {
          "output_type": "stream",
          "name": "stdout",
          "text": [
            "tf.Tensor(\n",
            "[[[10 12]\n",
            "  [14 16]]\n",
            "\n",
            " [[18 20]\n",
            "  [22 24]]], shape=(2, 2, 2), dtype=int64)\n"
          ]
        }
      ]
    },
    {
      "cell_type": "code",
      "source": [
        "from tensorflow.keras.layers import Permute"
      ],
      "metadata": {
        "id": "PEAzd-IVCLdR"
      },
      "execution_count": 4,
      "outputs": []
    },
    {
      "cell_type": "code",
      "source": [
        "a.shape"
      ],
      "metadata": {
        "colab": {
          "base_uri": "https://localhost:8080/"
        },
        "id": "0qJ-onXTScTu",
        "outputId": "809ac0ea-8e29-4290-d2db-2643c52d6400"
      },
      "execution_count": 23,
      "outputs": [
        {
          "output_type": "execute_result",
          "data": {
            "text/plain": [
              "(2, 3, 2)"
            ]
          },
          "metadata": {},
          "execution_count": 23
        }
      ]
    },
    {
      "cell_type": "code",
      "source": [
        "d = Permute((2,1))(a)\n",
        "print(d)"
      ],
      "metadata": {
        "colab": {
          "base_uri": "https://localhost:8080/"
        },
        "id": "nCqQevbZRYrM",
        "outputId": "d4133009-34a2-47e5-9a61-54eec17a9e4f"
      },
      "execution_count": 24,
      "outputs": [
        {
          "output_type": "stream",
          "name": "stdout",
          "text": [
            "tf.Tensor(\n",
            "[[[ 0  2  4]\n",
            "  [ 1  3  5]]\n",
            "\n",
            " [[ 6  8 10]\n",
            "  [ 7  9 11]]], shape=(2, 2, 3), dtype=int64)\n"
          ]
        }
      ]
    },
    {
      "cell_type": "code",
      "source": [
        "from keras.layers import Concatenate"
      ],
      "metadata": {
        "id": "7JJU1k17Ul2j"
      },
      "execution_count": 34,
      "outputs": []
    },
    {
      "cell_type": "code",
      "source": [
        "x = np.arange(20).reshape(2, 2, 5)\n",
        "print(x)\n",
        "\n",
        "\n",
        "\n",
        "\n",
        "y = np.arange(20, 40).reshape(2, 2, 5)\n",
        "print(y)\n",
        "\n",
        "\n",
        "a=Concatenate()([x, y])\n",
        "print(a)"
      ],
      "metadata": {
        "colab": {
          "base_uri": "https://localhost:8080/"
        },
        "id": "tQeknC-lUhxU",
        "outputId": "07b483b5-e763-422f-fd7b-e472d48dcb58"
      },
      "execution_count": 42,
      "outputs": [
        {
          "output_type": "stream",
          "name": "stdout",
          "text": [
            "[[[ 0  1  2  3  4]\n",
            "  [ 5  6  7  8  9]]\n",
            "\n",
            " [[10 11 12 13 14]\n",
            "  [15 16 17 18 19]]]\n",
            "[[[20 21 22 23 24]\n",
            "  [25 26 27 28 29]]\n",
            "\n",
            " [[30 31 32 33 34]\n",
            "  [35 36 37 38 39]]]\n",
            "tf.Tensor(\n",
            "[[[ 0  1  2  3  4 20 21 22 23 24]\n",
            "  [ 5  6  7  8  9 25 26 27 28 29]]\n",
            "\n",
            " [[10 11 12 13 14 30 31 32 33 34]\n",
            "  [15 16 17 18 19 35 36 37 38 39]]], shape=(2, 2, 10), dtype=int64)\n"
          ]
        }
      ]
    },
    {
      "cell_type": "code",
      "source": [
        "from keras.layers import Input"
      ],
      "metadata": {
        "id": "Rwx0i_Nlh8pX"
      },
      "execution_count": 46,
      "outputs": []
    },
    {
      "cell_type": "code",
      "source": [
        "input_sequence = Input((3,))\n",
        "question = Input((4,))\n",
        "\n",
        "print('Stories :', input_sequence)\n",
        "print('Question:', question)\n",
        "print([input_sequence,question])"
      ],
      "metadata": {
        "colab": {
          "base_uri": "https://localhost:8080/"
        },
        "id": "8mM1yQj8h2Bv",
        "outputId": "980bdd3b-c5d7-45da-e73d-a8c9bf9db86b"
      },
      "execution_count": 50,
      "outputs": [
        {
          "output_type": "stream",
          "name": "stdout",
          "text": [
            "Stories : KerasTensor(type_spec=TensorSpec(shape=(None, 3), dtype=tf.float32, name='input_7'), name='input_7', description=\"created by layer 'input_7'\")\n",
            "Question: KerasTensor(type_spec=TensorSpec(shape=(None, 4), dtype=tf.float32, name='input_8'), name='input_8', description=\"created by layer 'input_8'\")\n",
            "<class 'list'>\n"
          ]
        }
      ]
    },
    {
      "cell_type": "code",
      "source": [
        "from tensorflow.keras.layers import Activation"
      ],
      "metadata": {
        "id": "oHZ2fwxZh_6b"
      },
      "execution_count": 1,
      "outputs": []
    },
    {
      "cell_type": "code",
      "source": [
        "match =np.random.rand(2,2,5)\n",
        "match"
      ],
      "metadata": {
        "colab": {
          "base_uri": "https://localhost:8080/"
        },
        "id": "muEYF3jIzCVp",
        "outputId": "8c4d1beb-5c82-49bb-f1c4-add9065a166a"
      },
      "execution_count": 7,
      "outputs": [
        {
          "output_type": "execute_result",
          "data": {
            "text/plain": [
              "array([[[0.45812061, 0.83440952, 0.79632706, 0.55983681, 0.1319241 ],\n",
              "        [0.93227291, 0.16807308, 0.40176262, 0.04732638, 0.1209312 ]],\n",
              "\n",
              "       [[0.45985305, 0.31831205, 0.29154811, 0.23610657, 0.14003098],\n",
              "        [0.59284622, 0.59325206, 0.99954747, 0.57707352, 0.3470448 ]]])"
            ]
          },
          "metadata": {},
          "execution_count": 7
        }
      ]
    },
    {
      "cell_type": "code",
      "source": [
        "match = Activation('softmax')(match)\n",
        "print('Match shape', match)"
      ],
      "metadata": {
        "colab": {
          "base_uri": "https://localhost:8080/"
        },
        "id": "RI0KERoOzPky",
        "outputId": "a1306264-6f03-4266-af2d-73677c7c6965"
      },
      "execution_count": 8,
      "outputs": [
        {
          "output_type": "stream",
          "name": "stdout",
          "text": [
            "Match shape tf.Tensor(\n",
            "[[[0.17580777 0.25612873 0.2465581  0.19463138 0.12687403]\n",
            "  [0.34352353 0.15998112 0.2020965  0.14178461 0.15261431]]\n",
            "\n",
            " [[0.23590961 0.20477416 0.1993663  0.18861394 0.17133602]\n",
            "  [0.1898005  0.18987754 0.2850529  0.18683033 0.1484387 ]]], shape=(2, 2, 5), dtype=float32)\n"
          ]
        }
      ]
    },
    {
      "cell_type": "code",
      "source": [
        "ex=np.array(match)"
      ],
      "metadata": {
        "id": "9Rr6SIQl0Ihg"
      },
      "execution_count": 16,
      "outputs": []
    },
    {
      "cell_type": "code",
      "source": [
        "ex.sum(axis=-1)"
      ],
      "metadata": {
        "colab": {
          "base_uri": "https://localhost:8080/"
        },
        "id": "npO5JUoF0PeI",
        "outputId": "0b756f14-6e63-400d-fed2-5e80505a4885"
      },
      "execution_count": 17,
      "outputs": [
        {
          "output_type": "execute_result",
          "data": {
            "text/plain": [
              "array([[1.        , 1.0000001 ],\n",
              "       [1.        , 0.99999994]], dtype=float32)"
            ]
          },
          "metadata": {},
          "execution_count": 17
        }
      ]
    },
    {
      "cell_type": "code",
      "source": [
        ""
      ],
      "metadata": {
        "id": "I3krrZWc1WLS"
      },
      "execution_count": null,
      "outputs": []
    }
  ]
}