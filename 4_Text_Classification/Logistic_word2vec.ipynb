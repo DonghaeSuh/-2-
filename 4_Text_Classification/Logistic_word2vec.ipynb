{
 "cells": [
  {
   "cell_type": "code",
   "execution_count": 1,
   "id": "de540c1e-c9b5-409c-b053-179ac0e69891",
   "metadata": {},
   "outputs": [],
   "source": [
    "import os\n",
    "import re\n",
    "\n",
    "import pandas as pd\n",
    "import numpy as np\n",
    "\n",
    "from bs4 import BeautifulSoup\n",
    "from nltk.corpus import stopwords\n",
    "from nltk.tokenize import word_tokenize"
   ]
  },
  {
   "cell_type": "code",
   "execution_count": 2,
   "id": "321a6b37-2aa2-430f-9568-ac34045ee0ca",
   "metadata": {},
   "outputs": [],
   "source": [
    "DATA_IN_PATH = './data_in/'\n",
    "TRAIN_CLEAN_DATA = 'train_clean.csv'\n",
    "\n",
    "RANDOM_SEED = 42\n",
    "TEST_SPLIT = 0.2"
   ]
  },
  {
   "cell_type": "code",
   "execution_count": 3,
   "id": "b4b73fa7-44fc-494f-9ffb-eb312b15271d",
   "metadata": {},
   "outputs": [],
   "source": [
    "train_data = pd.read_csv(DATA_IN_PATH + TRAIN_CLEAN_DATA)"
   ]
  },
  {
   "cell_type": "code",
   "execution_count": 4,
   "id": "9fbd40f5-6da2-4a8a-8c0d-7f365f3ab3e0",
   "metadata": {},
   "outputs": [],
   "source": [
    "reviews = list(train_data['review'])\n",
    "sentiments = list(train_data['sentiment'])"
   ]
  },
  {
   "cell_type": "code",
   "execution_count": 5,
   "id": "3eb5805c-39e5-4b14-8178-03c8a4c51bd9",
   "metadata": {},
   "outputs": [],
   "source": [
    "sentences = []\n",
    "for review in reviews:\n",
    "    sentences.append(review.split())"
   ]
  },
  {
   "cell_type": "code",
   "execution_count": 7,
   "id": "d87d034f-23ef-48a5-85c0-a2e987d7f198",
   "metadata": {},
   "outputs": [],
   "source": [
    "num_features = 300    # 단어 임베딩 차원수\n",
    "min_word_count = 40   # 단어에 대한 최소 빈도 수\n",
    "num_workers = 4       # 프로세스 개수\n",
    "context = 10          # word2vec을 수행하기 위한 context window 크기\n",
    "downsampling = 1e-3   # 빠른 학습을 위해, 정답 단어 라벨에 대한 다운샘플링 비율"
   ]
  },
  {
   "cell_type": "code",
   "execution_count": 8,
   "id": "c6819099-cafb-4eac-9141-88ba4ec019a3",
   "metadata": {},
   "outputs": [],
   "source": [
    "import logging\n",
    "logging.basicConfig(format='%(asctime)s : %(levelname)s : %(message)s',\\\n",
    "   level=logging.INFO)"
   ]
  },
  {
   "cell_type": "markdown",
   "id": "bc9127c3-61aa-4dd6-82a8-02a3ae2ba63c",
   "metadata": {},
   "source": [
    "## word2vec"
   ]
  },
  {
   "cell_type": "code",
   "execution_count": 10,
   "id": "b59cc743-2973-468d-9118-6bd33f072bd8",
   "metadata": {},
   "outputs": [],
   "source": [
    "import gensim"
   ]
  },
  {
   "cell_type": "code",
   "execution_count": 20,
   "id": "f8c2485e-ce28-4b63-ab0c-018205f26619",
   "metadata": {},
   "outputs": [
    {
     "name": "stderr",
     "output_type": "stream",
     "text": [
      "2022-03-13 19:18:41,239 : INFO : collecting all words and their counts\n",
      "2022-03-13 19:18:41,240 : INFO : PROGRESS: at sentence #0, processed 0 words, keeping 0 word types\n",
      "2022-03-13 19:18:41,699 : INFO : PROGRESS: at sentence #10000, processed 1205223 words, keeping 51374 word types\n",
      "2022-03-13 19:18:42,242 : INFO : PROGRESS: at sentence #20000, processed 2396605 words, keeping 67660 word types\n",
      "2022-03-13 19:18:42,487 : INFO : collected 74065 word types from a corpus of 2988089 raw words and 25000 sentences\n",
      "2022-03-13 19:18:42,488 : INFO : Creating a fresh vocabulary\n",
      "2022-03-13 19:18:42,588 : INFO : Word2Vec lifecycle event {'msg': 'effective_min_count=40 retains 8160 unique words (11.017349625329103%% of original 74065, drops 65905)', 'datetime': '2022-03-13T19:18:42.587436', 'gensim': '4.1.2', 'python': '3.8.12 (default, Oct 12 2021, 03:01:40) [MSC v.1916 64 bit (AMD64)]', 'platform': 'Windows-10-10.0.19043-SP0', 'event': 'prepare_vocab'}\n",
      "2022-03-13 19:18:42,589 : INFO : Word2Vec lifecycle event {'msg': 'effective_min_count=40 leaves 2627273 word corpus (87.92485765986221%% of original 2988089, drops 360816)', 'datetime': '2022-03-13T19:18:42.589485', 'gensim': '4.1.2', 'python': '3.8.12 (default, Oct 12 2021, 03:01:40) [MSC v.1916 64 bit (AMD64)]', 'platform': 'Windows-10-10.0.19043-SP0', 'event': 'prepare_vocab'}\n",
      "2022-03-13 19:18:42,664 : INFO : deleting the raw counts dictionary of 74065 items\n",
      "2022-03-13 19:18:42,669 : INFO : sample=0.001 downsamples 30 most-common words\n",
      "2022-03-13 19:18:42,670 : INFO : Word2Vec lifecycle event {'msg': 'downsampling leaves estimated 2494384.49928802 word corpus (94.9%% of prior 2627273)', 'datetime': '2022-03-13T19:18:42.670435', 'gensim': '4.1.2', 'python': '3.8.12 (default, Oct 12 2021, 03:01:40) [MSC v.1916 64 bit (AMD64)]', 'platform': 'Windows-10-10.0.19043-SP0', 'event': 'prepare_vocab'}\n",
      "2022-03-13 19:18:42,807 : INFO : estimated required memory for 8160 words and 300 dimensions: 23664000 bytes\n",
      "2022-03-13 19:18:42,808 : INFO : resetting layer weights\n",
      "2022-03-13 19:18:42,827 : INFO : Word2Vec lifecycle event {'update': False, 'trim_rule': 'None', 'datetime': '2022-03-13T19:18:42.827453', 'gensim': '4.1.2', 'python': '3.8.12 (default, Oct 12 2021, 03:01:40) [MSC v.1916 64 bit (AMD64)]', 'platform': 'Windows-10-10.0.19043-SP0', 'event': 'build_vocab'}\n",
      "2022-03-13 19:18:42,828 : INFO : Word2Vec lifecycle event {'msg': 'training model with 4 workers on 8160 vocabulary and 300 features, using sg=0 hs=0 sample=0.001 negative=5 window=10 shrink_windows=True', 'datetime': '2022-03-13T19:18:42.828466', 'gensim': '4.1.2', 'python': '3.8.12 (default, Oct 12 2021, 03:01:40) [MSC v.1916 64 bit (AMD64)]', 'platform': 'Windows-10-10.0.19043-SP0', 'event': 'train'}\n",
      "2022-03-13 19:18:43,840 : INFO : EPOCH 1 - PROGRESS: at 29.18% examples, 734223 words/s, in_qsize 8, out_qsize 0\n",
      "2022-03-13 19:18:44,849 : INFO : EPOCH 1 - PROGRESS: at 64.76% examples, 806626 words/s, in_qsize 7, out_qsize 0\n",
      "2022-03-13 19:18:45,860 : INFO : EPOCH 1 - PROGRESS: at 95.46% examples, 788710 words/s, in_qsize 7, out_qsize 0\n",
      "2022-03-13 19:18:45,982 : INFO : worker thread finished; awaiting finish of 3 more threads\n",
      "2022-03-13 19:18:45,990 : INFO : worker thread finished; awaiting finish of 2 more threads\n",
      "2022-03-13 19:18:45,998 : INFO : worker thread finished; awaiting finish of 1 more threads\n",
      "2022-03-13 19:18:46,009 : INFO : worker thread finished; awaiting finish of 0 more threads\n",
      "2022-03-13 19:18:46,010 : INFO : EPOCH - 1 : training on 2988089 raw words (2493912 effective words) took 3.2s, 786018 effective words/s\n",
      "2022-03-13 19:18:47,027 : INFO : EPOCH 2 - PROGRESS: at 25.65% examples, 640082 words/s, in_qsize 7, out_qsize 0\n",
      "2022-03-13 19:18:48,035 : INFO : EPOCH 2 - PROGRESS: at 56.52% examples, 706481 words/s, in_qsize 7, out_qsize 0\n",
      "2022-03-13 19:18:49,036 : INFO : EPOCH 2 - PROGRESS: at 92.40% examples, 765748 words/s, in_qsize 7, out_qsize 0\n",
      "2022-03-13 19:18:49,226 : INFO : worker thread finished; awaiting finish of 3 more threads\n",
      "2022-03-13 19:18:49,228 : INFO : worker thread finished; awaiting finish of 2 more threads\n",
      "2022-03-13 19:18:49,233 : INFO : worker thread finished; awaiting finish of 1 more threads\n",
      "2022-03-13 19:18:49,256 : INFO : worker thread finished; awaiting finish of 0 more threads\n",
      "2022-03-13 19:18:49,258 : INFO : EPOCH - 2 : training on 2988089 raw words (2494510 effective words) took 3.2s, 770470 effective words/s\n",
      "2022-03-13 19:18:50,273 : INFO : EPOCH 3 - PROGRESS: at 31.20% examples, 777605 words/s, in_qsize 7, out_qsize 0\n",
      "2022-03-13 19:18:51,280 : INFO : EPOCH 3 - PROGRESS: at 66.38% examples, 825291 words/s, in_qsize 7, out_qsize 0\n",
      "2022-03-13 19:18:52,230 : INFO : worker thread finished; awaiting finish of 3 more threads\n",
      "2022-03-13 19:18:52,231 : INFO : worker thread finished; awaiting finish of 2 more threads\n",
      "2022-03-13 19:18:52,244 : INFO : worker thread finished; awaiting finish of 1 more threads\n",
      "2022-03-13 19:18:52,254 : INFO : worker thread finished; awaiting finish of 0 more threads\n",
      "2022-03-13 19:18:52,255 : INFO : EPOCH - 3 : training on 2988089 raw words (2494559 effective words) took 3.0s, 833711 effective words/s\n",
      "2022-03-13 19:18:53,262 : INFO : EPOCH 4 - PROGRESS: at 32.82% examples, 826191 words/s, in_qsize 7, out_qsize 0\n",
      "2022-03-13 19:18:54,270 : INFO : EPOCH 4 - PROGRESS: at 69.00% examples, 861621 words/s, in_qsize 7, out_qsize 0\n",
      "2022-03-13 19:18:55,121 : INFO : worker thread finished; awaiting finish of 3 more threads\n",
      "2022-03-13 19:18:55,127 : INFO : worker thread finished; awaiting finish of 2 more threads\n",
      "2022-03-13 19:18:55,132 : INFO : worker thread finished; awaiting finish of 1 more threads\n",
      "2022-03-13 19:18:55,145 : INFO : worker thread finished; awaiting finish of 0 more threads\n",
      "2022-03-13 19:18:55,146 : INFO : EPOCH - 4 : training on 2988089 raw words (2494310 effective words) took 2.9s, 864729 effective words/s\n",
      "2022-03-13 19:18:56,154 : INFO : EPOCH 5 - PROGRESS: at 34.14% examples, 855444 words/s, in_qsize 7, out_qsize 0\n",
      "2022-03-13 19:18:57,157 : INFO : EPOCH 5 - PROGRESS: at 67.07% examples, 837256 words/s, in_qsize 7, out_qsize 0\n",
      "2022-03-13 19:18:58,148 : INFO : worker thread finished; awaiting finish of 3 more threads\n",
      "2022-03-13 19:18:58,157 : INFO : EPOCH 5 - PROGRESS: at 99.30% examples, 823718 words/s, in_qsize 2, out_qsize 1\n",
      "2022-03-13 19:18:58,159 : INFO : worker thread finished; awaiting finish of 2 more threads\n",
      "2022-03-13 19:18:58,160 : INFO : worker thread finished; awaiting finish of 1 more threads\n",
      "2022-03-13 19:18:58,171 : INFO : worker thread finished; awaiting finish of 0 more threads\n",
      "2022-03-13 19:18:58,172 : INFO : EPOCH - 5 : training on 2988089 raw words (2494014 effective words) took 3.0s, 825183 effective words/s\n",
      "2022-03-13 19:18:58,173 : INFO : Word2Vec lifecycle event {'msg': 'training on 14940445 raw words (12471305 effective words) took 15.3s, 812796 effective words/s', 'datetime': '2022-03-13T19:18:58.173431', 'gensim': '4.1.2', 'python': '3.8.12 (default, Oct 12 2021, 03:01:40) [MSC v.1916 64 bit (AMD64)]', 'platform': 'Windows-10-10.0.19043-SP0', 'event': 'train'}\n",
      "2022-03-13 19:18:58,173 : INFO : Word2Vec lifecycle event {'params': 'Word2Vec(vocab=8160, vector_size=300, alpha=0.025)', 'datetime': '2022-03-13T19:18:58.173431', 'gensim': '4.1.2', 'python': '3.8.12 (default, Oct 12 2021, 03:01:40) [MSC v.1916 64 bit (AMD64)]', 'platform': 'Windows-10-10.0.19043-SP0', 'event': 'created'}\n"
     ]
    }
   ],
   "source": [
    "from gensim.models import word2vec\n",
    "\n",
    "model = word2vec.Word2Vec(sentences, workers=num_workers, \\\n",
    "           vector_size=num_features, min_count = min_word_count, \\\n",
    "            window = context, sample = downsampling)"
   ]
  },
  {
   "cell_type": "code",
   "execution_count": 24,
   "id": "6dc8582c-6a7c-4596-bf04-338ab58a098e",
   "metadata": {},
   "outputs": [
    {
     "name": "stderr",
     "output_type": "stream",
     "text": [
      "2022-03-13 19:21:19,316 : INFO : Word2Vec lifecycle event {'fname_or_handle': '300features_40minwords_10context', 'separately': 'None', 'sep_limit': 10485760, 'ignore': frozenset(), 'datetime': '2022-03-13T19:21:19.316071', 'gensim': '4.1.2', 'python': '3.8.12 (default, Oct 12 2021, 03:01:40) [MSC v.1916 64 bit (AMD64)]', 'platform': 'Windows-10-10.0.19043-SP0', 'event': 'saving'}\n",
      "2022-03-13 19:21:19,318 : INFO : not storing attribute cum_table\n",
      "2022-03-13 19:21:19,353 : INFO : saved 300features_40minwords_10context\n"
     ]
    }
   ],
   "source": [
    "# 모델의 이름에 hyperparameter 이름을 넣어주면 나중에 참고하기 좋다.\n",
    "# 모델을 저장하면, 나중에 Wor2Vec.load()을 통해 모델을 다시 사용할 수 있다.\n",
    "model_name = \"300features_40minwords_10context\"\n",
    "model.save(model_name)"
   ]
  },
  {
   "cell_type": "code",
   "execution_count": 28,
   "id": "518c2a9d-3f9b-449d-b4f0-f560a46de05f",
   "metadata": {},
   "outputs": [],
   "source": [
    "def get_features(words, model, num_features):\n",
    "    feature_vector = np.zeros((num_features),dtype=np.float32)\n",
    "\n",
    "    num_words = 0\n",
    "    index_to_key_set = set(model.wv.index_to_key)\n",
    "\n",
    "    for w in words:\n",
    "        if w in index_to_key_set:\n",
    "            num_words += 1\n",
    "            feature_vector = np.add(feature_vector, model.wv[w])\n",
    "\n",
    "    feature_vector = np.divide(feature_vector, num_words)\n",
    "    return feature_vector"
   ]
  },
  {
   "cell_type": "code",
   "execution_count": 29,
   "id": "7920f130-2dcc-4af6-87d5-6d79be1915ba",
   "metadata": {},
   "outputs": [],
   "source": [
    "def get_dataset(reviews, model, num_features):\n",
    "    dataset = list()\n",
    "\n",
    "    for s in reviews:\n",
    "        dataset.append(get_features(s, model, num_features))\n",
    "\n",
    "    reviewFeatureVecs = np.stack(dataset)\n",
    "    \n",
    "    return reviewFeatureVecs"
   ]
  },
  {
   "cell_type": "code",
   "execution_count": 30,
   "id": "8ac0bfe6-765b-4fd7-8faf-701e4df77f4e",
   "metadata": {},
   "outputs": [],
   "source": [
    "test_data_vecs = get_dataset(sentences, model, num_features)"
   ]
  },
  {
   "cell_type": "markdown",
   "id": "00f2ac17-28a3-4ae9-afc2-62821aaee3c7",
   "metadata": {},
   "source": [
    "## 모델 학습"
   ]
  },
  {
   "cell_type": "code",
   "execution_count": 31,
   "id": "52b9e0b3-f196-4b18-bc61-663a8cfa612e",
   "metadata": {},
   "outputs": [],
   "source": [
    "from sklearn.model_selection import train_test_split\n",
    "import numpy as np\n",
    "\n",
    "X = test_data_vecs\n",
    "y = np.array(sentiments)\n",
    "\n",
    "X_train, X_test, y_train, y_test = train_test_split(X, y, test_size=TEST_SPLIT, random_state=RANDOM_SEED)"
   ]
  },
  {
   "cell_type": "code",
   "execution_count": 32,
   "id": "c2beb5d9-5509-4f0f-b419-04626149a51e",
   "metadata": {},
   "outputs": [
    {
     "name": "stderr",
     "output_type": "stream",
     "text": [
      "C:\\Users\\gypsi\\anaconda3\\envs\\nlp\\lib\\site-packages\\sklearn\\linear_model\\_logistic.py:814: ConvergenceWarning: lbfgs failed to converge (status=1):\n",
      "STOP: TOTAL NO. of ITERATIONS REACHED LIMIT.\n",
      "\n",
      "Increase the number of iterations (max_iter) or scale the data as shown in:\n",
      "    https://scikit-learn.org/stable/modules/preprocessing.html\n",
      "Please also refer to the documentation for alternative solver options:\n",
      "    https://scikit-learn.org/stable/modules/linear_model.html#logistic-regression\n",
      "  n_iter_i = _check_optimize_result(\n"
     ]
    },
    {
     "data": {
      "text/plain": [
       "LogisticRegression(class_weight='balanced')"
      ]
     },
     "execution_count": 32,
     "metadata": {},
     "output_type": "execute_result"
    }
   ],
   "source": [
    "from sklearn.linear_model import LogisticRegression\n",
    "\n",
    "lgs = LogisticRegression(class_weight='balanced')\n",
    "lgs.fit(X_train, y_train)"
   ]
  },
  {
   "cell_type": "code",
   "execution_count": 33,
   "id": "bd0b3502-2992-4c00-a49c-ac3ffc2c9bd5",
   "metadata": {},
   "outputs": [
    {
     "name": "stdout",
     "output_type": "stream",
     "text": [
      "Accuracy: 0.867600\n"
     ]
    }
   ],
   "source": [
    "print(\"Accuracy: %f\" % lgs.score(X_test, y_test)) "
   ]
  },
  {
   "cell_type": "markdown",
   "id": "7a1197f3-d73e-422b-9ae0-c3f6b695534c",
   "metadata": {},
   "source": [
    "## 제출"
   ]
  },
  {
   "cell_type": "code",
   "execution_count": 34,
   "id": "55ccd760-4c6c-4bb7-9aec-79a5c63de27a",
   "metadata": {},
   "outputs": [],
   "source": [
    "TEST_CLEAN_DATA = 'test_clean.csv'\n",
    "\n",
    "test_data = pd.read_csv(DATA_IN_PATH + TEST_CLEAN_DATA)\n",
    "\n",
    "test_review = list(test_data['review'])"
   ]
  },
  {
   "cell_type": "code",
   "execution_count": 35,
   "id": "51390475-b4c9-43a3-a6b5-f5a1ee641855",
   "metadata": {},
   "outputs": [
    {
     "data": {
      "text/html": [
       "<div>\n",
       "<style scoped>\n",
       "    .dataframe tbody tr th:only-of-type {\n",
       "        vertical-align: middle;\n",
       "    }\n",
       "\n",
       "    .dataframe tbody tr th {\n",
       "        vertical-align: top;\n",
       "    }\n",
       "\n",
       "    .dataframe thead th {\n",
       "        text-align: right;\n",
       "    }\n",
       "</style>\n",
       "<table border=\"1\" class=\"dataframe\">\n",
       "  <thead>\n",
       "    <tr style=\"text-align: right;\">\n",
       "      <th></th>\n",
       "      <th>review</th>\n",
       "      <th>id</th>\n",
       "    </tr>\n",
       "  </thead>\n",
       "  <tbody>\n",
       "    <tr>\n",
       "      <th>0</th>\n",
       "      <td>naturally film main themes mortality nostalgia...</td>\n",
       "      <td>\"12311_10\"</td>\n",
       "    </tr>\n",
       "    <tr>\n",
       "      <th>1</th>\n",
       "      <td>movie disaster within disaster film full great...</td>\n",
       "      <td>\"8348_2\"</td>\n",
       "    </tr>\n",
       "    <tr>\n",
       "      <th>2</th>\n",
       "      <td>movie kids saw tonight child loved one point k...</td>\n",
       "      <td>\"5828_4\"</td>\n",
       "    </tr>\n",
       "    <tr>\n",
       "      <th>3</th>\n",
       "      <td>afraid dark left impression several different ...</td>\n",
       "      <td>\"7186_2\"</td>\n",
       "    </tr>\n",
       "    <tr>\n",
       "      <th>4</th>\n",
       "      <td>accurate depiction small time mob life filmed ...</td>\n",
       "      <td>\"12128_7\"</td>\n",
       "    </tr>\n",
       "  </tbody>\n",
       "</table>\n",
       "</div>"
      ],
      "text/plain": [
       "                                              review          id\n",
       "0  naturally film main themes mortality nostalgia...  \"12311_10\"\n",
       "1  movie disaster within disaster film full great...    \"8348_2\"\n",
       "2  movie kids saw tonight child loved one point k...    \"5828_4\"\n",
       "3  afraid dark left impression several different ...    \"7186_2\"\n",
       "4  accurate depiction small time mob life filmed ...   \"12128_7\""
      ]
     },
     "execution_count": 35,
     "metadata": {},
     "output_type": "execute_result"
    }
   ],
   "source": [
    "test_data.head(5)"
   ]
  },
  {
   "cell_type": "code",
   "execution_count": 36,
   "id": "c8b80e9f-3775-4561-a9f2-625ca855d9f9",
   "metadata": {},
   "outputs": [],
   "source": [
    "test_sentences = list()\n",
    "for review in test_review:\n",
    "    test_sentences.append(review.split())"
   ]
  },
  {
   "cell_type": "code",
   "execution_count": 37,
   "id": "0a86ce42-2873-43ed-a513-51126f7a4360",
   "metadata": {},
   "outputs": [],
   "source": [
    "test_data_vecs = get_dataset(test_sentences, model, num_features)"
   ]
  },
  {
   "cell_type": "code",
   "execution_count": 38,
   "id": "ff537858-8df8-4c16-8ca5-a31c78b49922",
   "metadata": {},
   "outputs": [],
   "source": [
    "DATA_OUT_PATH = './data_out/'\n",
    "\n",
    "test_predicted = lgs.predict(test_data_vecs)\n",
    "\n",
    "if not os.path.exists(DATA_OUT_PATH):\n",
    "    os.makedirs(DATA_OUT_PATH)\n",
    "    \n",
    "ids = list(test_data['id'])\n",
    "answer_dataset = pd.DataFrame({'id': ids, 'sentiment': test_predicted})\n",
    "answer_dataset.to_csv(DATA_OUT_PATH + 'lgs_w2v_answer.csv', index=False, quoting=3)"
   ]
  }
 ],
 "metadata": {
  "kernelspec": {
   "display_name": "Python 3 (ipykernel)",
   "language": "python",
   "name": "python3"
  },
  "language_info": {
   "codemirror_mode": {
    "name": "ipython",
    "version": 3
   },
   "file_extension": ".py",
   "mimetype": "text/x-python",
   "name": "python",
   "nbconvert_exporter": "python",
   "pygments_lexer": "ipython3",
   "version": "3.8.12"
  }
 },
 "nbformat": 4,
 "nbformat_minor": 5
}
