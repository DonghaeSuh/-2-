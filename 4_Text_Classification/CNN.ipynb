{
 "cells": [
  {
   "cell_type": "markdown",
   "id": "34427903-3ee5-4d71-a4ec-2636863854cc",
   "metadata": {},
   "source": [
    "## 모듈 불러오기"
   ]
  },
  {
   "cell_type": "code",
   "execution_count": 1,
   "id": "768c8586-a296-44c6-82bd-12a570b6d213",
   "metadata": {},
   "outputs": [],
   "source": [
    "import tensorflow as tf\n",
    "from tensorflow.keras.preprocessing.sequence import pad_sequences\n",
    "from tensorflow.keras.callbacks import EarlyStopping, ModelCheckpoint\n",
    "from tensorflow.keras import layers\n",
    "\n",
    "import numpy as np\n",
    "import pandas as pd\n",
    "\n",
    "import matplotlib.pyplot as plt\n",
    "\n",
    "import os\n",
    "import json\n",
    "\n",
    "from tqdm import tqdm"
   ]
  },
  {
   "cell_type": "markdown",
   "id": "19a68d29-6afb-429e-be3e-a7b9c9acf569",
   "metadata": {},
   "source": [
    "## 데이터 불러오기"
   ]
  },
  {
   "cell_type": "code",
   "execution_count": 2,
   "id": "ddab4fca-d9b6-4c88-a52f-08fb1105cb94",
   "metadata": {},
   "outputs": [],
   "source": [
    "DATA_IN_PATH = './data_in/'\n",
    "DATA_OUT_PATH = './data_out/'\n",
    "TRAIN_INPUT_DATA = 'train_input.npy'\n",
    "TRAIN_LABEL_DATA = 'train_label.npy'\n",
    "DATA_CONFIGS = 'data_configs.json'"
   ]
  },
  {
   "cell_type": "code",
   "execution_count": 3,
   "id": "26214f96-2115-4f09-8e0c-06bcb9012a55",
   "metadata": {},
   "outputs": [],
   "source": [
    "SEED_NUM = 1234\n",
    "tf.random.set_seed(SEED_NUM)"
   ]
  },
  {
   "cell_type": "code",
   "execution_count": 4,
   "id": "fb254d6d-e60c-41a9-b8df-d34e87597238",
   "metadata": {},
   "outputs": [],
   "source": [
    "train_input = np.load(open(DATA_IN_PATH + TRAIN_INPUT_DATA, 'rb'))\n",
    "train_label = np.load(open(DATA_IN_PATH + TRAIN_LABEL_DATA, 'rb'))\n",
    "prepro_configs = json.load(open(DATA_IN_PATH + DATA_CONFIGS, 'r'))"
   ]
  },
  {
   "cell_type": "markdown",
   "id": "8a45c1b3-e1a1-4b8c-833b-1f37281a5352",
   "metadata": {},
   "source": [
    "## 하이퍼파라미터 정의"
   ]
  },
  {
   "cell_type": "code",
   "execution_count": 10,
   "id": "6316df9a-d925-4be2-b461-61f9380063f7",
   "metadata": {},
   "outputs": [],
   "source": [
    "model_name = 'cnn_classifier_en'\n",
    "BATCH_SIZE = 512\n",
    "NUM_EPOCHS = 4\n",
    "VALID_SPLIT = 0.1\n",
    "MAX_LEN = train_input.shape[1]\n",
    "\n",
    "kargs = {'model_name': model_name,\n",
    "        'vocab_size': prepro_configs['vocab_size'],\n",
    "        'embedding_size': 128,\n",
    "        'num_filters': 100,\n",
    "        'dropout_rate': 0.5,\n",
    "        'hidden_dimension': 250,\n",
    "        'output_dimension':1}"
   ]
  },
  {
   "cell_type": "markdown",
   "id": "28452d5e-5d59-473f-a964-40104681ee74",
   "metadata": {},
   "source": [
    "## 모델 선언"
   ]
  },
  {
   "cell_type": "code",
   "execution_count": 6,
   "id": "efc17379-8328-4952-98f4-92c8b7a8b326",
   "metadata": {},
   "outputs": [],
   "source": [
    "class CNNClassifier(tf.keras.Model):\n",
    "    \n",
    "    def __init__(self, **kargs):\n",
    "        super(CNNClassifier, self).__init__(name=kargs['model_name'])\n",
    "        self.embedding = layers.Embedding(input_dim=kargs['vocab_size'],\n",
    "                                     output_dim=kargs['embedding_size'])\n",
    "        self.conv_list = [layers.Conv1D(filters=kargs['num_filters'],\n",
    "                                   kernel_size=kernel_size,\n",
    "                                   padding='valid',\n",
    "                                   activation=tf.keras.activations.relu,\n",
    "                                   kernel_constraint=tf.keras.constraints.MaxNorm(max_value=3.))\n",
    "                     for kernel_size in [3,4,5]]\n",
    "        self.pooling = layers.GlobalMaxPooling1D()\n",
    "        self.dropout = layers.Dropout(kargs['dropout_rate'])\n",
    "        self.fc1 = layers.Dense(units=kargs['hidden_dimension'],\n",
    "                           activation=tf.keras.activations.relu,\n",
    "                           kernel_constraint=tf.keras.constraints.MaxNorm(max_value=3.))\n",
    "        self.fc2 = layers.Dense(units=kargs['output_dimension'],\n",
    "                           activation=tf.keras.activations.sigmoid,\n",
    "                           kernel_constraint=tf.keras.constraints.MaxNorm(max_value=3.))\n",
    "    \n",
    "    def call(self, x):\n",
    "        x = self.embedding(x)\n",
    "        x = self.dropout(x)\n",
    "        x = tf.concat([self.pooling(conv(x)) for conv in self.conv_list], axis=-1)\n",
    "        x = self.fc1(x)\n",
    "        x = self.fc2(x)\n",
    "        \n",
    "        return x"
   ]
  },
  {
   "cell_type": "code",
   "execution_count": 12,
   "id": "2ea2d638-e24e-40dd-bc70-085ef62c8c22",
   "metadata": {},
   "outputs": [],
   "source": [
    "model = CNNClassifier(**kargs)\n",
    "model.compile(optimizer=tf.keras.optimizers.Adam(),\n",
    "              loss=tf.keras.losses.BinaryCrossentropy(),\n",
    "              metrics=[tf.keras.metrics.BinaryAccuracy(name='accuracy')])"
   ]
  },
  {
   "cell_type": "markdown",
   "id": "d13d727b-2a8e-4fb4-9eff-dcf0e2046167",
   "metadata": {},
   "source": [
    "## callback"
   ]
  },
  {
   "cell_type": "code",
   "execution_count": 13,
   "id": "55427d18-64bd-4ae1-ad57-e5522f683ee3",
   "metadata": {},
   "outputs": [
    {
     "name": "stdout",
     "output_type": "stream",
     "text": [
      "./data_out/cnn_classifier_en -- Folder already exists \n",
      "\n"
     ]
    }
   ],
   "source": [
    "# overfitting을 막기 위한 ealrystop 추가\n",
    "earlystop_callback = EarlyStopping(monitor='val_accuracy', min_delta=0.0001,patience=2)\n",
    "# min_delta: the threshold that triggers the termination (acc should at least improve 0.0001)\n",
    "# patience: no improvment epochs (patience = 1, 1번 이상 상승이 없으면 종료)\\\n",
    "\n",
    "checkpoint_path = DATA_OUT_PATH + model_name + '/weights.h5'\n",
    "checkpoint_dir = os.path.dirname(checkpoint_path)\n",
    "\n",
    "# Create path if exists\n",
    "if os.path.exists(checkpoint_dir):\n",
    "    print(\"{} -- Folder already exists \\n\".format(checkpoint_dir))\n",
    "else:\n",
    "    os.makedirs(checkpoint_dir, exist_ok=True)\n",
    "    print(\"{} -- Folder create complete \\n\".format(checkpoint_dir))\n",
    "    \n",
    "\n",
    "cp_callback = ModelCheckpoint(\n",
    "    checkpoint_path, monitor='val_accuracy', verbose=1, save_best_only=True, save_weights_only=True)"
   ]
  },
  {
   "cell_type": "code",
   "execution_count": 14,
   "id": "84642db7-81b2-436e-8910-7d1e81af9eed",
   "metadata": {},
   "outputs": [
    {
     "name": "stdout",
     "output_type": "stream",
     "text": [
      "Epoch 1/4\n",
      "44/44 [==============================] - ETA: 0s - loss: 0.6832 - accuracy: 0.5537\n",
      "Epoch 1: val_accuracy improved from -inf to 0.78000, saving model to ./data_out/cnn_classifier_en\\weights.h5\n",
      "44/44 [==============================] - 61s 1s/step - loss: 0.6832 - accuracy: 0.5537 - val_loss: 0.6211 - val_accuracy: 0.7800\n",
      "Epoch 2/4\n",
      "44/44 [==============================] - ETA: 0s - loss: 0.4168 - accuracy: 0.8271\n",
      "Epoch 2: val_accuracy improved from 0.78000 to 0.87280, saving model to ./data_out/cnn_classifier_en\\weights.h5\n",
      "44/44 [==============================] - 57s 1s/step - loss: 0.4168 - accuracy: 0.8271 - val_loss: 0.3245 - val_accuracy: 0.8728\n",
      "Epoch 3/4\n",
      "44/44 [==============================] - ETA: 0s - loss: 0.2288 - accuracy: 0.9112\n",
      "Epoch 3: val_accuracy improved from 0.87280 to 0.88320, saving model to ./data_out/cnn_classifier_en\\weights.h5\n",
      "44/44 [==============================] - 57s 1s/step - loss: 0.2288 - accuracy: 0.9112 - val_loss: 0.2962 - val_accuracy: 0.8832\n",
      "Epoch 4/4\n",
      "44/44 [==============================] - ETA: 0s - loss: 0.1407 - accuracy: 0.9497\n",
      "Epoch 4: val_accuracy did not improve from 0.88320\n",
      "44/44 [==============================] - 57s 1s/step - loss: 0.1407 - accuracy: 0.9497 - val_loss: 0.3209 - val_accuracy: 0.8796\n"
     ]
    }
   ],
   "source": [
    "history = model.fit(train_input, train_label, batch_size=BATCH_SIZE, epochs=NUM_EPOCHS,\n",
    "                    validation_split=VALID_SPLIT, callbacks=[earlystop_callback, cp_callback])"
   ]
  },
  {
   "cell_type": "code",
   "execution_count": 16,
   "id": "5c4d4050-c47a-4673-b03a-df9b8df4dcdf",
   "metadata": {},
   "outputs": [],
   "source": [
    "def plot_graphs(history, string):\n",
    "    plt.plot(history.history[string])\n",
    "    plt.plot(history.history['val_'+string], '')\n",
    "    plt.xlabel(\"Epochs\")\n",
    "    plt.ylabel(string)\n",
    "    plt.legend([string, 'val_'+string])\n",
    "    plt.show()"
   ]
  },
  {
   "cell_type": "code",
   "execution_count": 17,
   "id": "b30d714c-a340-49f2-a272-99f819d05560",
   "metadata": {},
   "outputs": [
    {
     "data": {
      "image/png": "[encoded data removed]",
      "text/plain": [
       "<Figure size 432x288 with 1 Axes>"
      ]
     },
     "metadata": {
      "needs_background": "light"
     },
     "output_type": "display_data"
    }
   ],
   "source": [
    "plot_graphs(history, 'accuracy')"
   ]
  },
  {
   "cell_type": "code",
   "execution_count": 20,
   "id": "9f9ea4c4-a242-4a30-bbbb-db1ec4d39872",
   "metadata": {},
   "outputs": [
    {
     "data": {
      "image/png": "[encoded data removed]",
      "text/plain": [
       "<Figure size 432x288 with 1 Axes>"
      ]
     },
     "metadata": {
      "needs_background": "light"
     },
     "output_type": "display_data"
    }
   ],
   "source": [
    "plot_graphs(history, 'loss')"
   ]
  },
  {
   "cell_type": "code",
   "execution_count": 19,
   "id": "701c9f7b-ccdb-440e-8e6e-b86b147870ac",
   "metadata": {},
   "outputs": [],
   "source": [
    "DATA_OUT_PATH = './data_out/'\n",
    "TEST_INPUT_DATA = 'test_input.npy'\n",
    "TEST_ID_DATA = 'test_id.npy'\n",
    "\n",
    "test_input = np.load(open(DATA_IN_PATH + TEST_INPUT_DATA, 'rb'))\n",
    "test_input = pad_sequences(test_input, maxlen=test_input.shape[1])"
   ]
  },
  {
   "cell_type": "markdown",
   "id": "4cb8b8a8-d5db-4a9d-8dbc-eb130ee14406",
   "metadata": {},
   "source": [
    "## 최고성능 모델 불러오기"
   ]
  },
  {
   "cell_type": "code",
   "execution_count": 21,
   "id": "43eabcd6-fc80-4af2-8df7-aa060dce61be",
   "metadata": {},
   "outputs": [],
   "source": [
    "SAVE_FILE_NM = 'weights.h5'\n",
    "\n",
    "model.load_weights(os.path.join(DATA_OUT_PATH, model_name, SAVE_FILE_NM))"
   ]
  },
  {
   "cell_type": "markdown",
   "id": "3b15991d-8363-4bac-9ce8-46b1856f2f52",
   "metadata": {},
   "source": [
    "## 테스트 데이터 예측"
   ]
  },
  {
   "cell_type": "code",
   "execution_count": 22,
   "id": "dc2d9bd9-3f85-4193-929f-099e05bc0db5",
   "metadata": {},
   "outputs": [],
   "source": [
    "predictions = model.predict(test_input, batch_size=BATCH_SIZE)\n",
    "predictions = predictions.squeeze(-1)"
   ]
  },
  {
   "cell_type": "code",
   "execution_count": 23,
   "id": "5f725ca0-7419-4089-b156-562a10cabec4",
   "metadata": {},
   "outputs": [],
   "source": [
    "test_id = np.load(open(DATA_IN_PATH + TEST_ID_DATA, 'rb'), allow_pickle=True)\n",
    "\n",
    "if not os.path.exists(DATA_OUT_PATH):\n",
    "    os.makedirs(DATA_OUT_PATH)\n",
    "\n",
    "output = pd.DataFrame(data={\"id\": list(test_id), \"sentiment\": list(predictions)} )\n",
    "output.to_csv(DATA_OUT_PATH + 'movie_review_result_cnn.csv', index=False, quoting=3)"
   ]
  },
  {
   "cell_type": "code",
   "execution_count": null,
   "id": "fe062510-04a6-47ff-b7e5-5dcadbc54a89",
   "metadata": {},
   "outputs": [],
   "source": []
  }
 ],
 "metadata": {
  "kernelspec": {
   "display_name": "Python 3 (ipykernel)",
   "language": "python",
   "name": "python3"
  },
  "language_info": {
   "codemirror_mode": {
    "name": "ipython",
    "version": 3
   },
   "file_extension": ".py",
   "mimetype": "text/x-python",
   "name": "python",
   "nbconvert_exporter": "python",
   "pygments_lexer": "ipython3",
   "version": "3.8.12"
  }
 },
 "nbformat": 4,
 "nbformat_minor": 5
}
