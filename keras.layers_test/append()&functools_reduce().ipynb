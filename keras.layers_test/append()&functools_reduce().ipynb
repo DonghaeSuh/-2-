{
  "nbformat": 4,
  "nbformat_minor": 0,
  "metadata": {
    "colab": {
      "name": "append()&functools.reduce().ipynb",
      "provenance": [],
      "collapsed_sections": [],
      "authorship_tag": "ABX9TyMGGuopGr6m7upLDXC9mmTD",
      "include_colab_link": true
    },
    "kernelspec": {
      "name": "python3",
      "display_name": "Python 3"
    },
    "language_info": {
      "name": "python"
    }
  },
  "cells": [
    {
      "cell_type": "markdown",
      "metadata": {
        "id": "view-in-github",
        "colab_type": "text"
      },
      "source": [
        "<a href=\"https://colab.research.google.com/github/DonghaeSuh/NLP_tensorflow2/blob/main/append()%26functools_reduce().ipynb\" target=\"_parent\"><img src=\"https://colab.research.google.com/assets/colab-badge.svg\" alt=\"Open In Colab\"/></a>"
      ]
    },
    {
      "cell_type": "code",
      "execution_count": 8,
      "metadata": {
        "id": "gr-av2dOOwVW"
      },
      "outputs": [],
      "source": [
        "a=\"abc\"\n",
        "b=\"def\""
      ]
    },
    {
      "cell_type": "code",
      "source": [
        "r=[]\n",
        "r_2=[]"
      ],
      "metadata": {
        "id": "yqI8I5nLO6RD"
      },
      "execution_count": 9,
      "outputs": []
    },
    {
      "cell_type": "code",
      "source": [
        "r.append(a)\n",
        "r.append(b)\n",
        "r"
      ],
      "metadata": {
        "colab": {
          "base_uri": "https://localhost:8080/"
        },
        "id": "Qk5qvnwnPAjv",
        "outputId": "1edd7692-fd6d-4a73-bd2e-f679b133b388"
      },
      "execution_count": 10,
      "outputs": [
        {
          "output_type": "execute_result",
          "data": {
            "text/plain": [
              "['abc', 'def']"
            ]
          },
          "metadata": {},
          "execution_count": 10
        }
      ]
    },
    {
      "cell_type": "code",
      "source": [
        "r_2.append([x for x in r if x])\n",
        "print(r_2)\n",
        "r_2.append([x for x in r if x])\n",
        "print(r_2)"
      ],
      "metadata": {
        "colab": {
          "base_uri": "https://localhost:8080/"
        },
        "id": "etnk0vQlPKlt",
        "outputId": "b29832c8-e87b-497b-c288-621521983e05"
      },
      "execution_count": 11,
      "outputs": [
        {
          "output_type": "stream",
          "name": "stdout",
          "text": [
            "[['abc', 'def']]\n",
            "[['abc', 'def'], ['abc', 'def']]\n"
          ]
        }
      ]
    },
    {
      "cell_type": "code",
      "source": [
        "t1 = ([['1 11.','2 22.'],['a aa.','b bb.']],['3 33.','4 44.'],['5 55.','6 66.'])\n",
        "t2 = ([['7 77.','8 88.'],['c cc.','d dd.']],['9 99.','10 1010.'],['11 1111.','12 1212.'])"
      ],
      "metadata": {
        "id": "zEQbqajljEFa"
      },
      "execution_count": 20,
      "outputs": []
    },
    {
      "cell_type": "code",
      "source": [
        "[t1,t2]"
      ],
      "metadata": {
        "colab": {
          "base_uri": "https://localhost:8080/"
        },
        "id": "gIAw8cNckXmS",
        "outputId": "bd5e2633-101c-4c2a-8998-6a2412e357c9"
      },
      "execution_count": 21,
      "outputs": [
        {
          "output_type": "execute_result",
          "data": {
            "text/plain": [
              "[([['1 11.', '2 22.'], ['a aa.', 'b bb.']],\n",
              "  ['3 33.', '4 44.'],\n",
              "  ['5 55.', '6 66.']),\n",
              " ([['7 77.', '8 88.'], ['c cc.', 'd dd.']],\n",
              "  ['9 99.', '10 1010.'],\n",
              "  ['11 1111.', '12 1212.'])]"
            ]
          },
          "metadata": {},
          "execution_count": 21
        }
      ]
    },
    {
      "cell_type": "code",
      "source": [
        "from functools import reduce"
      ],
      "metadata": {
        "id": "74eXlqFUl3JM"
      },
      "execution_count": 17,
      "outputs": []
    },
    {
      "cell_type": "code",
      "source": [
        "flatten = lambda data: reduce(lambda x, y: x + y, data)"
      ],
      "metadata": {
        "id": "xdZF4Y60l0nf"
      },
      "execution_count": 5,
      "outputs": []
    },
    {
      "cell_type": "code",
      "source": [
        "for a,b,c in [t1,t2]:\n",
        "  print(a)\n",
        "  for i in a:\n",
        "    print(i)"
      ],
      "metadata": {
        "colab": {
          "base_uri": "https://localhost:8080/"
        },
        "id": "c7DGkpRZPyn0",
        "outputId": "1c3d4c8f-0e13-4182-b700-3a8a70372c05"
      },
      "execution_count": 22,
      "outputs": [
        {
          "output_type": "stream",
          "name": "stdout",
          "text": [
            "[['1 11.', '2 22.'], ['a aa.', 'b bb.']]\n",
            "['1 11.', '2 22.']\n",
            "['a aa.', 'b bb.']\n",
            "[['7 77.', '8 88.'], ['c cc.', 'd dd.']]\n",
            "['7 77.', '8 88.']\n",
            "['c cc.', 'd dd.']\n"
          ]
        }
      ]
    },
    {
      "cell_type": "code",
      "source": [
        "import re"
      ],
      "metadata": {
        "id": "YCD902vdIB9u"
      },
      "execution_count": 26,
      "outputs": []
    },
    {
      "cell_type": "code",
      "source": [
        "def tokenize(sent):\n",
        "    return [ x.strip() for x in re.split('(\\W+)', sent) if x and x.strip()]"
      ],
      "metadata": {
        "id": "aALHRo7THqEZ"
      },
      "execution_count": 34,
      "outputs": []
    },
    {
      "cell_type": "code",
      "source": [
        "for a,b,c in [t1,t2]:\n",
        "  print(a)\n",
        "  for i in a:\n",
        "    print(i)\n",
        "    i=flatten(i)\n",
        "    print(i)\n",
        "    print(type(i))\n",
        "    i=tokenize(i)\n",
        "    print(i)\n",
        "    print()"
      ],
      "metadata": {
        "colab": {
          "base_uri": "https://localhost:8080/"
        },
        "id": "I4mhKAAbmMae",
        "outputId": "c887ea12-39c1-4149-c274-adcf32101191"
      },
      "execution_count": 35,
      "outputs": [
        {
          "output_type": "stream",
          "name": "stdout",
          "text": [
            "[['1 11.', '2 22.'], ['a aa.', 'b bb.']]\n",
            "['1 11.', '2 22.']\n",
            "1 11.2 22.\n",
            "<class 'str'>\n",
            "['1', '11', '.', '2', '22', '.']\n",
            "\n",
            "['a aa.', 'b bb.']\n",
            "a aa.b bb.\n",
            "<class 'str'>\n",
            "['a', 'aa', '.', 'b', 'bb', '.']\n",
            "\n",
            "[['7 77.', '8 88.'], ['c cc.', 'd dd.']]\n",
            "['7 77.', '8 88.']\n",
            "7 77.8 88.\n",
            "<class 'str'>\n",
            "['7', '77', '.', '8', '88', '.']\n",
            "\n",
            "['c cc.', 'd dd.']\n",
            "c cc.d dd.\n",
            "<class 'str'>\n",
            "['c', 'cc', '.', 'd', 'dd', '.']\n",
            "\n"
          ]
        }
      ]
    },
    {
      "cell_type": "code",
      "source": [
        "for a,b,c in [t1,t2]:\n",
        "  print(b)\n",
        "  for i in b:\n",
        "    print(i)"
      ],
      "metadata": {
        "colab": {
          "base_uri": "https://localhost:8080/"
        },
        "id": "MtW8_-J3jtgP",
        "outputId": "4b7ecc21-be10-49a1-84b7-ba561a8b2843"
      },
      "execution_count": 9,
      "outputs": [
        {
          "output_type": "stream",
          "name": "stdout",
          "text": [
            "['3', '4']\n",
            "3\n",
            "4\n",
            "['9', '10']\n",
            "9\n",
            "10\n"
          ]
        }
      ]
    },
    {
      "cell_type": "code",
      "source": [
        "for a,b,c in [t1,t2]:\n",
        "  print(c)\n",
        "  for i in c:\n",
        "    print(i)"
      ],
      "metadata": {
        "colab": {
          "base_uri": "https://localhost:8080/"
        },
        "id": "e6dS5m4Nju9e",
        "outputId": "c8119d6e-4735-42d0-964d-9370504ca2b3"
      },
      "execution_count": 11,
      "outputs": [
        {
          "output_type": "stream",
          "name": "stdout",
          "text": [
            "['5', '6']\n",
            "5\n",
            "6\n",
            "['11', '12']\n",
            "11\n",
            "12\n"
          ]
        }
      ]
    }
  ]
}