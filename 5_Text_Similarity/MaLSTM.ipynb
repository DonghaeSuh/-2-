{
 "cells": [
  {
   "cell_type": "code",
   "execution_count": 1,
   "id": "4e987d6e-6b8a-42f7-99f2-f3e1c8bb6df0",
   "metadata": {},
   "outputs": [],
   "source": [
    "import os\n",
    "import json\n",
    "import numpy as np\n",
    "import pandas as pd\n",
    "import tensorflow as tf\n",
    "import matplotlib.pyplot as plt\n",
    "from tensorflow.keras import layers\n",
    "from tensorflow.keras.callbacks import EarlyStopping, ModelCheckpoint"
   ]
  },
  {
   "cell_type": "code",
   "execution_count": 2,
   "id": "ea19f500-2640-48f5-b46a-49bb58792bd4",
   "metadata": {},
   "outputs": [],
   "source": [
    "DATA_IN_PATH = './data_in/'\n",
    "DATA_OUT_PATH = './data_out/'\n",
    "TRAIN_Q1_DATA_FILE = 'train_q1.npy'\n",
    "TRAIN_Q2_DATA_FILE = 'train_q2.npy'\n",
    "TRAIN_LABEL_DATA_FILE = 'train_label.npy'\n",
    "DATA_CONFIGS = 'data_configs.json'"
   ]
  },
  {
   "cell_type": "code",
   "execution_count": 3,
   "id": "84d984cd-21da-45da-91c1-c0643048283b",
   "metadata": {},
   "outputs": [],
   "source": [
    "SEED_NUM = 1234\n",
    "tf.random.set_seed(SEED_NUM)"
   ]
  },
  {
   "cell_type": "code",
   "execution_count": 4,
   "id": "3ebcf63b-5066-4af6-b588-0b0a608bccce",
   "metadata": {},
   "outputs": [],
   "source": [
    "q1_data = np.load(open(DATA_IN_PATH + TRAIN_Q1_DATA_FILE, 'rb'))\n",
    "q2_data = np.load(open(DATA_IN_PATH + TRAIN_Q2_DATA_FILE, 'rb'))\n",
    "labels = np.load(open(DATA_IN_PATH + TRAIN_LABEL_DATA_FILE, 'rb'))\n",
    "prepro_configs = json.load(open(DATA_IN_PATH + DATA_CONFIGS, 'r'))"
   ]
  },
  {
   "cell_type": "markdown",
   "id": "d1ec1414-d69c-4a8f-b2bf-4634a1772ef0",
   "metadata": {},
   "source": [
    "## 하이퍼 파라미터"
   ]
  },
  {
   "cell_type": "code",
   "execution_count": 5,
   "id": "e246707a-708c-4b5f-8963-3f3113efc32a",
   "metadata": {},
   "outputs": [],
   "source": [
    "model_name = 'malstm_similarity'\n",
    "BATCH_SIZE = 128\n",
    "NUM_EPOCHS = 5\n",
    "VALID_SPLIT = 0.1\n",
    "\n",
    "kargs = {\n",
    "    'vocab_size': prepro_configs['vocab_size'],\n",
    "    'embedding_dimension': 100,\n",
    "    'lstm_dimension': 150,\n",
    "}"
   ]
  },
  {
   "cell_type": "markdown",
   "id": "c868d581-8ad7-4ffc-bec2-026b5be6ee41",
   "metadata": {},
   "source": [
    "## 모델 구성"
   ]
  },
  {
   "cell_type": "code",
   "execution_count": 6,
   "id": "d8752986-77db-4d7a-b93d-406373694582",
   "metadata": {},
   "outputs": [],
   "source": [
    "class MaLSTM(tf.keras.Model):\n",
    "    \n",
    "    def __init__(self, **kargs):\n",
    "        super(MaLSTM, self).__init__(name=model_name)\n",
    "        self.embedding = layers.Embedding(input_dim=kargs['vocab_size'],\n",
    "                                     output_dim=kargs['embedding_dimension'])\n",
    "        self.lstm = layers.LSTM(units=kargs['lstm_dimension'])\n",
    "        \n",
    "    def call(self, x):\n",
    "        x1, x2 = x\n",
    "        x1 = self.embedding(x1)\n",
    "        x2 = self.embedding(x2)\n",
    "        x1 = self.lstm(x1)\n",
    "        x2 = self.lstm(x2)\n",
    "        x = tf.exp(-tf.reduce_sum(tf.abs(x1 - x2), axis=1))\n",
    "        \n",
    "        return x"
   ]
  },
  {
   "cell_type": "code",
   "execution_count": 7,
   "id": "3e435ca2-0771-47df-9afc-8034699b8456",
   "metadata": {},
   "outputs": [],
   "source": [
    "model = MaLSTM(**kargs)\n",
    "\n",
    "model.compile(optimizer=tf.keras.optimizers.Adam(1e-3),\n",
    "              loss=tf.keras.losses.BinaryCrossentropy(),\n",
    "              metrics=[tf.keras.metrics.BinaryAccuracy(name='accuracy')])"
   ]
  },
  {
   "cell_type": "markdown",
   "id": "8d61b090-54a1-495b-b954-8a086663500d",
   "metadata": {},
   "source": [
    "## earlystop"
   ]
  },
  {
   "cell_type": "code",
   "execution_count": 8,
   "id": "d35b5597-02e4-40ea-bfe6-4cffffe70d16",
   "metadata": {},
   "outputs": [
    {
     "name": "stdout",
     "output_type": "stream",
     "text": [
      "./data_out/malstm_similarity -- Folder create complete \n",
      "\n"
     ]
    }
   ],
   "source": [
    "# overfitting을 막기 위한 ealrystop 추가\n",
    "earlystop_callback = EarlyStopping(monitor='val_accuracy', min_delta=0.0001, patience=1)\n",
    "# min_delta: the threshold that triggers the termination (acc should at least improve 0.0001)\n",
    "# patience: no improvment epochs (patience = 1, 1번 이상 상승이 없으면 종료)\\\n",
    "\n",
    "checkpoint_path = DATA_OUT_PATH + model_name + '/weights.h5'\n",
    "checkpoint_dir = os.path.dirname(checkpoint_path)\n",
    "\n",
    "# Create path if exists\n",
    "if os.path.exists(checkpoint_dir):\n",
    "    print(\"{} -- Folder already exists \\n\".format(checkpoint_dir))\n",
    "else:\n",
    "    os.makedirs(checkpoint_dir, exist_ok=True)\n",
    "    print(\"{} -- Folder create complete \\n\".format(checkpoint_dir))\n",
    "    \n",
    "\n",
    "cp_callback = ModelCheckpoint(\n",
    "    checkpoint_path, monitor='val_accuracy', verbose=1, save_best_only=True, save_weights_only=True)"
   ]
  },
  {
   "cell_type": "markdown",
   "id": "45404149-21c3-41bf-bf1f-e44cf8ef7f27",
   "metadata": {},
   "source": [
    "## 모델 학습"
   ]
  },
  {
   "cell_type": "code",
   "execution_count": 9,
   "id": "c9af60ee-dccf-4c61-805b-2edbba14e5c5",
   "metadata": {},
   "outputs": [
    {
     "name": "stdout",
     "output_type": "stream",
     "text": [
      "Epoch 1/5\n",
      "2100/2100 [==============================] - ETA: 0s - loss: 0.5338 - accuracy: 0.7335\n",
      "Epoch 1: val_accuracy improved from -inf to 0.65847, saving model to ./data_out/malstm_similarity\\weights.h5\n",
      "2100/2100 [==============================] - 635s 299ms/step - loss: 0.5338 - accuracy: 0.7335 - val_loss: 0.6416 - val_accuracy: 0.6585\n",
      "Epoch 2/5\n",
      "2100/2100 [==============================] - ETA: 0s - loss: 0.4084 - accuracy: 0.8171\n",
      "Epoch 2: val_accuracy improved from 0.65847 to 0.70514, saving model to ./data_out/malstm_similarity\\weights.h5\n",
      "2100/2100 [==============================] - 588s 280ms/step - loss: 0.4084 - accuracy: 0.8171 - val_loss: 0.6139 - val_accuracy: 0.7051\n",
      "Epoch 3/5\n",
      "2100/2100 [==============================] - ETA: 0s - loss: 0.3570 - accuracy: 0.8456\n",
      "Epoch 3: val_accuracy improved from 0.70514 to 0.86695, saving model to ./data_out/malstm_similarity\\weights.h5\n",
      "2100/2100 [==============================] - 591s 282ms/step - loss: 0.3570 - accuracy: 0.8456 - val_loss: 0.3651 - val_accuracy: 0.8669\n",
      "Epoch 4/5\n",
      "2100/2100 [==============================] - ETA: 0s - loss: 0.3206 - accuracy: 0.8653\n",
      "Epoch 4: val_accuracy did not improve from 0.86695\n",
      "2100/2100 [==============================] - 578s 275ms/step - loss: 0.3206 - accuracy: 0.8653 - val_loss: 0.4745 - val_accuracy: 0.8168\n"
     ]
    }
   ],
   "source": [
    "history = model.fit((q1_data, q2_data), labels, batch_size=BATCH_SIZE, epochs=NUM_EPOCHS,\n",
    "                    validation_split=VALID_SPLIT, callbacks=[earlystop_callback, cp_callback])"
   ]
  },
  {
   "cell_type": "markdown",
   "id": "b3e59850-1e5e-4ce7-b64a-fd9f7c47a7e4",
   "metadata": {},
   "source": [
    "## 성능 그래프"
   ]
  },
  {
   "cell_type": "code",
   "execution_count": 10,
   "id": "e3431ecd-6fa9-4e5f-99f6-dab5a57dbd1b",
   "metadata": {
    "tags": []
   },
   "outputs": [],
   "source": [
    "def plot_graphs(history, string):\n",
    "    plt.plot(history.history[string])\n",
    "    plt.plot(history.history['val_'+string], '')\n",
    "    plt.xlabel(\"Epochs\")\n",
    "    plt.ylabel(string)\n",
    "    plt.legend([string, 'val_'+string])\n",
    "    plt.show()"
   ]
  },
  {
   "cell_type": "code",
   "execution_count": 11,
   "id": "1b258da7-f312-4299-9648-64a2e28f3ea7",
   "metadata": {},
   "outputs": [
    {
     "data": {
      "image/png": "[encoded data removed]",
      "text/plain": [
       "<Figure size 432x288 with 1 Axes>"
      ]
     },
     "metadata": {
      "needs_background": "light"
     },
     "output_type": "display_data"
    }
   ],
   "source": [
    "plot_graphs(history, 'loss')"
   ]
  },
  {
   "cell_type": "code",
   "execution_count": 12,
   "id": "16ebc010-2520-4408-9a05-fd6b442e9bba",
   "metadata": {},
   "outputs": [
    {
     "data": {
      "image/png": "[encoded data removed]",
      "text/plain": [
       "<Figure size 432x288 with 1 Axes>"
      ]
     },
     "metadata": {
      "needs_background": "light"
     },
     "output_type": "display_data"
    }
   ],
   "source": [
    "plot_graphs(history, 'accuracy')"
   ]
  },
  {
   "cell_type": "markdown",
   "id": "61d008f6-4d51-4d4b-a088-84b53e30ae67",
   "metadata": {},
   "source": [
    "## 테스트 데이터 불러오기"
   ]
  },
  {
   "cell_type": "code",
   "execution_count": 13,
   "id": "c311272a-89ca-4725-86c6-023b9f574cbd",
   "metadata": {},
   "outputs": [],
   "source": [
    "TEST_Q1_DATA_FILE = 'test_q1.npy'\n",
    "TEST_Q2_DATA_FILE = 'test_q2.npy'\n",
    "TEST_ID_DATA_FILE = 'test_id.npy'\n",
    "\n",
    "test_q1_data = np.load(open(DATA_IN_PATH + TEST_Q1_DATA_FILE, 'rb'))\n",
    "test_q2_data = np.load(open(DATA_IN_PATH + TEST_Q2_DATA_FILE, 'rb'))\n",
    "test_id_data = np.load(open(DATA_IN_PATH + TEST_ID_DATA_FILE, 'rb'), allow_pickle=True)"
   ]
  },
  {
   "cell_type": "markdown",
   "id": "2b88d8b6-399d-4405-a032-59be56e2cae5",
   "metadata": {},
   "source": [
    "## 최고성능 모델 불러오기"
   ]
  },
  {
   "cell_type": "code",
   "execution_count": 14,
   "id": "43396711-7ee6-451c-b542-fdad80522f98",
   "metadata": {},
   "outputs": [],
   "source": [
    "SAVE_FILE_NM = 'weights.h5'\n",
    "model.load_weights(os.path.join(DATA_OUT_PATH, model_name, SAVE_FILE_NM))"
   ]
  },
  {
   "cell_type": "markdown",
   "id": "38541f35-e60a-40b9-8d42-714445232f86",
   "metadata": {},
   "source": [
    "## 예측하기"
   ]
  },
  {
   "cell_type": "code",
   "execution_count": 15,
   "id": "0eb83652-9f15-4293-a64f-1fa82519c0a8",
   "metadata": {},
   "outputs": [],
   "source": [
    "predictions = model.predict((test_q1_data, test_q2_data), batch_size=BATCH_SIZE)"
   ]
  },
  {
   "cell_type": "code",
   "execution_count": 16,
   "id": "eb390aaf-5ff8-4302-a370-38c4cddbada5",
   "metadata": {},
   "outputs": [],
   "source": [
    "output = pd.DataFrame( data={\"test_id\":test_id_data, \"is_duplicate\": list(predictions)} )\n",
    "output.to_csv(DATA_OUT_PATH+\"LSTM_predict.csv\", index=False, quoting=3)"
   ]
  }
 ],
 "metadata": {
  "kernelspec": {
   "display_name": "Python 3 (ipykernel)",
   "language": "python",
   "name": "python3"
  },
  "language_info": {
   "codemirror_mode": {
    "name": "ipython",
    "version": 3
   },
   "file_extension": ".py",
   "mimetype": "text/x-python",
   "name": "python",
   "nbconvert_exporter": "python",
   "pygments_lexer": "ipython3",
   "version": "3.8.12"
  }
 },
 "nbformat": 4,
 "nbformat_minor": 5
}
