{
 "cells": [
  {
   "cell_type": "code",
   "execution_count": 2,
   "id": "bcc9c62b-001c-4e13-9e74-90735e90bbc8",
   "metadata": {},
   "outputs": [],
   "source": [
    "from sklearn.feature_extraction.text import TfidfVectorizer \n",
    "text = ['I go to my home my home is very large', \\\n",
    "        'I went out my home I go to the market', \\\n",
    "        'I bought a yellow lemon I go back to home'] \n",
    "tfidf_vectorizer = TfidfVectorizer()\n"
   ]
  },
  {
   "cell_type": "code",
   "execution_count": 14,
   "id": "4c0ccf91-5142-4194-a97f-790256223b26",
   "metadata": {},
   "outputs": [
    {
     "name": "stdout",
     "output_type": "stream",
     "text": [
      "{'go': 2, 'to': 11, 'my': 8, 'home': 3, 'is': 4, 'very': 12, 'large': 5, 'went': 13, 'out': 9, 'the': 10, 'market': 7, 'bought': 1, 'yellow': 14, 'lemon': 6, 'back': 0}\n"
     ]
    },
    {
     "data": {
      "text/plain": [
       "[('back', 0),\n",
       " ('bought', 1),\n",
       " ('go', 2),\n",
       " ('home', 3),\n",
       " ('is', 4),\n",
       " ('large', 5),\n",
       " ('lemon', 6),\n",
       " ('market', 7),\n",
       " ('my', 8),\n",
       " ('out', 9),\n",
       " ('the', 10),\n",
       " ('to', 11),\n",
       " ('very', 12),\n",
       " ('went', 13),\n",
       " ('yellow', 14)]"
      ]
     },
     "execution_count": 14,
     "metadata": {},
     "output_type": "execute_result"
    }
   ],
   "source": [
    "tfidf_vectorizer.fit(text) \n",
    "print(tfidf_vectorizer.vocabulary_)\n",
    "sorted(tfidf_vectorizer.vocabulary_.items())\n",
    "\n"
   ]
  },
  {
   "cell_type": "markdown",
   "id": "0d340e6a-533c-4268-9920-f0afc639735e",
   "metadata": {},
   "source": [
    "## min_df"
   ]
  },
  {
   "cell_type": "code",
   "execution_count": 15,
   "id": "93700e92-addc-442f-a54d-7349709ff7f5",
   "metadata": {},
   "outputs": [
    {
     "data": {
      "text/plain": [
       "[('back', 0),\n",
       " ('bought', 1),\n",
       " ('go', 2),\n",
       " ('home', 3),\n",
       " ('is', 4),\n",
       " ('large', 5),\n",
       " ('lemon', 6),\n",
       " ('market', 7),\n",
       " ('my', 8),\n",
       " ('out', 9),\n",
       " ('the', 10),\n",
       " ('to', 11),\n",
       " ('very', 12),\n",
       " ('went', 13),\n",
       " ('yellow', 14)]"
      ]
     },
     "execution_count": 15,
     "metadata": {},
     "output_type": "execute_result"
    }
   ],
   "source": [
    "min_df_vectorizer = TfidfVectorizer(min_df = 0) \n",
    "min_df_vectorizer.fit(text) \n",
    "sorted(min_df_vectorizer.vocabulary_.items())\n"
   ]
  },
  {
   "cell_type": "code",
   "execution_count": 4,
   "id": "f866755f-b237-4279-a914-51e7df1d7fa5",
   "metadata": {},
   "outputs": [
    {
     "data": {
      "text/plain": [
       "[('go', 0), ('home', 1), ('my', 2), ('to', 3)]"
      ]
     },
     "execution_count": 4,
     "metadata": {},
     "output_type": "execute_result"
    }
   ],
   "source": [
    "min_df_vectorizer = TfidfVectorizer(min_df = 2) \n",
    "min_df_vectorizer.fit(text) \n",
    "sorted(min_df_vectorizer.vocabulary_.items())\n",
    "\n"
   ]
  },
  {
   "cell_type": "markdown",
   "id": "cfd707a9-ce22-47ef-90d7-2241fa9c00cd",
   "metadata": {},
   "source": [
    "## analyzer"
   ]
  },
  {
   "cell_type": "code",
   "execution_count": 5,
   "id": "eec2af8a-a113-48bd-a9a8-42d9136164df",
   "metadata": {},
   "outputs": [
    {
     "data": {
      "text/plain": [
       "[('back', 0),\n",
       " ('bought', 1),\n",
       " ('go', 2),\n",
       " ('home', 3),\n",
       " ('is', 4),\n",
       " ('large', 5),\n",
       " ('lemon', 6),\n",
       " ('market', 7),\n",
       " ('my', 8),\n",
       " ('out', 9),\n",
       " ('the', 10),\n",
       " ('to', 11),\n",
       " ('very', 12),\n",
       " ('went', 13),\n",
       " ('yellow', 14)]"
      ]
     },
     "execution_count": 5,
     "metadata": {},
     "output_type": "execute_result"
    }
   ],
   "source": [
    "vectorizer = TfidfVectorizer(analyzer = 'word') \n",
    "vectorizer.fit(text) \n",
    "sorted(vectorizer.vocabulary_.items())"
   ]
  },
  {
   "cell_type": "code",
   "execution_count": 6,
   "id": "a0b8266e-317b-4ff1-8709-cfd19b26028b",
   "metadata": {},
   "outputs": [
    {
     "data": {
      "text/plain": [
       "[(' ', 0),\n",
       " ('a', 1),\n",
       " ('b', 2),\n",
       " ('c', 3),\n",
       " ('e', 4),\n",
       " ('g', 5),\n",
       " ('h', 6),\n",
       " ('i', 7),\n",
       " ('k', 8),\n",
       " ('l', 9),\n",
       " ('m', 10),\n",
       " ('n', 11),\n",
       " ('o', 12),\n",
       " ('r', 13),\n",
       " ('s', 14),\n",
       " ('t', 15),\n",
       " ('u', 16),\n",
       " ('v', 17),\n",
       " ('w', 18),\n",
       " ('y', 19)]"
      ]
     },
     "execution_count": 6,
     "metadata": {},
     "output_type": "execute_result"
    }
   ],
   "source": [
    "vectorizer = TfidfVectorizer(analyzer = 'char') \n",
    "vectorizer.fit(text) \n",
    "sorted(vectorizer.vocabulary_.items())\n",
    "\n"
   ]
  },
  {
   "cell_type": "markdown",
   "id": "14eff10d-9952-4379-a517-253244a9edfe",
   "metadata": {},
   "source": [
    "## sublinear_tf"
   ]
  },
  {
   "cell_type": "code",
   "execution_count": 17,
   "id": "d33d7aed-8935-47b6-a668-a4eae0825932",
   "metadata": {},
   "outputs": [
    {
     "name": "stdout",
     "output_type": "stream",
     "text": [
      "5.605170185988092\n",
      "10.210340371976184\n"
     ]
    }
   ],
   "source": [
    "import numpy as np\n",
    "def sublinear_func(input):\n",
    "    rst = 1 + np.log(input)\n",
    "    return rst\n",
    "    \n",
    "print(sublinear_func(100))\n",
    "print(sublinear_func(10000))"
   ]
  },
  {
   "cell_type": "markdown",
   "id": "acca846a-5f32-49ea-bee1-58eeb2c9a5f8",
   "metadata": {},
   "source": [
    "## ngram_range"
   ]
  },
  {
   "cell_type": "code",
   "execution_count": 8,
   "id": "1c2e4078-3769-42c5-8b78-6a4fb5de06de",
   "metadata": {},
   "outputs": [
    {
     "data": {
      "text/plain": [
       "[('back', 0),\n",
       " ('bought', 1),\n",
       " ('go', 2),\n",
       " ('home', 3),\n",
       " ('is', 4),\n",
       " ('large', 5),\n",
       " ('lemon', 6),\n",
       " ('market', 7),\n",
       " ('my', 8),\n",
       " ('out', 9),\n",
       " ('the', 10),\n",
       " ('to', 11),\n",
       " ('very', 12),\n",
       " ('went', 13),\n",
       " ('yellow', 14)]"
      ]
     },
     "execution_count": 8,
     "metadata": {},
     "output_type": "execute_result"
    }
   ],
   "source": [
    "vectorizer = TfidfVectorizer(ngram_range = (1, 1))\n",
    "vectorizer.fit(text)\n",
    "sorted(vectorizer.vocabulary_.items())"
   ]
  },
  {
   "cell_type": "code",
   "execution_count": 9,
   "id": "e57dbdd5-464f-46b7-a48d-486bd745eb33",
   "metadata": {},
   "outputs": [
    {
     "data": {
      "text/plain": [
       "[('back', 0),\n",
       " ('back to', 1),\n",
       " ('bought', 2),\n",
       " ('bought yellow', 3),\n",
       " ('go', 4),\n",
       " ('go back', 5),\n",
       " ('go to', 6),\n",
       " ('home', 7),\n",
       " ('home go', 8),\n",
       " ('home is', 9),\n",
       " ('home my', 10),\n",
       " ('is', 11),\n",
       " ('is very', 12),\n",
       " ('large', 13),\n",
       " ('lemon', 14),\n",
       " ('lemon go', 15),\n",
       " ('market', 16),\n",
       " ('my', 17),\n",
       " ('my home', 18),\n",
       " ('out', 19),\n",
       " ('out my', 20),\n",
       " ('the', 21),\n",
       " ('the market', 22),\n",
       " ('to', 23),\n",
       " ('to home', 24),\n",
       " ('to my', 25),\n",
       " ('to the', 26),\n",
       " ('very', 27),\n",
       " ('very large', 28),\n",
       " ('went', 29),\n",
       " ('went out', 30),\n",
       " ('yellow', 31),\n",
       " ('yellow lemon', 32)]"
      ]
     },
     "execution_count": 9,
     "metadata": {},
     "output_type": "execute_result"
    }
   ],
   "source": [
    "vectorizer = TfidfVectorizer(ngram_range = (1, 2)) \n",
    "vectorizer.fit(text) \n",
    "sorted(vectorizer.vocabulary_.items())"
   ]
  },
  {
   "cell_type": "code",
   "execution_count": 10,
   "id": "c127ec36-0bb0-47b6-8bf9-f1bb741b2084",
   "metadata": {},
   "outputs": [
    {
     "data": {
      "text/plain": [
       "[(' ', 0),\n",
       " (' a', 1),\n",
       " (' b', 2),\n",
       " (' g', 3),\n",
       " (' h', 4),\n",
       " (' i', 5),\n",
       " (' l', 6),\n",
       " (' m', 7),\n",
       " (' o', 8),\n",
       " (' t', 9),\n",
       " (' v', 10),\n",
       " (' w', 11),\n",
       " (' y', 12),\n",
       " ('a', 13),\n",
       " ('a ', 14),\n",
       " ('ac', 15),\n",
       " ('ar', 16),\n",
       " ('b', 17),\n",
       " ('ba', 18),\n",
       " ('bo', 19),\n",
       " ('c', 20),\n",
       " ('ck', 21),\n",
       " ('e', 22),\n",
       " ('e ', 23),\n",
       " ('el', 24),\n",
       " ('em', 25),\n",
       " ('en', 26),\n",
       " ('er', 27),\n",
       " ('et', 28),\n",
       " ('g', 29),\n",
       " ('ge', 30),\n",
       " ('gh', 31),\n",
       " ('go', 32),\n",
       " ('h', 33),\n",
       " ('he', 34),\n",
       " ('ho', 35),\n",
       " ('ht', 36),\n",
       " ('i', 37),\n",
       " ('i ', 38),\n",
       " ('is', 39),\n",
       " ('k', 40),\n",
       " ('k ', 41),\n",
       " ('ke', 42),\n",
       " ('l', 43),\n",
       " ('la', 44),\n",
       " ('le', 45),\n",
       " ('ll', 46),\n",
       " ('lo', 47),\n",
       " ('m', 48),\n",
       " ('ma', 49),\n",
       " ('me', 50),\n",
       " ('mo', 51),\n",
       " ('my', 52),\n",
       " ('n', 53),\n",
       " ('n ', 54),\n",
       " ('nt', 55),\n",
       " ('o', 56),\n",
       " ('o ', 57),\n",
       " ('om', 58),\n",
       " ('on', 59),\n",
       " ('ou', 60),\n",
       " ('ow', 61),\n",
       " ('r', 62),\n",
       " ('rg', 63),\n",
       " ('rk', 64),\n",
       " ('ry', 65),\n",
       " ('s', 66),\n",
       " ('s ', 67),\n",
       " ('t', 68),\n",
       " ('t ', 69),\n",
       " ('th', 70),\n",
       " ('to', 71),\n",
       " ('u', 72),\n",
       " ('ug', 73),\n",
       " ('ut', 74),\n",
       " ('v', 75),\n",
       " ('ve', 76),\n",
       " ('w', 77),\n",
       " ('w ', 78),\n",
       " ('we', 79),\n",
       " ('y', 80),\n",
       " ('y ', 81),\n",
       " ('ye', 82)]"
      ]
     },
     "execution_count": 10,
     "metadata": {},
     "output_type": "execute_result"
    }
   ],
   "source": [
    "vectorizer = TfidfVectorizer(ngram_range = (1, 2), analyzer = 'char') \n",
    "vectorizer.fit(text) \n",
    "sorted(vectorizer.vocabulary_.items())\n",
    "\n"
   ]
  },
  {
   "cell_type": "markdown",
   "id": "8933efa4-172c-4e17-9361-59a62b5979d9",
   "metadata": {},
   "source": [
    "## max_feature"
   ]
  },
  {
   "cell_type": "code",
   "execution_count": 11,
   "id": "3bac5836-3d29-4ac6-9115-71c272fa2352",
   "metadata": {},
   "outputs": [
    {
     "data": {
      "text/plain": [
       "['I go to my home my home is very large',\n",
       " 'I went out my home I go to the market',\n",
       " 'I bought a yellow lemon I go back to home']"
      ]
     },
     "execution_count": 11,
     "metadata": {},
     "output_type": "execute_result"
    }
   ],
   "source": [
    "text"
   ]
  },
  {
   "cell_type": "code",
   "execution_count": 12,
   "id": "631960ee-491b-4c40-a163-2c0a4d266ce2",
   "metadata": {},
   "outputs": [
    {
     "data": {
      "text/plain": [
       "(3, 15)"
      ]
     },
     "execution_count": 12,
     "metadata": {},
     "output_type": "execute_result"
    }
   ],
   "source": [
    "vectorizer = TfidfVectorizer() \n",
    "a = vectorizer.fit_transform(text).toarray() \n",
    "a.shape"
   ]
  },
  {
   "cell_type": "code",
   "execution_count": 20,
   "id": "1e43f870-f2d7-4f03-a663-cf752600c4ba",
   "metadata": {},
   "outputs": [
    {
     "data": {
      "text/plain": [
       "array([[0.        , 0.        , 0.23334192, 0.46668384, 0.39508221,\n",
       "        0.39508221, 0.        , 0.        , 0.60094041, 0.23334192],\n",
       "       [0.        , 0.        , 0.3645444 , 0.3645444 , 0.        ,\n",
       "        0.        , 0.        , 0.61722732, 0.46941728, 0.3645444 ],\n",
       "       [0.49711994, 0.49711994, 0.29360705, 0.29360705, 0.        ,\n",
       "        0.        , 0.49711994, 0.        , 0.        , 0.29360705]])"
      ]
     },
     "execution_count": 20,
     "metadata": {},
     "output_type": "execute_result"
    }
   ],
   "source": [
    "a"
   ]
  },
  {
   "cell_type": "code",
   "execution_count": 13,
   "id": "51f9b130-aa75-47ed-8eb3-7d196e80e9c8",
   "metadata": {},
   "outputs": [
    {
     "data": {
      "text/plain": [
       "(3, 10)"
      ]
     },
     "execution_count": 13,
     "metadata": {},
     "output_type": "execute_result"
    }
   ],
   "source": [
    "vectorizer = TfidfVectorizer(max_features = 10) \n",
    "a = vectorizer.fit_transform(text).toarray() \n",
    "a.shape"
   ]
  },
  {
   "cell_type": "code",
   "execution_count": 19,
   "id": "791f2896-9ae8-4608-a775-78c43254c2a1",
   "metadata": {},
   "outputs": [
    {
     "name": "stdout",
     "output_type": "stream",
     "text": [
      "[[0.         0.         0.23334192 0.46668384 0.39508221 0.39508221\n",
      "  0.         0.         0.60094041 0.23334192]\n",
      " [0.         0.         0.3645444  0.3645444  0.         0.\n",
      "  0.         0.61722732 0.46941728 0.3645444 ]\n",
      " [0.49711994 0.49711994 0.29360705 0.29360705 0.         0.\n",
      "  0.49711994 0.         0.         0.29360705]]\n"
     ]
    }
   ],
   "source": [
    "print(a)"
   ]
  }
 ],
 "metadata": {
  "kernelspec": {
   "display_name": "Python 3 (ipykernel)",
   "language": "python",
   "name": "python3"
  },
  "language_info": {
   "codemirror_mode": {
    "name": "ipython",
    "version": 3
   },
   "file_extension": ".py",
   "mimetype": "text/x-python",
   "name": "python",
   "nbconvert_exporter": "python",
   "pygments_lexer": "ipython3",
   "version": "3.8.12"
  }
 },
 "nbformat": 4,
 "nbformat_minor": 5
}
