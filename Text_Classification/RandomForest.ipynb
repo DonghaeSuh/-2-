{
 "cells": [
  {
   "cell_type": "code",
   "execution_count": 1,
   "id": "6d661483-fee6-4012-9fa1-7b36bf915b11",
   "metadata": {},
   "outputs": [],
   "source": [
    "import pandas as pd\n",
    "import numpy as np\n",
    "import os\n",
    "from sklearn.feature_extraction.text import CountVectorizer"
   ]
  },
  {
   "cell_type": "code",
   "execution_count": 2,
   "id": "99692d49-7b21-448e-9a5e-a266c7c8cadc",
   "metadata": {},
   "outputs": [],
   "source": [
    "DATA_IN_PATH = './data_in/'\n",
    "DATA_OUT_PATH = './data_out/'\n",
    "TRAIN_CLEAN_DATA = 'train_clean.csv'\n",
    "TEST_SIZE = 0.2\n",
    "RANDOM_SEED = 42"
   ]
  },
  {
   "cell_type": "code",
   "execution_count": 3,
   "id": "d47a159a-e3c5-4f1f-916e-af00b62ac4d3",
   "metadata": {},
   "outputs": [],
   "source": [
    "train_data = pd.read_csv(DATA_IN_PATH + TRAIN_CLEAN_DATA)"
   ]
  },
  {
   "cell_type": "code",
   "execution_count": 4,
   "id": "fec99794-fb56-4021-ba0f-f28d3d0c036c",
   "metadata": {},
   "outputs": [],
   "source": [
    "reviews = list(train_data['review'])\n",
    "y = np.array(train_data['sentiment'])"
   ]
  },
  {
   "cell_type": "markdown",
   "id": "4ead6abe-fceb-43d8-bab2-787d03fa7883",
   "metadata": {},
   "source": [
    "## CountVectorizer 벡터화"
   ]
  },
  {
   "cell_type": "code",
   "execution_count": 5,
   "id": "56682d44-195b-459b-87c7-1cb952bec658",
   "metadata": {},
   "outputs": [],
   "source": [
    "vectorizer = CountVectorizer(analyzer = \"word\", max_features = 5000) \n",
    "\n",
    "train_data_features = vectorizer.fit_transform(reviews)"
   ]
  },
  {
   "cell_type": "code",
   "execution_count": 6,
   "id": "ecfd4601-8a8f-45ee-8519-5bef749c2966",
   "metadata": {},
   "outputs": [
    {
     "data": {
      "text/plain": [
       "<25000x5000 sparse matrix of type '<class 'numpy.int64'>'\n",
       "\twith 1975048 stored elements in Compressed Sparse Row format>"
      ]
     },
     "execution_count": 6,
     "metadata": {},
     "output_type": "execute_result"
    }
   ],
   "source": [
    "train_data_features"
   ]
  },
  {
   "cell_type": "markdown",
   "id": "62cf7a7e-1816-42fe-a9a7-10b33a59193f",
   "metadata": {},
   "source": [
    "## 학습 검증 데이터 분리"
   ]
  },
  {
   "cell_type": "code",
   "execution_count": 7,
   "id": "c79ff38a-30c7-419f-aabf-9fd42e7995d0",
   "metadata": {},
   "outputs": [],
   "source": [
    "from sklearn.model_selection import train_test_split"
   ]
  },
  {
   "cell_type": "code",
   "execution_count": 8,
   "id": "f0ca7fb2-05bf-4864-93ea-65460dc418ff",
   "metadata": {},
   "outputs": [],
   "source": [
    "train_input, eval_input, train_label, eval_label = train_test_split(train_data_features, y, test_size=TEST_SIZE, random_state=RANDOM_SEED)"
   ]
  },
  {
   "cell_type": "code",
   "execution_count": 41,
   "id": "627437df-4f86-4d10-901f-bc854d4e7a46",
   "metadata": {},
   "outputs": [
    {
     "name": "stdout",
     "output_type": "stream",
     "text": [
      "(20000, 5000)\n"
     ]
    }
   ],
   "source": [
    "print(train_input.shape)"
   ]
  },
  {
   "cell_type": "markdown",
   "id": "42e2f2a1-4e24-448e-9108-77d9a0a9fcd8",
   "metadata": {},
   "source": [
    "## 모델 구현 및 학습"
   ]
  },
  {
   "cell_type": "code",
   "execution_count": 11,
   "id": "75e853ba-0e4e-4a5c-8bea-8576f439794e",
   "metadata": {
    "tags": []
   },
   "outputs": [
    {
     "data": {
      "text/plain": [
       "RandomForestClassifier()"
      ]
     },
     "execution_count": 11,
     "metadata": {},
     "output_type": "execute_result"
    }
   ],
   "source": [
    "from sklearn.ensemble import RandomForestClassifier\n",
    "\n",
    "\n",
    "# 랜덤 포레스트 분류기에  100개 의사 결정 트리를 사용한다.\n",
    "forest = RandomForestClassifier(n_estimators = 100) \n",
    "\n",
    "# 단어 묶음을 벡터화한 데이터와 정답 데이터를 가지고 학습을 시작한다.\n",
    "forest.fit( train_input, train_label )"
   ]
  },
  {
   "cell_type": "code",
   "execution_count": 12,
   "id": "b85b54a6-7b0a-4bc1-a06b-902a17202205",
   "metadata": {},
   "outputs": [
    {
     "name": "stdout",
     "output_type": "stream",
     "text": [
      "Accuracy: 0.839800\n"
     ]
    }
   ],
   "source": [
    "print(\"Accuracy: %f\" % forest.score(eval_input, eval_label))  # 검증함수로 정확도 측정"
   ]
  },
  {
   "cell_type": "markdown",
   "id": "a561c365-9d75-4c48-b550-6539a62fbb74",
   "metadata": {},
   "source": [
    "## 데이터 제출"
   ]
  },
  {
   "cell_type": "code",
   "execution_count": 37,
   "id": "09815b3e-0854-4c6f-94ea-8ea0cc070dc5",
   "metadata": {},
   "outputs": [],
   "source": [
    "TEST_CLEAN_DATA = 'test_clean.csv'\n",
    "\n",
    "test_data = pd.read_csv(DATA_IN_PATH + TEST_CLEAN_DATA)\n",
    "\n",
    "test_reviews = list(test_data['review'])\n",
    "ids = list(test_data['id'])"
   ]
  },
  {
   "cell_type": "code",
   "execution_count": 38,
   "id": "f3a013ce-5efc-4bf0-890c-91a3bf38e104",
   "metadata": {},
   "outputs": [],
   "source": [
    "test_data_features = vectorizer.transform(test_reviews)"
   ]
  },
  {
   "cell_type": "code",
   "execution_count": 40,
   "id": "cdf48f79-772c-4ccf-9e2f-10cd075609ba",
   "metadata": {},
   "outputs": [],
   "source": [
    "if not os.path.exists(DATA_OUT_PATH):\n",
    "    os.makedirs(DATA_OUT_PATH)\n",
    "    \n",
    "# 위에서 만든 랜덤 포레스트 분류기를 통해 예측값을 가져온다.\n",
    "result = forest.predict(test_data_features)\n",
    "\n",
    "# 판다스 데이터 프레임을 통해 데이터를 구성해서 output에 넣는다.\n",
    "output = pd.DataFrame( data={\"id\": ids, \"sentiment\": result} )\n",
    "\n",
    "# 이제 csv파일로 만든다.\n",
    "output.to_csv( DATA_OUT_PATH + \"Bag_of_Words_model_randomforest.csv\", index=False, quoting=3 )"
   ]
  },
  {
   "cell_type": "code",
   "execution_count": null,
   "id": "5c4c1a00-0633-4226-a462-7fae2765d0b7",
   "metadata": {},
   "outputs": [],
   "source": []
  }
 ],
 "metadata": {
  "kernelspec": {
   "display_name": "Python 3 (ipykernel)",
   "language": "python",
   "name": "python3"
  },
  "language_info": {
   "codemirror_mode": {
    "name": "ipython",
    "version": 3
   },
   "file_extension": ".py",
   "mimetype": "text/x-python",
   "name": "python",
   "nbconvert_exporter": "python",
   "pygments_lexer": "ipython3",
   "version": "3.8.12"
  }
 },
 "nbformat": 4,
 "nbformat_minor": 5
}
