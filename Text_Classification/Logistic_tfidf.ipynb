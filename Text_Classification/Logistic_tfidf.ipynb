{
 "cells": [
  {
   "cell_type": "code",
   "execution_count": 1,
   "id": "5348cf73-4eea-4ae6-ba28-3d491e4c7ecf",
   "metadata": {},
   "outputs": [],
   "source": [
    "import os\n",
    "\n",
    "import pandas as pd\n",
    "import numpy as np\n",
    "\n",
    "from sklearn.feature_extraction.text import TfidfVectorizer\n",
    "from sklearn.model_selection import train_test_split\n",
    "from sklearn.linear_model import LogisticRegression"
   ]
  },
  {
   "cell_type": "code",
   "execution_count": 2,
   "id": "a7220734-ed54-4e04-b165-d307d502d778",
   "metadata": {},
   "outputs": [],
   "source": [
    "DATA_IN_PATH = './data_in/' \n",
    "DATA_OUT_PATH = './data_out/'\n",
    "TRAIN_CLEAN_DATA = 'train_clean.csv'\n",
    "\n",
    "RANDOM_SEED = 42\n",
    "TEST_SPLIT = 0.2"
   ]
  },
  {
   "cell_type": "code",
   "execution_count": 3,
   "id": "ae30ea0b-26d9-4e6a-a34e-9611d38b538d",
   "metadata": {},
   "outputs": [],
   "source": [
    "train_data = pd.read_csv( DATA_IN_PATH + TRAIN_CLEAN_DATA )"
   ]
  },
  {
   "cell_type": "code",
   "execution_count": 4,
   "id": "597587a3-ae4f-48b3-9138-edb860f75203",
   "metadata": {},
   "outputs": [],
   "source": [
    "reviews = list(train_data['review'])\n",
    "sentiments = list(train_data['sentiment'])"
   ]
  },
  {
   "cell_type": "code",
   "execution_count": null,
   "id": "e4d63730-41c1-454d-833f-c0fd7a1f67ee",
   "metadata": {},
   "outputs": [],
   "source": [
    "vectorizer = TfidfVectorizer(min_df = 0.0, analyzer=\"char\", sublinear_tf=True, ngram_range=(1,3), max_features=5000) \n",
    "\n",
    "X = vectorizer.fit_transform(reviews)\n",
    "y = np.array(sentiments)"
   ]
  },
  {
   "cell_type": "code",
   "execution_count": null,
   "id": "fe12db98-820f-412e-b465-bf4a729a29c8",
   "metadata": {},
   "outputs": [],
   "source": []
  },
  {
   "cell_type": "code",
   "execution_count": 6,
   "id": "34ec22b6-dbbb-49d2-bf79-e0327cf1bf28",
   "metadata": {},
   "outputs": [],
   "source": [
    "text = ['I go to my home my home is very large', 'I went out my home I go to the market', 'I bought a yellow lemon I go back to home'] \n",
    "tfidf_vectorizer = TfidfVectorizer()\n"
   ]
  },
  {
   "cell_type": "code",
   "execution_count": 8,
   "id": "5d8cbdbb-3559-4220-9cf0-2dad8a2c0a96",
   "metadata": {},
   "outputs": [
    {
     "data": {
      "text/plain": [
       "[(' ', 0),\n",
       " (' a', 1),\n",
       " (' b', 2),\n",
       " (' g', 3),\n",
       " (' h', 4),\n",
       " (' i', 5),\n",
       " (' l', 6),\n",
       " (' m', 7),\n",
       " (' o', 8),\n",
       " (' t', 9),\n",
       " (' v', 10),\n",
       " (' w', 11),\n",
       " (' y', 12),\n",
       " ('a', 13),\n",
       " ('a ', 14),\n",
       " ('ac', 15),\n",
       " ('ar', 16),\n",
       " ('b', 17),\n",
       " ('ba', 18),\n",
       " ('bo', 19),\n",
       " ('c', 20),\n",
       " ('ck', 21),\n",
       " ('e', 22),\n",
       " ('e ', 23),\n",
       " ('el', 24),\n",
       " ('em', 25),\n",
       " ('en', 26),\n",
       " ('er', 27),\n",
       " ('et', 28),\n",
       " ('g', 29),\n",
       " ('ge', 30),\n",
       " ('gh', 31),\n",
       " ('go', 32),\n",
       " ('h', 33),\n",
       " ('he', 34),\n",
       " ('ho', 35),\n",
       " ('ht', 36),\n",
       " ('i', 37),\n",
       " ('i ', 38),\n",
       " ('is', 39),\n",
       " ('k', 40),\n",
       " ('k ', 41),\n",
       " ('ke', 42),\n",
       " ('l', 43),\n",
       " ('la', 44),\n",
       " ('le', 45),\n",
       " ('ll', 46),\n",
       " ('lo', 47),\n",
       " ('m', 48),\n",
       " ('ma', 49),\n",
       " ('me', 50),\n",
       " ('mo', 51),\n",
       " ('my', 52),\n",
       " ('n', 53),\n",
       " ('n ', 54),\n",
       " ('nt', 55),\n",
       " ('o', 56),\n",
       " ('o ', 57),\n",
       " ('om', 58),\n",
       " ('on', 59),\n",
       " ('ou', 60),\n",
       " ('ow', 61),\n",
       " ('r', 62),\n",
       " ('rg', 63),\n",
       " ('rk', 64),\n",
       " ('ry', 65),\n",
       " ('s', 66),\n",
       " ('s ', 67),\n",
       " ('t', 68),\n",
       " ('t ', 69),\n",
       " ('th', 70),\n",
       " ('to', 71),\n",
       " ('u', 72),\n",
       " ('ug', 73),\n",
       " ('ut', 74),\n",
       " ('v', 75),\n",
       " ('ve', 76),\n",
       " ('w', 77),\n",
       " ('w ', 78),\n",
       " ('we', 79),\n",
       " ('y', 80),\n",
       " ('y ', 81),\n",
       " ('ye', 82)]"
      ]
     },
     "execution_count": 8,
     "metadata": {},
     "output_type": "execute_result"
    }
   ],
   "source": [
    "vectorizer = TfidfVectorizer(ngram_range = (1, 2), analyzer = 'char') \n",
    "vectorizer.fit(text) \n",
    "sorted(vectorizer.vocabulary_.items())\n",
    "\n"
   ]
  },
  {
   "cell_type": "code",
   "execution_count": null,
   "id": "d2ac52bf-438f-4d32-92e0-dba30d3f258e",
   "metadata": {},
   "outputs": [],
   "source": []
  }
 ],
 "metadata": {
  "kernelspec": {
   "display_name": "Python 3 (ipykernel)",
   "language": "python",
   "name": "python3"
  },
  "language_info": {
   "codemirror_mode": {
    "name": "ipython",
    "version": 3
   },
   "file_extension": ".py",
   "mimetype": "text/x-python",
   "name": "python",
   "nbconvert_exporter": "python",
   "pygments_lexer": "ipython3",
   "version": "3.8.12"
  }
 },
 "nbformat": 4,
 "nbformat_minor": 5
}
