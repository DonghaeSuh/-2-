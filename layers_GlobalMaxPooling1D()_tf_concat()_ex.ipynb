{
  "nbformat": 4,
  "nbformat_minor": 0,
  "metadata": {
    "colab": {
      "name": "layers.GlobalMaxPooling1D()_tf.concat()_ex.ipynb",
      "provenance": [],
      "authorship_tag": "ABX9TyMY9cvPKDAyi2It4nTRpEHy",
      "include_colab_link": true
    },
    "kernelspec": {
      "name": "python3",
      "display_name": "Python 3"
    },
    "language_info": {
      "name": "python"
    }
  },
  "cells": [
    {
      "cell_type": "markdown",
      "metadata": {
        "id": "view-in-github",
        "colab_type": "text"
      },
      "source": [
        "<a href=\"https://colab.research.google.com/github/DonghaeSuh/NLP_tensorflow2/blob/main/layers_GlobalMaxPooling1D()_tf_concat()_ex.ipynb\" target=\"_parent\"><img src=\"https://colab.research.google.com/assets/colab-badge.svg\" alt=\"Open In Colab\"/></a>"
      ]
    },
    {
      "cell_type": "code",
      "source": [
        "import tensorflow as tf\n",
        "import numpy as np"
      ],
      "metadata": {
        "id": "Z19wCEoW8Aaq"
      },
      "execution_count": 26,
      "outputs": []
    },
    {
      "cell_type": "code",
      "execution_count": 41,
      "metadata": {
        "colab": {
          "base_uri": "https://localhost:8080/"
        },
        "id": "tDHdnpk678CX",
        "outputId": "f59af5cd-6e9a-46d7-a9cd-beeceb3341bc"
      },
      "outputs": [
        {
          "output_type": "execute_result",
          "data": {
            "text/plain": [
              "array([[[ 1.,  6.],\n",
              "        [ 2.,  7.],\n",
              "        [ 3.,  8.],\n",
              "        [ 4.,  9.],\n",
              "        [ 5., 10.]]])"
            ]
          },
          "metadata": {},
          "execution_count": 41
        }
      ],
      "source": [
        "x=np.array([[1.,2.,3.,4.,5.],[6.,7.,8.,9.,10.]])\n",
        "x=x.T\n",
        "x=np.reshape(x,[1,5,2])\n",
        "x"
      ]
    },
    {
      "cell_type": "code",
      "source": [
        "max_pool_1d = tf.keras.layers.GlobalMaxPooling1D()\n",
        "max_pool_1d(x)"
      ],
      "metadata": {
        "colab": {
          "base_uri": "https://localhost:8080/"
        },
        "id": "zmb4pUtKZ5V-",
        "outputId": "83d9ee0d-e3ed-4d0e-c0e4-627bd46d85d6"
      },
      "execution_count": 42,
      "outputs": [
        {
          "output_type": "execute_result",
          "data": {
            "text/plain": [
              "<tf.Tensor: shape=(1, 2), dtype=float32, numpy=array([[ 5., 10.]], dtype=float32)>"
            ]
          },
          "metadata": {},
          "execution_count": 42
        }
      ]
    },
    {
      "cell_type": "code",
      "source": [
        "a=tf.concat([[[1,2,3]],[[4,5,6]],[[7,8,9]]],axis=-1)\n",
        "a"
      ],
      "metadata": {
        "colab": {
          "base_uri": "https://localhost:8080/"
        },
        "id": "egiXQkHs8CQO",
        "outputId": "873427a5-8205-4ce7-9a7e-194d3883bbed"
      },
      "execution_count": 43,
      "outputs": [
        {
          "output_type": "execute_result",
          "data": {
            "text/plain": [
              "<tf.Tensor: shape=(1, 9), dtype=int32, numpy=array([[1, 2, 3, 4, 5, 6, 7, 8, 9]], dtype=int32)>"
            ]
          },
          "metadata": {},
          "execution_count": 43
        }
      ]
    },
    {
      "cell_type": "code",
      "source": [
        ""
      ],
      "metadata": {
        "id": "EbhLJhkV9b8L"
      },
      "execution_count": null,
      "outputs": []
    }
  ]
}