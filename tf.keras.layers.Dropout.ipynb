{
 "cells": [
  {
   "cell_type": "markdown",
   "id": "55304c67-ac2d-4f80-b39b-447bf60e4376",
   "metadata": {},
   "source": [
    "## tf.keras.layers.Dropout()"
   ]
  },
  {
   "cell_type": "code",
   "execution_count": null,
   "id": "ddeae2a9-a146-44a3-af04-d1f6793bfb72",
   "metadata": {},
   "outputs": [],
   "source": [
    "#1. 객체 생성 후 다시 호출하면서 입력값 설정\n",
    "dropout = tf.keras.layers.Dropout()\n",
    "output=dropout(input)\n",
    "\n",
    "#2. 객체 생성 시 입력값 설정\n",
    "output = tf.keras.layers.Dropout()(input)"
   ]
  },
  {
   "cell_type": "code",
   "execution_count": null,
   "id": "6c4d994f-3c0c-4964-9d8c-ccb7c9615eb8",
   "metadata": {},
   "outputs": [],
   "source": [
    "__init__(\n",
    "    rate, : 드롭아웃을 적용할 확률, 확률값이므로 0~1사이의 값, ex)dropout-0.2는 전체 중에 20퍼센트를 0으로 만듬\n",
    "    noise_shape=None, #정수형의 1D-tensor 값을 받고, 이 값에 따라 특정 값만을 드롭아웃 적용 가능=> 특정 채널(열)에만 드롭아웃 적용\n",
    "    seed=None, #드롭아웃의 경우 확률에 따라 무작위로 드롭아웃 적용. 이 seed는 정수형, 같은 seed값을 가지는 드롭아웃의 경우 첫번째에 동일한 드롭아웃 결과를 만듬\n",
    ")"
   ]
  },
  {
   "cell_type": "code",
   "execution_count": null,
   "id": "9bad39b2-ad07-4928-97b3-56711ffa80dd",
   "metadata": {},
   "outputs": [],
   "source": [
    "input_size=(20,1)\n",
    "inputs=tf.keras.layers.Input(shape=input_size)\n",
    "dropout = tf.keras.layers.Dropout(rate=0.5)(inputs)\n",
    "\n"
   ]
  },
  {
   "cell_type": "code",
   "execution_count": null,
   "id": "3a0e19b9-1fd6-464f-995f-5140cd9c3ce0",
   "metadata": {},
   "outputs": [],
   "source": [
    "input_size=(20,1)\n",
    "\n",
    "inputs=tf.keras.layers.input(shape=input_size)\n",
    "dropout = tf.keras.layers.Dropout(rate=0.5)(inputs)\n",
    "hidden=tf.keras.layers.Dense(units=10,activation=tf.nn.sigmoid)(dropout)\n",
    "output=tf.keras.layers.Dense(units=2,activation=tf.nn.sigmoid)(hidden)"
   ]
  }
 ],
 "metadata": {
  "kernelspec": {
   "display_name": "Python 3 (ipykernel)",
   "language": "python",
   "name": "python3"
  },
  "language_info": {
   "codemirror_mode": {
    "name": "ipython",
    "version": 3
   },
   "file_extension": ".py",
   "mimetype": "text/x-python",
   "name": "python",
   "nbconvert_exporter": "python",
   "pygments_lexer": "ipython3",
   "version": "3.8.12"
  }
 },
 "nbformat": 4,
 "nbformat_minor": 5
}
