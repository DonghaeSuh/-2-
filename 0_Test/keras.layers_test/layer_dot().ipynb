{
  "nbformat": 4,
  "nbformat_minor": 0,
  "metadata": {
    "colab": {
      "name": "layer.dot().ipynb",
      "provenance": [],
      "collapsed_sections": [],
      "authorship_tag": "ABX9TyMXkf92eU6IAiZTsrThVFTN",
      "include_colab_link": true
    },
    "kernelspec": {
      "name": "python3",
      "display_name": "Python 3"
    },
    "language_info": {
      "name": "python"
    }
  },
  "cells": [
    {
      "cell_type": "markdown",
      "metadata": {
        "id": "view-in-github",
        "colab_type": "text"
      },
      "source": [
        "<a href=\"https://colab.research.google.com/github/DonghaeSuh/NLP_tensorflow2/blob/main/layer_dot().ipynb\" target=\"_parent\"><img src=\"https://colab.research.google.com/assets/colab-badge.svg\" alt=\"Open In Colab\"/></a>"
      ]
    },
    {
      "cell_type": "code",
      "source": [
        "from tensorflow.keras.layers import dot"
      ],
      "metadata": {
        "id": "8p1wz14nf2AH"
      },
      "execution_count": 1,
      "outputs": []
    },
    {
      "cell_type": "code",
      "source": [
        "import numpy as np"
      ],
      "metadata": {
        "id": "gBiEcV32e7fN"
      },
      "execution_count": 2,
      "outputs": []
    },
    {
      "cell_type": "code",
      "source": [
        "a=np.arange(2*3*5).reshape(2,3,5)\n",
        "b=np.arange(2*1*5).reshape(2,1,5)\n",
        "c=np.arange(2*2*5).reshape(2,2,5)"
      ],
      "metadata": {
        "id": "kVBZ9pEJe-uU"
      },
      "execution_count": 13,
      "outputs": []
    },
    {
      "cell_type": "code",
      "source": [
        "print(a)\n",
        "print(b)\n",
        "print(c)"
      ],
      "metadata": {
        "id": "v-gdCNL8gFPo",
        "outputId": "d00838e2-14b9-4dd2-df14-8fa29d1a5138",
        "colab": {
          "base_uri": "https://localhost:8080/"
        }
      },
      "execution_count": 14,
      "outputs": [
        {
          "output_type": "stream",
          "name": "stdout",
          "text": [
            "[[[ 0  1  2  3  4]\n",
            "  [ 5  6  7  8  9]\n",
            "  [10 11 12 13 14]]\n",
            "\n",
            " [[15 16 17 18 19]\n",
            "  [20 21 22 23 24]\n",
            "  [25 26 27 28 29]]]\n",
            "[[[0 1 2 3 4]]\n",
            "\n",
            " [[5 6 7 8 9]]]\n",
            "[[[ 0  1  2  3  4]\n",
            "  [ 5  6  7  8  9]]\n",
            "\n",
            " [[10 11 12 13 14]\n",
            "  [15 16 17 18 19]]]\n"
          ]
        }
      ]
    },
    {
      "cell_type": "code",
      "source": [
        "d=dot([a,b],axes=-1)\n",
        "print(d)"
      ],
      "metadata": {
        "id": "IZLwfhlCfVQ2",
        "outputId": "f65dcce6-7740-4d40-83c0-e61af0363caf",
        "colab": {
          "base_uri": "https://localhost:8080/"
        }
      },
      "execution_count": 15,
      "outputs": [
        {
          "output_type": "stream",
          "name": "stdout",
          "text": [
            "tf.Tensor(\n",
            "[[[ 30]\n",
            "  [ 80]\n",
            "  [130]]\n",
            "\n",
            " [[605]\n",
            "  [780]\n",
            "  [955]]], shape=(2, 3, 1), dtype=int64)\n"
          ]
        }
      ]
    },
    {
      "cell_type": "code",
      "source": [
        "d=dot([a,c],axes=-1)\n",
        "print(d)"
      ],
      "metadata": {
        "colab": {
          "base_uri": "https://localhost:8080/"
        },
        "id": "2KpO8dJRCREL",
        "outputId": "03bc3ca6-8ff0-408c-dfd5-6f3d1c763771"
      },
      "execution_count": 16,
      "outputs": [
        {
          "output_type": "stream",
          "name": "stdout",
          "text": [
            "tf.Tensor(\n",
            "[[[  30   80]\n",
            "  [  80  255]\n",
            "  [ 130  430]]\n",
            "\n",
            " [[1030 1455]\n",
            "  [1330 1880]\n",
            "  [1630 2305]]], shape=(2, 3, 2), dtype=int64)\n"
          ]
        }
      ]
    },
    {
      "cell_type": "code",
      "source": [
        "x = np.arange(2*3*2).reshape(2,3,2)\n",
        "print(x)\n",
        "\n",
        "y = np.arange(2*2*3).reshape(2, 2, 3)\n",
        "print(y)\n",
        "\n",
        "c=dot([x, y],axes=(1, 2))\n",
        "print(c)"
      ],
      "metadata": {
        "id": "lTntatRy_QDw",
        "outputId": "59fb021a-754a-4537-f14f-905aea6c5201",
        "colab": {
          "base_uri": "https://localhost:8080/"
        }
      },
      "execution_count": 22,
      "outputs": [
        {
          "output_type": "stream",
          "name": "stdout",
          "text": [
            "[[[ 0  1]\n",
            "  [ 2  3]\n",
            "  [ 4  5]]\n",
            "\n",
            " [[ 6  7]\n",
            "  [ 8  9]\n",
            "  [10 11]]]\n",
            "[[[ 0  1  2]\n",
            "  [ 3  4  5]]\n",
            "\n",
            " [[ 6  7  8]\n",
            "  [ 9 10 11]]]\n",
            "tf.Tensor(\n",
            "[[[ 10  28]\n",
            "  [ 13  40]]\n",
            "\n",
            " [[172 244]\n",
            "  [193 274]]], shape=(2, 2, 2), dtype=int64)\n"
          ]
        }
      ]
    },
    {
      "cell_type": "code",
      "source": [
        "x = np.arange(2*3*2).reshape(2,3,2)\n",
        "print(x)\n",
        "\n",
        "y = np.arange(2*2*3).reshape(2, 2, 3)\n",
        "print(y)\n",
        "\n",
        "c=dot([x, y],axes=(2, 1))\n",
        "print(c)"
      ],
      "metadata": {
        "id": "rtohx_B2A6Y5",
        "outputId": "8f47e688-4d1c-49bd-c331-10ad4ace07de",
        "colab": {
          "base_uri": "https://localhost:8080/"
        }
      },
      "execution_count": 23,
      "outputs": [
        {
          "output_type": "stream",
          "name": "stdout",
          "text": [
            "[[[ 0  1]\n",
            "  [ 2  3]\n",
            "  [ 4  5]]\n",
            "\n",
            " [[ 6  7]\n",
            "  [ 8  9]\n",
            "  [10 11]]]\n",
            "[[[ 0  1  2]\n",
            "  [ 3  4  5]]\n",
            "\n",
            " [[ 6  7  8]\n",
            "  [ 9 10 11]]]\n",
            "tf.Tensor(\n",
            "[[[  3   4   5]\n",
            "  [  9  14  19]\n",
            "  [ 15  24  33]]\n",
            "\n",
            " [[ 99 112 125]\n",
            "  [129 146 163]\n",
            "  [159 180 201]]], shape=(2, 3, 3), dtype=int64)\n"
          ]
        }
      ]
    }
  ]
}