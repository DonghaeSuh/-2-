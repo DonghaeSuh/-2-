{
  "nbformat": 4,
  "nbformat_minor": 0,
  "metadata": {
    "colab": {
      "name": "numpy_matrix_operation.ipynb",
      "provenance": [],
      "collapsed_sections": [],
      "authorship_tag": "ABX9TyNKdP8DktCXeQ9L8IPEDzNM",
      "include_colab_link": true
    },
    "kernelspec": {
      "name": "python3",
      "display_name": "Python 3"
    },
    "language_info": {
      "name": "python"
    }
  },
  "cells": [
    {
      "cell_type": "markdown",
      "metadata": {
        "id": "view-in-github",
        "colab_type": "text"
      },
      "source": [
        "<a href=\"https://colab.research.google.com/github/DonghaeSuh/NLP_tensorflow2/blob/main/0_Test/numpy_tool/numpy_matrix_operation.ipynb\" target=\"_parent\"><img src=\"https://colab.research.google.com/assets/colab-badge.svg\" alt=\"Open In Colab\"/></a>"
      ]
    },
    {
      "cell_type": "code",
      "execution_count": 1,
      "metadata": {
        "id": "zwIAWjEqYaAG"
      },
      "outputs": [],
      "source": [
        "import numpy as np"
      ]
    },
    {
      "cell_type": "markdown",
      "source": [
        "# 하나의 벡터에 대해 여러개의 벡터와의 연산(덧셈,뺄셈,곱셈,나눗셈)을 하고 싶을 경우"
      ],
      "metadata": {
        "id": "BmZWPJ1gZ576"
      }
    },
    {
      "cell_type": "markdown",
      "source": [
        "행렬이 존재하는 특정 차원에서\\\n",
        "크기가 다른 두 행렬 연산을 진행하게 되면\\\n",
        "연산이 진행된 차원에 그 행렬들이 담기게 된다.\\\n",
        "즉, 껍대기를 건들지 않고 내부에서 처리할 수 있다는 뜻\n"
      ],
      "metadata": {
        "id": "q03RvwWTaE0s"
      }
    },
    {
      "cell_type": "markdown",
      "source": [
        "크기가 다른 두 행렬의 연산의 결과는\n",
        "큰 차원의 크기에 맞춰진다.\\\n",
        "ex) (1x3) + (4x3) = (4x3)\\\n",
        "ex) (2x3) + (5x3) = (5x3) "
      ],
      "metadata": {
        "id": "k9BggxHDbmfU"
      }
    },
    {
      "cell_type": "code",
      "source": [
        "a=np.array([[[1,2,3],[4,5,6]]])\n",
        "b=np.array([[[7,8,9]],[[10,11,12]],[[13,14,15]]])\n",
        "print(a)\n",
        "print(b)\n",
        "print(a.shape)\n",
        "print(b.shape)\n",
        "print(a+b)"
      ],
      "metadata": {
        "colab": {
          "base_uri": "https://localhost:8080/"
        },
        "id": "48nlkSVzYuSU",
        "outputId": "14e5bc27-c8e4-4b41-d049-35b2f0b833a2"
      },
      "execution_count": 3,
      "outputs": [
        {
          "output_type": "stream",
          "name": "stdout",
          "text": [
            "[[[1 2 3]\n",
            "  [4 5 6]]]\n",
            "[[[ 7  8  9]]\n",
            "\n",
            " [[10 11 12]]\n",
            "\n",
            " [[13 14 15]]]\n",
            "(1, 2, 3)\n",
            "(3, 1, 3)\n",
            "[[[ 8 10 12]\n",
            "  [11 13 15]]\n",
            "\n",
            " [[11 13 15]\n",
            "  [14 16 18]]\n",
            "\n",
            " [[14 16 18]\n",
            "  [17 19 21]]]\n"
          ]
        }
      ]
    },
    {
      "cell_type": "code",
      "source": [
        "print(a*b)"
      ],
      "metadata": {
        "colab": {
          "base_uri": "https://localhost:8080/"
        },
        "id": "qZ5peBZiZgL0",
        "outputId": "3e069380-5637-41ea-99c1-51cc327361d9"
      },
      "execution_count": 6,
      "outputs": [
        {
          "output_type": "stream",
          "name": "stdout",
          "text": [
            "[[[ 7 16 27]\n",
            "  [28 40 54]]\n",
            "\n",
            " [[10 22 36]\n",
            "  [40 55 72]]\n",
            "\n",
            " [[13 28 45]\n",
            "  [52 70 90]]]\n"
          ]
        }
      ]
    },
    {
      "cell_type": "code",
      "source": [
        "a=np.array([[[1,2,3],[4,5,6]]])\n",
        "b=np.array([[[7,8,9],[1,1,1]],[[10,11,12],[2,2,2]],[[13,14,15],[3,3,3]]])\n",
        "print(a)\n",
        "print(b)\n",
        "print(a.shape)\n",
        "print(b.shape)\n",
        "print(a+b)"
      ],
      "metadata": {
        "colab": {
          "base_uri": "https://localhost:8080/"
        },
        "id": "JP9cGLfua2DT",
        "outputId": "4f3ded5c-11ca-468a-dd7a-9c86db0f4900"
      },
      "execution_count": 7,
      "outputs": [
        {
          "output_type": "stream",
          "name": "stdout",
          "text": [
            "[[[1 2 3]\n",
            "  [4 5 6]]]\n",
            "[[[ 7  8  9]\n",
            "  [ 1  1  1]]\n",
            "\n",
            " [[10 11 12]\n",
            "  [ 2  2  2]]\n",
            "\n",
            " [[13 14 15]\n",
            "  [ 3  3  3]]]\n",
            "(1, 2, 3)\n",
            "(3, 2, 3)\n",
            "[[[ 8 10 12]\n",
            "  [ 5  6  7]]\n",
            "\n",
            " [[11 13 15]\n",
            "  [ 6  7  8]]\n",
            "\n",
            " [[14 16 18]\n",
            "  [ 7  8  9]]]\n"
          ]
        }
      ]
    },
    {
      "cell_type": "code",
      "source": [
        ""
      ],
      "metadata": {
        "id": "5L82mx_UbbFO"
      },
      "execution_count": null,
      "outputs": []
    }
  ]
}