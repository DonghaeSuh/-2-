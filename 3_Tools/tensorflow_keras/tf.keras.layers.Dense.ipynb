{
 "cells": [
  {
   "cell_type": "code",
   "execution_count": 9,
   "id": "9c114d97-def3-4385-a933-40f1c01ea8e9",
   "metadata": {},
   "outputs": [],
   "source": [
    "import tensorflow as tf"
   ]
  },
  {
   "cell_type": "code",
   "execution_count": 24,
   "id": "5146c799-f063-4785-8b1f-0cbde14ce683",
   "metadata": {},
   "outputs": [],
   "source": [
    "W=tf.Variable(tf.random.uniform([5,10],-1.0,1.0))\n",
    "# The default type is float32\n",
    "#Use random uniform values in [0, 1) as the initializer for a variable of shape"
   ]
  },
  {
   "cell_type": "code",
   "execution_count": 21,
   "id": "82ce93a0-cf9f-48c2-a135-93ed632e450f",
   "metadata": {},
   "outputs": [],
   "source": [
    "W=tf.Variable(tf.zeros([10]))"
   ]
  },
  {
   "cell_type": "code",
   "execution_count": 22,
   "id": "51e07a2c-40bd-49ba-8328-8e9a9bec1002",
   "metadata": {},
   "outputs": [
    {
     "ename": "NameError",
     "evalue": "name 'x' is not defined",
     "output_type": "error",
     "traceback": [
      "\u001b[1;31m---------------------------------------------------------------------------\u001b[0m",
      "\u001b[1;31mNameError\u001b[0m                                 Traceback (most recent call last)",
      "\u001b[1;32m~\\AppData\\Local\\Temp/ipykernel_18696/3758436486.py\u001b[0m in \u001b[0;36m<module>\u001b[1;34m\u001b[0m\n\u001b[1;32m----> 1\u001b[1;33m \u001b[0my\u001b[0m\u001b[1;33m=\u001b[0m\u001b[0mtf\u001b[0m\u001b[1;33m.\u001b[0m\u001b[0mmatmul\u001b[0m\u001b[1;33m(\u001b[0m\u001b[0mW\u001b[0m\u001b[1;33m,\u001b[0m\u001b[0mx\u001b[0m\u001b[1;33m)\u001b[0m\u001b[1;33m+\u001b[0m\u001b[0mb\u001b[0m\u001b[1;33m\u001b[0m\u001b[1;33m\u001b[0m\u001b[0m\n\u001b[0m",
      "\u001b[1;31mNameError\u001b[0m: name 'x' is not defined"
     ]
    }
   ],
   "source": [
    "y=tf.matmul(W,x)+b"
   ]
  },
  {
   "cell_type": "markdown",
   "id": "5fa62950-f95b-4d51-a5f6-af25530bf1c4",
   "metadata": {},
   "source": [
    "## 케라스 Dense사용"
   ]
  },
  {
   "cell_type": "code",
   "execution_count": 26,
   "id": "57e74a75-2f88-4619-b739-785bf35c80f7",
   "metadata": {},
   "outputs": [
    {
     "ename": "TypeError",
     "evalue": "__init__() missing 1 required positional argument: 'units'",
     "output_type": "error",
     "traceback": [
      "\u001b[1;31m---------------------------------------------------------------------------\u001b[0m",
      "\u001b[1;31mTypeError\u001b[0m                                 Traceback (most recent call last)",
      "\u001b[1;32m~\\AppData\\Local\\Temp/ipykernel_18696/2394971200.py\u001b[0m in \u001b[0;36m<module>\u001b[1;34m\u001b[0m\n\u001b[1;32m----> 1\u001b[1;33m \u001b[0mdense\u001b[0m \u001b[1;33m=\u001b[0m \u001b[0mtf\u001b[0m\u001b[1;33m.\u001b[0m\u001b[0mkeras\u001b[0m\u001b[1;33m.\u001b[0m\u001b[0mlayers\u001b[0m\u001b[1;33m.\u001b[0m\u001b[0mDense\u001b[0m\u001b[1;33m(\u001b[0m\u001b[1;33m)\u001b[0m\u001b[1;33m\u001b[0m\u001b[1;33m\u001b[0m\u001b[0m\n\u001b[0m",
      "\u001b[1;31mTypeError\u001b[0m: __init__() missing 1 required positional argument: 'units'"
     ]
    }
   ],
   "source": [
    "#1. 객체 생성 후 다시 호출하면서 입력값 설정\n",
    "dense = tf.keras.layers.Dense()\n",
    "output=dense(input)\n",
    "\n",
    "#2. 객체 생성 시 입력값 설정\n",
    "output = tf.keras.layers.Dense()(input)"
   ]
  },
  {
   "cell_type": "code",
   "execution_count": null,
   "id": "1a5025e9-8c21-4af4-bee0-5674c1ec7030",
   "metadata": {},
   "outputs": [],
   "source": [
    "#Dense층 여러가지 옵션\n",
    "__init__(\n",
    "    units, # 출력값의 크기(=노드 개수), Integer 또는 Long 형태 // int:부호 있는 정수/32 bits/-2147483648 ~ 2147483647/   //long:부호 있는 정수/64 bits/-9223372036854775808 ~ 9223372036854775807\n",
    "    activation=None, #활성화 함수\n",
    "    use_bias=True, #편향을 사용할 지 안할지 (boolean형태 : True or False)\n",
    "    kernel_initializer='glorot_uniform', #가중치(W)초기화 함수\n",
    "    bias_initializer='zeros', #편향 초기화 함수\n",
    "    kernel_regularizer=None, #가중치 정규화 방법\n",
    "    bias_regularizer=None, #편향 정규화 방법\n",
    "    activity_regularizer=None, #출력 값 정규화 방법\n",
    "    kernel_constraint=None, #Optimizer에 의해 업데이트된 이후에 가중치에 적용되는 부가적인 제약 함수(ex: norm constrain, value constrain)\n",
    "    bias_constrain=None #Optimizer에 의해 업데이트된 이후에 편향에 적용되는 부가적인 제약 함수(ex: norm constrain, value constrain)\n",
    "    \n",
    ")\n"
   ]
  },
  {
   "cell_type": "code",
   "execution_count": null,
   "id": "e59469f0-a896-4020-8268-bbe19b94443a",
   "metadata": {},
   "outputs": [],
   "source": [
    "#ex 1\n",
    "input_size=(20,1)\n",
    "\n",
    "inputs=tf.keras.layers.input(shape=input_size)\n",
    "output=tf.keras.layers.Dense(units=10,activation=tf.nn.sigmoid)(inputs)\n"
   ]
  },
  {
   "cell_type": "code",
   "execution_count": null,
   "id": "ef477d2d-b914-4e06-bd1d-01fe24b84f20",
   "metadata": {},
   "outputs": [],
   "source": [
    "#ex 2\n",
    "input_size=(20,1)\n",
    "\n",
    "inputs=tf.keras.layers.input(shape=input_size)\n",
    "hidden=tf.keras.layers.Dense(units=10,activation=tf.nn.sigmoid)(inputs)\n",
    "output=tf.keras.layers.Dense(units=2,activation=tf.nn.sigmoid)(hidden)"
   ]
  }
 ],
 "metadata": {
  "kernelspec": {
   "display_name": "Python 3 (ipykernel)",
   "language": "python",
   "name": "python3"
  },
  "language_info": {
   "codemirror_mode": {
    "name": "ipython",
    "version": 3
   },
   "file_extension": ".py",
   "mimetype": "text/x-python",
   "name": "python",
   "nbconvert_exporter": "python",
   "pygments_lexer": "ipython3",
   "version": "3.8.12"
  }
 },
 "nbformat": 4,
 "nbformat_minor": 5
}
