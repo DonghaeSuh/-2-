{
 "cells": [
  {
   "cell_type": "code",
   "execution_count": null,
   "id": "c97ff9df-b5ea-4928-9c47-f5e907cbdf7f",
   "metadata": {},
   "outputs": [],
   "source": [
    "#1 객체 생성 후 다시 호출하면서 입력값 설정\n",
    "conv1d=tf.keras.layers.Conv1D()\n",
    "output=conv1d(input)\n",
    "\n",
    "#2 객체 생성 시 입력값 설정\n",
    "output=tf.keras.layers.Conv1D()(input)"
   ]
  },
  {
   "cell_type": "code",
   "execution_count": null,
   "id": "9b1ed15d-9eec-4d8e-a4b1-1cb305d3ac94",
   "metadata": {},
   "outputs": [],
   "source": [
    "tf.keras.layers.Conv1D(\n",
    "    filters, #필터의 개수, 정수형으로 저장 : 출력 차원의 수와 같다\n",
    "    kernel_size, #필터의 크기, 정수 혹은 정수의 리스트, 튜플 형태로 지정\n",
    "    strides=1, #stride 값, 정수 혹은 정수의 리스트, 튜플형태 +  1이 아닌 값으로 지정하면 dilation_rate도 1이어야 한다.\n",
    "    padding='valid', #패딩  ... [VALID:패딩없음] or [SAME:입력과 출력의 크기 같음] or [Causal:dilated으로 할 때] 로 정할 수 있다.\n",
    "    data_format='channels_last', #데이터 표현 방법 1.channel_last:(batch,length,channels)형태,  2. channel_first:(batch,channels,length)형태\n",
    "    dilation_rate=1,  #Dilated Convolution은 Convolutional layer에 또 다른 파라미터인 dilation rate를 도입한것, dilation rate은 커널 사이의 간격\n",
    "    groups=1, #그룹지어 사용할 때, 1인경우 그룹 사용 안함(입력 1개가 1개의 그룹 = 그냥 1개 하는것)\n",
    "    activation=None, #활성화함수\n",
    "    use_bias=True, #편향\n",
    "    kernel_initializer='glorot_uniform', #커널 초기화\n",
    "    bias_initializer='zeros', #편향 초기화\n",
    "    kernel_regularizer=None, #커널 정규화\n",
    "    bias_regularizer=None, #편향 정규화\n",
    "    activity_regularizer=None, #출력 값 정규화\n",
    "    kernel_constraint=None, # 커널 부가적 제약함수\n",
    "    bias_constraint=None, #커널 부가적 제약함수\n",
    "    **kwargs\n",
    ")"
   ]
  }
 ],
 "metadata": {
  "kernelspec": {
   "display_name": "Python 3 (ipykernel)",
   "language": "python",
   "name": "python3"
  },
  "language_info": {
   "codemirror_mode": {
    "name": "ipython",
    "version": 3
   },
   "file_extension": ".py",
   "mimetype": "text/x-python",
   "name": "python",
   "nbconvert_exporter": "python",
   "pygments_lexer": "ipython3",
   "version": "3.8.12"
  }
 },
 "nbformat": 4,
 "nbformat_minor": 5
}
