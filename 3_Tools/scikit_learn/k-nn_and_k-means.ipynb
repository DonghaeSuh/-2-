{
 "cells": [
  {
   "cell_type": "code",
   "execution_count": 3,
   "id": "6a7dc037-04e1-4a8f-bf64-134e9d74dc4c",
   "metadata": {},
   "outputs": [],
   "source": [
    "from sklearn.datasets import load_iris\n",
    "from sklearn.model_selection import train_test_split\n",
    "\n",
    "iris_dataset=load_iris()"
   ]
  },
  {
   "cell_type": "code",
   "execution_count": 4,
   "id": "e0ae0fa0-3d06-41f5-9aa0-e94149199440",
   "metadata": {},
   "outputs": [],
   "source": [
    "train_input,test_input,train_label,test_label = train_test_split(iris_dataset['data'],iris_dataset['target'],test_size=0.25,random_state=42)"
   ]
  },
  {
   "cell_type": "markdown",
   "id": "8a27887f-8cfb-4080-86e1-08160f893da2",
   "metadata": {},
   "source": [
    "## 지도학습"
   ]
  },
  {
   "cell_type": "code",
   "execution_count": 11,
   "id": "8c2f7843-707c-4d0f-a0b7-3eee3bd87575",
   "metadata": {},
   "outputs": [],
   "source": [
    "from sklearn.neighbors import KNeighborsClassifier\n",
    "knn = KNeighborsClassifier(n_neighbors = 1) #k=1"
   ]
  },
  {
   "cell_type": "code",
   "execution_count": 6,
   "id": "a1064178-1766-41a3-9aea-eded07ce092c",
   "metadata": {},
   "outputs": [
    {
     "data": {
      "text/plain": [
       "KNeighborsClassifier(n_neighbors=1)"
      ]
     },
     "execution_count": 6,
     "metadata": {},
     "output_type": "execute_result"
    }
   ],
   "source": [
    "knn.fit(train_input, train_label)"
   ]
  },
  {
   "cell_type": "code",
   "execution_count": 7,
   "id": "77a80944-9f8a-4d17-9f00-c3e0e97091fe",
   "metadata": {},
   "outputs": [],
   "source": [
    "import numpy as np\n",
    "new_input = np.array([[6.1, 2.8, 4.7, 1.2]])"
   ]
  },
  {
   "cell_type": "code",
   "execution_count": 8,
   "id": "f110ea93-7b30-4d94-99e6-a41d06837222",
   "metadata": {},
   "outputs": [
    {
     "data": {
      "text/plain": [
       "array([1])"
      ]
     },
     "execution_count": 8,
     "metadata": {},
     "output_type": "execute_result"
    }
   ],
   "source": [
    "knn.predict(new_input)"
   ]
  },
  {
   "cell_type": "code",
   "execution_count": 9,
   "id": "9e73cf63-0ef1-49f1-a51d-c0acd9e1baaa",
   "metadata": {},
   "outputs": [
    {
     "name": "stdout",
     "output_type": "stream",
     "text": [
      "[1 0 2 1 1 0 1 2 1 1 2 0 0 0 0 1 2 1 1 2 0 2 0 2 2 2 2 2 0 0 0 0 1 0 0 2 1\n",
      " 0]\n"
     ]
    }
   ],
   "source": [
    "predict_label = knn.predict(test_input)\n",
    "print(predict_label)"
   ]
  },
  {
   "cell_type": "code",
   "execution_count": 46,
   "id": "09969e84-1548-46c1-bcd4-8a6b624f2a93",
   "metadata": {},
   "outputs": [
    {
     "name": "stdout",
     "output_type": "stream",
     "text": [
      "[ True  True  True  True  True  True  True  True  True  True  True  True\n",
      "  True  True  True  True  True  True  True  True  True False  True  True\n",
      "  True  True  True  True  True  True  True  True  True  True  True False\n",
      "  True  True]\n"
     ]
    }
   ],
   "source": [
    "print(predict_label == test_label)"
   ]
  },
  {
   "cell_type": "code",
   "execution_count": 10,
   "id": "7d0bce9c-7a74-450c-8d42-4e6c33aa2042",
   "metadata": {},
   "outputs": [
    {
     "name": "stdout",
     "output_type": "stream",
     "text": [
      "test accuracy 1.00\n"
     ]
    }
   ],
   "source": [
    "print('test accuracy {:.2f}'.format(np.mean(predict_label == test_label)))"
   ]
  },
  {
   "cell_type": "markdown",
   "id": "472799d9-8a2a-42a3-9959-47bfe0bed1af",
   "metadata": {},
   "source": [
    "## 비지도 학습"
   ]
  },
  {
   "cell_type": "code",
   "execution_count": 37,
   "id": "4f9c392f-630d-4d07-bad4-255390d9cc5d",
   "metadata": {},
   "outputs": [],
   "source": [
    "from sklearn.cluster import KMeans\n",
    "k_means = KMeans(n_clusters=3)"
   ]
  },
  {
   "cell_type": "code",
   "execution_count": 38,
   "id": "fcc54907-ed08-41fe-abf1-5a0713260cf4",
   "metadata": {},
   "outputs": [
    {
     "data": {
      "text/plain": [
       "KMeans(n_clusters=3)"
      ]
     },
     "execution_count": 38,
     "metadata": {},
     "output_type": "execute_result"
    }
   ],
   "source": [
    "k_means.fit(train_input)"
   ]
  },
  {
   "cell_type": "code",
   "execution_count": 39,
   "id": "388bc57f-3c89-46a0-a4dc-ec265f6e337e",
   "metadata": {},
   "outputs": [
    {
     "data": {
      "text/plain": [
       "array([1, 1, 2, 2, 2, 1, 1, 2, 2, 0, 2, 0, 2, 0, 2, 1, 0, 2, 1, 1, 1, 2,\n",
       "       2, 1, 1, 1, 2, 1, 2, 0, 1, 2, 2, 1, 2, 2, 2, 2, 0, 2, 1, 2, 0, 1,\n",
       "       1, 2, 0, 1, 2, 1, 1, 2, 2, 0, 2, 0, 0, 2, 1, 1, 2, 0, 1, 1, 1, 2,\n",
       "       0, 1, 0, 0, 1, 2, 2, 2, 0, 0, 1, 0, 2, 0, 2, 2, 2, 1, 2, 2, 1, 2,\n",
       "       0, 0, 1, 2, 0, 0, 1, 0, 1, 0, 0, 0, 2, 0, 2, 2, 2, 2, 1, 2, 2, 1,\n",
       "       2, 0])"
      ]
     },
     "execution_count": 39,
     "metadata": {},
     "output_type": "execute_result"
    }
   ],
   "source": [
    "k_means.labels_"
   ]
  },
  {
   "cell_type": "code",
   "execution_count": 40,
   "id": "fa09040a-fddf-4c18-9a2a-92161b295470",
   "metadata": {},
   "outputs": [
    {
     "name": "stdout",
     "output_type": "stream",
     "text": [
      "0 cluster: [2 2 2 2 2 2 2 1 2 2 2 2 2 2 2 1 2 2 2 2 2 2 2 2 1 2 2 2 2]\n",
      "1 cluster: [0 0 0 0 0 0 0 0 0 0 0 0 0 0 0 0 0 0 0 0 0 0 0 0 0 0 0 0 0 0 0 0 0 0 0]\n",
      "2 cluster: [2 1 1 1 2 1 1 1 1 1 2 1 1 1 2 2 2 1 1 1 1 1 2 1 1 1 1 2 1 1 1 2 1 1 1 1 1\n",
      " 1 1 1 1 1 1 2 2 1 2 1]\n"
     ]
    }
   ],
   "source": [
    "print(\"0 cluster:\", train_label[k_means.labels_ == 0])\n",
    "print(\"1 cluster:\", train_label[k_means.labels_ == 1])\n",
    "print(\"2 cluster:\", train_label[k_means.labels_ == 2])"
   ]
  },
  {
   "cell_type": "markdown",
   "id": "02727ae4-24b2-4a35-849d-cf37d299e7ab",
   "metadata": {},
   "source": [
    "0번째 군집 : 라벨2에 해당\\\n",
    "1번째 군집 : 라벨0에 해당\\\n",
    "2번째 군집 : 라벨1에 해당"
   ]
  },
  {
   "cell_type": "code",
   "execution_count": 41,
   "id": "6b554448-4335-40ae-baab-3b42fc484601",
   "metadata": {},
   "outputs": [],
   "source": [
    "import numpy as np\n",
    "new_input  = np.array([[6.1, 2.8, 4.7, 1.2]])"
   ]
  },
  {
   "cell_type": "code",
   "execution_count": 23,
   "id": "a49bfce6-10db-4f1a-846b-e85576870820",
   "metadata": {},
   "outputs": [
    {
     "name": "stdout",
     "output_type": "stream",
     "text": [
      "[2]\n"
     ]
    }
   ],
   "source": [
    "prediction = k_means.predict(new_input)\n",
    "print(prediction)"
   ]
  },
  {
   "cell_type": "code",
   "execution_count": 24,
   "id": "cb0aa632-4c24-47dd-a9f7-beeea4c9355b",
   "metadata": {},
   "outputs": [
    {
     "name": "stdout",
     "output_type": "stream",
     "text": [
      "[2 1 0 2 2 1 2 0 2 2 0 1 1 1 1 2 0 2 2 0 1 2 1 0 0 0 0 0 1 1 1 1 2 1 1 2 2\n",
      " 1]\n"
     ]
    }
   ],
   "source": [
    "predict_cluster = k_means.predict(test_input)\n",
    "print(predict_cluster)"
   ]
  },
  {
   "cell_type": "code",
   "execution_count": 42,
   "id": "b9eab294-ea77-4f6d-bc79-5492ce81b7c2",
   "metadata": {},
   "outputs": [
    {
     "name": "stdout",
     "output_type": "stream",
     "text": [
      "[1, 0, 2, 1, 1, 0, 1, 2, 1, 1, 2, 0, 0, 0, 0, 1, 2, 1, 1, 2, 0, 1, 0, 2, 2, 2, 2, 2, 0, 0, 0, 0, 1, 0, 0, 1, 1, 0]\n"
     ]
    }
   ],
   "source": [
    "np_arr = np.array(predict_cluster)\n",
    "np_arr[np_arr==0], np_arr[np_arr==1], np_arr[np_arr==2] = 3, 4, 5\n",
    "np_arr[np_arr==3] = 2\n",
    "np_arr[np_arr==4] = 0\n",
    "np_arr[np_arr==5] = 1\n",
    "predict_label = np_arr.tolist() #numpy array를 list로 변환\n",
    "print(predict_label)"
   ]
  },
  {
   "cell_type": "code",
   "execution_count": 43,
   "id": "a54d0dae-d68b-43ac-9ce7-5d3023959a77",
   "metadata": {},
   "outputs": [
    {
     "name": "stdout",
     "output_type": "stream",
     "text": [
      "[ True  True  True  True  True  True  True  True  True  True  True  True\n",
      "  True  True  True  True  True  True  True  True  True False  True  True\n",
      "  True  True  True  True  True  True  True  True  True  True  True False\n",
      "  True  True]\n"
     ]
    }
   ],
   "source": [
    "print(predict_label == test_label)"
   ]
  },
  {
   "cell_type": "code",
   "execution_count": 44,
   "id": "8056fa3a-aaa7-4126-81c1-d62db152fc52",
   "metadata": {},
   "outputs": [
    {
     "name": "stdout",
     "output_type": "stream",
     "text": [
      "test accuracy 0.95\n"
     ]
    }
   ],
   "source": [
    "print('test accuracy {:.2f}'.format(np.mean(predict_label == test_label)))"
   ]
  },
  {
   "cell_type": "markdown",
   "id": "51395dfd-f7a6-4a97-9211-e26efbc96f17",
   "metadata": {},
   "source": [
    " #답을 맞춘것은=1 틀린것은 0 = > 전체 평균 : 전체 합(맞춘 개수)/전체개수 "
   ]
  }
 ],
 "metadata": {
  "kernelspec": {
   "display_name": "Python 3 (ipykernel)",
   "language": "python",
   "name": "python3"
  },
  "language_info": {
   "codemirror_mode": {
    "name": "ipython",
    "version": 3
   },
   "file_extension": ".py",
   "mimetype": "text/x-python",
   "name": "python",
   "nbconvert_exporter": "python",
   "pygments_lexer": "ipython3",
   "version": "3.8.12"
  }
 },
 "nbformat": 4,
 "nbformat_minor": 5
}
