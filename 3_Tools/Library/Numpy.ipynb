{
 "cells": [
  {
   "cell_type": "markdown",
   "id": "730ccddd-a752-4222-8b64-01a8ed3e14c0",
   "metadata": {},
   "source": [
    "## 넘파이 배열"
   ]
  },
  {
   "cell_type": "markdown",
   "id": "0d2dedd5-53c0-4369-acfb-52f2bc5af3c5",
   "metadata": {},
   "source": [
    "1. ndarray.ndim : 배열의 축(차원)의 수를 반환\n",
    "2. ndarray.shape() : 배열의 형태를 반환 ex)2x3크기의 2차원 배열 => shape()= (2,3)\n",
    "3. ndarray.size() : 배열 내 원소의 총 개수를 반환\n",
    "4. ndarray.dtype() : 배열 내 원소들의 자료형을 반환"
   ]
  },
  {
   "cell_type": "code",
   "execution_count": 1,
   "id": "481ea214-cdf5-4925-ae9a-a8ab4ebfe8b0",
   "metadata": {},
   "outputs": [],
   "source": [
    "import numpy as np"
   ]
  },
  {
   "cell_type": "code",
   "execution_count": 4,
   "id": "be8452f6-2370-4e99-9293-97226cc8f499",
   "metadata": {},
   "outputs": [
    {
     "name": "stdout",
     "output_type": "stream",
     "text": [
      "[[1 2 3]\n",
      " [1 5 9]\n",
      " [3 5 7]]\n",
      "2\n",
      "(3, 3)\n",
      "9\n",
      "int32\n"
     ]
    }
   ],
   "source": [
    "a = np.array([[1,2,3], [1,5,9], [3,5,7]])\n",
    "print(a)\n",
    "print(a.ndim)  \n",
    "print(a.shape) \n",
    "print(a.size) \n",
    "print(a.dtype) "
   ]
  },
  {
   "cell_type": "markdown",
   "id": "814a374c-f7d6-42bb-9e47-6685c6ccab75",
   "metadata": {},
   "source": [
    "## 다양한 배열 생성 방법"
   ]
  },
  {
   "cell_type": "markdown",
   "id": "803d1754-8463-44da-a578-93b5ca64f3c2",
   "metadata": {},
   "source": [
    "1. numpy.zeros : 모든 배열의 원소가 0인 배열 생성\n",
    "2. numpy.ones  : 모든 배열의 원소가 1인 배열 생성\n",
    "3. numpy.empty : 배열의 크기만 정해주고 원소는 초기화 하지 않은 배열 생성. 원소는 매우 크거나 작은값 부여\n",
    "4. numpy.arange : 파이썬의 range함수와 유사. 배열의 원소들이 수열을 구성\n",
    "5. numpy.full  : 배열의 모든 값이 하나의 상수인 배열 생성\n",
    "6. numpy.eye               : 지정한 크기의 단위행렬 생성\n",
    "7. numpy.random.random     : 배열의 원소를 임의의 값으로 생성 (0부터 1사이의 값)"
   ]
  },
  {
   "cell_type": "code",
   "execution_count": 5,
   "id": "e259caa1-0b4c-454e-9310-049c33175811",
   "metadata": {},
   "outputs": [
    {
     "name": "stdout",
     "output_type": "stream",
     "text": [
      "[[0. 0. 0.]\n",
      " [0. 0. 0.]]\n",
      "[[1.]\n",
      " [1.]]\n",
      "[[1.17025243e-311 6.01334637e-154]\n",
      " [1.05132387e-153 5.98147409e-154]]\n",
      "[10 15 20 25]\n",
      "[[4 4]\n",
      " [4 4]]\n",
      "[[1. 0. 0.]\n",
      " [0. 1. 0.]\n",
      " [0. 0. 1.]]\n",
      "[[0.89189585 0.68873932]\n",
      " [0.15037302 0.93146173]]\n"
     ]
    }
   ],
   "source": [
    "a = np.zeros((2,3)) #원소가 모두 0인 배열 생성\n",
    "print(a)      \n",
    "\n",
    "b = np.ones((2,1)) #원소가 모두 1인 배열 생성\n",
    "print(b)      \n",
    "\n",
    "c = np.empty((2,2)) #원소값을 초기화하지 않은 배열 생성\n",
    "print(c)      \n",
    "\n",
    "\n",
    "\n",
    "d = np.arange(10, 30, 5) # 10부터 30전 까지 5단위로 배열 생성\n",
    "print(d)      \n",
    "\n",
    "\n",
    "\n",
    "e = np.full((2, 2), 4) #원소가 모두 4인 배열 생성\n",
    "print(e)      \n",
    "\n",
    "\n",
    "\n",
    "f = np.eye(3) # 3x3 크기의 단위행렬 생성\n",
    "print(f)      \n",
    "\n",
    "\n",
    "g = np.random.random((2, 2)) # 임의값을 가지는 배열 생성\n",
    "print(g)      \n"
   ]
  },
  {
   "cell_type": "code",
   "execution_count": 7,
   "id": "143d6b9d-d07e-4bf3-8d35-64c7147a12fd",
   "metadata": {},
   "outputs": [
    {
     "name": "stdout",
     "output_type": "stream",
     "text": [
      "[11 22 33]\n",
      "\n",
      "[11 22 33]\n",
      "\n",
      "[ 9 18 27]\n",
      "\n",
      "[ 9 18 27]\n",
      "\n",
      "[1 4 9]\n",
      "\n",
      "[ True False False]\n",
      "\n",
      "\n",
      "\n",
      "[[10 40]\n",
      " [90 40]]\n",
      "\n",
      "[[ 70  40]\n",
      " [150 100]]\n",
      "\n",
      "[[ 70  40]\n",
      " [150 100]]\n",
      "\n"
     ]
    }
   ],
   "source": [
    "a = np.array([1, 2, 3])\n",
    "b = np.array([10, 20, 30])\n",
    "\n",
    "print(a+b)                     \n",
    "print()\n",
    "print(np.add(a,b)) # 위의 연산과 같다.        \n",
    "print()\n",
    "print(b-a)                      \n",
    "print()\n",
    "print(np.subtract(b,a)) # 위의 연산과 같다.\n",
    "print()\n",
    "print(a**2)                   \n",
    "print()\n",
    "\n",
    "print(b<15)                   \n",
    "print()\n",
    "\n",
    "C = np.array([[1, 2],\n",
    "              [3, 4]])\n",
    "print()\n",
    "D = np.array([[10, 20],\n",
    "              [30, 10]])\n",
    "print()\n",
    "print(C*D)  # 원소별 곱셈\n",
    "print()\n",
    "\n",
    "print(np.dot(C,D)) # 내적(dot product) 계산 (행렬이므로 행렬곱)\n",
    "print()\n",
    "\n",
    "print(C.dot(D)) #내적의 또 다른 사용법\n",
    "print()"
   ]
  },
  {
   "cell_type": "code",
   "execution_count": 8,
   "id": "9e07f07a-f347-4e50-9751-685ef5127397",
   "metadata": {},
   "outputs": [
    {
     "name": "stdout",
     "output_type": "stream",
     "text": [
      "[ 7 11 15 19]\n",
      "[10 26 16]\n",
      "[4 8 7]\n"
     ]
    }
   ],
   "source": [
    "a = np.array([[ 1, 2, 3, 4],\n",
    "              [ 5, 6, 7, 8],\n",
    "              [ 1, 3, 5, 7]])\n",
    "\n",
    "print(a.sum(axis=0)) # 0축, 즉 열을 기준으로한 덧셈\n",
    "\n",
    "\n",
    "print(a.sum(axis=1)) # 1축, 즉 행을 기준으로한 덧셈\n",
    "\n",
    "\n",
    "\n",
    "print(a.max(axis=1)) # 각 행에서의 최대값\n"
   ]
  },
  {
   "cell_type": "code",
   "execution_count": 9,
   "id": "9ace8e46-3b74-4891-a8cd-15a0ea97bdc0",
   "metadata": {},
   "outputs": [
    {
     "name": "stdout",
     "output_type": "stream",
     "text": [
      "4\n",
      "7\n",
      "[3 4 5]\n",
      "[3 4 5 6 7]\n",
      "[1 2 3 4]\n"
     ]
    }
   ],
   "source": [
    "a = np.array([1, 2, 3, 4, 5, 6, 7])\n",
    "\n",
    "print(a[3]) \n",
    "\n",
    "\n",
    "\n",
    "print(a[-1]) # 마지막 원소\n",
    "\n",
    "\n",
    "print(a[2: 5]) # 인덱스값 5를 가지는 원소 전까지\n",
    "\n",
    "\n",
    "print(a[2: ])\n",
    "\n",
    "\n",
    "print(a[ :4])\n"
   ]
  },
  {
   "cell_type": "code",
   "execution_count": 10,
   "id": "fe1b9001-bb5c-44c4-89b4-60cca6ea8e01",
   "metadata": {},
   "outputs": [
    {
     "name": "stdout",
     "output_type": "stream",
     "text": [
      "6\n",
      "[2 5 8]\n",
      "[7 8 9]\n"
     ]
    }
   ],
   "source": [
    "a = np.array([[ 1, 2, 3],\n",
    "              [ 4, 5, 6],\n",
    "              [ 7, 8, 9]])\n",
    "\n",
    "\n",
    "print(a[1, 2])\n",
    "\n",
    "\n",
    "print(a[ : , 1]) # 1열의 모든 원소\n",
    "\n",
    "\n",
    "print(a[-1]) # 마지막 행"
   ]
  },
  {
   "cell_type": "markdown",
   "id": "a9fefdf6-1421-43f3-8d21-bd51325f6720",
   "metadata": {},
   "source": [
    "1. ndarray.ravel() : 배열을 1차원 배열로 만듬\n",
    "2. ndarray.reshape() : 배열을 원하는 형태로 변환\n",
    "3. ndarray.T : 행렬 전치"
   ]
  },
  {
   "cell_type": "code",
   "execution_count": 11,
   "id": "b27d0295-bfb8-4028-9c97-34ab17a05197",
   "metadata": {},
   "outputs": [
    {
     "name": "stdout",
     "output_type": "stream",
     "text": [
      "[ 1  2  3  4  5  6  7  8  9 10 11 12]\n",
      "[[ 1  2  3  4  5  6]\n",
      " [ 7  8  9 10 11 12]]\n",
      "[[ 1  5  9]\n",
      " [ 2  6 10]\n",
      " [ 3  7 11]\n",
      " [ 4  8 12]]\n"
     ]
    }
   ],
   "source": [
    "a = np.array([[1, 2, 3, 4],\n",
    "              [5, 6, 7, 8],\n",
    "              [9,10,11,12]])\n",
    "\n",
    "print(a.ravel()) # 1차원 배열(벡터)로 만들어준다.\n",
    "\n",
    "\n",
    "print(a.reshape(2, 6))\n",
    "\n",
    "\n",
    "\n",
    "print(a.T)\n"
   ]
  },
  {
   "cell_type": "code",
   "execution_count": 12,
   "id": "69465a5a-c2e0-4cef-8969-033a41227cbd",
   "metadata": {},
   "outputs": [
    {
     "name": "stdout",
     "output_type": "stream",
     "text": [
      "[[ 1  2  3  4]\n",
      " [ 5  6  7  8]\n",
      " [ 9 10 11 12]]\n"
     ]
    }
   ],
   "source": [
    "print(a.reshape(3, -1)) # 3행만 지정해주고 열에 -1을 넣으면 자동으로 배열을 reshape한다."
   ]
  },
  {
   "cell_type": "code",
   "execution_count": 13,
   "id": "da1ec403-c19f-48d1-a6e4-ba136ec9b253",
   "metadata": {},
   "outputs": [
    {
     "name": "stdout",
     "output_type": "stream",
     "text": [
      "[[ 2  2  4]\n",
      " [ 5  5  7]\n",
      " [ 8  8 10]]\n"
     ]
    }
   ],
   "source": [
    "a = np.array([[1,2,3], [4,5,6], [7,8,9]])\n",
    "b = np.array([1,0,1])\n",
    "y = np.empty_like(a) # 배열 a와 크기가 같은 원소가 비어있는 배열 생성\n",
    "\n",
    "# 배열 b를 a의 각 행에 더해주기 위해 반복문을 사용한다.\n",
    "for i in range(3):\n",
    "    y[i, : ] = a[i, : ] + b\n",
    "\n",
    "\n",
    "print(y)"
   ]
  },
  {
   "cell_type": "code",
   "execution_count": 14,
   "id": "408dc3e1-cf04-44bb-bd30-b528f73ccb17",
   "metadata": {},
   "outputs": [
    {
     "name": "stdout",
     "output_type": "stream",
     "text": [
      "[[ 2  2  4]\n",
      " [ 5  5  7]\n",
      " [ 8  8 10]]\n"
     ]
    }
   ],
   "source": [
    "a = np.array([[1,2,3], [4,5,6], [7,8,9]])\n",
    "b = np.array([1,0,1])\n",
    "\n",
    "c = a + b # c를 따로 선언 할 필요 없이 만들 수 있다.\n",
    "print(c)"
   ]
  },
  {
   "cell_type": "code",
   "execution_count": null,
   "id": "08cc26e5-3ecf-4db6-8bf4-e2c627b98788",
   "metadata": {},
   "outputs": [],
   "source": []
  }
 ],
 "metadata": {
  "kernelspec": {
   "display_name": "Python 3 (ipykernel)",
   "language": "python",
   "name": "python3"
  },
  "language_info": {
   "codemirror_mode": {
    "name": "ipython",
    "version": 3
   },
   "file_extension": ".py",
   "mimetype": "text/x-python",
   "name": "python",
   "nbconvert_exporter": "python",
   "pygments_lexer": "ipython3",
   "version": "3.8.12"
  }
 },
 "nbformat": 4,
 "nbformat_minor": 5
}
