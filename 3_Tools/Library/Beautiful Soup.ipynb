{
 "cells": [
  {
   "cell_type": "markdown",
   "id": "a9a60431-503c-440e-b943-5856e6fc6b2d",
   "metadata": {},
   "source": [
    "### Beautiful soup 사용\n",
    " - pip install html5lib 으로 html5lib 를 추가 설치"
   ]
  },
  {
   "cell_type": "code",
   "execution_count": 1,
   "id": "06d27f4d-f6f5-4a9e-bd68-8fdccc859645",
   "metadata": {},
   "outputs": [],
   "source": [
    "from bs4 import BeautifulSoup"
   ]
  },
  {
   "cell_type": "code",
   "execution_count": 3,
   "id": "c4bfc8ef-972e-4a3c-84d1-a711338b079a",
   "metadata": {},
   "outputs": [
    {
     "name": "stdout",
     "output_type": "stream",
     "text": [
      " 이 글은 Beautiful soup 라이브러리를 사용하는 방법에 대한 글입니다.   라이브러리를 사용하면 쉽게 HTML 태그를 제거할 수 있습니다.\n"
     ]
    }
   ],
   "source": [
    "string = '<body> 이 글은 Beautiful soup 라이브러리를 사용하는 방법에 대한 글입니다. <br> </br> 라이브러리를 사용하면 쉽게 HTML 태그를 제거할 수 있습니다.</body>'\n",
    "\n",
    "string = BeautifulSoup(string,\"html5lib\").get_text() \n",
    "# HTML 태그를 제외한 텍스트만 가져온다\n",
    "\n",
    "print(string) # 텍스트 확인"
   ]
  }
 ],
 "metadata": {
  "kernelspec": {
   "display_name": "Python 3 (ipykernel)",
   "language": "python",
   "name": "python3"
  },
  "language_info": {
   "codemirror_mode": {
    "name": "ipython",
    "version": 3
   },
   "file_extension": ".py",
   "mimetype": "text/x-python",
   "name": "python",
   "nbconvert_exporter": "python",
   "pygments_lexer": "ipython3",
   "version": "3.8.12"
  }
 },
 "nbformat": 4,
 "nbformat_minor": 5
}
